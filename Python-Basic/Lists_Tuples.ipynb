{
 "cells": [
  {
   "cell_type": "markdown",
   "id": "d5ddc9eb-d0ca-4656-bf01-c0169d9d6f0b",
   "metadata": {},
   "source": [
    "## List\n",
    "\n",
    "List Functions/Method\n",
    "\n",
    "- append() Adds an element at the end of the list \n",
    "- clear()\tRemoves all the elements from the list\n",
    "- copy()\tReturns a copy of the list\n",
    "- count()\tReturns the number of elements with the specified value\n",
    "- extend()\tAdd the elements of a list (or any iterable), to the end of the current list\n",
    "- index()\tReturns the index of the first element with the specified value\n",
    "- insert()\tAdds an element at the specified position\n",
    "- pop()\tRemoves the element at the specified position\n",
    "- remove()\tRemoves the item with the specified value\n",
    "- reverse()\tReverses the order of the list\n",
    "- sort()\tSorts the list\n",
    "\n",
    "List Comprehension \\\n",
    "List Repeatition\n",
    "\n",
    "List Spliting"
   ]
  },
  {
   "cell_type": "code",
   "execution_count": 8,
   "id": "09104f72-68ad-4c29-bce4-6500e843a520",
   "metadata": {},
   "outputs": [],
   "source": [
    "l = [10,20,30,40,50]"
   ]
  },
  {
   "cell_type": "code",
   "execution_count": 5,
   "id": "16036540-14e6-4dc3-b1b9-427eceb8018a",
   "metadata": {},
   "outputs": [
    {
     "name": "stdout",
     "output_type": "stream",
     "text": [
      "[10, 20, 30, 40, 50] <class 'list'>\n"
     ]
    }
   ],
   "source": [
    "print(l,type(l))"
   ]
  },
  {
   "cell_type": "code",
   "execution_count": null,
   "id": "7687ccda-f7a0-4c7c-9673-fb1246760044",
   "metadata": {},
   "outputs": [],
   "source": []
  },
  {
   "cell_type": "code",
   "execution_count": 6,
   "id": "2fc7e2d3-f35f-4e92-beea-0a4109c95028",
   "metadata": {},
   "outputs": [],
   "source": [
    "l = [10,'Shubham',24.5,3+2j]"
   ]
  },
  {
   "cell_type": "code",
   "execution_count": 7,
   "id": "5bbd3b86-34b9-4b8e-98f3-8879f8faea5f",
   "metadata": {},
   "outputs": [
    {
     "name": "stdout",
     "output_type": "stream",
     "text": [
      "[10, 'Shubham', 24.5, (3+2j)] <class 'list'>\n"
     ]
    }
   ],
   "source": [
    "print(l,type(l))"
   ]
  },
  {
   "cell_type": "code",
   "execution_count": null,
   "id": "9b01e9e3-52d8-4124-ac35-528b10e4b532",
   "metadata": {},
   "outputs": [],
   "source": []
  },
  {
   "cell_type": "code",
   "execution_count": 10,
   "id": "8767bdee-2db3-4995-9492-5e41e92aef45",
   "metadata": {},
   "outputs": [],
   "source": [
    "l[2] = 300"
   ]
  },
  {
   "cell_type": "code",
   "execution_count": 11,
   "id": "43f93f91-292a-4e49-a740-64a844d70f93",
   "metadata": {},
   "outputs": [
    {
     "data": {
      "text/plain": [
       "[10, 20, 300, 40, 50]"
      ]
     },
     "execution_count": 11,
     "metadata": {},
     "output_type": "execute_result"
    }
   ],
   "source": [
    "l"
   ]
  },
  {
   "cell_type": "code",
   "execution_count": 14,
   "id": "f8a7d6cd-64a3-4bcc-8c57-75e50cea1758",
   "metadata": {},
   "outputs": [
    {
     "name": "stdout",
     "output_type": "stream",
     "text": [
      "50 10\n"
     ]
    }
   ],
   "source": [
    "print(l[-1],l[-len(l)])"
   ]
  },
  {
   "cell_type": "code",
   "execution_count": 15,
   "id": "d7707675-1ebc-4034-9682-846feb94cb44",
   "metadata": {},
   "outputs": [
    {
     "data": {
      "text/plain": [
       "[10, 20, 300, 40, 50]"
      ]
     },
     "execution_count": 15,
     "metadata": {},
     "output_type": "execute_result"
    }
   ],
   "source": [
    "l"
   ]
  },
  {
   "cell_type": "code",
   "execution_count": 16,
   "id": "f0327b79-c845-4586-9f85-fa3ea80591f6",
   "metadata": {},
   "outputs": [],
   "source": [
    "l.append(100)"
   ]
  },
  {
   "cell_type": "code",
   "execution_count": 17,
   "id": "8c05ce0a-bd47-417c-b548-b83a4ab2a420",
   "metadata": {},
   "outputs": [
    {
     "data": {
      "text/plain": [
       "[10, 20, 300, 40, 50, 100]"
      ]
     },
     "execution_count": 17,
     "metadata": {},
     "output_type": "execute_result"
    }
   ],
   "source": [
    "l"
   ]
  },
  {
   "cell_type": "code",
   "execution_count": 18,
   "id": "aeb50a68-d09b-4f56-9272-0bef79b628c5",
   "metadata": {},
   "outputs": [],
   "source": [
    "l.insert(2,200)"
   ]
  },
  {
   "cell_type": "code",
   "execution_count": 19,
   "id": "122aeedc-bc47-45a2-bea6-f134d507cacb",
   "metadata": {},
   "outputs": [
    {
     "data": {
      "text/plain": [
       "[10, 20, 200, 300, 40, 50, 100]"
      ]
     },
     "execution_count": 19,
     "metadata": {},
     "output_type": "execute_result"
    }
   ],
   "source": [
    "l"
   ]
  },
  {
   "cell_type": "code",
   "execution_count": 20,
   "id": "eaf2f4f8-2e7b-47dc-af76-9f1245feed6d",
   "metadata": {},
   "outputs": [
    {
     "data": {
      "text/plain": [
       "[10, 20, 200, 300, 40, 50, 100, 1, 2, 3]"
      ]
     },
     "execution_count": 20,
     "metadata": {},
     "output_type": "execute_result"
    }
   ],
   "source": [
    "l.extend([1,2,3])\n",
    "l"
   ]
  },
  {
   "cell_type": "code",
   "execution_count": 21,
   "id": "8dcbf619-233e-48a8-bdf9-cc1e35c46919",
   "metadata": {},
   "outputs": [
    {
     "data": {
      "text/plain": [
       "[10, 20, 200, 300, 40, 50, 100, 1, 2, 3, -1, -2, -3]"
      ]
     },
     "execution_count": 21,
     "metadata": {},
     "output_type": "execute_result"
    }
   ],
   "source": [
    "l1 = l+[-1,-2,-3]\n",
    "l1"
   ]
  },
  {
   "cell_type": "code",
   "execution_count": 22,
   "id": "91e70036-53c8-4710-98e8-614987f09334",
   "metadata": {},
   "outputs": [
    {
     "data": {
      "text/plain": [
       "[10, 20, 200, 300, 40, 50, 100, 1, 2, 3]"
      ]
     },
     "execution_count": 22,
     "metadata": {},
     "output_type": "execute_result"
    }
   ],
   "source": [
    "l"
   ]
  },
  {
   "cell_type": "code",
   "execution_count": 23,
   "id": "c9aa0f76-4bc8-4fe0-af53-b9315f4c40b1",
   "metadata": {},
   "outputs": [
    {
     "data": {
      "text/plain": [
       "3"
      ]
     },
     "execution_count": 23,
     "metadata": {},
     "output_type": "execute_result"
    }
   ],
   "source": [
    "l.pop()"
   ]
  },
  {
   "cell_type": "code",
   "execution_count": 24,
   "id": "453b7dae-bc4a-4778-b926-f7f270f5ca94",
   "metadata": {},
   "outputs": [
    {
     "data": {
      "text/plain": [
       "[10, 20, 200, 300, 40, 50, 100, 1, 2]"
      ]
     },
     "execution_count": 24,
     "metadata": {},
     "output_type": "execute_result"
    }
   ],
   "source": [
    "l"
   ]
  },
  {
   "cell_type": "code",
   "execution_count": 25,
   "id": "7c3bee60-1ded-4731-bf1e-3b3e787e5a6c",
   "metadata": {},
   "outputs": [
    {
     "data": {
      "text/plain": [
       "200"
      ]
     },
     "execution_count": 25,
     "metadata": {},
     "output_type": "execute_result"
    }
   ],
   "source": [
    "l.pop(2)"
   ]
  },
  {
   "cell_type": "code",
   "execution_count": 26,
   "id": "dd7e0188-77e9-427f-a48a-038f6563d732",
   "metadata": {},
   "outputs": [
    {
     "data": {
      "text/plain": [
       "[10, 20, 300, 40, 50, 100, 1, 2]"
      ]
     },
     "execution_count": 26,
     "metadata": {},
     "output_type": "execute_result"
    }
   ],
   "source": [
    "l"
   ]
  },
  {
   "cell_type": "code",
   "execution_count": 27,
   "id": "269fc11e-8118-4779-9099-53e58d88e034",
   "metadata": {},
   "outputs": [],
   "source": [
    "l.extend([300,100,40,10,10,20])"
   ]
  },
  {
   "cell_type": "code",
   "execution_count": 28,
   "id": "1a07d3ee-9bb9-47d8-8825-791bcfb66963",
   "metadata": {},
   "outputs": [
    {
     "data": {
      "text/plain": [
       "[10, 20, 300, 40, 50, 100, 1, 2, 300, 100, 40, 10, 10, 20]"
      ]
     },
     "execution_count": 28,
     "metadata": {},
     "output_type": "execute_result"
    }
   ],
   "source": [
    "l"
   ]
  },
  {
   "cell_type": "code",
   "execution_count": 32,
   "id": "5436ca89-63f5-40a9-af61-1062864d2f72",
   "metadata": {},
   "outputs": [],
   "source": [
    "l.remove(300)"
   ]
  },
  {
   "cell_type": "code",
   "execution_count": 33,
   "id": "475ef714-5e35-485c-9cd5-5ddb6aea49b7",
   "metadata": {},
   "outputs": [
    {
     "data": {
      "text/plain": [
       "[10, 20, 40, 50, 100, 1, 2, 100, 40, 10, 10, 20]"
      ]
     },
     "execution_count": 33,
     "metadata": {},
     "output_type": "execute_result"
    }
   ],
   "source": [
    "l"
   ]
  },
  {
   "cell_type": "code",
   "execution_count": 34,
   "id": "41d05191-5a0a-4e14-971b-1edd004f3122",
   "metadata": {},
   "outputs": [],
   "source": [
    "del l[3]"
   ]
  },
  {
   "cell_type": "code",
   "execution_count": 35,
   "id": "b30e280f-6a1b-4b01-94df-938201cc3659",
   "metadata": {},
   "outputs": [
    {
     "data": {
      "text/plain": [
       "[10, 20, 40, 100, 1, 2, 100, 40, 10, 10, 20]"
      ]
     },
     "execution_count": 35,
     "metadata": {},
     "output_type": "execute_result"
    }
   ],
   "source": [
    "l"
   ]
  },
  {
   "cell_type": "code",
   "execution_count": 37,
   "id": "6819bb4c-0fdd-4ff4-9ca7-c8d4426e937a",
   "metadata": {},
   "outputs": [
    {
     "data": {
      "text/plain": [
       "3"
      ]
     },
     "execution_count": 37,
     "metadata": {},
     "output_type": "execute_result"
    }
   ],
   "source": [
    "l.index(100)"
   ]
  },
  {
   "cell_type": "code",
   "execution_count": 38,
   "id": "bebca047-4e20-4798-9fe1-19f29fd6e27b",
   "metadata": {},
   "outputs": [
    {
     "data": {
      "text/plain": [
       "3"
      ]
     },
     "execution_count": 38,
     "metadata": {},
     "output_type": "execute_result"
    }
   ],
   "source": [
    "l.count(10)"
   ]
  },
  {
   "cell_type": "code",
   "execution_count": 39,
   "id": "a61b7726-d86c-45f6-82ac-311e20ffb0a2",
   "metadata": {},
   "outputs": [],
   "source": [
    "l.clear()"
   ]
  },
  {
   "cell_type": "code",
   "execution_count": 40,
   "id": "753d8aba-e2ba-4554-9d14-8df9d9949d0b",
   "metadata": {},
   "outputs": [
    {
     "data": {
      "text/plain": [
       "[]"
      ]
     },
     "execution_count": 40,
     "metadata": {},
     "output_type": "execute_result"
    }
   ],
   "source": [
    "l"
   ]
  },
  {
   "cell_type": "code",
   "execution_count": 43,
   "id": "64b877f0-0150-485c-9b88-333879d7b0a3",
   "metadata": {},
   "outputs": [
    {
     "name": "stdout",
     "output_type": "stream",
     "text": [
      "[10, 20, 30]\n"
     ]
    }
   ],
   "source": [
    "l1 = [10,20,30]\n",
    "l2 = [10,20,30]\n",
    "l3  = l1.copy()\n",
    "l1[1] = 200\n",
    "print(l3)"
   ]
  },
  {
   "cell_type": "code",
   "execution_count": null,
   "id": "6b94bdbe-bbc8-470d-bc83-4ab95700f972",
   "metadata": {},
   "outputs": [],
   "source": []
  },
  {
   "cell_type": "code",
   "execution_count": 45,
   "id": "a2d65a06-7cbc-4d0d-9b93-1467ad2e550b",
   "metadata": {},
   "outputs": [
    {
     "name": "stdout",
     "output_type": "stream",
     "text": [
      "10\n",
      "20\n",
      "30\n",
      "40\n"
     ]
    }
   ],
   "source": [
    "l = [10,20,30,40]\n",
    "for ele in l:\n",
    "    print(ele)"
   ]
  },
  {
   "cell_type": "code",
   "execution_count": 50,
   "id": "f2c9a8b8-4947-4537-9c0b-091e9f8ee1f8",
   "metadata": {},
   "outputs": [
    {
     "name": "stdout",
     "output_type": "stream",
     "text": [
      "0 10\n",
      "1 20\n",
      "2 30\n",
      "3 40\n"
     ]
    }
   ],
   "source": [
    "for i in range(len(l)):\n",
    "    print(i,l[i])"
   ]
  },
  {
   "cell_type": "code",
   "execution_count": 52,
   "id": "e6518c36-1cf4-45a8-8a53-1004150130cc",
   "metadata": {},
   "outputs": [
    {
     "name": "stdout",
     "output_type": "stream",
     "text": [
      "-1 40\n",
      "-2 30\n",
      "-3 20\n",
      "-4 10\n"
     ]
    }
   ],
   "source": [
    "for i in range(-1,-len(l)-1,-1):\n",
    "    print(i,l[i])"
   ]
  },
  {
   "cell_type": "code",
   "execution_count": 53,
   "id": "f7778239-25a1-429a-b131-e28efbfb4adb",
   "metadata": {},
   "outputs": [
    {
     "name": "stdout",
     "output_type": "stream",
     "text": [
      "1\n",
      "3\n",
      "5\n",
      "7\n",
      "9\n"
     ]
    }
   ],
   "source": [
    "for i in range(1,11,2):\n",
    "    print(i)"
   ]
  },
  {
   "cell_type": "code",
   "execution_count": 59,
   "id": "833bfe42-bdea-4768-baa0-92c4828270fd",
   "metadata": {},
   "outputs": [
    {
     "name": "stdout",
     "output_type": "stream",
     "text": [
      "[2, 3, 1, 4, 2, 5, 2]\n",
      "[2, 5, 2, 4, 1, 3, 2]\n",
      "[1, 2, 2, 2, 3, 4, 5]\n"
     ]
    }
   ],
   "source": [
    "l = [2,3,1,4,2,5,2]\n",
    "print(l)\n",
    "l.reverse()\n",
    "print(l)\n",
    "l.sort()\n",
    "print(l)"
   ]
  },
  {
   "cell_type": "code",
   "execution_count": 63,
   "id": "b78be50e-e6a7-4d78-a358-f81e902e65c8",
   "metadata": {},
   "outputs": [
    {
     "name": "stdin",
     "output_type": "stream",
     "text": [
      " 10\n",
      " 20\n",
      " 30\n",
      " 40\n",
      " 50\n"
     ]
    }
   ],
   "source": [
    "# l = [1,2,3,4..N]\n",
    "l = []\n",
    "N = 5\n",
    "for i in range(N):\n",
    "    l.append(int(input()))"
   ]
  },
  {
   "cell_type": "code",
   "execution_count": 64,
   "id": "5e42fa3f-0b27-48b5-a8a0-dd2e12caebd9",
   "metadata": {},
   "outputs": [
    {
     "data": {
      "text/plain": [
       "[10, 20, 30, 40, 50]"
      ]
     },
     "execution_count": 64,
     "metadata": {},
     "output_type": "execute_result"
    }
   ],
   "source": [
    "l"
   ]
  },
  {
   "cell_type": "code",
   "execution_count": 65,
   "id": "3e11835a-1579-4df8-9e2e-0df63ccf6a96",
   "metadata": {},
   "outputs": [
    {
     "data": {
      "text/plain": [
       "[10, 20, 300, 40, 50]"
      ]
     },
     "execution_count": 65,
     "metadata": {},
     "output_type": "execute_result"
    }
   ],
   "source": [
    "l[2] = 300\n",
    "l"
   ]
  },
  {
   "cell_type": "code",
   "execution_count": 68,
   "id": "36f9a153-ceed-4851-933d-7feba87aff60",
   "metadata": {},
   "outputs": [
    {
     "data": {
      "text/plain": [
       "[4, 16, 36, 64, 100]"
      ]
     },
     "execution_count": 68,
     "metadata": {},
     "output_type": "execute_result"
    }
   ],
   "source": [
    "l = [i**2 for i in range(1,11) if i%2 == 0]\n",
    "l"
   ]
  },
  {
   "cell_type": "code",
   "execution_count": 70,
   "id": "c44664d6-4efd-4e73-a45c-c6bfec63018b",
   "metadata": {},
   "outputs": [
    {
     "name": "stdin",
     "output_type": "stream",
     "text": [
      " 10\n",
      " 20\n",
      " 30\n",
      " 40\n",
      " 50\n"
     ]
    },
    {
     "data": {
      "text/plain": [
       "[10, 20, 30, 40, 50]"
      ]
     },
     "execution_count": 70,
     "metadata": {},
     "output_type": "execute_result"
    }
   ],
   "source": [
    "l = [int(input()) for i in range(N)]\n",
    "l"
   ]
  },
  {
   "cell_type": "code",
   "execution_count": 71,
   "id": "d600b65f-8cc5-449f-9ae7-2e61e68ed142",
   "metadata": {},
   "outputs": [
    {
     "data": {
      "text/plain": [
       "True"
      ]
     },
     "execution_count": 71,
     "metadata": {},
     "output_type": "execute_result"
    }
   ],
   "source": [
    "10 in l"
   ]
  },
  {
   "cell_type": "code",
   "execution_count": 97,
   "id": "586b5e8f-7b92-4c7c-9af5-d2369456a1a5",
   "metadata": {},
   "outputs": [],
   "source": [
    "def swap(a,b,idx=0):\n",
    "    t = a[idx]\n",
    "    a[idx] = b[idx]\n",
    "    b[idx] = t"
   ]
  },
  {
   "cell_type": "code",
   "execution_count": 75,
   "id": "2837a30e-e09d-4613-8210-ac6c3fea0d51",
   "metadata": {},
   "outputs": [
    {
     "name": "stdout",
     "output_type": "stream",
     "text": [
      "10 1\n",
      "1 10\n"
     ]
    }
   ],
   "source": [
    "l1 = [10,20,30,40]\n",
    "l2 = [1,2,3,4]\n",
    "print(l1[0],l2[0])\n",
    "swap(l1,l2)\n",
    "print(l1[0],l2[0])"
   ]
  },
  {
   "cell_type": "code",
   "execution_count": 96,
   "id": "17c1c616-b9fa-41ae-9aa2-341d3cce44d5",
   "metadata": {},
   "outputs": [
    {
     "ename": "TypeError",
     "evalue": "'int' object is not subscriptable",
     "output_type": "error",
     "traceback": [
      "\u001b[1;31m---------------------------------------------------------------------------\u001b[0m",
      "\u001b[1;31mTypeError\u001b[0m                                 Traceback (most recent call last)",
      "Cell \u001b[1;32mIn[96], line 3\u001b[0m\n\u001b[0;32m      1\u001b[0m a \u001b[38;5;241m=\u001b[39m \u001b[38;5;241m10\u001b[39m\n\u001b[0;32m      2\u001b[0m b \u001b[38;5;241m=\u001b[39m \u001b[38;5;241m20\u001b[39m\n\u001b[1;32m----> 3\u001b[0m \u001b[43mswap\u001b[49m\u001b[43m(\u001b[49m\u001b[43ma\u001b[49m\u001b[43m,\u001b[49m\u001b[43mb\u001b[49m\u001b[43m)\u001b[49m\n",
      "Cell \u001b[1;32mIn[74], line 2\u001b[0m, in \u001b[0;36mswap\u001b[1;34m(a, b)\u001b[0m\n\u001b[0;32m      1\u001b[0m \u001b[38;5;28;01mdef\u001b[39;00m \u001b[38;5;21mswap\u001b[39m(a,b):\n\u001b[1;32m----> 2\u001b[0m     t \u001b[38;5;241m=\u001b[39m \u001b[43ma\u001b[49m\u001b[43m[\u001b[49m\u001b[38;5;241;43m0\u001b[39;49m\u001b[43m]\u001b[49m\n\u001b[0;32m      3\u001b[0m     a[\u001b[38;5;241m0\u001b[39m] \u001b[38;5;241m=\u001b[39m b[\u001b[38;5;241m0\u001b[39m]\n\u001b[0;32m      4\u001b[0m     b[\u001b[38;5;241m0\u001b[39m] \u001b[38;5;241m=\u001b[39m t\n",
      "\u001b[1;31mTypeError\u001b[0m: 'int' object is not subscriptable"
     ]
    }
   ],
   "source": [
    "a = 10\n",
    "b = 20\n",
    "swap(a,b)"
   ]
  },
  {
   "cell_type": "code",
   "execution_count": 76,
   "id": "af8157d4-b1bb-46cd-b212-5573f8f10ee4",
   "metadata": {},
   "outputs": [
    {
     "data": {
      "text/plain": [
       "[1, 20, 30, 40]"
      ]
     },
     "execution_count": 76,
     "metadata": {},
     "output_type": "execute_result"
    }
   ],
   "source": [
    "l1"
   ]
  },
  {
   "cell_type": "code",
   "execution_count": 77,
   "id": "c854330e-3c02-4827-9cdf-57c4a52e9662",
   "metadata": {},
   "outputs": [
    {
     "data": {
      "text/plain": [
       "[10, 2, 3, 4]"
      ]
     },
     "execution_count": 77,
     "metadata": {},
     "output_type": "execute_result"
    }
   ],
   "source": [
    "l2"
   ]
  },
  {
   "cell_type": "code",
   "execution_count": null,
   "id": "adbb988b-7f36-4f74-9c17-78e56ae562d1",
   "metadata": {},
   "outputs": [],
   "source": []
  },
  {
   "cell_type": "code",
   "execution_count": 78,
   "id": "3d36d39e-3cd1-4da8-86cb-100ea04417ec",
   "metadata": {},
   "outputs": [],
   "source": [
    "l = [i for i in range(11)]"
   ]
  },
  {
   "cell_type": "code",
   "execution_count": 94,
   "id": "6452b4a9-4daf-4e79-8048-4b2f701a1c7d",
   "metadata": {},
   "outputs": [
    {
     "data": {
      "text/plain": [
       "[10, 9, 8, 7, 6, 5, 4, 3, 2, 1, 0]"
      ]
     },
     "execution_count": 94,
     "metadata": {},
     "output_type": "execute_result"
    }
   ],
   "source": [
    "l[::-1]"
   ]
  },
  {
   "cell_type": "code",
   "execution_count": 95,
   "id": "5f0e1363-30ea-4791-955d-4060b2174834",
   "metadata": {},
   "outputs": [
    {
     "data": {
      "text/plain": [
       "[0, 1, 2, 3, 4, 5, 6, 7, 8, 9, 10]"
      ]
     },
     "execution_count": 95,
     "metadata": {},
     "output_type": "execute_result"
    }
   ],
   "source": [
    "l"
   ]
  },
  {
   "cell_type": "code",
   "execution_count": null,
   "id": "92eb3a2c-4ba3-4ccb-ae92-973dc3e84356",
   "metadata": {},
   "outputs": [],
   "source": []
  },
  {
   "cell_type": "code",
   "execution_count": null,
   "id": "089dbbc9-1e2f-461a-b9a9-c68c511063d5",
   "metadata": {},
   "outputs": [],
   "source": [
    "def pow(a,b):\n",
    "    return a**b"
   ]
  },
  {
   "cell_type": "code",
   "execution_count": 100,
   "id": "0ed842b0-3cbe-4e6e-b982-3cd8ae9029c1",
   "metadata": {},
   "outputs": [],
   "source": [
    "pow = lambda a,b : a**b"
   ]
  },
  {
   "cell_type": "code",
   "execution_count": 101,
   "id": "2c264a95-ad12-48c7-a68f-76bed110793d",
   "metadata": {},
   "outputs": [
    {
     "data": {
      "text/plain": [
       "[1, 5, 25, 125, 625, 3125, 15625, 78125, 390625, 1953125]"
      ]
     },
     "execution_count": 101,
     "metadata": {},
     "output_type": "execute_result"
    }
   ],
   "source": [
    "N = 5\n",
    "l = [pow(N,i) for i in range(10)]\n",
    "l"
   ]
  },
  {
   "cell_type": "code",
   "execution_count": 102,
   "id": "64adcaeb-c8ce-482d-bea1-a88100445fac",
   "metadata": {},
   "outputs": [
    {
     "data": {
      "text/plain": [
       "([0, 0, 0, 0, 0, 0, 0, 0, 0, 0], 10)"
      ]
     },
     "execution_count": 102,
     "metadata": {},
     "output_type": "execute_result"
    }
   ],
   "source": [
    "l = [0 for i in range(10)]\n",
    "l,len(l)"
   ]
  },
  {
   "cell_type": "code",
   "execution_count": 103,
   "id": "1e360c14-f6e7-4075-a482-a4d3b71812a1",
   "metadata": {},
   "outputs": [
    {
     "data": {
      "text/plain": [
       "[0, 0, 0, 0, 0, 0, 0, 0, 0, 0]"
      ]
     },
     "execution_count": 103,
     "metadata": {},
     "output_type": "execute_result"
    }
   ],
   "source": [
    "l = [0]*10\n",
    "l"
   ]
  },
  {
   "cell_type": "code",
   "execution_count": null,
   "id": "9a81abd1-1bd7-4f81-b17d-5dbd9696d95d",
   "metadata": {},
   "outputs": [],
   "source": []
  },
  {
   "cell_type": "code",
   "execution_count": 110,
   "id": "41da80cd-a1e4-466c-aecf-33445ae39ec1",
   "metadata": {},
   "outputs": [
    {
     "data": {
      "text/plain": [
       "[1, 2, 3, 4, 5]"
      ]
     },
     "execution_count": 110,
     "metadata": {},
     "output_type": "execute_result"
    }
   ],
   "source": [
    "l = [3,2,5,4,1]\n",
    "for i in range(len(l)-1):\n",
    "    for j in range(len(l)-1-i):\n",
    "        if l[j] > l[j+1]:\n",
    "            l[j],l[j+1] = l[j+1],l[j]\n",
    "l"
   ]
  },
  {
   "cell_type": "code",
   "execution_count": 116,
   "id": "ae48ee8e-d0e4-489c-bd9d-019850e6434d",
   "metadata": {},
   "outputs": [
    {
     "name": "stdout",
     "output_type": "stream",
     "text": [
      "0 1\n"
     ]
    }
   ],
   "source": [
    "l = [1,2,3,4,5,6,7,8]\n",
    "start = 0\n",
    "end = len(l)-1\n",
    "ele = 1\n",
    "while start <= end:\n",
    "    mid = (start+end)//2\n",
    "    if ele == l[mid]:\n",
    "        print(mid, ele)\n",
    "        break\n",
    "    elif ele > l[mid]:\n",
    "        start = mid+1\n",
    "    else:\n",
    "        end = mid-1"
   ]
  },
  {
   "cell_type": "code",
   "execution_count": null,
   "id": "a476870d-0975-4e13-b2bb-ef74bef8e977",
   "metadata": {},
   "outputs": [],
   "source": []
  },
  {
   "cell_type": "code",
   "execution_count": null,
   "id": "47053342-8b42-4fcf-8c5c-cc1099a78772",
   "metadata": {},
   "outputs": [],
   "source": []
  },
  {
   "cell_type": "markdown",
   "id": "7eac3e16-b773-4f46-abc6-62ecf00dac88",
   "metadata": {},
   "source": [
    "## Tuples"
   ]
  },
  {
   "cell_type": "code",
   "execution_count": 117,
   "id": "f70d52ed-9e10-4381-80eb-bf05e781e306",
   "metadata": {},
   "outputs": [],
   "source": [
    "t = (1,2,3,4,5)"
   ]
  },
  {
   "cell_type": "code",
   "execution_count": 118,
   "id": "b59b8d55-2711-4cac-86bb-3014a339ff8f",
   "metadata": {},
   "outputs": [
    {
     "data": {
      "text/plain": [
       "tuple"
      ]
     },
     "execution_count": 118,
     "metadata": {},
     "output_type": "execute_result"
    }
   ],
   "source": [
    "type(t)"
   ]
  },
  {
   "cell_type": "code",
   "execution_count": 119,
   "id": "c27a4458-b957-47bb-a99a-51704ea0ebe8",
   "metadata": {},
   "outputs": [
    {
     "data": {
      "text/plain": [
       "(1, 2, 3, 4, 5)"
      ]
     },
     "execution_count": 119,
     "metadata": {},
     "output_type": "execute_result"
    }
   ],
   "source": [
    "t"
   ]
  },
  {
   "cell_type": "code",
   "execution_count": 122,
   "id": "06831868-b81b-4b99-a907-7810fcbdf42f",
   "metadata": {},
   "outputs": [
    {
     "data": {
      "text/plain": [
       "(3, 4)"
      ]
     },
     "execution_count": 122,
     "metadata": {},
     "output_type": "execute_result"
    }
   ],
   "source": [
    "t[2:4]"
   ]
  },
  {
   "cell_type": "code",
   "execution_count": 123,
   "id": "be4c47fa-c482-4321-a916-290cc2f2f60f",
   "metadata": {},
   "outputs": [
    {
     "data": {
      "text/plain": [
       "True"
      ]
     },
     "execution_count": 123,
     "metadata": {},
     "output_type": "execute_result"
    }
   ],
   "source": [
    "1 in t"
   ]
  },
  {
   "cell_type": "code",
   "execution_count": 124,
   "id": "9faac2ea-cc65-4dc9-9ace-fdbea88e7658",
   "metadata": {},
   "outputs": [
    {
     "data": {
      "text/plain": [
       "(1, 2, 3, 1, 3, 5)"
      ]
     },
     "execution_count": 124,
     "metadata": {},
     "output_type": "execute_result"
    }
   ],
   "source": [
    "t1 = (1,2,3)\n",
    "t2 = (1,3,5)\n",
    "t3 = t1+t2\n",
    "t3"
   ]
  },
  {
   "cell_type": "code",
   "execution_count": 125,
   "id": "fc27ee72-6044-4ca3-a355-380fc8d09b0d",
   "metadata": {},
   "outputs": [
    {
     "name": "stdout",
     "output_type": "stream",
     "text": [
      "() <class 'tuple'> 0\n"
     ]
    }
   ],
   "source": [
    "t = ()\n",
    "print(t,type(t),len(t))"
   ]
  },
  {
   "cell_type": "code",
   "execution_count": 128,
   "id": "413975e2-b8d7-4927-8561-752f174aba8e",
   "metadata": {},
   "outputs": [
    {
     "name": "stdout",
     "output_type": "stream",
     "text": [
      "(1,) <class 'tuple'>\n"
     ]
    }
   ],
   "source": [
    "t = (1,)\n",
    "print(t,type(t))"
   ]
  },
  {
   "cell_type": "code",
   "execution_count": null,
   "id": "d0967f89-1f1f-4858-a2aa-2881d4e5733b",
   "metadata": {},
   "outputs": [],
   "source": []
  },
  {
   "cell_type": "code",
   "execution_count": 130,
   "id": "2a24a366-4340-47c0-8408-d329ac6a581e",
   "metadata": {},
   "outputs": [
    {
     "name": "stdout",
     "output_type": "stream",
     "text": [
      "(1, 2, 3) <class 'tuple'>\n"
     ]
    }
   ],
   "source": [
    "t = 1,2,3 #Packing\n",
    "print(t,type(t))"
   ]
  },
  {
   "cell_type": "code",
   "execution_count": 132,
   "id": "441624cc-5dc3-44ca-be8b-d1437b240ca4",
   "metadata": {},
   "outputs": [
    {
     "name": "stdout",
     "output_type": "stream",
     "text": [
      "1 2 3\n"
     ]
    }
   ],
   "source": [
    "a,b,c = t #Unpacking\n",
    "print(a,b,c)"
   ]
  },
  {
   "cell_type": "code",
   "execution_count": null,
   "id": "a028cdbb-4826-4258-8896-723b86e89932",
   "metadata": {},
   "outputs": [],
   "source": []
  },
  {
   "cell_type": "code",
   "execution_count": 133,
   "id": "39a11744-f6fe-4754-aac2-182dd99d84c6",
   "metadata": {},
   "outputs": [],
   "source": [
    "def add_sub(a,b,/,*,p,q=200):\n",
    "    c = a+b\n",
    "    d = p-q\n",
    "    return c,d"
   ]
  },
  {
   "cell_type": "code",
   "execution_count": 137,
   "id": "18ef0c59-db9d-464b-80bf-10dd0c38b1ec",
   "metadata": {},
   "outputs": [],
   "source": [
    "t1,t2 = add_sub(10,20,p=100)"
   ]
  },
  {
   "cell_type": "code",
   "execution_count": 138,
   "id": "2ded8684-50b5-4966-a1c5-2417bc3c9d5a",
   "metadata": {},
   "outputs": [
    {
     "name": "stdout",
     "output_type": "stream",
     "text": [
      "30 -100\n"
     ]
    }
   ],
   "source": [
    "print(t1,t2)"
   ]
  },
  {
   "cell_type": "code",
   "execution_count": null,
   "id": "30e07add-38f5-45ec-8902-7f0426777ba6",
   "metadata": {},
   "outputs": [],
   "source": []
  },
  {
   "cell_type": "code",
   "execution_count": 140,
   "id": "9e815fb2-54a7-4b88-aa6a-80e4f0d7f28a",
   "metadata": {},
   "outputs": [
    {
     "name": "stdout",
     "output_type": "stream",
     "text": [
      "1 2 3\n"
     ]
    }
   ],
   "source": [
    "l = [1,2,3]\n",
    "a,b,c = l #Unpack\n",
    "print(a,b,c)"
   ]
  },
  {
   "cell_type": "code",
   "execution_count": 141,
   "id": "bd7b2017-f845-4dc3-96a9-b1aacc9adf07",
   "metadata": {},
   "outputs": [
    {
     "ename": "TypeError",
     "evalue": "'tuple' object does not support item assignment",
     "output_type": "error",
     "traceback": [
      "\u001b[1;31m---------------------------------------------------------------------------\u001b[0m",
      "\u001b[1;31mTypeError\u001b[0m                                 Traceback (most recent call last)",
      "Cell \u001b[1;32mIn[141], line 2\u001b[0m\n\u001b[0;32m      1\u001b[0m t \u001b[38;5;241m=\u001b[39m (\u001b[38;5;241m1\u001b[39m,\u001b[38;5;241m2\u001b[39m,\u001b[38;5;241m3\u001b[39m,\u001b[38;5;241m4\u001b[39m)\n\u001b[1;32m----> 2\u001b[0m \u001b[43mt\u001b[49m\u001b[43m[\u001b[49m\u001b[38;5;241;43m0\u001b[39;49m\u001b[43m]\u001b[49m \u001b[38;5;241m=\u001b[39m \u001b[38;5;241m10\u001b[39m\n",
      "\u001b[1;31mTypeError\u001b[0m: 'tuple' object does not support item assignment"
     ]
    }
   ],
   "source": [
    "t = (1,2,3,4)\n",
    "t[0] = 10"
   ]
  },
  {
   "cell_type": "code",
   "execution_count": 143,
   "id": "d1040c68-bf19-428a-9d68-5b1ffa04f1b7",
   "metadata": {},
   "outputs": [
    {
     "data": {
      "text/plain": [
       "(10, 2, 3, 4)"
      ]
     },
     "execution_count": 143,
     "metadata": {},
     "output_type": "execute_result"
    }
   ],
   "source": [
    "l = list(t)\n",
    "l[0] = 10\n",
    "t = tuple(l)\n",
    "t"
   ]
  },
  {
   "cell_type": "code",
   "execution_count": 156,
   "id": "2cee4ccc-8358-4f68-8155-bed6c53eb44c",
   "metadata": {},
   "outputs": [],
   "source": [
    "a,*b,c = t"
   ]
  },
  {
   "cell_type": "code",
   "execution_count": 157,
   "id": "76b96691-61e6-42dc-8363-84e858bb8c80",
   "metadata": {},
   "outputs": [
    {
     "data": {
      "text/plain": [
       "[2, 3]"
      ]
     },
     "execution_count": 157,
     "metadata": {},
     "output_type": "execute_result"
    }
   ],
   "source": [
    "b"
   ]
  },
  {
   "cell_type": "code",
   "execution_count": 155,
   "id": "d6fcd0d1-03d0-4242-8951-fe7afe948259",
   "metadata": {},
   "outputs": [
    {
     "data": {
      "text/plain": [
       "(10, 2, 3, 4)"
      ]
     },
     "execution_count": 155,
     "metadata": {},
     "output_type": "execute_result"
    }
   ],
   "source": [
    "t"
   ]
  },
  {
   "cell_type": "code",
   "execution_count": null,
   "id": "f54615eb-3d8d-487c-89d2-e072e888f553",
   "metadata": {},
   "outputs": [],
   "source": []
  },
  {
   "cell_type": "code",
   "execution_count": 158,
   "id": "85395932-b71d-4f37-b256-66c3a2497c14",
   "metadata": {},
   "outputs": [],
   "source": [
    "l1 = [1,2,3,4]\n",
    "l2 = [5,6,7,8]\n",
    "l3 = [9,10,11,12]\n",
    "\n",
    "l = [l1,l2,l3]"
   ]
  },
  {
   "cell_type": "code",
   "execution_count": 159,
   "id": "7ba3ca9d-381b-48c2-8640-80bb954e1acf",
   "metadata": {},
   "outputs": [
    {
     "data": {
      "text/plain": [
       "[[1, 2, 3, 4], [5, 6, 7, 8], [9, 10, 11, 12]]"
      ]
     },
     "execution_count": 159,
     "metadata": {},
     "output_type": "execute_result"
    }
   ],
   "source": [
    "l"
   ]
  },
  {
   "cell_type": "code",
   "execution_count": 160,
   "id": "1088184e-3179-484e-9c64-901c23a2e623",
   "metadata": {},
   "outputs": [],
   "source": [
    "l = [[1,2,3,4],[5,6,7,8],[9,10,11,12]]"
   ]
  },
  {
   "cell_type": "code",
   "execution_count": 161,
   "id": "beddc2e9-c9b4-4a08-af9d-46a74917afa4",
   "metadata": {},
   "outputs": [
    {
     "data": {
      "text/plain": [
       "[[1, 2, 3, 4], [5, 6, 7, 8], [9, 10, 11, 12]]"
      ]
     },
     "execution_count": 161,
     "metadata": {},
     "output_type": "execute_result"
    }
   ],
   "source": [
    "l"
   ]
  },
  {
   "cell_type": "code",
   "execution_count": 163,
   "id": "5a683a17-dba4-4303-b0a0-051fc9680150",
   "metadata": {},
   "outputs": [
    {
     "name": "stdout",
     "output_type": "stream",
     "text": [
      "1 2 3 4 \n",
      "5 6 7 8 \n",
      "9 10 11 12 \n"
     ]
    }
   ],
   "source": [
    "for i in range(len(l)):\n",
    "    for j in range(len(l[i])):\n",
    "        print(l[i][j],end=' ')\n",
    "    print()"
   ]
  },
  {
   "cell_type": "code",
   "execution_count": 164,
   "id": "37b43655-b4fb-4ed1-be55-12b1af8a89f5",
   "metadata": {},
   "outputs": [
    {
     "name": "stdin",
     "output_type": "stream",
     "text": [
      " 1\n",
      " 2\n",
      " 3\n",
      " 4\n",
      " 5\n",
      " 6\n",
      " 7\n",
      " 8\n",
      " 9\n",
      " 10\n",
      " 11\n",
      " 12\n"
     ]
    },
    {
     "name": "stdout",
     "output_type": "stream",
     "text": [
      "[[1, 2, 3, 4], [5, 6, 7, 8], [9, 10, 11, 12]]\n"
     ]
    }
   ],
   "source": [
    "rows = 3\n",
    "cols = 4\n",
    "l = []\n",
    "for i in range(rows):\n",
    "    li = []\n",
    "    for j in range(cols):\n",
    "        li.append(int(input()))\n",
    "    l.append(li)\n",
    "print(l)"
   ]
  },
  {
   "cell_type": "code",
   "execution_count": 167,
   "id": "2a8d26ed-3d89-4472-b66d-a2ca8777c941",
   "metadata": {},
   "outputs": [],
   "source": [
    "l = []\n",
    "l.append([])"
   ]
  },
  {
   "cell_type": "code",
   "execution_count": null,
   "id": "c0e6080d-8f04-4d61-a090-beaaf15e4d92",
   "metadata": {},
   "outputs": [],
   "source": []
  },
  {
   "cell_type": "code",
   "execution_count": 198,
   "id": "2fc4644b-1496-4680-bce8-959656313897",
   "metadata": {},
   "outputs": [
    {
     "name": "stdin",
     "output_type": "stream",
     "text": [
      " 1\n",
      " 2\n",
      " 3\n",
      " 4\n",
      " 5\n",
      " 6\n",
      " 7\n",
      " 8\n",
      " 9\n",
      " 10\n",
      " 11\n",
      " 12\n"
     ]
    }
   ],
   "source": [
    "l = [[int(input()) for j in range(cols)] for i in range(rows)]"
   ]
  },
  {
   "cell_type": "code",
   "execution_count": 199,
   "id": "de103487-47c2-4624-a8da-8dfc3b16094b",
   "metadata": {},
   "outputs": [
    {
     "data": {
      "text/plain": [
       "[[1, 2, 3, 4], [5, 6, 7, 8], [9, 10, 11, 12]]"
      ]
     },
     "execution_count": 199,
     "metadata": {},
     "output_type": "execute_result"
    }
   ],
   "source": [
    "l"
   ]
  },
  {
   "cell_type": "code",
   "execution_count": null,
   "id": "99e32cbb-7556-4df7-ac2c-55e0e3af8384",
   "metadata": {},
   "outputs": [],
   "source": []
  },
  {
   "cell_type": "code",
   "execution_count": 203,
   "id": "f2f3dd40-6174-4fce-abe6-29da9e327bfc",
   "metadata": {},
   "outputs": [],
   "source": [
    "l = [[i+j for j in range(cols)] for i in range(rows)]"
   ]
  },
  {
   "cell_type": "code",
   "execution_count": 204,
   "id": "573a0d02-134e-4e9a-a3f5-8a7989045236",
   "metadata": {},
   "outputs": [
    {
     "data": {
      "text/plain": [
       "[[0, 1, 2, 3], [1, 2, 3, 4], [2, 3, 4, 5]]"
      ]
     },
     "execution_count": 204,
     "metadata": {},
     "output_type": "execute_result"
    }
   ],
   "source": [
    "l"
   ]
  },
  {
   "cell_type": "code",
   "execution_count": 200,
   "id": "3f0ac010-563a-41c2-9349-bfae6d0094c1",
   "metadata": {},
   "outputs": [],
   "source": [
    "l = [[0]*cols]*rows #Can't do this"
   ]
  },
  {
   "cell_type": "code",
   "execution_count": 201,
   "id": "cb44fbb1-3b0f-45a1-87c5-8798793f4b01",
   "metadata": {},
   "outputs": [],
   "source": [
    "l[0][0] = 100"
   ]
  },
  {
   "cell_type": "code",
   "execution_count": 202,
   "id": "f07ead37-83fc-4511-926d-4cad3af22cad",
   "metadata": {},
   "outputs": [
    {
     "data": {
      "text/plain": [
       "[[100, 0, 0, 0], [100, 0, 0, 0], [100, 0, 0, 0]]"
      ]
     },
     "execution_count": 202,
     "metadata": {},
     "output_type": "execute_result"
    }
   ],
   "source": [
    "l"
   ]
  },
  {
   "cell_type": "code",
   "execution_count": 205,
   "id": "ab99dc82-a8cf-4dff-95de-d0e2dd8d89df",
   "metadata": {},
   "outputs": [],
   "source": [
    "cl = l.copy()"
   ]
  },
  {
   "cell_type": "code",
   "execution_count": 206,
   "id": "4f92c970-6ea9-4a13-8720-94441e2aa3a2",
   "metadata": {},
   "outputs": [],
   "source": [
    "cl[0][0] = 100"
   ]
  },
  {
   "cell_type": "code",
   "execution_count": 207,
   "id": "b8fdbe33-b3df-4fd5-93e6-d0d0530fb999",
   "metadata": {},
   "outputs": [
    {
     "data": {
      "text/plain": [
       "[[100, 1, 2, 3], [1, 2, 3, 4], [2, 3, 4, 5]]"
      ]
     },
     "execution_count": 207,
     "metadata": {},
     "output_type": "execute_result"
    }
   ],
   "source": [
    "l"
   ]
  },
  {
   "cell_type": "code",
   "execution_count": 195,
   "id": "eac3e9fc-22bf-4ca7-9314-2b93ed525b7b",
   "metadata": {},
   "outputs": [
    {
     "data": {
      "text/plain": [
       "' \\n1 2 3 4\\n5 6 7 8\\n9 10 11 12\\n'"
      ]
     },
     "execution_count": 195,
     "metadata": {},
     "output_type": "execute_result"
    }
   ],
   "source": [
    "\"\"\" \n",
    "1 2 3 4\n",
    "5 6 7 8\n",
    "9 10 11 12\n",
    "\"\"\"\n"
   ]
  },
  {
   "cell_type": "code",
   "execution_count": 212,
   "id": "9248e17d-9e74-4275-8fd0-930048576094",
   "metadata": {},
   "outputs": [
    {
     "name": "stdin",
     "output_type": "stream",
     "text": [
      " 1 2 3 4\n",
      " 5 6 7 8\n",
      " 9 10 11 12\n"
     ]
    }
   ],
   "source": [
    "l = [[int(ele) for ele in input().split()] for i in range(rows)]"
   ]
  },
  {
   "cell_type": "code",
   "execution_count": 213,
   "id": "c20dbc63-362b-40a8-a7f3-0b0a79eb87ca",
   "metadata": {},
   "outputs": [
    {
     "data": {
      "text/plain": [
       "[[1, 2, 3, 4], [5, 6, 7, 8], [9, 10, 11, 12]]"
      ]
     },
     "execution_count": 213,
     "metadata": {},
     "output_type": "execute_result"
    }
   ],
   "source": [
    "l"
   ]
  },
  {
   "cell_type": "code",
   "execution_count": null,
   "id": "925917a5-7a82-4f58-af6a-65d754e6f627",
   "metadata": {},
   "outputs": [],
   "source": []
  },
  {
   "cell_type": "code",
   "execution_count": null,
   "id": "23fe8a23-ca46-4803-832c-f2b9ed5e6f14",
   "metadata": {},
   "outputs": [],
   "source": []
  },
  {
   "cell_type": "code",
   "execution_count": null,
   "id": "b09c71f7-8de0-4e29-ac4c-686f01164b82",
   "metadata": {},
   "outputs": [],
   "source": []
  }
 ],
 "metadata": {
  "kernelspec": {
   "display_name": "Python 3 (ipykernel)",
   "language": "python",
   "name": "python3"
  },
  "language_info": {
   "codemirror_mode": {
    "name": "ipython",
    "version": 3
   },
   "file_extension": ".py",
   "mimetype": "text/x-python",
   "name": "python",
   "nbconvert_exporter": "python",
   "pygments_lexer": "ipython3",
   "version": "3.13.0"
  }
 },
 "nbformat": 4,
 "nbformat_minor": 5
}
