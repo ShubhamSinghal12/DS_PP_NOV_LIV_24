{
 "cells": [
  {
   "cell_type": "markdown",
   "id": "8f28999e-a104-4847-b062-61f9b79d3cbb",
   "metadata": {},
   "source": [
    "## functions\n",
    "- defination\n",
    "- Memory management\n",
    "- Interpreter\n",
    "- parameters (Pass by Value)\n",
    "- return / Multiple Return\n",
    "- default arguments\n",
    "- keyword arguments\n",
    "- DocString (__doc__)\n",
    "- function as arguments\n",
    "- Anonymous Function\n",
    "- Recursion\n",
    "- Type Hints \n",
    "- Arbitrary arguments (*args and **kwargs) (After Built-in)\n",
    "- Function within function\n",
    "- Function Decorators"
   ]
  },
  {
   "cell_type": "code",
   "execution_count": 1,
   "id": "69bac617-c690-4f79-8aa1-14b226211a1d",
   "metadata": {},
   "outputs": [],
   "source": [
    "def add(a,b):\n",
    "    c = a+b\n",
    "    return c\n",
    "\n",
    "def sub(a):\n",
    "    b = 200\n",
    "    c = a-b\n",
    "    print(c)\n",
    "\n",
    "def add_sub(a,b,/,*,p,q=200):\n",
    "    c = a+b\n",
    "    d = p-q\n",
    "    return c,d\n"
   ]
  },
  {
   "cell_type": "code",
   "execution_count": 2,
   "id": "bce2c9b8-1e68-4f1b-ab29-3034b365b9f0",
   "metadata": {},
   "outputs": [
    {
     "name": "stdout",
     "output_type": "stream",
     "text": [
      "800\n"
     ]
    }
   ],
   "source": [
    "add(10,20)\n",
    "c = sub(1000)"
   ]
  },
  {
   "cell_type": "code",
   "execution_count": 3,
   "id": "3ff8697a-9cd5-4bcd-8556-f7a04331c297",
   "metadata": {},
   "outputs": [
    {
     "name": "stdout",
     "output_type": "stream",
     "text": [
      "None\n"
     ]
    }
   ],
   "source": [
    "print(c)"
   ]
  },
  {
   "cell_type": "code",
   "execution_count": 4,
   "id": "837bcbde-ab58-4e17-ba42-e617e151d91c",
   "metadata": {},
   "outputs": [],
   "source": [
    "c,d = add_sub(10,20,p=100)"
   ]
  },
  {
   "cell_type": "code",
   "execution_count": 5,
   "id": "022d3cde-6fb4-454d-a298-c2393d5b2e9e",
   "metadata": {},
   "outputs": [
    {
     "name": "stdout",
     "output_type": "stream",
     "text": [
      "30 -100\n"
     ]
    }
   ],
   "source": [
    "print(c,d)"
   ]
  },
  {
   "cell_type": "code",
   "execution_count": 6,
   "id": "23541034-8cf7-4997-9386-b65071c8824a",
   "metadata": {},
   "outputs": [],
   "source": [
    "import math"
   ]
  },
  {
   "cell_type": "code",
   "execution_count": 7,
   "id": "2c1932a6-1dfe-4d4a-a7c7-593b50402a23",
   "metadata": {},
   "outputs": [
    {
     "data": {
      "text/plain": [
       "23"
      ]
     },
     "execution_count": 7,
     "metadata": {},
     "output_type": "execute_result"
    }
   ],
   "source": [
    "math.floor(23.6)"
   ]
  },
  {
   "cell_type": "code",
   "execution_count": 8,
   "id": "7af5b5c9-e100-4c9f-99b7-dc862ea5f530",
   "metadata": {},
   "outputs": [
    {
     "data": {
      "text/plain": [
       "\u001b[1;31mSignature:\u001b[0m \u001b[0mmath\u001b[0m\u001b[1;33m.\u001b[0m\u001b[0mfloor\u001b[0m\u001b[1;33m(\u001b[0m\u001b[0mx\u001b[0m\u001b[1;33m,\u001b[0m \u001b[1;33m/\u001b[0m\u001b[1;33m)\u001b[0m\u001b[1;33m\u001b[0m\u001b[1;33m\u001b[0m\u001b[0m\n",
       "\u001b[1;31mDocstring:\u001b[0m\n",
       "Return the floor of x as an Integral.\n",
       "\n",
       "This is the largest integer <= x.\n",
       "\u001b[1;31mType:\u001b[0m      builtin_function_or_method"
      ]
     },
     "metadata": {},
     "output_type": "display_data"
    }
   ],
   "source": [
    "math.floor?"
   ]
  },
  {
   "cell_type": "code",
   "execution_count": 10,
   "id": "a892ab2b-1103-4222-8a43-87ba8f719db0",
   "metadata": {},
   "outputs": [],
   "source": [
    "def fn():\n",
    "    '''This is a \n",
    "    multiple line \n",
    "    demo doc \n",
    "    String'''\n",
    "    "
   ]
  },
  {
   "cell_type": "code",
   "execution_count": 12,
   "id": "946defac-2312-4217-bd67-7351a2ad8929",
   "metadata": {},
   "outputs": [
    {
     "name": "stdout",
     "output_type": "stream",
     "text": [
      "This is a \n",
      "multiple line \n",
      "demo doc \n",
      "String\n"
     ]
    }
   ],
   "source": [
    "print(fn.__doc__)"
   ]
  },
  {
   "cell_type": "code",
   "execution_count": 14,
   "id": "6345416d-1064-4d33-980e-a129f8d93b6d",
   "metadata": {},
   "outputs": [],
   "source": [
    "def add(a,b,/):\n",
    "    \"This function takes 2 inputs and returns the sum of the given inputs\"\n",
    "    c = a+b\n",
    "    return c"
   ]
  },
  {
   "cell_type": "code",
   "execution_count": 17,
   "id": "6156b5d9-3734-480b-8286-f74ea16e5188",
   "metadata": {},
   "outputs": [],
   "source": [
    "a = add"
   ]
  },
  {
   "cell_type": "code",
   "execution_count": 18,
   "id": "eb13a158-e773-4872-8e4c-f76233632f02",
   "metadata": {},
   "outputs": [
    {
     "data": {
      "text/plain": [
       "300"
      ]
     },
     "execution_count": 18,
     "metadata": {},
     "output_type": "execute_result"
    }
   ],
   "source": [
    "a(100,200)"
   ]
  },
  {
   "cell_type": "code",
   "execution_count": 15,
   "id": "da206161-cb4c-48ad-82ba-925ac4f12b9a",
   "metadata": {},
   "outputs": [],
   "source": [
    "def cal(fn,a,b):\n",
    "    return fn(a,b)"
   ]
  },
  {
   "cell_type": "code",
   "execution_count": 16,
   "id": "fd2a1e91-ea35-41d7-9448-dc6dc6a82194",
   "metadata": {},
   "outputs": [
    {
     "data": {
      "text/plain": [
       "30"
      ]
     },
     "execution_count": 16,
     "metadata": {},
     "output_type": "execute_result"
    }
   ],
   "source": [
    "cal(add,10,20)"
   ]
  },
  {
   "cell_type": "code",
   "execution_count": 19,
   "id": "075c2f47-8686-454e-85f8-40eb3cd5afa1",
   "metadata": {},
   "outputs": [],
   "source": [
    "def sub(a,b):\n",
    "    return a-b"
   ]
  },
  {
   "cell_type": "code",
   "execution_count": 20,
   "id": "a0b15f7b-2726-48c5-842c-6718fe20cc09",
   "metadata": {},
   "outputs": [],
   "source": [
    "sub = lambda a,b: a-b"
   ]
  },
  {
   "cell_type": "code",
   "execution_count": 21,
   "id": "3075a15c-3627-4ac0-b5ab-cea029c6078d",
   "metadata": {},
   "outputs": [
    {
     "data": {
      "text/plain": [
       "80"
      ]
     },
     "execution_count": 21,
     "metadata": {},
     "output_type": "execute_result"
    }
   ],
   "source": [
    "sub(100,20)"
   ]
  },
  {
   "cell_type": "code",
   "execution_count": 22,
   "id": "541a2ea2-eab7-462d-ae28-4f25c1afc883",
   "metadata": {},
   "outputs": [
    {
     "data": {
      "text/plain": [
       "200"
      ]
     },
     "execution_count": 22,
     "metadata": {},
     "output_type": "execute_result"
    }
   ],
   "source": [
    "cal(lambda a,b: a*b,10,20)"
   ]
  },
  {
   "cell_type": "code",
   "execution_count": null,
   "id": "eeb53e35-ef48-4a34-bb0e-307223c7951d",
   "metadata": {},
   "outputs": [],
   "source": []
  },
  {
   "cell_type": "code",
   "execution_count": null,
   "id": "a322a8ba-665a-42cb-9651-2b7ce65f9a20",
   "metadata": {},
   "outputs": [],
   "source": []
  },
  {
   "cell_type": "code",
   "execution_count": 34,
   "id": "e2ed4b00-1378-4b38-8b1d-1b240b873cca",
   "metadata": {},
   "outputs": [],
   "source": [
    "def pow(a : int,b : int) -> float:\n",
    "    return a**b"
   ]
  },
  {
   "cell_type": "code",
   "execution_count": 35,
   "id": "fdcab5a4-bb88-493e-99a2-013d4dabe541",
   "metadata": {},
   "outputs": [
    {
     "data": {
      "text/plain": [
       "2.1447610589527217"
      ]
     },
     "execution_count": 35,
     "metadata": {},
     "output_type": "execute_result"
    }
   ],
   "source": [
    "pow(4.6,0.5)"
   ]
  },
  {
   "cell_type": "code",
   "execution_count": null,
   "id": "fbe545c6-314e-4c28-bdfc-d938326dc1c3",
   "metadata": {},
   "outputs": [],
   "source": []
  },
  {
   "cell_type": "code",
   "execution_count": 37,
   "id": "9908b4bc-f0e5-4752-9899-6565b6de5f2f",
   "metadata": {},
   "outputs": [
    {
     "data": {
      "text/plain": [
       "24"
      ]
     },
     "execution_count": 37,
     "metadata": {},
     "output_type": "execute_result"
    }
   ],
   "source": [
    "def fact(a):\n",
    "    if a==1:\n",
    "        return 1\n",
    "    return a*fact(a-1)\n",
    "fact(4)"
   ]
  },
  {
   "cell_type": "code",
   "execution_count": 38,
   "id": "223efb7d-6c8e-4b64-9daf-b1859a098ce1",
   "metadata": {},
   "outputs": [],
   "source": [
    "def fib(n):\n",
    "    if n == 0 or n == 1:\n",
    "        return n\n",
    "    else:\n",
    "        return fib(n-1)+ fib(n-2) "
   ]
  },
  {
   "cell_type": "code",
   "execution_count": 39,
   "id": "5e4f416c-3f14-4fdc-addf-382384654c5b",
   "metadata": {},
   "outputs": [
    {
     "data": {
      "text/plain": [
       "55"
      ]
     },
     "execution_count": 39,
     "metadata": {},
     "output_type": "execute_result"
    }
   ],
   "source": [
    "fib(10)"
   ]
  },
  {
   "cell_type": "code",
   "execution_count": 41,
   "id": "60894377-89c8-4d4b-9cd5-0b86089de41b",
   "metadata": {},
   "outputs": [
    {
     "name": "stdout",
     "output_type": "stream",
     "text": [
      "Nothing\n"
     ]
    }
   ],
   "source": [
    "a = 11\n",
    "match a:\n",
    "    case 1: \n",
    "        print(1)\n",
    "    case 10:\n",
    "        print(10)\n",
    "    case _:\n",
    "        print(\"Nothing\")"
   ]
  },
  {
   "cell_type": "code",
   "execution_count": null,
   "id": "90c34477-c584-457c-8716-63176bff9ff8",
   "metadata": {},
   "outputs": [],
   "source": []
  },
  {
   "cell_type": "code",
   "execution_count": 42,
   "id": "03ce4dfa-1ee8-4867-9227-bf8486da7077",
   "metadata": {},
   "outputs": [],
   "source": [
    "def swap(a,b):\n",
    "    t = a\n",
    "    a = b\n",
    "    b = t"
   ]
  },
  {
   "cell_type": "code",
   "execution_count": 43,
   "id": "b9ee397d-a818-467c-9ebf-5e92e9f54baa",
   "metadata": {},
   "outputs": [
    {
     "name": "stdout",
     "output_type": "stream",
     "text": [
      "10 20\n",
      "10 20\n"
     ]
    }
   ],
   "source": [
    "a = 10\n",
    "b = 20\n",
    "print(a,b)\n",
    "swap(a,b)\n",
    "print(a,b)"
   ]
  },
  {
   "cell_type": "code",
   "execution_count": null,
   "id": "84db1669-a160-4f19-8fb9-bd3058cf2714",
   "metadata": {},
   "outputs": [],
   "source": []
  },
  {
   "cell_type": "code",
   "execution_count": null,
   "id": "c43bc71a-7c17-4379-b759-7108e1d8153d",
   "metadata": {},
   "outputs": [],
   "source": []
  },
  {
   "cell_type": "code",
   "execution_count": null,
   "id": "03fb22fa-9811-4be5-8819-cd0444906607",
   "metadata": {},
   "outputs": [],
   "source": []
  }
 ],
 "metadata": {
  "kernelspec": {
   "display_name": "Python 3 (ipykernel)",
   "language": "python",
   "name": "python3"
  },
  "language_info": {
   "codemirror_mode": {
    "name": "ipython",
    "version": 3
   },
   "file_extension": ".py",
   "mimetype": "text/x-python",
   "name": "python",
   "nbconvert_exporter": "python",
   "pygments_lexer": "ipython3",
   "version": "3.13.0"
  }
 },
 "nbformat": 4,
 "nbformat_minor": 5
}
