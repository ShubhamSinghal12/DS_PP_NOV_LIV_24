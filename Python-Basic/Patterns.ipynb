{
 "cells": [
  {
   "cell_type": "markdown",
   "id": "95beba2c-3eb4-4a04-a933-47a392ce1a0a",
   "metadata": {},
   "source": [
    "## Patterns\n",
    "Refer Patterns PDF"
   ]
  },
  {
   "cell_type": "code",
   "execution_count": null,
   "id": "df22797a-8aa7-4f88-bf29-b11489b9fe00",
   "metadata": {},
   "outputs": [],
   "source": []
  },
  {
   "cell_type": "code",
   "execution_count": null,
   "id": "f2bb932f-1c43-4d74-8b06-30388e1d2162",
   "metadata": {},
   "outputs": [],
   "source": []
  },
  {
   "cell_type": "code",
   "execution_count": null,
   "id": "cd19fc8c-ddd7-4a5e-a869-4b8c477399f6",
   "metadata": {},
   "outputs": [],
   "source": []
  },
  {
   "cell_type": "code",
   "execution_count": null,
   "id": "77c62050-f2e6-4f59-ad7a-8439e9311703",
   "metadata": {},
   "outputs": [],
   "source": []
  },
  {
   "cell_type": "code",
   "execution_count": null,
   "id": "062ba363-6716-4f30-a169-aa7cc10522cf",
   "metadata": {},
   "outputs": [],
   "source": []
  }
 ],
 "metadata": {
  "kernelspec": {
   "display_name": "Python 3 (ipykernel)",
   "language": "python",
   "name": "python3"
  },
  "language_info": {
   "codemirror_mode": {
    "name": "ipython",
    "version": 3
   },
   "file_extension": ".py",
   "mimetype": "text/x-python",
   "name": "python",
   "nbconvert_exporter": "python",
   "pygments_lexer": "ipython3",
   "version": "3.12.1"
  }
 },
 "nbformat": 4,
 "nbformat_minor": 5
}
