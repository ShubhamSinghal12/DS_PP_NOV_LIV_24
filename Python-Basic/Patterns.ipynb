{
 "cells": [
  {
   "cell_type": "markdown",
   "id": "95beba2c-3eb4-4a04-a933-47a392ce1a0a",
   "metadata": {},
   "source": [
    "## Patterns\n",
    "Refer Patterns PDF"
   ]
  },
  {
   "cell_type": "code",
   "execution_count": 1,
   "id": "df22797a-8aa7-4f88-bf29-b11489b9fe00",
   "metadata": {},
   "outputs": [
    {
     "name": "stdout",
     "output_type": "stream",
     "text": [
      "* \n",
      "* * \n",
      "* * * \n",
      "* * * * \n",
      "* * * * * \n",
      "* * * * * * \n"
     ]
    }
   ],
   "source": [
    "N = 6\n",
    "\n",
    "nst = 1\n",
    "row = 1\n",
    "while row <= N:\n",
    "\n",
    "    cst = 1\n",
    "    while cst <= nst:\n",
    "        print(\"*\",end = \" \")\n",
    "        cst += 1\n",
    "\n",
    "    nst += 1\n",
    "    print()\n",
    "    row += 1"
   ]
  },
  {
   "cell_type": "code",
   "execution_count": 2,
   "id": "f2bb932f-1c43-4d74-8b06-30388e1d2162",
   "metadata": {},
   "outputs": [
    {
     "name": "stdout",
     "output_type": "stream",
     "text": [
      "* * * * * * \n",
      "* * * * * \n",
      "* * * * \n",
      "* * * \n",
      "* * \n",
      "* \n"
     ]
    }
   ],
   "source": [
    "N = 6\n",
    "\n",
    "nst = N\n",
    "row = 1\n",
    "while row <= N:\n",
    "\n",
    "    cst = 1\n",
    "    while cst <= nst:\n",
    "        print(\"*\",end = \" \")\n",
    "        cst += 1\n",
    "\n",
    "    nst -= 1\n",
    "    print()\n",
    "    row += 1"
   ]
  },
  {
   "cell_type": "code",
   "execution_count": 5,
   "id": "cd19fc8c-ddd7-4a5e-a869-4b8c477399f6",
   "metadata": {},
   "outputs": [
    {
     "name": "stdout",
     "output_type": "stream",
     "text": [
      "          * \n",
      "        * * \n",
      "      * * * \n",
      "    * * * * \n",
      "  * * * * * \n",
      "* * * * * * \n"
     ]
    }
   ],
   "source": [
    "N = 6\n",
    "\n",
    "row = 1\n",
    "nsp = N-1\n",
    "nst = 1\n",
    "\n",
    "while row <= N:\n",
    "\n",
    "    csp = 1\n",
    "    while csp <= nsp :\n",
    "        print(\" \",end = \" \")\n",
    "        csp += 1\n",
    "\n",
    "    cst = 1\n",
    "    while cst <= nst:\n",
    "        print(\"*\",end = \" \")\n",
    "        cst += 1\n",
    "\n",
    "    nsp -= 1\n",
    "    nst += 1\n",
    "\n",
    "    print()\n",
    "    row += 1\n",
    "    \n",
    "    "
   ]
  },
  {
   "cell_type": "code",
   "execution_count": 7,
   "id": "77c62050-f2e6-4f59-ad7a-8439e9311703",
   "metadata": {},
   "outputs": [
    {
     "name": "stdout",
     "output_type": "stream",
     "text": [
      "* * * * * * \n",
      "    * * * * * \n",
      "        * * * * \n",
      "            * * * \n",
      "                * * \n",
      "                    * \n"
     ]
    }
   ],
   "source": [
    "N = 6\n",
    "\n",
    "row = 1\n",
    "nsp = 0\n",
    "nst = N\n",
    "\n",
    "while row <= N:\n",
    "\n",
    "    csp = 1\n",
    "    while csp <= nsp :\n",
    "        print(\" \",end = \" \")\n",
    "        csp += 1\n",
    "\n",
    "    cst = 1\n",
    "    while cst <= nst:\n",
    "        print(\"*\",end = \" \")\n",
    "        cst += 1\n",
    "\n",
    "    nsp += 2\n",
    "    nst -= 1\n",
    "\n",
    "    print()\n",
    "    row += 1"
   ]
  },
  {
   "cell_type": "code",
   "execution_count": null,
   "id": "062ba363-6716-4f30-a169-aa7cc10522cf",
   "metadata": {},
   "outputs": [],
   "source": []
  },
  {
   "cell_type": "code",
   "execution_count": 8,
   "id": "73db5408-7ac1-42b6-9125-1810512d9a38",
   "metadata": {},
   "outputs": [
    {
     "name": "stdout",
     "output_type": "stream",
     "text": [
      "          * \n",
      "        * * * \n",
      "      * * * * * \n",
      "    * * * * * * * \n",
      "  * * * * * * * * * \n",
      "* * * * * * * * * * * \n"
     ]
    }
   ],
   "source": [
    "N = 6\n",
    "\n",
    "nsp = N-1\n",
    "nst = 1\n",
    "row = 1\n",
    "\n",
    "while row <= N:\n",
    "    csp = 1\n",
    "    while csp <= nsp:\n",
    "        print(\" \",end = \" \")\n",
    "        csp += 1\n",
    "\n",
    "    cst = 1\n",
    "    while cst <= nst:\n",
    "        print(\"*\",end = \" \")\n",
    "        cst += 1\n",
    "\n",
    "    nst += 2\n",
    "    nsp -= 1\n",
    "    row += 1\n",
    "    print()"
   ]
  },
  {
   "cell_type": "code",
   "execution_count": 9,
   "id": "c3780b6e-b487-4ef3-9506-64786d189622",
   "metadata": {},
   "outputs": [
    {
     "name": "stdout",
     "output_type": "stream",
     "text": [
      "* * * * * * * * * * * \n",
      "  * * * * * * * * * \n",
      "    * * * * * * * \n",
      "      * * * * * \n",
      "        * * * \n",
      "          * \n"
     ]
    }
   ],
   "source": [
    "N = 6\n",
    "\n",
    "nsp = 0\n",
    "nst = 2*N-1\n",
    "row = 1\n",
    "\n",
    "while row <= N:\n",
    "    csp = 1\n",
    "    while csp <= nsp:\n",
    "        print(\" \",end = \" \")\n",
    "        csp += 1\n",
    "\n",
    "    cst = 1\n",
    "    while cst <= nst:\n",
    "        print(\"*\",end = \" \")\n",
    "        cst += 1\n",
    "\n",
    "    nst -= 2\n",
    "    nsp += 1\n",
    "    row += 1\n",
    "    print()"
   ]
  },
  {
   "cell_type": "code",
   "execution_count": 11,
   "id": "29a0fa26-d8e1-4c1f-91f3-13853fb51b30",
   "metadata": {},
   "outputs": [
    {
     "name": "stdout",
     "output_type": "stream",
     "text": [
      "          * \n",
      "        * ! * \n",
      "      * ! * ! * \n",
      "    * ! * ! * ! * \n",
      "  * ! * ! * ! * ! * \n",
      "* ! * ! * ! * ! * ! * \n"
     ]
    }
   ],
   "source": [
    "N = 6\n",
    "\n",
    "nsp = N-1\n",
    "nst = 1\n",
    "row = 1\n",
    "\n",
    "while row <= N:\n",
    "    csp = 1\n",
    "    while csp <= nsp:\n",
    "        print(\" \",end = \" \")\n",
    "        csp += 1\n",
    "\n",
    "    cst = 1\n",
    "    while cst <= nst:\n",
    "        if cst%2 == 1:\n",
    "            print(\"*\",end = \" \")\n",
    "        else:\n",
    "            print(\"!\",end = \" \")\n",
    "        cst += 1\n",
    "\n",
    "    nst += 2\n",
    "    nsp -= 1\n",
    "    row += 1\n",
    "    print()"
   ]
  },
  {
   "cell_type": "code",
   "execution_count": null,
   "id": "9b38c6af-9908-40ef-ac09-9e77a656320a",
   "metadata": {},
   "outputs": [],
   "source": []
  },
  {
   "cell_type": "code",
   "execution_count": 12,
   "id": "3f37cf7e-2a8f-4f52-a79d-85de3feec7d4",
   "metadata": {},
   "outputs": [
    {
     "name": "stdout",
     "output_type": "stream",
     "text": [
      "* * * * * * \n",
      "*         * \n",
      "*         * \n",
      "*         * \n",
      "*         * \n",
      "* * * * * * \n"
     ]
    }
   ],
   "source": [
    "N = 6\n",
    "\n",
    "nst = N\n",
    "row = 1\n",
    "while row <= N:\n",
    "\n",
    "    cst = 1\n",
    "    while cst <= nst:\n",
    "        if row == 1 or row == N or cst == 1 or cst == N:\n",
    "            print(\"*\",end = \" \")\n",
    "        else:\n",
    "            print(\" \",end = \" \")\n",
    "        cst += 1\n",
    "\n",
    "    print()\n",
    "    row += 1"
   ]
  },
  {
   "cell_type": "code",
   "execution_count": 15,
   "id": "c65c4846-ac15-43ae-8349-6921c8e898db",
   "metadata": {},
   "outputs": [
    {
     "name": "stdout",
     "output_type": "stream",
     "text": [
      "*       * \n",
      "  *   *   \n",
      "    *     \n",
      "  *   *   \n",
      "*       * \n"
     ]
    }
   ],
   "source": [
    "N = 5\n",
    "\n",
    "nst = N\n",
    "row = 1\n",
    "while row <= N:\n",
    "\n",
    "    cst = 1\n",
    "    while cst <= nst:\n",
    "        if row == cst or row+cst == N+1 :\n",
    "            print(\"*\",end = \" \")\n",
    "        else:\n",
    "            print(\" \",end = \" \")\n",
    "        cst += 1\n",
    "\n",
    "    print()\n",
    "    row += 1"
   ]
  },
  {
   "cell_type": "code",
   "execution_count": 16,
   "id": "d8bcb335-fb49-421b-b87d-c8a5046c007e",
   "metadata": {},
   "outputs": [
    {
     "name": "stdout",
     "output_type": "stream",
     "text": [
      "* \n",
      "* * \n",
      "* * * \n",
      "* * * * \n",
      "* * * * * \n",
      "* * * * * * \n",
      "* * * * * \n",
      "* * * * \n",
      "* * * \n",
      "* * \n",
      "* \n"
     ]
    }
   ],
   "source": [
    "N = 6\n",
    "\n",
    "nst = 1\n",
    "row = 1\n",
    "\n",
    "while row <= 2*N-1:\n",
    "    cst = 1\n",
    "    while cst <= nst:\n",
    "        print(\"*\",end = \" \")\n",
    "        cst += 1\n",
    "\n",
    "    if row < N:\n",
    "        nst += 1\n",
    "    else:\n",
    "        nst -= 1\n",
    "    print()\n",
    "    row += 1\n"
   ]
  },
  {
   "cell_type": "code",
   "execution_count": 17,
   "id": "8196219a-ea50-4a93-8a8c-6eb325886946",
   "metadata": {},
   "outputs": [
    {
     "name": "stdout",
     "output_type": "stream",
     "text": [
      "          * \n",
      "        * * \n",
      "      * * * \n",
      "    * * * * \n",
      "  * * * * * \n",
      "* * * * * * \n",
      "  * * * * * \n",
      "    * * * * \n",
      "      * * * \n",
      "        * * \n",
      "          * \n"
     ]
    }
   ],
   "source": [
    "N = 6\n",
    "\n",
    "nst = 1\n",
    "nsp = N-1\n",
    "row = 1\n",
    "\n",
    "while row <= 2*N-1:\n",
    "    csp = 1\n",
    "    while csp <= nsp:\n",
    "        print(\" \",end = \" \")\n",
    "        csp += 1\n",
    "    \n",
    "    cst = 1\n",
    "    while cst <= nst:\n",
    "        print(\"*\",end = \" \")\n",
    "        cst += 1\n",
    "\n",
    "    if row < N:\n",
    "        nst += 1\n",
    "        nsp -= 1\n",
    "    else:\n",
    "        nst -= 1\n",
    "        nsp += 1\n",
    "    print()\n",
    "    row += 1\n"
   ]
  },
  {
   "cell_type": "code",
   "execution_count": 18,
   "id": "6b027b7c-83ae-4d20-95a7-ff90b80f8769",
   "metadata": {},
   "outputs": [
    {
     "name": "stdout",
     "output_type": "stream",
     "text": [
      "* * * * * * \n",
      "    * * * * * \n",
      "        * * * * \n",
      "            * * * \n",
      "                * * \n",
      "                    * \n",
      "                * * \n",
      "            * * * \n",
      "        * * * * \n",
      "    * * * * * \n",
      "* * * * * * \n"
     ]
    }
   ],
   "source": [
    "N = 6\n",
    "\n",
    "nst = N\n",
    "nsp = 0\n",
    "row = 1\n",
    "\n",
    "while row <= 2*N-1:\n",
    "    csp = 1\n",
    "    while csp <= nsp:\n",
    "        print(\" \",end = \" \")\n",
    "        csp += 1\n",
    "    \n",
    "    cst = 1\n",
    "    while cst <= nst:\n",
    "        print(\"*\",end = \" \")\n",
    "        cst += 1\n",
    "\n",
    "    if row < N:\n",
    "        nst -= 1\n",
    "        nsp += 2\n",
    "    else:\n",
    "        nst += 1\n",
    "        nsp -= 2\n",
    "    print()\n",
    "    row += 1\n"
   ]
  },
  {
   "cell_type": "code",
   "execution_count": 30,
   "id": "f968114c-51f5-45c7-9836-d0f07a7ecbd0",
   "metadata": {},
   "outputs": [
    {
     "name": "stdout",
     "output_type": "stream",
     "text": [
      "* * *   * * * \n",
      "* *       * * \n",
      "*           * \n",
      "              \n",
      "*           * \n",
      "* *       * * \n",
      "* * *   * * * \n"
     ]
    }
   ],
   "source": [
    "N = 7\n",
    "\n",
    "nst = N//2\n",
    "nsp = 1\n",
    "row = 1\n",
    "\n",
    "while row <= N:\n",
    "    cst = 1\n",
    "    while cst <= nst:\n",
    "        print(\"*\",end = \" \")\n",
    "        cst += 1\n",
    "\n",
    "    csp = 1 \n",
    "    while csp <= nsp:\n",
    "        print(\" \" ,end = \" \")\n",
    "        csp += 1\n",
    "\n",
    "    cst = 1\n",
    "    while cst <= nst:\n",
    "        print(\"*\",end = \" \")\n",
    "        cst += 1\n",
    "\n",
    "    if row  < N//2+1:\n",
    "        nst -= 1\n",
    "        nsp += 2\n",
    "    else:\n",
    "        nst += 1\n",
    "        nsp -= 2\n",
    "\n",
    "    print()\n",
    "    row += 1"
   ]
  },
  {
   "cell_type": "code",
   "execution_count": 33,
   "id": "1ce82011-e5a2-41a5-9f45-918479d4473f",
   "metadata": {},
   "outputs": [
    {
     "name": "stdout",
     "output_type": "stream",
     "text": [
      "* * * * * * * \n",
      "* * *   * * * \n",
      "* *       * * \n",
      "*           * \n",
      "* *       * * \n",
      "* * *   * * * \n",
      "* * * * * * * \n"
     ]
    }
   ],
   "source": [
    "N = 7\n",
    "\n",
    "nst = N//2 + 1\n",
    "nsp = -1\n",
    "row = 1\n",
    "\n",
    "while row <= N:\n",
    "    cst = 1\n",
    "    while cst <= nst:\n",
    "        print(\"*\",end = \" \")\n",
    "        cst += 1\n",
    "\n",
    "    csp = 1 \n",
    "    while csp <= nsp:\n",
    "        print(\" \" ,end = \" \")\n",
    "        csp += 1\n",
    "\n",
    "    cst = 1\n",
    "    if row == 1 or row == N:\n",
    "        cst = 2\n",
    "    while cst <= nst:\n",
    "        print(\"*\",end = \" \")\n",
    "        cst += 1\n",
    "\n",
    "    if row  < N//2+1:\n",
    "        nst -= 1\n",
    "        nsp += 2\n",
    "    else:\n",
    "        nst += 1\n",
    "        nsp -= 2\n",
    "\n",
    "    print()\n",
    "    row += 1"
   ]
  },
  {
   "cell_type": "code",
   "execution_count": null,
   "id": "4850dd9d-6cd8-4852-84a2-207af6a5738f",
   "metadata": {},
   "outputs": [],
   "source": []
  },
  {
   "cell_type": "code",
   "execution_count": 2,
   "id": "c5f95fb7-0a7b-44fb-9c54-843c3bef2c1c",
   "metadata": {},
   "outputs": [
    {
     "name": "stdout",
     "output_type": "stream",
     "text": [
      "          1 \n",
      "        1 1 1 \n",
      "      1 1 1 1 1 \n",
      "    1 1 1 1 1 1 1 \n",
      "  1 1 1 1 1 1 1 1 1 \n",
      "1 1 1 1 1 1 1 1 1 1 1 \n"
     ]
    }
   ],
   "source": [
    "N = 6\n",
    "\n",
    "nsp = N-1\n",
    "nst = 1\n",
    "row = 1\n",
    "\n",
    "while row <= N:\n",
    "    csp = 1\n",
    "    while csp <= nsp:\n",
    "        print(\" \",end = \" \")\n",
    "        csp += 1\n",
    "\n",
    "    cst = 1\n",
    "    while cst <= nst:\n",
    "        print(\"1\",end = \" \")\n",
    "        cst += 1\n",
    "\n",
    "    nst += 2\n",
    "    nsp -= 1\n",
    "    row += 1\n",
    "    print()"
   ]
  },
  {
   "cell_type": "code",
   "execution_count": null,
   "id": "5a28dc1b-fdb1-4488-b1d2-574ef4c5c9b4",
   "metadata": {},
   "outputs": [],
   "source": []
  },
  {
   "cell_type": "code",
   "execution_count": 3,
   "id": "804518a2-d22f-41c1-aae4-222d1a9839b1",
   "metadata": {},
   "outputs": [
    {
     "name": "stdout",
     "output_type": "stream",
     "text": [
      "          1 \n",
      "        2 2 2 \n",
      "      3 3 3 3 3 \n",
      "    4 4 4 4 4 4 4 \n",
      "  5 5 5 5 5 5 5 5 5 \n",
      "6 6 6 6 6 6 6 6 6 6 6 \n"
     ]
    }
   ],
   "source": [
    "N = 6\n",
    "\n",
    "nsp = N-1\n",
    "nst = 1\n",
    "row = 1\n",
    "val = 1\n",
    "\n",
    "while row <= N:\n",
    "    csp = 1\n",
    "    while csp <= nsp:\n",
    "        print(\" \",end = \" \")\n",
    "        csp += 1\n",
    "\n",
    "    cst = 1\n",
    "    cval = val\n",
    "    while cst <= nst:\n",
    "        print(cval,end = \" \")\n",
    "        cst += 1\n",
    "\n",
    "    nst += 2\n",
    "    nsp -= 1\n",
    "    val += 1\n",
    "    row += 1\n",
    "    print()"
   ]
  },
  {
   "cell_type": "code",
   "execution_count": 4,
   "id": "97652b7c-c2db-4bb3-bc72-0192143ffef1",
   "metadata": {},
   "outputs": [
    {
     "name": "stdout",
     "output_type": "stream",
     "text": [
      "          1 \n",
      "        1 2 3 \n",
      "      1 2 3 4 5 \n",
      "    1 2 3 4 5 6 7 \n",
      "  1 2 3 4 5 6 7 8 9 \n",
      "1 2 3 4 5 6 7 8 9 10 11 \n"
     ]
    }
   ],
   "source": [
    "N = 6\n",
    "\n",
    "nsp = N-1\n",
    "nst = 1\n",
    "row = 1\n",
    "val = 1\n",
    "\n",
    "while row <= N:\n",
    "    csp = 1\n",
    "    while csp <= nsp:\n",
    "        print(\" \",end = \" \")\n",
    "        csp += 1\n",
    "\n",
    "    cst = 1\n",
    "    cval = val\n",
    "    while cst <= nst:\n",
    "        print(cval,end = \" \")\n",
    "        cval += 1\n",
    "        cst += 1\n",
    "\n",
    "    nst += 2\n",
    "    nsp -= 1\n",
    "    row += 1\n",
    "    print()"
   ]
  },
  {
   "cell_type": "code",
   "execution_count": 5,
   "id": "de739787-5b14-4c4f-bf8a-b435eabaea7c",
   "metadata": {},
   "outputs": [
    {
     "name": "stdout",
     "output_type": "stream",
     "text": [
      "          1 \n",
      "        2 3 4 \n",
      "      5 6 7 8 9 \n",
      "    10 11 12 13 14 15 16 \n",
      "  17 18 19 20 21 22 23 24 25 \n",
      "26 27 28 29 30 31 32 33 34 35 36 \n"
     ]
    }
   ],
   "source": [
    "N = 6\n",
    "\n",
    "nsp = N-1\n",
    "nst = 1\n",
    "row = 1\n",
    "val = 1\n",
    "\n",
    "while row <= N:\n",
    "    csp = 1\n",
    "    while csp <= nsp:\n",
    "        print(\" \",end = \" \")\n",
    "        csp += 1\n",
    "\n",
    "    cst = 1\n",
    "    cval = val\n",
    "    while cst <= nst:\n",
    "        print(cval,end = \" \")\n",
    "        cval += 1\n",
    "        cst += 1\n",
    "\n",
    "    nst += 2\n",
    "    nsp -= 1\n",
    "    val = cval\n",
    "    row += 1\n",
    "    print()"
   ]
  },
  {
   "cell_type": "code",
   "execution_count": 8,
   "id": "b1e6b30b-9f3b-423a-a343-8f57699c7172",
   "metadata": {},
   "outputs": [
    {
     "name": "stdout",
     "output_type": "stream",
     "text": [
      "          1 \n",
      "        2 3 2 \n",
      "      3 4 5 4 3 \n",
      "    4 5 6 7 6 5 4 \n",
      "  5 6 7 8 9 8 7 6 5 \n",
      "6 7 8 9 10 11 10 9 8 7 6 \n"
     ]
    }
   ],
   "source": [
    "N = 6\n",
    "\n",
    "nsp = N-1\n",
    "nst = 1\n",
    "row = 1\n",
    "val = 1\n",
    "\n",
    "while row <= N:\n",
    "    csp = 1\n",
    "    while csp <= nsp:\n",
    "        print(\" \",end = \" \")\n",
    "        csp += 1\n",
    "\n",
    "    cst = 1\n",
    "    cval = val\n",
    "    while cst <= nst:\n",
    "        print(cval,end = \" \")\n",
    "        if cst <= nst//2:\n",
    "            cval += 1\n",
    "        else:\n",
    "            cval -= 1\n",
    "        cst += 1\n",
    "\n",
    "    nst += 2\n",
    "    nsp -= 1\n",
    "    val += 1\n",
    "    row += 1\n",
    "    print()"
   ]
  },
  {
   "cell_type": "code",
   "execution_count": null,
   "id": "c7f3e589-ded3-46e0-8a2c-97729ff23d70",
   "metadata": {},
   "outputs": [],
   "source": []
  }
 ],
 "metadata": {
  "kernelspec": {
   "display_name": "Python 3 (ipykernel)",
   "language": "python",
   "name": "python3"
  },
  "language_info": {
   "codemirror_mode": {
    "name": "ipython",
    "version": 3
   },
   "file_extension": ".py",
   "mimetype": "text/x-python",
   "name": "python",
   "nbconvert_exporter": "python",
   "pygments_lexer": "ipython3",
   "version": "3.13.0"
  }
 },
 "nbformat": 4,
 "nbformat_minor": 5
}
