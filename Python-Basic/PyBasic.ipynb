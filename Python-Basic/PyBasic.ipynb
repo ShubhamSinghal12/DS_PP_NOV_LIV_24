{
 "cells": [
  {
   "cell_type": "markdown",
   "id": "01fe4731-4a29-45bd-af3c-d758bfc8df10",
   "metadata": {},
   "source": [
    "<h2>Variables</h2>\n",
    "<ul>\n",
    "    <li>KeyWords vs Identifier</li>\n",
    "    <li>Comments</li>\n",
    "    <li>Single Line vs Multiple Line</li>\n",
    "    <li>Multiple assignments</li>\n",
    "    <li>How do we Store a Variable it in the memory?</li>\n",
    "    <li>print</li>\n",
    "    <li>type and id</li>\n",
    "</ul>"
   ]
  },
  {
   "cell_type": "code",
   "execution_count": 5,
   "id": "a50c7217-3fb6-4e59-a84b-91c9473ebd6e",
   "metadata": {},
   "outputs": [
    {
     "name": "stdout",
     "output_type": "stream",
     "text": [
      "10 24.5 Hello\n"
     ]
    }
   ],
   "source": [
    "a = 10\n",
    "b = 24.5\n",
    "c = \"Hello\"\n",
    "print(a,b,c)"
   ]
  },
  {
   "cell_type": "code",
   "execution_count": 7,
   "id": "d28fdab5-80e2-4109-9f58-0f6632686399",
   "metadata": {},
   "outputs": [
    {
     "name": "stdout",
     "output_type": "stream",
     "text": [
      "['False', 'None', 'True', 'and', 'as', 'assert', 'async', 'await', 'break', 'class', 'continue', 'def', 'del', 'elif', 'else', 'except', 'finally', 'for', 'from', 'global', 'if', 'import', 'in', 'is', 'lambda', 'nonlocal', 'not', 'or', 'pass', 'raise', 'return', 'try', 'while', 'with', 'yield'] 35\n"
     ]
    }
   ],
   "source": [
    "import keyword\n",
    "print(keyword.kwlist,len(keyword.kwlist))"
   ]
  },
  {
   "cell_type": "code",
   "execution_count": 9,
   "id": "70f4f2c8-59f4-4228-8886-86e6bb2d1489",
   "metadata": {},
   "outputs": [
    {
     "data": {
      "text/plain": [
       "' This is \\nA Multiple\\nLine Comment'"
      ]
     },
     "execution_count": 9,
     "metadata": {},
     "output_type": "execute_result"
    }
   ],
   "source": [
    "# Single Line Comment\n",
    "\n",
    "'''This is \n",
    "A Multiple\n",
    "Line Comment'''"
   ]
  },
  {
   "cell_type": "code",
   "execution_count": 17,
   "id": "16910c6a-e268-44db-bb8b-418f1a486f48",
   "metadata": {},
   "outputs": [
    {
     "name": "stdout",
     "output_type": "stream",
     "text": [
      "10 24.5 Hello\n"
     ]
    }
   ],
   "source": [
    "a,b,c = 10,24.5,\"Hello\"\n",
    "print(a,b,c)"
   ]
  },
  {
   "cell_type": "code",
   "execution_count": 25,
   "id": "6bd30346-5d67-452a-9ba8-534a7764b4af",
   "metadata": {},
   "outputs": [
    {
     "data": {
      "text/plain": [
       "2263869012608"
      ]
     },
     "execution_count": 25,
     "metadata": {},
     "output_type": "execute_result"
    }
   ],
   "source": [
    "id(c) #Print address stored in a"
   ]
  },
  {
   "cell_type": "code",
   "execution_count": 21,
   "id": "a2f6424d-b1c9-415f-86ba-8411c91e63ae",
   "metadata": {},
   "outputs": [
    {
     "data": {
      "text/plain": [
       "str"
      ]
     },
     "execution_count": 21,
     "metadata": {},
     "output_type": "execute_result"
    }
   ],
   "source": [
    "type(c)"
   ]
  },
  {
   "cell_type": "code",
   "execution_count": 2,
   "id": "80bf6fdd-4a6f-4581-a2aa-d2266f5afee3",
   "metadata": {},
   "outputs": [
    {
     "name": "stdout",
     "output_type": "stream",
     "text": [
      "10\n"
     ]
    }
   ],
   "source": [
    "print(a)"
   ]
  },
  {
   "cell_type": "code",
   "execution_count": null,
   "id": "2da0426c-4f5d-444c-97a1-3595d9eda798",
   "metadata": {},
   "outputs": [],
   "source": []
  },
  {
   "cell_type": "markdown",
   "id": "c58b015f-95c6-4d4f-adb0-90bd8701d2b0",
   "metadata": {},
   "source": [
    "<h2>Data Types</h2>\n",
    "<table border=\"1\">\n",
    "<tbody>\n",
    "<tr><td>Text Type:</td><td>str</td></tr>\n",
    "<tr><td>Numeric Types:</td><td>int, float, complex</td></tr>\n",
    "<tr><td>Sequence Types:</td><td>list, tuple, range</td></tr>\n",
    "<tr><td>Mapping Type:</td><td>dict</td></tr>\n",
    "<tr><td>Set Types:</td><td>set, frozenset</td></tr>\n",
    "<tr><td>Boolean Type:</td><td>bool</td></tr>\n",
    "<tr><td>Binary Types:</td><td>bytes, bytearray, memoryview</td></tr>\n",
    "<tr><td>None Type:</td><td>NoneType</td></tr>\n",
    "</tbody>\n",
    "</table>\n",
    "Type Conversion"
   ]
  },
  {
   "cell_type": "code",
   "execution_count": 26,
   "id": "d3045a9f-d5dd-4567-a240-1bb6518a59bf",
   "metadata": {},
   "outputs": [],
   "source": [
    "a = 'abc'\n",
    "b = '1'\n",
    "c = \"3s\""
   ]
  },
  {
   "cell_type": "code",
   "execution_count": 29,
   "id": "7e40725a-68f5-45ae-b36a-1ef36e9adc4b",
   "metadata": {},
   "outputs": [
    {
     "data": {
      "text/plain": [
       "str"
      ]
     },
     "execution_count": 29,
     "metadata": {},
     "output_type": "execute_result"
    }
   ],
   "source": [
    "type(c)"
   ]
  },
  {
   "cell_type": "code",
   "execution_count": 39,
   "id": "b63a2ebf-22cc-4cf6-be24-de8264b45779",
   "metadata": {},
   "outputs": [],
   "source": [
    "a = 100\n",
    "b = 24.5\n",
    "c = 3+4j"
   ]
  },
  {
   "cell_type": "code",
   "execution_count": 40,
   "id": "9ea37c43-1586-4799-82e7-67b68b8daa9e",
   "metadata": {},
   "outputs": [],
   "source": [
    "l = [1,2,3] #List\n",
    "t = (1,2,3) #Tuple"
   ]
  },
  {
   "cell_type": "code",
   "execution_count": 52,
   "id": "6d00ca81-1f9e-4423-84ea-4a7aece771a6",
   "metadata": {},
   "outputs": [
    {
     "data": {
      "text/plain": [
       "NoneType"
      ]
     },
     "execution_count": 52,
     "metadata": {},
     "output_type": "execute_result"
    }
   ],
   "source": [
    "d = None\n",
    "# a = int(d) Not Possible\n",
    "type(d)"
   ]
  },
  {
   "cell_type": "code",
   "execution_count": 50,
   "id": "bb03a89a-61b3-431e-a911-4150d4a5683b",
   "metadata": {},
   "outputs": [
    {
     "name": "stdout",
     "output_type": "stream",
     "text": [
      "30.0 <class 'float'>\n",
      "30 <class 'int'>\n"
     ]
    }
   ],
   "source": [
    "a = 30\n",
    "b = float(a)\n",
    "print(b,type(b))\n",
    "print(a,type(a))"
   ]
  },
  {
   "cell_type": "code",
   "execution_count": 56,
   "id": "653733ac-bf4e-48cd-beb8-5e99ba4a5fda",
   "metadata": {},
   "outputs": [
    {
     "name": "stdout",
     "output_type": "stream",
     "text": [
      "1234.567 <class 'float'>\n",
      "1234 <class 'int'>\n"
     ]
    }
   ],
   "source": [
    "c = \"1234.567\"\n",
    "a = float(c)\n",
    "print(a,type(a))\n",
    "\n",
    "c = \"1234\"\n",
    "a = int(c)\n",
    "print(a,type(a))"
   ]
  },
  {
   "cell_type": "code",
   "execution_count": 59,
   "id": "dac047f6-2c72-4821-9ec0-4b210d39eee1",
   "metadata": {},
   "outputs": [
    {
     "name": "stdout",
     "output_type": "stream",
     "text": [
      "97\n",
      "b\n"
     ]
    }
   ],
   "source": [
    "c = 'a'\n",
    "a = ord(c)\n",
    "print(a)\n",
    "\n",
    "a = 98\n",
    "c = chr(a)\n",
    "print(c)"
   ]
  },
  {
   "cell_type": "code",
   "execution_count": 58,
   "id": "fc3497c2-eeec-4974-a2eb-7dbb7415c2ab",
   "metadata": {},
   "outputs": [
    {
     "name": "stdout",
     "output_type": "stream",
     "text": [
      "98 <class 'str'>\n"
     ]
    }
   ],
   "source": [
    "a = 98\n",
    "c = str(a)\n",
    "print(c,type(c))"
   ]
  },
  {
   "cell_type": "markdown",
   "id": "34e1a4d4-ca3d-4f7b-b044-c5d3e64b8f19",
   "metadata": {},
   "source": [
    "<h2>Operators</h2>\n",
    "Types of Operators\n",
    "\n",
    "- Airthmetic: +, -, *, /, %, //, **\n",
    "- relational: ==, <=, <, >=, >, !=\n",
    "- logical: and, or, not\n",
    "- Bitwise: &, |, ~, ^, <<, >>\n",
    "- Assignment: =, +=, -= ...\n",
    "- Special: is, is not, in, not in"
   ]
  },
  {
   "cell_type": "code",
   "execution_count": 71,
   "id": "a024e8d1-cb20-4d3f-88b7-052e8d7893c5",
   "metadata": {},
   "outputs": [
    {
     "name": "stdout",
     "output_type": "stream",
     "text": [
      "5.25\n"
     ]
    }
   ],
   "source": [
    "a = 105\n",
    "b = 20\n",
    "c = a/b\n",
    "print(c)"
   ]
  },
  {
   "cell_type": "code",
   "execution_count": 75,
   "id": "9b6e6613-9544-46e5-9b0b-a8c0c466a149",
   "metadata": {},
   "outputs": [
    {
     "name": "stdout",
     "output_type": "stream",
     "text": [
      "False\n"
     ]
    }
   ],
   "source": [
    "a = 20\n",
    "b = 10\n",
    "c = a<=b\n",
    "print(c)"
   ]
  },
  {
   "cell_type": "code",
   "execution_count": 78,
   "id": "601a3568-aeb5-49af-a5c8-fd945c73cd7d",
   "metadata": {},
   "outputs": [
    {
     "name": "stdout",
     "output_type": "stream",
     "text": [
      "True\n"
     ]
    }
   ],
   "source": [
    "a = 100\n",
    "b = 20\n",
    "c = 50\n",
    "\n",
    "d = a > b < c # a > b and b < c\n",
    "print(d)"
   ]
  },
  {
   "cell_type": "code",
   "execution_count": 83,
   "id": "548e9918-0c0f-4d13-800b-9150d51f15e1",
   "metadata": {},
   "outputs": [
    {
     "name": "stdout",
     "output_type": "stream",
     "text": [
      "200\n"
     ]
    }
   ],
   "source": [
    "f = 10\n",
    "f *= 20\n",
    "print(f)"
   ]
  },
  {
   "cell_type": "code",
   "execution_count": 97,
   "id": "28eece38-59b9-4f01-a5b8-ded022412e5c",
   "metadata": {},
   "outputs": [
    {
     "name": "stdout",
     "output_type": "stream",
     "text": [
      "140726010988056 140726010988056\n",
      "True\n",
      "True\n",
      "False\n"
     ]
    }
   ],
   "source": [
    "a = 100\n",
    "b = 100\n",
    "print(id(a),id(b))\n",
    "print(id(a) == id(b))\n",
    "print(a is b)\n",
    "print(a is not b)"
   ]
  },
  {
   "cell_type": "code",
   "execution_count": 2,
   "id": "a7f3514c-f866-4551-88f3-dedf5fce9411",
   "metadata": {},
   "outputs": [
    {
     "data": {
      "text/plain": [
       "'a123'"
      ]
     },
     "execution_count": 2,
     "metadata": {},
     "output_type": "execute_result"
    }
   ],
   "source": [
    "st = 'a' + str(123)\n",
    "st"
   ]
  },
  {
   "cell_type": "markdown",
   "id": "7afc26b1-9f67-4319-999f-354c1fa792d8",
   "metadata": {},
   "source": [
    "## IfElse\n",
    "- if .. else\n",
    "- if .. elif .... else\n",
    "- Nested if\n",
    "\n",
    "Indentation\n",
    "Input from user"
   ]
  },
  {
   "cell_type": "code",
   "execution_count": 101,
   "id": "f9d31b79-799d-4700-8779-631439226207",
   "metadata": {},
   "outputs": [
    {
     "name": "stdout",
     "output_type": "stream",
     "text": [
      "Hi\n",
      "Even\n",
      "Bye\n"
     ]
    }
   ],
   "source": [
    "a = 10\n",
    "print(\"Hi\")\n",
    "if a%2 == 0:\n",
    "    print(\"Even\")\n",
    "else:\n",
    "    print(\"Odd\")\n",
    "print(\"Bye\")"
   ]
  },
  {
   "cell_type": "code",
   "execution_count": 107,
   "id": "716df7f5-4064-4119-8784-0a339276f68d",
   "metadata": {},
   "outputs": [
    {
     "name": "stdin",
     "output_type": "stream",
     "text": [
      "Enter your Age: 20\n"
     ]
    },
    {
     "name": "stdout",
     "output_type": "stream",
     "text": [
      "Adult\n"
     ]
    }
   ],
   "source": [
    "age = int(input(\"Enter your Age:\"))\n",
    "if age < 18:\n",
    "    print(\"child\")\n",
    "elif age < 50:\n",
    "    print(\"Adult\")\n",
    "else:\n",
    "    print(\"Senior\")"
   ]
  },
  {
   "cell_type": "code",
   "execution_count": 14,
   "id": "ca53ed7e-248c-473e-a8bd-3197d7e556f8",
   "metadata": {},
   "outputs": [
    {
     "name": "stdin",
     "output_type": "stream",
     "text": [
      "Enter Your Marks: 45\n"
     ]
    },
    {
     "name": "stdout",
     "output_type": "stream",
     "text": [
      "C\n"
     ]
    }
   ],
   "source": [
    "marks = int(input(\"Enter Your Marks:\"))\n",
    "if 100 >= marks >= 80:\n",
    "    print(\"A\")\n",
    "elif 80 > marks >= 60:\n",
    "    print(\"B\")\n",
    "elif 60 > marks >= 40:\n",
    "    print(\"C\")\n",
    "elif 40> marks >= 0:\n",
    "    print(\"Fail\")\n",
    "else:\n",
    "    print(\"Invalid Marks\")"
   ]
  },
  {
   "cell_type": "code",
   "execution_count": 110,
   "id": "01b3cfd4-17af-4d6d-9c78-de91d44b3a82",
   "metadata": {},
   "outputs": [
    {
     "name": "stdout",
     "output_type": "stream",
     "text": [
      "False\n"
     ]
    }
   ],
   "source": [
    "a = 0\n",
    "c = bool(a)\n",
    "print(c)"
   ]
  },
  {
   "cell_type": "code",
   "execution_count": null,
   "id": "9ca8b97b-42b9-465a-8ec9-0fe29084e56e",
   "metadata": {},
   "outputs": [],
   "source": []
  },
  {
   "cell_type": "markdown",
   "id": "6351886b-88f0-4838-bd27-bf19093b3e8b",
   "metadata": {},
   "source": [
    "## Ternary Operator\n",
    "Syntax:\\\n",
    "First_val if condn else second_val"
   ]
  },
  {
   "cell_type": "code",
   "execution_count": 21,
   "id": "43b2ab41-e550-459a-8bc3-d6e3243638c7",
   "metadata": {},
   "outputs": [
    {
     "data": {
      "text/plain": [
       "80"
      ]
     },
     "execution_count": 21,
     "metadata": {},
     "output_type": "execute_result"
    }
   ],
   "source": [
    "a = 10\n",
    "b = 20\n",
    "d = 80\n",
    "\n",
    "c = a if a > b else (b if  b > d else d)\n",
    "c"
   ]
  },
  {
   "cell_type": "code",
   "execution_count": null,
   "id": "3ebd771a-b467-4c52-bd18-ded462a0ca88",
   "metadata": {},
   "outputs": [],
   "source": []
  },
  {
   "cell_type": "markdown",
   "id": "0586085a-a56c-4578-8e8a-c8eee3622b8c",
   "metadata": {},
   "source": [
    "## while loop\n",
    "\n",
    "To iterate over a block of code as long as the test expression is true.\\\n",
    "**Syntax:**\\\n",
    "while testExp:\\\n",
    "Body\\\n",
    "else:\\\n",
    "After testExp is false"
   ]
  },
  {
   "cell_type": "code",
   "execution_count": 29,
   "id": "bd4c13fb-4b36-4a5e-bbcd-8241975f0fbb",
   "metadata": {},
   "outputs": [
    {
     "name": "stdout",
     "output_type": "stream",
     "text": [
      "Hello\n",
      "Hello\n",
      "Hello\n",
      "Hello\n",
      "Hello\n",
      "Bye\n"
     ]
    }
   ],
   "source": [
    "i = 1\n",
    "while i <= 5:\n",
    " print(\"Hello\")\n",
    " i += 1\n",
    "\n",
    "print(\"Bye\")"
   ]
  },
  {
   "cell_type": "code",
   "execution_count": 31,
   "id": "15a9b37e-08ca-4b2d-9da9-f42866ce1ac3",
   "metadata": {},
   "outputs": [
    {
     "name": "stdout",
     "output_type": "stream",
     "text": [
      "55\n"
     ]
    }
   ],
   "source": [
    "N = 10\n",
    "i = 1\n",
    "sum = 0\n",
    "while i <= N:\n",
    "    sum += i\n",
    "    i += 1\n",
    "\n",
    "print(sum)"
   ]
  },
  {
   "cell_type": "code",
   "execution_count": 43,
   "id": "50159f64-2b03-4ff9-9492-ca8ed0344245",
   "metadata": {},
   "outputs": [
    {
     "name": "stdout",
     "output_type": "stream",
     "text": [
      "Prime\n"
     ]
    }
   ],
   "source": [
    "N = 97\n",
    "\n",
    "i = 2\n",
    "while i < N:\n",
    "    if N%i == 0:\n",
    "        print(\"Not prime\")\n",
    "        break\n",
    "    i += 1\n",
    "else:\n",
    "    print(\"Prime\")\n",
    "    "
   ]
  },
  {
   "cell_type": "code",
   "execution_count": 48,
   "id": "ffd3c67f-ee91-498a-b6e1-6c9e64108574",
   "metadata": {},
   "outputs": [
    {
     "name": "stdout",
     "output_type": "stream",
     "text": [
      "5\n"
     ]
    }
   ],
   "source": [
    "a = 10\n",
    "b = 15\n",
    "\n",
    "while b != 0:\n",
    "    t = a\n",
    "    a = b\n",
    "    b = t%b\n",
    "\n",
    "print(a)"
   ]
  },
  {
   "cell_type": "code",
   "execution_count": 50,
   "id": "69b8ff32-008a-41f5-852e-bf91b0a72e6a",
   "metadata": {},
   "outputs": [
    {
     "name": "stdout",
     "output_type": "stream",
     "text": [
      "2 3 5 7 11 13 17 19 23 29 31 37 41 43 47 53 59 61 67 71 73 79 83 89 97 "
     ]
    }
   ],
   "source": [
    "N = 97\n",
    "\n",
    "num = 2\n",
    "while num <= N:\n",
    "    i = 2\n",
    "    while i < num:\n",
    "        if num%i == 0:\n",
    "            # print(\"Not prime\")\n",
    "            break\n",
    "        i += 1\n",
    "    else:\n",
    "        # print(\"Prime\")\n",
    "        print(num,end = \" \")\n",
    "    num += 1\n",
    "    "
   ]
  },
  {
   "cell_type": "markdown",
   "id": "b841fe75-954b-4ed1-a084-0d6dc9ab344d",
   "metadata": {},
   "source": []
  },
  {
   "cell_type": "code",
   "execution_count": 56,
   "id": "86e4a3d6-015a-4163-9d66-ec0bcbcec6e0",
   "metadata": {},
   "outputs": [
    {
     "name": "stdout",
     "output_type": "stream",
     "text": [
      "* * * * * * \n",
      "* * * * * * \n",
      "* * * * * * \n",
      "* * * * * * \n",
      "* * * * * * \n",
      "* * * * * * \n"
     ]
    }
   ],
   "source": [
    "N = 6\n",
    "\n",
    "nst = N\n",
    "row = 1\n",
    "while row <= N:\n",
    "\n",
    "    cst = 1\n",
    "    while cst <= nst:\n",
    "        print(\"*\",end = \" \")\n",
    "        cst += 1\n",
    "\n",
    "    print()\n",
    "    row += 1"
   ]
  },
  {
   "cell_type": "code",
   "execution_count": null,
   "id": "194f7265-7aeb-44d3-91c7-e5616d4d2f91",
   "metadata": {},
   "outputs": [],
   "source": []
  },
  {
   "cell_type": "code",
   "execution_count": 60,
   "id": "ebfa0423-c2f4-4a0d-bb04-7e89d7381051",
   "metadata": {},
   "outputs": [
    {
     "name": "stdout",
     "output_type": "stream",
     "text": [
      "5\n",
      "4\n",
      "3\n",
      "2\n",
      "1\n",
      "nod:  5\n",
      "rev: 54321\n"
     ]
    }
   ],
   "source": [
    "N = 12345\n",
    "nod = 0\n",
    "rev = 0\n",
    "while N != 0:\n",
    "    rem = N %10\n",
    "    rev = rev*10 + rem\n",
    "    print(rem)\n",
    "    N = N//10\n",
    "    nod += 1\n",
    "\n",
    "print(\"nod: \",nod)\n",
    "print(\"rev:\", rev)"
   ]
  },
  {
   "cell_type": "code",
   "execution_count": null,
   "id": "7464b485-4b9a-40ca-90f0-182ed7b727e8",
   "metadata": {},
   "outputs": [],
   "source": []
  },
  {
   "cell_type": "code",
   "execution_count": null,
   "id": "5995aa70-bfbd-49e1-9b40-96d4f23a8709",
   "metadata": {},
   "outputs": [],
   "source": []
  },
  {
   "cell_type": "code",
   "execution_count": 3,
   "id": "93c09c7d-c501-4bc7-9ea9-58b24fc89f58",
   "metadata": {},
   "outputs": [
    {
     "name": "stdin",
     "output_type": "stream",
     "text": [
      " 1 2\n"
     ]
    },
    {
     "ename": "ValueError",
     "evalue": "invalid literal for int() with base 10: '1 2'",
     "output_type": "error",
     "traceback": [
      "\u001b[1;31m---------------------------------------------------------------------------\u001b[0m",
      "\u001b[1;31mValueError\u001b[0m                                Traceback (most recent call last)",
      "Cell \u001b[1;32mIn[3], line 1\u001b[0m\n\u001b[1;32m----> 1\u001b[0m a \u001b[38;5;241m=\u001b[39m \u001b[38;5;28;43mint\u001b[39;49m\u001b[43m(\u001b[49m\u001b[38;5;28;43minput\u001b[39;49m\u001b[43m(\u001b[49m\u001b[43m)\u001b[49m\u001b[43m)\u001b[49m\n\u001b[0;32m      2\u001b[0m b \u001b[38;5;241m=\u001b[39m \u001b[38;5;28mint\u001b[39m(\u001b[38;5;28minput\u001b[39m())\n",
      "\u001b[1;31mValueError\u001b[0m: invalid literal for int() with base 10: '1 2'"
     ]
    }
   ],
   "source": [
    "a = int(input())\n",
    "b = int(input())"
   ]
  },
  {
   "cell_type": "code",
   "execution_count": 2,
   "id": "fda053b1-5b24-4901-bf7f-eddf609baab8",
   "metadata": {},
   "outputs": [
    {
     "data": {
      "text/plain": [
       "(1, 2)"
      ]
     },
     "execution_count": 2,
     "metadata": {},
     "output_type": "execute_result"
    }
   ],
   "source": [
    "a,b"
   ]
  },
  {
   "cell_type": "code",
   "execution_count": 7,
   "id": "f0214690-3ffa-44c8-9bfc-250f93375455",
   "metadata": {},
   "outputs": [
    {
     "name": "stdin",
     "output_type": "stream",
     "text": [
      " 10 20\n"
     ]
    }
   ],
   "source": [
    "a,b = input().split()\n",
    "a = int(a)\n",
    "b = int(b)"
   ]
  },
  {
   "cell_type": "code",
   "execution_count": 8,
   "id": "0f5def37-f716-4200-b2bf-d048a122200f",
   "metadata": {},
   "outputs": [
    {
     "data": {
      "text/plain": [
       "(10, 20)"
      ]
     },
     "execution_count": 8,
     "metadata": {},
     "output_type": "execute_result"
    }
   ],
   "source": [
    "a,b"
   ]
  },
  {
   "cell_type": "code",
   "execution_count": 9,
   "id": "2daa5880-71c9-42e6-934b-bf2dd81cfcde",
   "metadata": {},
   "outputs": [],
   "source": [
    "a = b = 0"
   ]
  },
  {
   "cell_type": "code",
   "execution_count": 15,
   "id": "d97a7397-1722-4476-b035-f20bf47470b9",
   "metadata": {},
   "outputs": [
    {
     "name": "stdout",
     "output_type": "stream",
     "text": [
      "True\n"
     ]
    }
   ],
   "source": [
    "a = 128\n",
    "b = 128\n",
    "print(a is b)"
   ]
  },
  {
   "cell_type": "code",
   "execution_count": 9,
   "id": "a7e9618f-5179-4133-b260-db08dc1ab9da",
   "metadata": {},
   "outputs": [
    {
     "name": "stdout",
     "output_type": "stream",
     "text": [
      "140730101683968 140730101683968 140730101683968\n"
     ]
    }
   ],
   "source": [
    "s1 = 'abc'\n",
    "s2 = 'abc'\n",
    "# s3 = str('abc')\n",
    "print(id(s1), id(s2),id(s3))"
   ]
  },
  {
   "cell_type": "code",
   "execution_count": null,
   "id": "895a1774-3da2-43f8-b1ae-0b6cdc75f9f8",
   "metadata": {},
   "outputs": [],
   "source": []
  },
  {
   "cell_type": "code",
   "execution_count": 23,
   "id": "48f7b489-75d1-47ce-bbb1-8646980ce372",
   "metadata": {},
   "outputs": [
    {
     "name": "stdout",
     "output_type": "stream",
     "text": [
      "The values are approximately equal.\n"
     ]
    }
   ],
   "source": [
    "import numpy as np\n",
    "\n",
    "a = 0.1 + 0.2\n",
    "b = 0.3\n",
    "\n",
    "if np.isclose(a, b, rtol=1e-9):\n",
    "    print(\"The values are approximately equal.\")\n",
    "else:\n",
    "    print(\"The values are not equal.\")\n"
   ]
  },
  {
   "cell_type": "code",
   "execution_count": null,
   "id": "c5e7e2ad-c705-4443-81e1-bd6c37573733",
   "metadata": {},
   "outputs": [],
   "source": []
  },
  {
   "cell_type": "code",
   "execution_count": null,
   "id": "4f602800-db0a-4279-9f04-fe28da0d61bd",
   "metadata": {},
   "outputs": [],
   "source": []
  },
  {
   "cell_type": "code",
   "execution_count": null,
   "id": "c2a25b1c-3940-4a60-92db-363561732a50",
   "metadata": {},
   "outputs": [],
   "source": []
  }
 ],
 "metadata": {
  "kernelspec": {
   "display_name": "Python 3 (ipykernel)",
   "language": "python",
   "name": "python3"
  },
  "language_info": {
   "codemirror_mode": {
    "name": "ipython",
    "version": 3
   },
   "file_extension": ".py",
   "mimetype": "text/x-python",
   "name": "python",
   "nbconvert_exporter": "python",
   "pygments_lexer": "ipython3",
   "version": "3.12.8"
  }
 },
 "nbformat": 4,
 "nbformat_minor": 5
}
