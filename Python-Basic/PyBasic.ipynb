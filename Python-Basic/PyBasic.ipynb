{
 "cells": [
  {
   "cell_type": "markdown",
   "id": "01fe4731-4a29-45bd-af3c-d758bfc8df10",
   "metadata": {},
   "source": [
    "<h2>Variables</h2>\n",
    "<ul>\n",
    "    <li>KeyWords vs Identifier</li>\n",
    "    <li>Comments</li>\n",
    "    <li>Single Line vs Multiple Line</li>\n",
    "    <li>Multiple assignments</li>\n",
    "    <li>How do we Store a Variable it in the memory?</li>\n",
    "    <li>print</li>\n",
    "    <li>type and id</li>\n",
    "</ul>"
   ]
  },
  {
   "cell_type": "code",
   "execution_count": 5,
   "id": "a50c7217-3fb6-4e59-a84b-91c9473ebd6e",
   "metadata": {},
   "outputs": [
    {
     "name": "stdout",
     "output_type": "stream",
     "text": [
      "10 24.5 Hello\n"
     ]
    }
   ],
   "source": [
    "a = 10\n",
    "b = 24.5\n",
    "c = \"Hello\"\n",
    "print(a,b,c)"
   ]
  },
  {
   "cell_type": "code",
   "execution_count": 7,
   "id": "d28fdab5-80e2-4109-9f58-0f6632686399",
   "metadata": {},
   "outputs": [
    {
     "name": "stdout",
     "output_type": "stream",
     "text": [
      "['False', 'None', 'True', 'and', 'as', 'assert', 'async', 'await', 'break', 'class', 'continue', 'def', 'del', 'elif', 'else', 'except', 'finally', 'for', 'from', 'global', 'if', 'import', 'in', 'is', 'lambda', 'nonlocal', 'not', 'or', 'pass', 'raise', 'return', 'try', 'while', 'with', 'yield'] 35\n"
     ]
    }
   ],
   "source": [
    "import keyword\n",
    "print(keyword.kwlist,len(keyword.kwlist))"
   ]
  },
  {
   "cell_type": "code",
   "execution_count": 9,
   "id": "70f4f2c8-59f4-4228-8886-86e6bb2d1489",
   "metadata": {},
   "outputs": [
    {
     "data": {
      "text/plain": [
       "' This is \\nA Multiple\\nLine Comment'"
      ]
     },
     "execution_count": 9,
     "metadata": {},
     "output_type": "execute_result"
    }
   ],
   "source": [
    "# Single Line Comment\n",
    "\n",
    "'''This is \n",
    "A Multiple\n",
    "Line Comment'''"
   ]
  },
  {
   "cell_type": "code",
   "execution_count": 17,
   "id": "16910c6a-e268-44db-bb8b-418f1a486f48",
   "metadata": {},
   "outputs": [
    {
     "name": "stdout",
     "output_type": "stream",
     "text": [
      "10 24.5 Hello\n"
     ]
    }
   ],
   "source": [
    "a,b,c = 10,24.5,\"Hello\"\n",
    "print(a,b,c)"
   ]
  },
  {
   "cell_type": "code",
   "execution_count": 25,
   "id": "6bd30346-5d67-452a-9ba8-534a7764b4af",
   "metadata": {},
   "outputs": [
    {
     "data": {
      "text/plain": [
       "2263869012608"
      ]
     },
     "execution_count": 25,
     "metadata": {},
     "output_type": "execute_result"
    }
   ],
   "source": [
    "id(c) #Print address stored in a"
   ]
  },
  {
   "cell_type": "code",
   "execution_count": 21,
   "id": "a2f6424d-b1c9-415f-86ba-8411c91e63ae",
   "metadata": {},
   "outputs": [
    {
     "data": {
      "text/plain": [
       "str"
      ]
     },
     "execution_count": 21,
     "metadata": {},
     "output_type": "execute_result"
    }
   ],
   "source": [
    "type(c)"
   ]
  },
  {
   "cell_type": "code",
   "execution_count": 2,
   "id": "80bf6fdd-4a6f-4581-a2aa-d2266f5afee3",
   "metadata": {},
   "outputs": [
    {
     "name": "stdout",
     "output_type": "stream",
     "text": [
      "10\n"
     ]
    }
   ],
   "source": [
    "print(a)"
   ]
  },
  {
   "cell_type": "code",
   "execution_count": null,
   "id": "2da0426c-4f5d-444c-97a1-3595d9eda798",
   "metadata": {},
   "outputs": [],
   "source": []
  },
  {
   "cell_type": "markdown",
   "id": "c58b015f-95c6-4d4f-adb0-90bd8701d2b0",
   "metadata": {},
   "source": [
    "<h2>Data Types</h2>\n",
    "<table border=\"1\">\n",
    "<tbody>\n",
    "<tr><td>Text Type:</td><td>str</td></tr>\n",
    "<tr><td>Numeric Types:</td><td>int, float, complex</td></tr>\n",
    "<tr><td>Sequence Types:</td><td>list, tuple, range</td></tr>\n",
    "<tr><td>Mapping Type:</td><td>dict</td></tr>\n",
    "<tr><td>Set Types:</td><td>set, frozenset</td></tr>\n",
    "<tr><td>Boolean Type:</td><td>bool</td></tr>\n",
    "<tr><td>Binary Types:</td><td>bytes, bytearray, memoryview</td></tr>\n",
    "<tr><td>None Type:</td><td>NoneType</td></tr>\n",
    "</tbody>\n",
    "</table>\n",
    "Type Conversion"
   ]
  },
  {
   "cell_type": "code",
   "execution_count": 26,
   "id": "d3045a9f-d5dd-4567-a240-1bb6518a59bf",
   "metadata": {},
   "outputs": [],
   "source": [
    "a = 'abc'\n",
    "b = '1'\n",
    "c = \"3s\""
   ]
  },
  {
   "cell_type": "code",
   "execution_count": 29,
   "id": "7e40725a-68f5-45ae-b36a-1ef36e9adc4b",
   "metadata": {},
   "outputs": [
    {
     "data": {
      "text/plain": [
       "str"
      ]
     },
     "execution_count": 29,
     "metadata": {},
     "output_type": "execute_result"
    }
   ],
   "source": [
    "type(c)"
   ]
  },
  {
   "cell_type": "code",
   "execution_count": 39,
   "id": "b63a2ebf-22cc-4cf6-be24-de8264b45779",
   "metadata": {},
   "outputs": [],
   "source": [
    "a = 100\n",
    "b = 24.5\n",
    "c = 3+4j"
   ]
  },
  {
   "cell_type": "code",
   "execution_count": 40,
   "id": "9ea37c43-1586-4799-82e7-67b68b8daa9e",
   "metadata": {},
   "outputs": [],
   "source": [
    "l = [1,2,3] #List\n",
    "t = (1,2,3) #Tuple"
   ]
  },
  {
   "cell_type": "code",
   "execution_count": 52,
   "id": "6d00ca81-1f9e-4423-84ea-4a7aece771a6",
   "metadata": {},
   "outputs": [
    {
     "data": {
      "text/plain": [
       "NoneType"
      ]
     },
     "execution_count": 52,
     "metadata": {},
     "output_type": "execute_result"
    }
   ],
   "source": [
    "d = None\n",
    "# a = int(d) Not Possible\n",
    "type(d)"
   ]
  },
  {
   "cell_type": "code",
   "execution_count": 50,
   "id": "bb03a89a-61b3-431e-a911-4150d4a5683b",
   "metadata": {},
   "outputs": [
    {
     "name": "stdout",
     "output_type": "stream",
     "text": [
      "30.0 <class 'float'>\n",
      "30 <class 'int'>\n"
     ]
    }
   ],
   "source": [
    "a = 30\n",
    "b = float(a)\n",
    "print(b,type(b))\n",
    "print(a,type(a))"
   ]
  },
  {
   "cell_type": "code",
   "execution_count": 56,
   "id": "653733ac-bf4e-48cd-beb8-5e99ba4a5fda",
   "metadata": {},
   "outputs": [
    {
     "name": "stdout",
     "output_type": "stream",
     "text": [
      "1234.567 <class 'float'>\n",
      "1234 <class 'int'>\n"
     ]
    }
   ],
   "source": [
    "c = \"1234.567\"\n",
    "a = float(c)\n",
    "print(a,type(a))\n",
    "\n",
    "c = \"1234\"\n",
    "a = int(c)\n",
    "print(a,type(a))"
   ]
  },
  {
   "cell_type": "code",
   "execution_count": 59,
   "id": "dac047f6-2c72-4821-9ec0-4b210d39eee1",
   "metadata": {},
   "outputs": [
    {
     "name": "stdout",
     "output_type": "stream",
     "text": [
      "97\n",
      "b\n"
     ]
    }
   ],
   "source": [
    "c = 'a'\n",
    "a = ord(c)\n",
    "print(a)\n",
    "\n",
    "a = 98\n",
    "c = chr(a)\n",
    "print(c)"
   ]
  },
  {
   "cell_type": "code",
   "execution_count": 58,
   "id": "fc3497c2-eeec-4974-a2eb-7dbb7415c2ab",
   "metadata": {},
   "outputs": [
    {
     "name": "stdout",
     "output_type": "stream",
     "text": [
      "98 <class 'str'>\n"
     ]
    }
   ],
   "source": [
    "a = 98\n",
    "c = str(a)\n",
    "print(c,type(c))"
   ]
  },
  {
   "cell_type": "markdown",
   "id": "34e1a4d4-ca3d-4f7b-b044-c5d3e64b8f19",
   "metadata": {},
   "source": [
    "<h2>Operators</h2>\n",
    "Types of Operators\n",
    "\n",
    "- Airthmetic: +, -, *, /, %, //, **\n",
    "- relational: ==, <=, <, >=, >, !=\n",
    "- logical: and, or, not\n",
    "- Bitwise: &, |, ~, ^, <<, >>\n",
    "- Assignment: =, +=, -= ...\n",
    "- Special: is, is not, in, not in"
   ]
  },
  {
   "cell_type": "code",
   "execution_count": 71,
   "id": "a024e8d1-cb20-4d3f-88b7-052e8d7893c5",
   "metadata": {},
   "outputs": [
    {
     "name": "stdout",
     "output_type": "stream",
     "text": [
      "5.25\n"
     ]
    }
   ],
   "source": [
    "a = 105\n",
    "b = 20\n",
    "c = a/b\n",
    "print(c)"
   ]
  },
  {
   "cell_type": "code",
   "execution_count": 75,
   "id": "9b6e6613-9544-46e5-9b0b-a8c0c466a149",
   "metadata": {},
   "outputs": [
    {
     "name": "stdout",
     "output_type": "stream",
     "text": [
      "False\n"
     ]
    }
   ],
   "source": [
    "a = 20\n",
    "b = 10\n",
    "c = a<=b\n",
    "print(c)"
   ]
  },
  {
   "cell_type": "code",
   "execution_count": 78,
   "id": "601a3568-aeb5-49af-a5c8-fd945c73cd7d",
   "metadata": {},
   "outputs": [
    {
     "name": "stdout",
     "output_type": "stream",
     "text": [
      "True\n"
     ]
    }
   ],
   "source": [
    "a = 100\n",
    "b = 20\n",
    "c = 50\n",
    "\n",
    "d = a > b < c # a > b and b < c\n",
    "print(d)"
   ]
  },
  {
   "cell_type": "code",
   "execution_count": 83,
   "id": "548e9918-0c0f-4d13-800b-9150d51f15e1",
   "metadata": {},
   "outputs": [
    {
     "name": "stdout",
     "output_type": "stream",
     "text": [
      "200\n"
     ]
    }
   ],
   "source": [
    "f = 10\n",
    "f *= 20\n",
    "print(f)"
   ]
  },
  {
   "cell_type": "code",
   "execution_count": 97,
   "id": "28eece38-59b9-4f01-a5b8-ded022412e5c",
   "metadata": {},
   "outputs": [
    {
     "name": "stdout",
     "output_type": "stream",
     "text": [
      "140726010988056 140726010988056\n",
      "True\n",
      "True\n",
      "False\n"
     ]
    }
   ],
   "source": [
    "a = 100\n",
    "b = 100\n",
    "print(id(a),id(b))\n",
    "print(id(a) == id(b))\n",
    "print(a is b)\n",
    "print(a is not b)"
   ]
  },
  {
   "cell_type": "markdown",
   "id": "7afc26b1-9f67-4319-999f-354c1fa792d8",
   "metadata": {},
   "source": [
    "## IfElse\n",
    "- if .. else\n",
    "- if .. elif .... else\n",
    "- Nested if\n",
    "\n",
    "Indentation\n",
    "Input from user"
   ]
  },
  {
   "cell_type": "code",
   "execution_count": 101,
   "id": "f9d31b79-799d-4700-8779-631439226207",
   "metadata": {},
   "outputs": [
    {
     "name": "stdout",
     "output_type": "stream",
     "text": [
      "Hi\n",
      "Even\n",
      "Bye\n"
     ]
    }
   ],
   "source": [
    "a = 10\n",
    "print(\"Hi\")\n",
    "if a%2 == 0:\n",
    "    print(\"Even\")\n",
    "else:\n",
    "    print(\"Odd\")\n",
    "print(\"Bye\")"
   ]
  },
  {
   "cell_type": "code",
   "execution_count": 107,
   "id": "716df7f5-4064-4119-8784-0a339276f68d",
   "metadata": {},
   "outputs": [
    {
     "name": "stdin",
     "output_type": "stream",
     "text": [
      "Enter your Age: 20\n"
     ]
    },
    {
     "name": "stdout",
     "output_type": "stream",
     "text": [
      "Adult\n"
     ]
    }
   ],
   "source": [
    "age = int(input(\"Enter your Age:\"))\n",
    "if age < 18:\n",
    "    print(\"child\")\n",
    "elif age < 50:\n",
    "    print(\"Adult\")\n",
    "else:\n",
    "    print(\"Senior\")"
   ]
  },
  {
   "cell_type": "code",
   "execution_count": null,
   "id": "ca53ed7e-248c-473e-a8bd-3197d7e556f8",
   "metadata": {},
   "outputs": [],
   "source": []
  },
  {
   "cell_type": "code",
   "execution_count": 110,
   "id": "01b3cfd4-17af-4d6d-9c78-de91d44b3a82",
   "metadata": {},
   "outputs": [
    {
     "name": "stdout",
     "output_type": "stream",
     "text": [
      "False\n"
     ]
    }
   ],
   "source": [
    "a = 0\n",
    "c = bool(a)\n",
    "print(c)"
   ]
  },
  {
   "cell_type": "code",
   "execution_count": null,
   "id": "9ca8b97b-42b9-465a-8ec9-0fe29084e56e",
   "metadata": {},
   "outputs": [],
   "source": []
  },
  {
   "cell_type": "markdown",
   "id": "6351886b-88f0-4838-bd27-bf19093b3e8b",
   "metadata": {},
   "source": [
    "## Ternary Operator\n",
    "Syntax:\\\n",
    "First_val if condn else second_val"
   ]
  },
  {
   "cell_type": "code",
   "execution_count": null,
   "id": "43b2ab41-e550-459a-8bc3-d6e3243638c7",
   "metadata": {},
   "outputs": [],
   "source": []
  },
  {
   "cell_type": "code",
   "execution_count": null,
   "id": "3ebd771a-b467-4c52-bd18-ded462a0ca88",
   "metadata": {},
   "outputs": [],
   "source": []
  },
  {
   "cell_type": "markdown",
   "id": "0586085a-a56c-4578-8e8a-c8eee3622b8c",
   "metadata": {},
   "source": [
    "## while loop\n",
    "\n",
    "To iterate over a block of code as long as the test expression is true.\\\n",
    "**Syntax:**\\\n",
    "while testExp:\\\n",
    "Body\\\n",
    "else:\\\n",
    "After testExp is false"
   ]
  },
  {
   "cell_type": "code",
   "execution_count": null,
   "id": "bd4c13fb-4b36-4a5e-bbcd-8241975f0fbb",
   "metadata": {},
   "outputs": [],
   "source": []
  },
  {
   "cell_type": "code",
   "execution_count": null,
   "id": "15a9b37e-08ca-4b2d-9da9-f42866ce1ac3",
   "metadata": {},
   "outputs": [],
   "source": []
  },
  {
   "cell_type": "code",
   "execution_count": null,
   "id": "50159f64-2b03-4ff9-9492-ca8ed0344245",
   "metadata": {},
   "outputs": [],
   "source": []
  },
  {
   "cell_type": "code",
   "execution_count": null,
   "id": "ffd3c67f-ee91-498a-b6e1-6c9e64108574",
   "metadata": {},
   "outputs": [],
   "source": []
  },
  {
   "cell_type": "code",
   "execution_count": null,
   "id": "69b8ff32-008a-41f5-852e-bf91b0a72e6a",
   "metadata": {},
   "outputs": [],
   "source": []
  },
  {
   "cell_type": "markdown",
   "id": "b841fe75-954b-4ed1-a084-0d6dc9ab344d",
   "metadata": {},
   "source": []
  },
  {
   "cell_type": "code",
   "execution_count": null,
   "id": "86e4a3d6-015a-4163-9d66-ec0bcbcec6e0",
   "metadata": {},
   "outputs": [],
   "source": []
  },
  {
   "cell_type": "code",
   "execution_count": null,
   "id": "194f7265-7aeb-44d3-91c7-e5616d4d2f91",
   "metadata": {},
   "outputs": [],
   "source": []
  },
  {
   "cell_type": "code",
   "execution_count": null,
   "id": "ebfa0423-c2f4-4a0d-bb04-7e89d7381051",
   "metadata": {},
   "outputs": [],
   "source": []
  },
  {
   "cell_type": "code",
   "execution_count": null,
   "id": "7464b485-4b9a-40ca-90f0-182ed7b727e8",
   "metadata": {},
   "outputs": [],
   "source": []
  },
  {
   "cell_type": "code",
   "execution_count": null,
   "id": "5995aa70-bfbd-49e1-9b40-96d4f23a8709",
   "metadata": {},
   "outputs": [],
   "source": []
  },
  {
   "cell_type": "code",
   "execution_count": null,
   "id": "93c09c7d-c501-4bc7-9ea9-58b24fc89f58",
   "metadata": {},
   "outputs": [],
   "source": []
  },
  {
   "cell_type": "code",
   "execution_count": null,
   "id": "fda053b1-5b24-4901-bf7f-eddf609baab8",
   "metadata": {},
   "outputs": [],
   "source": []
  }
 ],
 "metadata": {
  "kernelspec": {
   "display_name": "Python 3 (ipykernel)",
   "language": "python",
   "name": "python3"
  },
  "language_info": {
   "codemirror_mode": {
    "name": "ipython",
    "version": 3
   },
   "file_extension": ".py",
   "mimetype": "text/x-python",
   "name": "python",
   "nbconvert_exporter": "python",
   "pygments_lexer": "ipython3",
   "version": "3.12.1"
  }
 },
 "nbformat": 4,
 "nbformat_minor": 5
}
