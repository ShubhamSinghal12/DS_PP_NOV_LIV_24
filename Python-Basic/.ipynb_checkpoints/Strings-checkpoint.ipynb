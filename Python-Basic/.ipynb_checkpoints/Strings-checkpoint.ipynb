{
 "cells": [
  {
   "cell_type": "markdown",
   "id": "9573a539-2976-45e1-9b4e-76615434ab13",
   "metadata": {},
   "source": [
    "# Some String Operations\n",
    "- String formatting\n",
    "  - /+\n",
    "  - %s, %d\n",
    "  - format functions\n",
    "  - f-Strings\n",
    "- strip: Remove white spaces from the string\n",
    "- split\n",
    "- replace: replace all occurances in a string by a new one\n",
    "- count: count the number of occurances of a string within a string"
   ]
  },
  {
   "cell_type": "code",
   "execution_count": 3,
   "id": "a5e0fe12-1622-45d9-9879-530c1374a3af",
   "metadata": {},
   "outputs": [
    {
     "name": "stdout",
     "output_type": "stream",
     "text": [
      "Hello <class 'str'>\n"
     ]
    }
   ],
   "source": [
    "s = \"Hello\"\n",
    "print(s,type(s))"
   ]
  },
  {
   "cell_type": "code",
   "execution_count": 4,
   "id": "63277af9-7b37-46f4-abb2-bf1251508560",
   "metadata": {},
   "outputs": [
    {
     "data": {
      "text/plain": [
       "['H', 'e', 'l', 'l', 'o']"
      ]
     },
     "execution_count": 4,
     "metadata": {},
     "output_type": "execute_result"
    }
   ],
   "source": [
    "l = list(s)\n",
    "l"
   ]
  },
  {
   "cell_type": "code",
   "execution_count": 7,
   "id": "60cee294-69ad-408b-b387-059786eb73f4",
   "metadata": {},
   "outputs": [
    {
     "data": {
      "text/plain": [
       "'el'"
      ]
     },
     "execution_count": 7,
     "metadata": {},
     "output_type": "execute_result"
    }
   ],
   "source": [
    "s[1:3]"
   ]
  },
  {
   "cell_type": "code",
   "execution_count": 6,
   "id": "b4dee899-3520-4afb-a4c6-4178df2d4b9d",
   "metadata": {},
   "outputs": [
    {
     "name": "stdout",
     "output_type": "stream",
     "text": [
      "H\n",
      "e\n",
      "l\n",
      "l\n",
      "o\n"
     ]
    }
   ],
   "source": [
    "for ch in s:\n",
    "    print(ch)"
   ]
  },
  {
   "cell_type": "code",
   "execution_count": 8,
   "id": "e8fb64da-0101-472d-b57d-f233f1444e85",
   "metadata": {},
   "outputs": [
    {
     "ename": "TypeError",
     "evalue": "'str' object does not support item assignment",
     "output_type": "error",
     "traceback": [
      "\u001b[1;31m---------------------------------------------------------------------------\u001b[0m",
      "\u001b[1;31mTypeError\u001b[0m                                 Traceback (most recent call last)",
      "Cell \u001b[1;32mIn[8], line 1\u001b[0m\n\u001b[1;32m----> 1\u001b[0m \u001b[43ms\u001b[49m\u001b[43m[\u001b[49m\u001b[38;5;241;43m0\u001b[39;49m\u001b[43m]\u001b[49m \u001b[38;5;241m=\u001b[39m \u001b[38;5;124m'\u001b[39m\u001b[38;5;124mY\u001b[39m\u001b[38;5;124m'\u001b[39m\n",
      "\u001b[1;31mTypeError\u001b[0m: 'str' object does not support item assignment"
     ]
    }
   ],
   "source": [
    "s[0] = 'Y'"
   ]
  },
  {
   "cell_type": "code",
   "execution_count": 12,
   "id": "b7d1eeb1-3ae3-4b9b-9ff0-509517eb82da",
   "metadata": {},
   "outputs": [
    {
     "name": "stdout",
     "output_type": "stream",
     "text": [
      "True\n"
     ]
    }
   ],
   "source": [
    "s = \"Hello\"\n",
    "s1 = 'Hello'\n",
    "print(s == s1)"
   ]
  },
  {
   "cell_type": "code",
   "execution_count": 14,
   "id": "fcbdc0ca-b46e-4446-bd7f-379c116b5d09",
   "metadata": {},
   "outputs": [
    {
     "name": "stdout",
     "output_type": "stream",
     "text": [
      " This is\n",
      "a multiple\n",
      "line\n",
      "String \n"
     ]
    }
   ],
   "source": [
    "s = \"\"\" This is\n",
    "a multiple\n",
    "line\n",
    "String \"\"\"\n",
    "print(s)"
   ]
  },
  {
   "cell_type": "code",
   "execution_count": 15,
   "id": "2903defc-76c0-4a0f-a4fc-7edbdd256614",
   "metadata": {},
   "outputs": [
    {
     "data": {
      "text/plain": [
       "' This is\\na multiple\\nline\\nString '"
      ]
     },
     "execution_count": 15,
     "metadata": {},
     "output_type": "execute_result"
    }
   ],
   "source": [
    "s"
   ]
  },
  {
   "cell_type": "code",
   "execution_count": 20,
   "id": "750bd49d-a3ba-4e1d-879f-3254e45297d8",
   "metadata": {},
   "outputs": [
    {
     "name": "stdout",
     "output_type": "stream",
     "text": [
      "Hello10\n"
     ]
    }
   ],
   "source": [
    "s1 = \"Hello\"\n",
    "s2 = 10\n",
    "s3 = s1+str(s2)\n",
    "print(s3)"
   ]
  },
  {
   "cell_type": "code",
   "execution_count": 26,
   "id": "58347b97-9d89-4ae7-a763-1b3bcb5cf0c4",
   "metadata": {},
   "outputs": [
    {
     "name": "stdout",
     "output_type": "stream",
     "text": [
      "My name is: Shubham, My age is: 27.\n",
      "My name is: Shubham. My age is: 27.\n",
      "My name is: Shubham. My age is: 27.\n",
      "My name is: Shubham. My age is: 27.\n"
     ]
    }
   ],
   "source": [
    "name = \"Shubham\"\n",
    "age = 27\n",
    "print(\"My name is: \"+name+\", My age is: \"+str(age)+\".\")\n",
    "print(f\"My name is: {name}. My age is: {age}.\")\n",
    "print(\"My name is: {}. My age is: {}.\".format(name,age))\n",
    "print(\"My name is: %s. My age is: %d.\"%(name,age))"
   ]
  },
  {
   "cell_type": "code",
   "execution_count": 30,
   "id": "36c09d69-9f9c-481f-9bdc-29a1f9852f54",
   "metadata": {},
   "outputs": [
    {
     "name": "stdout",
     "output_type": "stream",
     "text": [
      "My name is: 27. My age is: Shubham.\n",
      "My name is: Shubham. My age is: 27.\n"
     ]
    }
   ],
   "source": [
    "print(\"My name is: {1}. My age is: {0}.\".format(name,age))\n",
    "print(\"My name is: {n}. My age is: {a}.\".format(n=name,a=age))"
   ]
  },
  {
   "cell_type": "code",
   "execution_count": 34,
   "id": "c0f71af9-e462-44f3-a22f-b0a4924017e4",
   "metadata": {},
   "outputs": [
    {
     "name": "stdout",
     "output_type": "stream",
     "text": [
      "   Hello World  \n",
      "Hello World\n",
      "Hello World  \n",
      "   Hello World\n"
     ]
    }
   ],
   "source": [
    "s = \"   Hello World  \"\n",
    "print(s)\n",
    "print(s.strip())\n",
    "print(s.lstrip())\n",
    "print(s.rstrip())"
   ]
  },
  {
   "cell_type": "code",
   "execution_count": 38,
   "id": "535959e5-dfd2-488b-85c1-f7786daffe86",
   "metadata": {},
   "outputs": [
    {
     "data": {
      "text/plain": [
       "'Hello'"
      ]
     },
     "execution_count": 38,
     "metadata": {},
     "output_type": "execute_result"
    }
   ],
   "source": [
    "s = 'helLo'\n",
    "s.capitalize()"
   ]
  },
  {
   "cell_type": "code",
   "execution_count": 41,
   "id": "4bc5a622-9fd1-4c25-a2be-473476771eaa",
   "metadata": {},
   "outputs": [
    {
     "data": {
      "text/plain": [
       "'hello'"
      ]
     },
     "execution_count": 41,
     "metadata": {},
     "output_type": "execute_result"
    }
   ],
   "source": [
    "s.casefold()# Unicode"
   ]
  },
  {
   "cell_type": "code",
   "execution_count": 42,
   "id": "cfeef7ea-5cdf-4e3a-87fc-d9df56090279",
   "metadata": {},
   "outputs": [
    {
     "data": {
      "text/plain": [
       "'hello'"
      ]
     },
     "execution_count": 42,
     "metadata": {},
     "output_type": "execute_result"
    }
   ],
   "source": [
    "s.lower()# ASCII"
   ]
  },
  {
   "cell_type": "code",
   "execution_count": 43,
   "id": "c56b7e6a-356c-4ff6-beb5-86b0b958c2a7",
   "metadata": {},
   "outputs": [
    {
     "data": {
      "text/plain": [
       "'HELLO'"
      ]
     },
     "execution_count": 43,
     "metadata": {},
     "output_type": "execute_result"
    }
   ],
   "source": [
    "s.upper()"
   ]
  },
  {
   "cell_type": "code",
   "execution_count": 45,
   "id": "61434709-b522-4665-a9dd-ef42309ad5cf",
   "metadata": {},
   "outputs": [
    {
     "data": {
      "text/plain": [
       "1"
      ]
     },
     "execution_count": 45,
     "metadata": {},
     "output_type": "execute_result"
    }
   ],
   "source": [
    "s.count('he')"
   ]
  },
  {
   "cell_type": "code",
   "execution_count": 46,
   "id": "0be07f0b-c61a-4e68-aad4-1d0bf4942bc2",
   "metadata": {},
   "outputs": [
    {
     "data": {
      "text/plain": [
       "True"
      ]
     },
     "execution_count": 46,
     "metadata": {},
     "output_type": "execute_result"
    }
   ],
   "source": [
    "s.startswith('he')"
   ]
  },
  {
   "cell_type": "code",
   "execution_count": 47,
   "id": "282cd7b8-6590-47be-8139-cde21e8ff707",
   "metadata": {},
   "outputs": [
    {
     "data": {
      "text/plain": [
       "False"
      ]
     },
     "execution_count": 47,
     "metadata": {},
     "output_type": "execute_result"
    }
   ],
   "source": [
    "s.endswith('lo')"
   ]
  },
  {
   "cell_type": "code",
   "execution_count": 49,
   "id": "3dc650a3-ac01-4b37-a47e-7d85aeb042e6",
   "metadata": {},
   "outputs": [
    {
     "data": {
      "text/plain": [
       "2"
      ]
     },
     "execution_count": 49,
     "metadata": {},
     "output_type": "execute_result"
    }
   ],
   "source": [
    "s.find('lL')"
   ]
  },
  {
   "cell_type": "code",
   "execution_count": 55,
   "id": "2e84c527-2caf-451a-82f1-823e9cb05800",
   "metadata": {},
   "outputs": [
    {
     "data": {
      "text/plain": [
       "'Herlo'"
      ]
     },
     "execution_count": 55,
     "metadata": {},
     "output_type": "execute_result"
    }
   ],
   "source": [
    "s = 'Helllo'\n",
    "s.replace('ll','r')"
   ]
  },
  {
   "cell_type": "code",
   "execution_count": 52,
   "id": "1b7bb9c0-533b-4c29-9981-f7dc5c64062f",
   "metadata": {},
   "outputs": [
    {
     "ename": "ValueError",
     "evalue": "substring not found",
     "output_type": "error",
     "traceback": [
      "\u001b[1;31m---------------------------------------------------------------------------\u001b[0m",
      "\u001b[1;31mValueError\u001b[0m                                Traceback (most recent call last)",
      "Cell \u001b[1;32mIn[52], line 1\u001b[0m\n\u001b[1;32m----> 1\u001b[0m \u001b[43ms\u001b[49m\u001b[38;5;241;43m.\u001b[39;49m\u001b[43mindex\u001b[49m\u001b[43m(\u001b[49m\u001b[38;5;124;43m'\u001b[39;49m\u001b[38;5;124;43mr\u001b[39;49m\u001b[38;5;124;43m'\u001b[39;49m\u001b[43m)\u001b[49m\n",
      "\u001b[1;31mValueError\u001b[0m: substring not found"
     ]
    }
   ],
   "source": [
    "s.index('r')"
   ]
  },
  {
   "cell_type": "code",
   "execution_count": 53,
   "id": "dca9cc56-a225-4fd7-97e6-37c72c38cbb1",
   "metadata": {},
   "outputs": [
    {
     "data": {
      "text/plain": [
       "-1"
      ]
     },
     "execution_count": 53,
     "metadata": {},
     "output_type": "execute_result"
    }
   ],
   "source": [
    "s.find('r')"
   ]
  },
  {
   "cell_type": "code",
   "execution_count": 56,
   "id": "968b8f95-53d9-4d71-9a0d-cc3e8b05790c",
   "metadata": {},
   "outputs": [
    {
     "data": {
      "text/plain": [
       "4"
      ]
     },
     "execution_count": 56,
     "metadata": {},
     "output_type": "execute_result"
    }
   ],
   "source": [
    "s.rindex('l')"
   ]
  },
  {
   "cell_type": "code",
   "execution_count": 59,
   "id": "9aeae3ac-9309-48f0-a20d-e910b01e0cc4",
   "metadata": {},
   "outputs": [
    {
     "data": {
      "text/plain": [
       "False"
      ]
     },
     "execution_count": 59,
     "metadata": {},
     "output_type": "execute_result"
    }
   ],
   "source": [
    "s = \"Hell 1234\"\n",
    "s.isalnum()"
   ]
  },
  {
   "cell_type": "code",
   "execution_count": 65,
   "id": "4726d0b6-04cf-481a-9a5d-55303995329e",
   "metadata": {},
   "outputs": [
    {
     "data": {
      "text/plain": [
       "True"
      ]
     },
     "execution_count": 65,
     "metadata": {},
     "output_type": "execute_result"
    }
   ],
   "source": [
    "s = '1234'\n",
    "s.isnumeric()"
   ]
  },
  {
   "cell_type": "code",
   "execution_count": 68,
   "id": "8c42d4dd-173b-4ae2-8035-75da8facde2f",
   "metadata": {},
   "outputs": [
    {
     "data": {
      "text/plain": [
       "['The', 'sky', 'is', 'blue']"
      ]
     },
     "execution_count": 68,
     "metadata": {},
     "output_type": "execute_result"
    }
   ],
   "source": [
    "s = \"The sky is blue\"\n",
    "s.split(' ')"
   ]
  },
  {
   "cell_type": "code",
   "execution_count": 69,
   "id": "f1c96a00-90a8-40f8-9b66-43355c7e05ee",
   "metadata": {},
   "outputs": [
    {
     "data": {
      "text/plain": [
       "'tHE SKY IS BLUE'"
      ]
     },
     "execution_count": 69,
     "metadata": {},
     "output_type": "execute_result"
    }
   ],
   "source": [
    "s.swapcase()"
   ]
  },
  {
   "cell_type": "code",
   "execution_count": 70,
   "id": "1001323e-fdaf-41d7-a2bc-c4eb07a5a28a",
   "metadata": {},
   "outputs": [
    {
     "data": {
      "text/plain": [
       "'The Sky Is Blue'"
      ]
     },
     "execution_count": 70,
     "metadata": {},
     "output_type": "execute_result"
    }
   ],
   "source": [
    "s.title()"
   ]
  },
  {
   "cell_type": "code",
   "execution_count": 71,
   "id": "e2df787d-71dc-433e-a574-379821033dc6",
   "metadata": {},
   "outputs": [
    {
     "data": {
      "text/plain": [
       "'The sky is blue'"
      ]
     },
     "execution_count": 71,
     "metadata": {},
     "output_type": "execute_result"
    }
   ],
   "source": [
    "s.capitalize()"
   ]
  },
  {
   "cell_type": "code",
   "execution_count": 73,
   "id": "230fc0b4-b072-4dfd-86e6-21bf4979b86c",
   "metadata": {},
   "outputs": [
    {
     "data": {
      "text/plain": [
       "str"
      ]
     },
     "execution_count": 73,
     "metadata": {},
     "output_type": "execute_result"
    }
   ],
   "source": [
    "str"
   ]
  },
  {
   "cell_type": "code",
   "execution_count": 81,
   "id": "b4ecf033-9e9c-46e2-84da-ae8cdbd4b2fd",
   "metadata": {},
   "outputs": [
    {
     "data": {
      "text/plain": [
       "'a b c'"
      ]
     },
     "execution_count": 81,
     "metadata": {},
     "output_type": "execute_result"
    }
   ],
   "source": [
    "s = \"The sky is blue\"\n",
    "sL = s.split()[::-1]\n",
    "\" \".join(('a','b','c'))"
   ]
  },
  {
   "cell_type": "code",
   "execution_count": null,
   "id": "67b6ea28-5c84-415a-8fad-c04ca66bf59c",
   "metadata": {},
   "outputs": [],
   "source": []
  },
  {
   "cell_type": "code",
   "execution_count": null,
   "id": "9701fe15-792e-4996-9b10-65e1609f2607",
   "metadata": {},
   "outputs": [],
   "source": []
  }
 ],
 "metadata": {
  "kernelspec": {
   "display_name": "Python 3 (ipykernel)",
   "language": "python",
   "name": "python3"
  },
  "language_info": {
   "codemirror_mode": {
    "name": "ipython",
    "version": 3
   },
   "file_extension": ".py",
   "mimetype": "text/x-python",
   "name": "python",
   "nbconvert_exporter": "python",
   "pygments_lexer": "ipython3",
   "version": "3.13.0"
  }
 },
 "nbformat": 4,
 "nbformat_minor": 5
}
