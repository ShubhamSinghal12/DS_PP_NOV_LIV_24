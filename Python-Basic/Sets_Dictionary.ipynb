{
 "cells": [
  {
   "cell_type": "markdown",
   "id": "17477b79-9748-4a21-b6f5-182366e9a0b9",
   "metadata": {},
   "source": [
    "# Sets\n",
    "- unordered collection of unique items\n",
    "- Using sets:\n",
    "  - we can test for membership\n",
    "  - whether a set is a subset of another set\n",
    "  - find intersection between two sets and so on\n",
    "- Can't be indexed"
   ]
  },
  {
   "cell_type": "code",
   "execution_count": 5,
   "id": "1e7578f7-d32a-49af-a9c7-511cac5e1391",
   "metadata": {},
   "outputs": [
    {
     "name": "stdout",
     "output_type": "stream",
     "text": [
      "{1, 3, 4, 5, 'Shubham', 'Hello'} <class 'set'>\n"
     ]
    }
   ],
   "source": [
    "s = {\"Hello\",1,4,3,4,5,3,\"Shubham\"}\n",
    "print(s,type(s))"
   ]
  },
  {
   "cell_type": "code",
   "execution_count": 6,
   "id": "04d7094f-b997-4fc5-b2c4-efd596045cef",
   "metadata": {},
   "outputs": [
    {
     "data": {
      "text/plain": [
       "[1, 3, 2, 4, 5, 1, 2, 3, 4, 1]"
      ]
     },
     "execution_count": 6,
     "metadata": {},
     "output_type": "execute_result"
    }
   ],
   "source": [
    "l = [1,3,2,4,5,1,2,3,4,1]\n",
    "l"
   ]
  },
  {
   "cell_type": "code",
   "execution_count": 7,
   "id": "ea6dea22-fd65-4fbe-afd7-e3f6663a27d3",
   "metadata": {},
   "outputs": [
    {
     "data": {
      "text/plain": [
       "{1, 2, 3, 4, 5}"
      ]
     },
     "execution_count": 7,
     "metadata": {},
     "output_type": "execute_result"
    }
   ],
   "source": [
    "set(l)"
   ]
  },
  {
   "cell_type": "code",
   "execution_count": 10,
   "id": "80da9d80-5dd9-47d6-8abc-b102cee8d5e6",
   "metadata": {},
   "outputs": [
    {
     "name": "stdout",
     "output_type": "stream",
     "text": [
      "no\n"
     ]
    }
   ],
   "source": [
    "if \"Hell\" in s:\n",
    "    print(\"yes\")\n",
    "else:\n",
    "    print(\"no\")"
   ]
  },
  {
   "cell_type": "code",
   "execution_count": 12,
   "id": "6cb1eb31-bae9-4280-a418-23901d12fba2",
   "metadata": {},
   "outputs": [
    {
     "ename": "TypeError",
     "evalue": "'set' object is not subscriptable",
     "output_type": "error",
     "traceback": [
      "\u001b[1;31m---------------------------------------------------------------------------\u001b[0m",
      "\u001b[1;31mTypeError\u001b[0m                                 Traceback (most recent call last)",
      "Cell \u001b[1;32mIn[12], line 1\u001b[0m\n\u001b[1;32m----> 1\u001b[0m \u001b[43ms\u001b[49m\u001b[43m[\u001b[49m\u001b[38;5;241;43m0\u001b[39;49m\u001b[43m]\u001b[49m \u001b[38;5;66;03m#No indexing\u001b[39;00m\n",
      "\u001b[1;31mTypeError\u001b[0m: 'set' object is not subscriptable"
     ]
    }
   ],
   "source": [
    "s[0] #No indexing"
   ]
  },
  {
   "cell_type": "code",
   "execution_count": 15,
   "id": "d38347ac-c7e3-47dc-b6ff-f1777d3a4dc7",
   "metadata": {},
   "outputs": [],
   "source": [
    "s.add(\"Hell\")\n",
    "s.add(\"Hello\")"
   ]
  },
  {
   "cell_type": "code",
   "execution_count": 16,
   "id": "c4c262af-0960-4b6c-94f0-e254b1bfa74b",
   "metadata": {},
   "outputs": [
    {
     "data": {
      "text/plain": [
       "{1, 3, 4, 5, 'Hell', 'Hello', 'Shubham'}"
      ]
     },
     "execution_count": 16,
     "metadata": {},
     "output_type": "execute_result"
    }
   ],
   "source": [
    "s"
   ]
  },
  {
   "cell_type": "code",
   "execution_count": 26,
   "id": "60bd6062-37e1-4152-a2b5-6af0742f52b5",
   "metadata": {},
   "outputs": [],
   "source": [
    "s1 = {1,2,3}\n",
    "s2 = {2,3,4,5}"
   ]
  },
  {
   "cell_type": "code",
   "execution_count": 22,
   "id": "a704491a-f495-49fd-bae4-c71d80b222f3",
   "metadata": {},
   "outputs": [
    {
     "data": {
      "text/plain": [
       "{1, 2, 3, 4, 5}"
      ]
     },
     "execution_count": 22,
     "metadata": {},
     "output_type": "execute_result"
    }
   ],
   "source": [
    "s3 = s1.union(s2)\n",
    "s3"
   ]
  },
  {
   "cell_type": "code",
   "execution_count": 23,
   "id": "1d5f8323-b571-4093-a4df-aa421ea00b4b",
   "metadata": {},
   "outputs": [
    {
     "data": {
      "text/plain": [
       "{2, 3}"
      ]
     },
     "execution_count": 23,
     "metadata": {},
     "output_type": "execute_result"
    }
   ],
   "source": [
    "s3 = s1.intersection(s2)\n",
    "s3"
   ]
  },
  {
   "cell_type": "code",
   "execution_count": 24,
   "id": "75edd292-377d-44af-9156-9c5b589c5eb4",
   "metadata": {},
   "outputs": [],
   "source": [
    "s1.intersection_update(s2)"
   ]
  },
  {
   "cell_type": "code",
   "execution_count": 25,
   "id": "39c6b842-eaf8-4225-978c-4932df9e53f3",
   "metadata": {},
   "outputs": [
    {
     "data": {
      "text/plain": [
       "{2, 3}"
      ]
     },
     "execution_count": 25,
     "metadata": {},
     "output_type": "execute_result"
    }
   ],
   "source": [
    "s1"
   ]
  },
  {
   "cell_type": "code",
   "execution_count": 28,
   "id": "1e237d56-bee5-4782-b99a-0e9e77aee43d",
   "metadata": {},
   "outputs": [
    {
     "data": {
      "text/plain": [
       "{4, 5}"
      ]
     },
     "execution_count": 28,
     "metadata": {},
     "output_type": "execute_result"
    }
   ],
   "source": [
    "s3 = s2.difference(s1)\n",
    "s3"
   ]
  },
  {
   "cell_type": "code",
   "execution_count": 30,
   "id": "d215d10c-e3f7-4d69-ac1e-556af5ccd053",
   "metadata": {},
   "outputs": [
    {
     "data": {
      "text/plain": [
       "{1, 4, 5}"
      ]
     },
     "execution_count": 30,
     "metadata": {},
     "output_type": "execute_result"
    }
   ],
   "source": [
    "s3 = s2.symmetric_difference(s1)\n",
    "s3"
   ]
  },
  {
   "cell_type": "code",
   "execution_count": 32,
   "id": "24a628f9-c9c3-4768-82e2-c129a50d03b5",
   "metadata": {},
   "outputs": [
    {
     "data": {
      "text/plain": [
       "{2, 3}"
      ]
     },
     "execution_count": 32,
     "metadata": {},
     "output_type": "execute_result"
    }
   ],
   "source": [
    "s1.discard(10)\n",
    "s1"
   ]
  },
  {
   "cell_type": "code",
   "execution_count": 33,
   "id": "8946d33a-a264-4c20-9130-3c6c289482cf",
   "metadata": {},
   "outputs": [
    {
     "ename": "KeyError",
     "evalue": "10",
     "output_type": "error",
     "traceback": [
      "\u001b[1;31m---------------------------------------------------------------------------\u001b[0m",
      "\u001b[1;31mKeyError\u001b[0m                                  Traceback (most recent call last)",
      "Cell \u001b[1;32mIn[33], line 1\u001b[0m\n\u001b[1;32m----> 1\u001b[0m \u001b[43ms1\u001b[49m\u001b[38;5;241;43m.\u001b[39;49m\u001b[43mremove\u001b[49m\u001b[43m(\u001b[49m\u001b[38;5;241;43m10\u001b[39;49m\u001b[43m)\u001b[49m\n\u001b[0;32m      2\u001b[0m s1\n",
      "\u001b[1;31mKeyError\u001b[0m: 10"
     ]
    }
   ],
   "source": [
    "s1.remove(10)\n",
    "s1"
   ]
  },
  {
   "cell_type": "code",
   "execution_count": 38,
   "id": "390e5b2a-b159-49d1-9009-e73bfcd9c00c",
   "metadata": {},
   "outputs": [
    {
     "name": "stdout",
     "output_type": "stream",
     "text": [
      "{2, 10, 3}\n"
     ]
    },
    {
     "data": {
      "text/plain": [
       "2"
      ]
     },
     "execution_count": 38,
     "metadata": {},
     "output_type": "execute_result"
    }
   ],
   "source": [
    "s1 = {10,2,3}\n",
    "print(s1)\n",
    "s1.pop()"
   ]
  },
  {
   "cell_type": "code",
   "execution_count": 40,
   "id": "7491701e-3018-483b-9fc4-add0dccf2468",
   "metadata": {},
   "outputs": [
    {
     "data": {
      "text/plain": [
       "True"
      ]
     },
     "execution_count": 40,
     "metadata": {},
     "output_type": "execute_result"
    }
   ],
   "source": [
    "s1 = {1,20,30}\n",
    "s2 = {2,3,4,5}\n",
    "s1.isdisjoint(s2)"
   ]
  },
  {
   "cell_type": "code",
   "execution_count": 41,
   "id": "d340212f-6927-459e-bf5d-462d96e7a5ae",
   "metadata": {},
   "outputs": [
    {
     "data": {
      "text/plain": [
       "True"
      ]
     },
     "execution_count": 41,
     "metadata": {},
     "output_type": "execute_result"
    }
   ],
   "source": [
    "s1 = {2,3}\n",
    "s2 = {2,3,4,5}\n",
    "s1.issubset(s2)"
   ]
  },
  {
   "cell_type": "code",
   "execution_count": 43,
   "id": "b7968992-72c0-4235-90e9-e2cbdb219892",
   "metadata": {},
   "outputs": [
    {
     "data": {
      "text/plain": [
       "True"
      ]
     },
     "execution_count": 43,
     "metadata": {},
     "output_type": "execute_result"
    }
   ],
   "source": [
    "s1 = {2,3}\n",
    "s2 = {2,3,4,5}\n",
    "s2.issuperset(s1)"
   ]
  },
  {
   "cell_type": "code",
   "execution_count": 44,
   "id": "276c5909-96eb-451b-a100-74b144d7a1b9",
   "metadata": {},
   "outputs": [
    {
     "data": {
      "text/plain": [
       "{2, 3, 4, 5}"
      ]
     },
     "execution_count": 44,
     "metadata": {},
     "output_type": "execute_result"
    }
   ],
   "source": [
    "s1.update(s2)\n",
    "s1"
   ]
  },
  {
   "cell_type": "code",
   "execution_count": 46,
   "id": "8909172b-d8dc-46c5-a7e8-9dcb103a69af",
   "metadata": {},
   "outputs": [
    {
     "data": {
      "text/plain": [
       "{1}"
      ]
     },
     "execution_count": 46,
     "metadata": {},
     "output_type": "execute_result"
    }
   ],
   "source": [
    "s1 = {1,2,3}\n",
    "s2 = {2,3,4,5}\n",
    "s3 = s1-s2\n",
    "s3"
   ]
  },
  {
   "cell_type": "code",
   "execution_count": 48,
   "id": "a245f2d2-cd65-4954-828b-e766faca8540",
   "metadata": {},
   "outputs": [
    {
     "name": "stdout",
     "output_type": "stream",
     "text": [
      "1\n",
      "3\n",
      "4\n",
      "5\n",
      "Hell\n",
      "Shubham\n",
      "Hello\n"
     ]
    }
   ],
   "source": [
    "for ele in s:\n",
    "    print(ele)"
   ]
  },
  {
   "cell_type": "code",
   "execution_count": 50,
   "id": "2149c9db-2573-4e9f-829b-061f71909419",
   "metadata": {},
   "outputs": [
    {
     "name": "stdout",
     "output_type": "stream",
     "text": [
      "set() <class 'set'>\n"
     ]
    }
   ],
   "source": [
    "s = set()\n",
    "print(s,type(s))"
   ]
  },
  {
   "cell_type": "code",
   "execution_count": 52,
   "id": "677770ca-07e0-48bb-a6eb-d1fa026e01f2",
   "metadata": {},
   "outputs": [
    {
     "data": {
      "text/plain": [
       "3"
      ]
     },
     "execution_count": 52,
     "metadata": {},
     "output_type": "execute_result"
    }
   ],
   "source": [
    "len(s1)"
   ]
  },
  {
   "cell_type": "code",
   "execution_count": null,
   "id": "45da3cf3-07b1-4b24-9a3d-7520f20facf3",
   "metadata": {},
   "outputs": [],
   "source": []
  },
  {
   "cell_type": "code",
   "execution_count": null,
   "id": "e0797bca-f250-4832-afe5-4b1c65d01f49",
   "metadata": {},
   "outputs": [],
   "source": []
  },
  {
   "cell_type": "markdown",
   "id": "2becfc9e-1689-4515-81d0-36a404f0b0aa",
   "metadata": {},
   "source": [
    "# Dictionary\n",
    "- unordered collection of key:value pairs\n",
    "- mutable data structure\n",
    "- Heterogeneous\n",
    "- Immutable Keys\n",
    "- dict functions\n",
    "- traversal"
   ]
  },
  {
   "cell_type": "code",
   "execution_count": 58,
   "id": "88583987-2dbe-40d7-8643-3b8ab6105323",
   "metadata": {},
   "outputs": [
    {
     "data": {
      "text/plain": [
       "{'India': 200, 'USA': 100, 'USSR': 150}"
      ]
     },
     "execution_count": 58,
     "metadata": {},
     "output_type": "execute_result"
    }
   ],
   "source": [
    "d = {\n",
    "    \"India\" : 1000,\n",
    "    \"USA\" : 100,\n",
    "    \"USSR\" : 150,\n",
    "    \"India\" : 200\n",
    "}\n",
    "d"
   ]
  },
  {
   "cell_type": "code",
   "execution_count": 57,
   "id": "adbd0629-2344-47ae-a83d-656567351426",
   "metadata": {},
   "outputs": [
    {
     "name": "stdout",
     "output_type": "stream",
     "text": [
      "{} <class 'dict'>\n"
     ]
    }
   ],
   "source": [
    "d = {}\n",
    "print(d,type(d))"
   ]
  },
  {
   "cell_type": "code",
   "execution_count": 61,
   "id": "6fa312d7-0a3e-4a0c-8f8a-d77e806850d9",
   "metadata": {},
   "outputs": [
    {
     "data": {
      "text/plain": [
       "300"
      ]
     },
     "execution_count": 61,
     "metadata": {},
     "output_type": "execute_result"
    }
   ],
   "source": [
    "d[\"India\"] = 300\n",
    "d['India']"
   ]
  },
  {
   "cell_type": "code",
   "execution_count": 62,
   "id": "78fbeb68-7d4d-489c-bba4-33baffe908b6",
   "metadata": {},
   "outputs": [
    {
     "data": {
      "text/plain": [
       "{'India': 300, 'USA': 100, 'USSR': 150, 'China': 100}"
      ]
     },
     "execution_count": 62,
     "metadata": {},
     "output_type": "execute_result"
    }
   ],
   "source": [
    "d['China'] = 100\n",
    "d"
   ]
  },
  {
   "cell_type": "code",
   "execution_count": 79,
   "id": "7dbf6965-c603-4490-9731-9d10cb3087cc",
   "metadata": {},
   "outputs": [
    {
     "data": {
      "text/plain": [
       "{'India': [1000, 2000, 4300],\n",
       " 'USA': 100,\n",
       " 'USSR': 150,\n",
       " 1: 'Hello',\n",
       " (1, 2, 3): 'Tuple',\n",
       " <function __main__.fn()>: 'Function'}"
      ]
     },
     "execution_count": 79,
     "metadata": {},
     "output_type": "execute_result"
    }
   ],
   "source": [
    "c = \"India\"\n",
    "d = {\n",
    "    \"India\": [1000,2000,4300],\n",
    "    \"USA\" : 100,\n",
    "    \"USSR\" : 150,\n",
    "    1 : \"Hello\",\n",
    "    (1,2,3): \"Tuple\",\n",
    "    fn : \"Function\"\n",
    "    # [1,2,3]:\"List\"  ---> Not Possible\n",
    "}\n",
    "d"
   ]
  },
  {
   "cell_type": "code",
   "execution_count": 75,
   "id": "bde9fa41-812f-4b83-8355-859ad697ec4b",
   "metadata": {},
   "outputs": [],
   "source": [
    "def fn():\n",
    "    pass"
   ]
  },
  {
   "cell_type": "code",
   "execution_count": 76,
   "id": "1df380ec-c8a2-4c35-b606-ee2c80697436",
   "metadata": {},
   "outputs": [],
   "source": [
    "fn()"
   ]
  },
  {
   "cell_type": "code",
   "execution_count": 80,
   "id": "8514e7fd-b8b3-4d6a-b64e-9db414e20f5c",
   "metadata": {},
   "outputs": [
    {
     "data": {
      "text/plain": [
       "[1000, 2000, 4300]"
      ]
     },
     "execution_count": 80,
     "metadata": {},
     "output_type": "execute_result"
    }
   ],
   "source": [
    "d[\"India\"]"
   ]
  },
  {
   "cell_type": "code",
   "execution_count": 81,
   "id": "14f935af-c3d9-4a11-9986-421ace2516e6",
   "metadata": {},
   "outputs": [
    {
     "ename": "KeyError",
     "evalue": "'Ind'",
     "output_type": "error",
     "traceback": [
      "\u001b[1;31m---------------------------------------------------------------------------\u001b[0m",
      "\u001b[1;31mKeyError\u001b[0m                                  Traceback (most recent call last)",
      "Cell \u001b[1;32mIn[81], line 1\u001b[0m\n\u001b[1;32m----> 1\u001b[0m \u001b[43md\u001b[49m\u001b[43m[\u001b[49m\u001b[38;5;124;43m\"\u001b[39;49m\u001b[38;5;124;43mInd\u001b[39;49m\u001b[38;5;124;43m\"\u001b[39;49m\u001b[43m]\u001b[49m\n",
      "\u001b[1;31mKeyError\u001b[0m: 'Ind'"
     ]
    }
   ],
   "source": [
    "d[\"Ind\"]"
   ]
  },
  {
   "cell_type": "code",
   "execution_count": 85,
   "id": "6e25caec-1f9d-4498-9488-e23ca5c3c366",
   "metadata": {},
   "outputs": [
    {
     "data": {
      "text/plain": [
       "10"
      ]
     },
     "execution_count": 85,
     "metadata": {},
     "output_type": "execute_result"
    }
   ],
   "source": [
    "d.get(\"Ind\",10)"
   ]
  },
  {
   "cell_type": "code",
   "execution_count": 86,
   "id": "af2ae159-9163-4a95-87c0-e348c5269060",
   "metadata": {},
   "outputs": [
    {
     "data": {
      "text/plain": [
       "(<function __main__.fn()>, 'Function')"
      ]
     },
     "execution_count": 86,
     "metadata": {},
     "output_type": "execute_result"
    }
   ],
   "source": [
    "d.popitem()"
   ]
  },
  {
   "cell_type": "code",
   "execution_count": 87,
   "id": "08d0fae4-7067-440e-8981-53356b890b14",
   "metadata": {},
   "outputs": [
    {
     "data": {
      "text/plain": [
       "150"
      ]
     },
     "execution_count": 87,
     "metadata": {},
     "output_type": "execute_result"
    }
   ],
   "source": [
    "d.pop(\"USSR\")"
   ]
  },
  {
   "cell_type": "code",
   "execution_count": 88,
   "id": "ce024d57-c583-44c5-8bc4-ffe0b3ccbef3",
   "metadata": {},
   "outputs": [
    {
     "data": {
      "text/plain": [
       "{'India': [1000, 2000, 4300], 'USA': 100, 1: 'Hello', (1, 2, 3): 'Tuple'}"
      ]
     },
     "execution_count": 88,
     "metadata": {},
     "output_type": "execute_result"
    }
   ],
   "source": [
    "d"
   ]
  },
  {
   "cell_type": "code",
   "execution_count": 89,
   "id": "d6f92944-2b46-41b2-86d7-7236f87b59ff",
   "metadata": {},
   "outputs": [
    {
     "ename": "KeyError",
     "evalue": "'USSR'",
     "output_type": "error",
     "traceback": [
      "\u001b[1;31m---------------------------------------------------------------------------\u001b[0m",
      "\u001b[1;31mKeyError\u001b[0m                                  Traceback (most recent call last)",
      "Cell \u001b[1;32mIn[89], line 1\u001b[0m\n\u001b[1;32m----> 1\u001b[0m \u001b[43md\u001b[49m\u001b[38;5;241;43m.\u001b[39;49m\u001b[43mpop\u001b[49m\u001b[43m(\u001b[49m\u001b[38;5;124;43m\"\u001b[39;49m\u001b[38;5;124;43mUSSR\u001b[39;49m\u001b[38;5;124;43m\"\u001b[39;49m\u001b[43m)\u001b[49m\n",
      "\u001b[1;31mKeyError\u001b[0m: 'USSR'"
     ]
    }
   ],
   "source": [
    "d.pop(\"USSR\")"
   ]
  },
  {
   "cell_type": "code",
   "execution_count": 91,
   "id": "c61aeb04-5beb-45e3-9fb7-a8e39ea2bcdf",
   "metadata": {},
   "outputs": [],
   "source": [
    "del d[1]"
   ]
  },
  {
   "cell_type": "code",
   "execution_count": 92,
   "id": "67b9889c-41f2-4d01-b608-c1d942371602",
   "metadata": {},
   "outputs": [
    {
     "data": {
      "text/plain": [
       "{'India': [1000, 2000, 4300], 'USA': 100, (1, 2, 3): 'Tuple'}"
      ]
     },
     "execution_count": 92,
     "metadata": {},
     "output_type": "execute_result"
    }
   ],
   "source": [
    "d"
   ]
  },
  {
   "cell_type": "code",
   "execution_count": 93,
   "id": "25096a06-af3e-4b94-a69b-c8e1822f302f",
   "metadata": {},
   "outputs": [
    {
     "data": {
      "text/plain": [
       "dict_keys(['India', 'USA', (1, 2, 3)])"
      ]
     },
     "execution_count": 93,
     "metadata": {},
     "output_type": "execute_result"
    }
   ],
   "source": [
    "d.keys()"
   ]
  },
  {
   "cell_type": "code",
   "execution_count": 94,
   "id": "b4afaadf-ea3f-460d-87a1-3b304b7b0996",
   "metadata": {},
   "outputs": [
    {
     "data": {
      "text/plain": [
       "dict_values([[1000, 2000, 4300], 100, 'Tuple'])"
      ]
     },
     "execution_count": 94,
     "metadata": {},
     "output_type": "execute_result"
    }
   ],
   "source": [
    "d.values()"
   ]
  },
  {
   "cell_type": "code",
   "execution_count": 95,
   "id": "3d42f683-181e-40e7-a2f7-10a5919957fe",
   "metadata": {},
   "outputs": [
    {
     "data": {
      "text/plain": [
       "dict_items([('India', [1000, 2000, 4300]), ('USA', 100), ((1, 2, 3), 'Tuple')])"
      ]
     },
     "execution_count": 95,
     "metadata": {},
     "output_type": "execute_result"
    }
   ],
   "source": [
    "d.items()"
   ]
  },
  {
   "cell_type": "code",
   "execution_count": 97,
   "id": "77effe52-b4eb-4251-935d-b23fd09322e5",
   "metadata": {},
   "outputs": [
    {
     "data": {
      "text/plain": [
       "{1: 'Numbers', 2: 'Numbers', 3: 'Numbers', 4: 'Numbers', 5: 'Numbers'}"
      ]
     },
     "execution_count": 97,
     "metadata": {},
     "output_type": "execute_result"
    }
   ],
   "source": [
    "d1 = d.fromkeys([1,2,3,4,5],\"Numbers\")\n",
    "d1"
   ]
  },
  {
   "cell_type": "code",
   "execution_count": 99,
   "id": "72ff4f72-b20e-4909-9243-c1a581c61730",
   "metadata": {},
   "outputs": [
    {
     "name": "stdout",
     "output_type": "stream",
     "text": [
      "No\n"
     ]
    }
   ],
   "source": [
    "if 100 in d:\n",
    "    print(\"Yes\")\n",
    "else:\n",
    "    print(\"No\")"
   ]
  },
  {
   "cell_type": "code",
   "execution_count": 100,
   "id": "4e44807e-b42a-40c9-98da-ab92fdb764b1",
   "metadata": {},
   "outputs": [
    {
     "name": "stdout",
     "output_type": "stream",
     "text": [
      "India [1000, 2000, 4300]\n",
      "USA 100\n",
      "(1, 2, 3) Tuple\n"
     ]
    }
   ],
   "source": [
    "for k in d:\n",
    "    print(k,d[k])"
   ]
  },
  {
   "cell_type": "code",
   "execution_count": 102,
   "id": "7327aa08-64d0-433c-9452-58d3d9d75be9",
   "metadata": {},
   "outputs": [
    {
     "name": "stdout",
     "output_type": "stream",
     "text": [
      "India [1000, 2000, 4300]\n",
      "USA 100\n",
      "(1, 2, 3) Tuple\n"
     ]
    }
   ],
   "source": [
    "for k,v in d.items():\n",
    "    print(k,v)"
   ]
  },
  {
   "cell_type": "code",
   "execution_count": null,
   "id": "1c61ff3b-4615-47be-84fb-16b03980090c",
   "metadata": {},
   "outputs": [],
   "source": []
  },
  {
   "cell_type": "code",
   "execution_count": 104,
   "id": "30b46edc-164e-4543-89a2-12e44944ea77",
   "metadata": {},
   "outputs": [
    {
     "data": {
      "text/plain": [
       "({0, 1, 2, 3, 4, 5, 6, 7, 8, 9}, set)"
      ]
     },
     "execution_count": 104,
     "metadata": {},
     "output_type": "execute_result"
    }
   ],
   "source": [
    "s = {k for k in range(10)}\n",
    "s,type(s)"
   ]
  },
  {
   "cell_type": "code",
   "execution_count": 105,
   "id": "50aa78da-4ee5-492f-a72e-238b80545bc1",
   "metadata": {},
   "outputs": [
    {
     "data": {
      "text/plain": [
       "{0: 0, 1: 1, 2: 4, 3: 9, 4: 16, 5: 25, 6: 36, 7: 49, 8: 64, 9: 81}"
      ]
     },
     "execution_count": 105,
     "metadata": {},
     "output_type": "execute_result"
    }
   ],
   "source": [
    "d = {k:k**2 for k in range(10)}\n",
    "d"
   ]
  },
  {
   "cell_type": "code",
   "execution_count": null,
   "id": "c0d106bc-6e36-4d11-9f40-dfc67eec69f5",
   "metadata": {},
   "outputs": [],
   "source": []
  }
 ],
 "metadata": {
  "kernelspec": {
   "display_name": "Python 3 (ipykernel)",
   "language": "python",
   "name": "python3"
  },
  "language_info": {
   "codemirror_mode": {
    "name": "ipython",
    "version": 3
   },
   "file_extension": ".py",
   "mimetype": "text/x-python",
   "name": "python",
   "nbconvert_exporter": "python",
   "pygments_lexer": "ipython3",
   "version": "3.12.8"
  }
 },
 "nbformat": 4,
 "nbformat_minor": 5
}
