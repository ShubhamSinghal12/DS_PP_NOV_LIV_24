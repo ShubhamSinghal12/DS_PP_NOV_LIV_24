{
 "cells": [
  {
   "cell_type": "markdown",
   "id": "d9f9406e-108a-438f-92dd-b9d4fdce0ab4",
   "metadata": {},
   "source": [
    "# Class\n",
    "- Class is a template/blueprint of the entity. It lays out all the attributes(characteristics) and behaviours(methods) the objects/instances of my class are going to have\n",
    "- Data Members and Functions\n",
    "- The init Method\n",
    "    - class constructor\n",
    "    - it is called implicitly whenever a class is called or a new object is created\n",
    "- Everything in Python is an object\n",
    "    - Every data-type in python is an instance of object class.\n",
    "    - int, float, boolean, list, string, dictionary, functions\n",
    "    - isIntance()\n",
    "- Class Variables\n",
    "    - instance variables are for data unique for each instance\n",
    "    - class variables are for attributes and methods shared by all instances of the class\n",
    "    - Memory Management\n",
    "- Inheritance\n",
    "    - How\n",
    "    - super() in init()\n",
    "    - Method Overriding\n",
    "- Dunders/Magic Methods\n",
    "    - Python provides us with special functions which are called implicitly while performing certain operations on an object. These are dunders\n",
    "    - They start and end with double underscore\n",
    "    - Commonly used for operator overloading\n",
    "    - A Few examples:\n",
    "        1. \\_\\_init__ is called when an object is created\n",
    "        2. \\_\\_len__ is called when calling len(obj)\n",
    "        3. \\_\\_str__ is called when we try to print an object\n",
    "        4. \\_\\_add__ is called when two objects are added together\n",
    "- Multiple Inheritance"
   ]
  },
  {
   "cell_type": "code",
   "execution_count": 44,
   "id": "4e743822-0560-47d2-b7e4-aae3d7989bf2",
   "metadata": {},
   "outputs": [],
   "source": [
    "class Person:\n",
    "    def __init__(self,name='xyz',age = 0):\n",
    "        self.name = name\n",
    "        self.age = age\n",
    "        \n",
    "    # def saysHi(self,city):\n",
    "    #     print(self)\n",
    "    #     self.city = city\n",
    "    #     print(f\"{self.name} says Hi!!\")\n",
    "    \n",
    "    def saysHi(self):\n",
    "        print(self)\n",
    "        print(f\"{self.name} says Hi!!\")\n",
    "    \n",
    "    def fn():\n",
    "        print(\"Person's fn\")"
   ]
  },
  {
   "cell_type": "code",
   "execution_count": 37,
   "id": "2c08dd54-db77-428a-8237-cefa7d315910",
   "metadata": {},
   "outputs": [],
   "source": [
    "p = Person(\"Shubham\",27)"
   ]
  },
  {
   "cell_type": "code",
   "execution_count": 45,
   "id": "d023c4a3-f32b-4dba-9907-eaf009dcaade",
   "metadata": {},
   "outputs": [],
   "source": [
    "# p.name = \"Shubham\"\n",
    "# p.age = 27"
   ]
  },
  {
   "cell_type": "code",
   "execution_count": 46,
   "id": "b5fac48a-dc96-486a-9bc5-5fbbdcb61dfb",
   "metadata": {},
   "outputs": [
    {
     "name": "stdout",
     "output_type": "stream",
     "text": [
      "Shubham 27\n"
     ]
    }
   ],
   "source": [
    "print(p.name,p.age)"
   ]
  },
  {
   "cell_type": "code",
   "execution_count": 47,
   "id": "a743a5b1-eb71-4fa7-b91c-bff7d5b4b831",
   "metadata": {},
   "outputs": [
    {
     "name": "stdout",
     "output_type": "stream",
     "text": [
      "<__main__.Person object at 0x0000020D19CD43E0>\n",
      "Shubham says Hi!!\n",
      "<__main__.Person object at 0x0000020D19CD43E0>\n"
     ]
    }
   ],
   "source": [
    "p.saysHi()\n",
    "print(p)"
   ]
  },
  {
   "cell_type": "code",
   "execution_count": 48,
   "id": "2a2a1cec-8a49-46cc-8a1c-655fcd2d0fbd",
   "metadata": {},
   "outputs": [
    {
     "name": "stdout",
     "output_type": "stream",
     "text": [
      "<__main__.Person object at 0x0000020D19CD43E0>\n",
      "Shubham says Hi!!\n"
     ]
    }
   ],
   "source": [
    "Person.saysHi(p)"
   ]
  },
  {
   "cell_type": "code",
   "execution_count": 49,
   "id": "24733d50-c63e-426d-a1ac-c9b178ea10d4",
   "metadata": {},
   "outputs": [],
   "source": [
    "p1 = Person()"
   ]
  },
  {
   "cell_type": "code",
   "execution_count": 50,
   "id": "f7a88e22-9e88-41c6-b76e-f3310dddede6",
   "metadata": {},
   "outputs": [
    {
     "name": "stdout",
     "output_type": "stream",
     "text": [
      "<__main__.Person object at 0x0000020D1A404890>\n",
      "xyz says Hi!!\n"
     ]
    }
   ],
   "source": [
    "p1.saysHi()"
   ]
  },
  {
   "cell_type": "code",
   "execution_count": null,
   "id": "1ee03f73-852d-4c05-95f1-51b612cba8c5",
   "metadata": {},
   "outputs": [],
   "source": []
  },
  {
   "cell_type": "code",
   "execution_count": 51,
   "id": "876b882f-85ef-4383-92e2-8dc34d53d068",
   "metadata": {},
   "outputs": [
    {
     "name": "stdout",
     "output_type": "stream",
     "text": [
      "<class 'int'>\n"
     ]
    }
   ],
   "source": [
    "a = 10\n",
    "print(type(a))"
   ]
  },
  {
   "cell_type": "code",
   "execution_count": 52,
   "id": "ea6b9ddd-dd84-4e1e-b982-14dae2792f43",
   "metadata": {},
   "outputs": [
    {
     "name": "stdout",
     "output_type": "stream",
     "text": [
      "<class '__main__.Person'>\n"
     ]
    }
   ],
   "source": [
    "print(type(p))"
   ]
  },
  {
   "cell_type": "code",
   "execution_count": 53,
   "id": "5b5e37d9-e21f-4beb-a0d3-eb268f50badf",
   "metadata": {},
   "outputs": [
    {
     "data": {
      "text/plain": [
       "True"
      ]
     },
     "execution_count": 53,
     "metadata": {},
     "output_type": "execute_result"
    }
   ],
   "source": [
    "isinstance(a,int)"
   ]
  },
  {
   "cell_type": "code",
   "execution_count": 58,
   "id": "3ba31820-574f-4767-bc00-b55668ac1756",
   "metadata": {},
   "outputs": [
    {
     "data": {
      "text/plain": [
       "False"
      ]
     },
     "execution_count": 58,
     "metadata": {},
     "output_type": "execute_result"
    }
   ],
   "source": [
    "isinstance(p,int)"
   ]
  },
  {
   "cell_type": "code",
   "execution_count": null,
   "id": "67a5300d-e897-4db2-b0b6-efcef23bce68",
   "metadata": {},
   "outputs": [],
   "source": []
  },
  {
   "cell_type": "code",
   "execution_count": null,
   "id": "9ce1cad3-8580-48e7-960b-0ea76a2238e3",
   "metadata": {},
   "outputs": [],
   "source": []
  },
  {
   "cell_type": "code",
   "execution_count": null,
   "id": "5bc4b6d3-cc3f-4fe1-a06a-a2bf3228846b",
   "metadata": {},
   "outputs": [],
   "source": []
  },
  {
   "cell_type": "code",
   "execution_count": 74,
   "id": "95cc86b9-1629-47dd-b8b6-28f874f228dc",
   "metadata": {},
   "outputs": [],
   "source": [
    "class Dog:\n",
    "    #Class Variables\n",
    "    legs = 4\n",
    "    tricks = []\n",
    "    def __init__(self,name,breed):\n",
    "        self.name = name\n",
    "        self.breed = breed\n",
    "\n",
    "    def barks(self):\n",
    "        print(f\"{self.name}: bhow bhow\")"
   ]
  },
  {
   "cell_type": "code",
   "execution_count": 75,
   "id": "a8ff8520-098c-4192-b5cd-07e781adc64f",
   "metadata": {},
   "outputs": [],
   "source": [
    "d1 = Dog(\"A\",\"Dooberman\")\n",
    "d2 = Dog(\"B\", \"PitBull\")"
   ]
  },
  {
   "cell_type": "code",
   "execution_count": 76,
   "id": "f6ad3332-7b2f-49df-a6d7-5356d535ff13",
   "metadata": {},
   "outputs": [
    {
     "name": "stdout",
     "output_type": "stream",
     "text": [
      "A: bhow bhow\n"
     ]
    }
   ],
   "source": [
    "d1.barks()"
   ]
  },
  {
   "cell_type": "code",
   "execution_count": 77,
   "id": "a16ceae1-ab7d-4cb4-aa72-d07816a0df68",
   "metadata": {},
   "outputs": [
    {
     "name": "stdout",
     "output_type": "stream",
     "text": [
      "3 4 4\n"
     ]
    }
   ],
   "source": [
    "d1.legs = 3\n",
    "print(d1.legs,d2.legs,Dog.legs)"
   ]
  },
  {
   "cell_type": "code",
   "execution_count": 79,
   "id": "deb0eefd-549d-4cb6-8be5-7ab6fd882a4d",
   "metadata": {},
   "outputs": [
    {
     "name": "stdout",
     "output_type": "stream",
     "text": [
      "['Sit', 'Jump', 'Sit', 'Jump'] 10 ['Sit', 'Jump', 'Sit', 'Jump']\n"
     ]
    }
   ],
   "source": [
    "d2.tricks = 10\n",
    "Dog.tricks.append(\"Sit\")\n",
    "Dog.tricks.append(\"Jump\")\n",
    "print(d1.tricks,d2.tricks,Dog.tricks)"
   ]
  },
  {
   "cell_type": "code",
   "execution_count": 80,
   "id": "14a05b3d-504f-4eb9-bde9-e0cf438f7887",
   "metadata": {},
   "outputs": [],
   "source": [
    "d1.fn = lambda a,b:a+b"
   ]
  },
  {
   "cell_type": "code",
   "execution_count": 81,
   "id": "d0511e74-c614-426a-bdd5-b92b862a1b44",
   "metadata": {},
   "outputs": [
    {
     "data": {
      "text/plain": [
       "30"
      ]
     },
     "execution_count": 81,
     "metadata": {},
     "output_type": "execute_result"
    }
   ],
   "source": [
    "d1.fn(10,20)"
   ]
  },
  {
   "cell_type": "code",
   "execution_count": 84,
   "id": "8253bc2a-a9e8-4910-9c47-8ec0b58828d3",
   "metadata": {},
   "outputs": [],
   "source": [
    "def fn():\n",
    "    return Dog(\"C\",\"BullDog\")"
   ]
  },
  {
   "cell_type": "code",
   "execution_count": 85,
   "id": "5f14acc1-105b-470b-abfc-0bc26fe15a3a",
   "metadata": {},
   "outputs": [],
   "source": [
    "d3 = fn()"
   ]
  },
  {
   "cell_type": "code",
   "execution_count": 86,
   "id": "25c433eb-3724-40d8-a896-4a8ec8efb23b",
   "metadata": {},
   "outputs": [
    {
     "name": "stdout",
     "output_type": "stream",
     "text": [
      "C: bhow bhow\n"
     ]
    }
   ],
   "source": [
    "d3.barks()"
   ]
  },
  {
   "cell_type": "code",
   "execution_count": 87,
   "id": "691531d8-a8a3-4be1-8370-2423774d2406",
   "metadata": {},
   "outputs": [],
   "source": [
    "def fnc():\n",
    "    class Test:\n",
    "        pass\n",
    "    return Test"
   ]
  },
  {
   "cell_type": "code",
   "execution_count": 88,
   "id": "cc718372-7c27-4d33-aba2-003af05fabd0",
   "metadata": {},
   "outputs": [],
   "source": [
    "t = fnc()"
   ]
  },
  {
   "cell_type": "code",
   "execution_count": 89,
   "id": "a3210b2e-424a-4c9d-84a9-d0b97f1b45c2",
   "metadata": {},
   "outputs": [
    {
     "name": "stdout",
     "output_type": "stream",
     "text": [
      "<class '__main__.fnc.<locals>.Test'>\n"
     ]
    }
   ],
   "source": [
    "print(t)"
   ]
  },
  {
   "cell_type": "code",
   "execution_count": 90,
   "id": "1cb02456-ec90-43fe-956a-d6a4819b2714",
   "metadata": {},
   "outputs": [],
   "source": [
    "t1 = t()"
   ]
  },
  {
   "cell_type": "code",
   "execution_count": 93,
   "id": "e0753c64-a83f-4881-996b-05c3f046e443",
   "metadata": {},
   "outputs": [
    {
     "name": "stdout",
     "output_type": "stream",
     "text": [
      "<class '__main__.fnc.<locals>.Test'>\n"
     ]
    }
   ],
   "source": [
    "print(type(t1))"
   ]
  },
  {
   "cell_type": "code",
   "execution_count": null,
   "id": "b6e44314-ceef-49d3-bb15-829c0aa8c0ed",
   "metadata": {},
   "outputs": [],
   "source": []
  },
  {
   "cell_type": "code",
   "execution_count": null,
   "id": "761b6f20-7bd7-48c7-ad77-6bab331759ea",
   "metadata": {},
   "outputs": [],
   "source": []
  },
  {
   "cell_type": "code",
   "execution_count": 131,
   "id": "94473f95-1c95-4423-8ca7-148b1270e1cd",
   "metadata": {},
   "outputs": [],
   "source": [
    "class Student(Person):\n",
    "\n",
    "    def __init__(self,name='abc',age = 0,rollno = 0):\n",
    "        # Person.__init__(self,name,age)\n",
    "        super().__init__(name,age)\n",
    "        self.rollno = rollno\n",
    "\n",
    "    def saysHi(self):\n",
    "        print(f\"{self.name} says Hi. His rollno is {self.rollno}\")"
   ]
  },
  {
   "cell_type": "code",
   "execution_count": 134,
   "id": "de223526-48be-42bf-9811-527da17cb357",
   "metadata": {},
   "outputs": [],
   "source": [
    "s1 = Student(\"Shubham\",27,1)"
   ]
  },
  {
   "cell_type": "code",
   "execution_count": 135,
   "id": "6be08ae9-f0d2-4970-81fd-32deaa7233b1",
   "metadata": {},
   "outputs": [
    {
     "name": "stdout",
     "output_type": "stream",
     "text": [
      "<__main__.Student object at 0x0000020D19D93A40>\n"
     ]
    }
   ],
   "source": [
    "print(s1)"
   ]
  },
  {
   "cell_type": "code",
   "execution_count": 136,
   "id": "a7a07c9b-da87-4363-985e-fc4c64abf666",
   "metadata": {},
   "outputs": [
    {
     "name": "stdout",
     "output_type": "stream",
     "text": [
      "Shubham 27\n"
     ]
    }
   ],
   "source": [
    "print(s1.name,s1.age)"
   ]
  },
  {
   "cell_type": "code",
   "execution_count": 130,
   "id": "e49b4355-6245-4ed0-aa25-f00212d53a62",
   "metadata": {},
   "outputs": [
    {
     "name": "stdout",
     "output_type": "stream",
     "text": [
      "<__main__.Student object at 0x0000020D19D93D70>\n",
      "abc says Hi!!\n"
     ]
    }
   ],
   "source": [
    "s1.saysHi()"
   ]
  },
  {
   "cell_type": "code",
   "execution_count": 137,
   "id": "c7766282-f94a-40e2-8c73-43fb9344c5d7",
   "metadata": {},
   "outputs": [
    {
     "name": "stdout",
     "output_type": "stream",
     "text": [
      "Shubham says Hi. His rollno is 1\n"
     ]
    }
   ],
   "source": [
    "s1.saysHi()"
   ]
  },
  {
   "cell_type": "code",
   "execution_count": null,
   "id": "e335a941-b1ef-4e32-8802-5e99c3a68bba",
   "metadata": {},
   "outputs": [],
   "source": []
  },
  {
   "cell_type": "code",
   "execution_count": 138,
   "id": "675ae7e8-9b25-4743-9fd4-ec71c9b248bc",
   "metadata": {},
   "outputs": [],
   "source": [
    "def fn(x):\n",
    "    x.saysHi()"
   ]
  },
  {
   "cell_type": "code",
   "execution_count": 139,
   "id": "fb067bd1-7ee3-4641-9d73-e5d8839eb33a",
   "metadata": {},
   "outputs": [
    {
     "name": "stdout",
     "output_type": "stream",
     "text": [
      "<__main__.Person object at 0x0000020D19CD43E0>\n",
      "Shubham says Hi!!\n"
     ]
    }
   ],
   "source": [
    "fn(p)"
   ]
  },
  {
   "cell_type": "code",
   "execution_count": 140,
   "id": "406b7c48-2f6a-48cc-b3de-b85fc83e24ce",
   "metadata": {},
   "outputs": [
    {
     "name": "stdout",
     "output_type": "stream",
     "text": [
      "Shubham says Hi. His rollno is 1\n"
     ]
    }
   ],
   "source": [
    "fn(s1)"
   ]
  },
  {
   "cell_type": "code",
   "execution_count": 141,
   "id": "9ac24a11-28b3-445d-8c17-4165cfab18e0",
   "metadata": {},
   "outputs": [
    {
     "data": {
      "text/plain": [
       "True"
      ]
     },
     "execution_count": 141,
     "metadata": {},
     "output_type": "execute_result"
    }
   ],
   "source": [
    "isinstance(s1,object)"
   ]
  },
  {
   "cell_type": "code",
   "execution_count": 142,
   "id": "61a6b72c-c9e2-4dc5-a0d8-efa9c2020ae4",
   "metadata": {},
   "outputs": [
    {
     "data": {
      "text/plain": [
       "True"
      ]
     },
     "execution_count": 142,
     "metadata": {},
     "output_type": "execute_result"
    }
   ],
   "source": [
    "isinstance(a,object)"
   ]
  },
  {
   "cell_type": "code",
   "execution_count": 143,
   "id": "d4b3180a-2426-4b89-be3a-2b8f7f1ef8a1",
   "metadata": {},
   "outputs": [
    {
     "data": {
      "text/plain": [
       "['__annotations__',\n",
       " '__class__',\n",
       " '__delattr__',\n",
       " '__dict__',\n",
       " '__dir__',\n",
       " '__doc__',\n",
       " '__eq__',\n",
       " '__format__',\n",
       " '__ge__',\n",
       " '__getattribute__',\n",
       " '__getstate__',\n",
       " '__gt__',\n",
       " '__hash__',\n",
       " '__init__',\n",
       " '__init_subclass__',\n",
       " '__le__',\n",
       " '__lt__',\n",
       " '__module__',\n",
       " '__ne__',\n",
       " '__new__',\n",
       " '__reduce__',\n",
       " '__reduce_ex__',\n",
       " '__repr__',\n",
       " '__setattr__',\n",
       " '__sizeof__',\n",
       " '__str__',\n",
       " '__subclasshook__',\n",
       " '__weakref__',\n",
       " 'age',\n",
       " 'fn',\n",
       " 'name',\n",
       " 'rollno',\n",
       " 'saysHi']"
      ]
     },
     "execution_count": 143,
     "metadata": {},
     "output_type": "execute_result"
    }
   ],
   "source": [
    "dir(s1)"
   ]
  },
  {
   "cell_type": "code",
   "execution_count": 144,
   "id": "5de1d451-54d6-44f6-ba91-e162da557571",
   "metadata": {},
   "outputs": [
    {
     "data": {
      "text/plain": [
       "30"
      ]
     },
     "execution_count": 144,
     "metadata": {},
     "output_type": "execute_result"
    }
   ],
   "source": [
    "a = 10\n",
    "b = 20\n",
    "a+b"
   ]
  },
  {
   "cell_type": "code",
   "execution_count": 145,
   "id": "a1b0d3d0-31d6-4143-96a6-3ded13812024",
   "metadata": {},
   "outputs": [
    {
     "data": {
      "text/plain": [
       "[1, 2, 3, 4, 5, 6]"
      ]
     },
     "execution_count": 145,
     "metadata": {},
     "output_type": "execute_result"
    }
   ],
   "source": [
    "l1 = [1,2,3]\n",
    "l2 = [4,5,6]\n",
    "l1+l2"
   ]
  },
  {
   "cell_type": "code",
   "execution_count": null,
   "id": "4121fe1a-f19e-472c-a25b-3a0f8499fdea",
   "metadata": {},
   "outputs": [],
   "source": []
  },
  {
   "cell_type": "code",
   "execution_count": 188,
   "id": "79241dbe-070a-4590-a758-6fb661252962",
   "metadata": {},
   "outputs": [],
   "source": [
    "class Car:\n",
    "\n",
    "    def __init__(self,model,mileage):\n",
    "        self.model = model\n",
    "        self.mileage = mileage\n",
    "\n",
    "    def __add__(s,o):\n",
    "        return Car(s.model,s.mileage+o.mileage)\n",
    "\n",
    "    def __len__(self):\n",
    "        return len(self.model)\n",
    "\n",
    "    def __str__(self):\n",
    "        return f\"Model: {self.model}, mileage: {self.mileage}\"\n",
    "\n",
    "    def __ge__(self,other):\n",
    "        print(\"In Greater Dunder\")\n",
    "        return self.mileage >= other.mileage\n",
    "\n",
    "    def __eq__(self,other):\n",
    "        return self.model == other.model and self.mileage == other.mileage"
   ]
  },
  {
   "cell_type": "code",
   "execution_count": 189,
   "id": "84857436-d9e3-43a1-984d-08ca654f9ed6",
   "metadata": {},
   "outputs": [],
   "source": [
    "c1 = Car(\"BMW\",30)\n",
    "c2 = Car(\"Audi\",25)"
   ]
  },
  {
   "cell_type": "code",
   "execution_count": 190,
   "id": "b26b1715-e415-4c18-b0cc-08ae9a6dbec6",
   "metadata": {},
   "outputs": [
    {
     "name": "stdout",
     "output_type": "stream",
     "text": [
      "BMW 55\n"
     ]
    }
   ],
   "source": [
    "c3 = c1+c2\n",
    "# c3 = c1.__add__(c2)\n",
    "print(c3.model,c3.mileage)"
   ]
  },
  {
   "cell_type": "code",
   "execution_count": 191,
   "id": "a1f84002-ad4f-40a6-ba7f-f8f32ec3fcd3",
   "metadata": {},
   "outputs": [
    {
     "data": {
      "text/plain": [
       "7"
      ]
     },
     "execution_count": 191,
     "metadata": {},
     "output_type": "execute_result"
    }
   ],
   "source": [
    "len(l1)\n",
    "len(\"Shubham\")"
   ]
  },
  {
   "cell_type": "code",
   "execution_count": 192,
   "id": "8340b9c9-e241-4053-8db7-eb415579940a",
   "metadata": {},
   "outputs": [
    {
     "data": {
      "text/plain": [
       "3"
      ]
     },
     "execution_count": 192,
     "metadata": {},
     "output_type": "execute_result"
    }
   ],
   "source": [
    "len(c1)"
   ]
  },
  {
   "cell_type": "code",
   "execution_count": 193,
   "id": "d0f0acc3-7f84-4f72-9eb4-14f104018fda",
   "metadata": {},
   "outputs": [
    {
     "name": "stdout",
     "output_type": "stream",
     "text": [
      "[1, 2, 3]\n"
     ]
    }
   ],
   "source": [
    "print(l1)"
   ]
  },
  {
   "cell_type": "code",
   "execution_count": 194,
   "id": "f532d6b6-5370-49dc-b345-6ecd4f572336",
   "metadata": {},
   "outputs": [
    {
     "name": "stdout",
     "output_type": "stream",
     "text": [
      "Model: BMW, mileage: 30\n"
     ]
    }
   ],
   "source": [
    "print(c1)"
   ]
  },
  {
   "cell_type": "code",
   "execution_count": null,
   "id": "66495c30-86ce-4b48-96a4-2f940d6ba229",
   "metadata": {},
   "outputs": [],
   "source": []
  },
  {
   "cell_type": "code",
   "execution_count": 195,
   "id": "b56dbced-45a8-45cc-a7c1-3e8bc38c7ade",
   "metadata": {},
   "outputs": [
    {
     "name": "stdout",
     "output_type": "stream",
     "text": [
      "In Greater Dunder\n"
     ]
    },
    {
     "data": {
      "text/plain": [
       "False"
      ]
     },
     "execution_count": 195,
     "metadata": {},
     "output_type": "execute_result"
    }
   ],
   "source": [
    "c2 >= c1"
   ]
  },
  {
   "cell_type": "code",
   "execution_count": null,
   "id": "a01fd403-8eba-434f-a44a-da2ca653168b",
   "metadata": {},
   "outputs": [],
   "source": []
  },
  {
   "cell_type": "code",
   "execution_count": null,
   "id": "27e9c6e9-b78a-454e-a704-35a6ee259023",
   "metadata": {},
   "outputs": [],
   "source": [
    "class A:\n",
    "    pass\n",
    "class B:\n",
    "    pass\n",
    "class C:\n",
    "    pass\n",
    "class D:\n",
    "    pass"
   ]
  },
  {
   "cell_type": "code",
   "execution_count": null,
   "id": "1de32aa1-2598-4714-b269-e521c0396c09",
   "metadata": {},
   "outputs": [],
   "source": [
    "#Multi Level\n",
    "class A:\n",
    "    pass\n",
    "class B(A):\n",
    "    pass\n",
    "class C(B):\n",
    "    pass\n",
    "class D(C):\n",
    "    pass"
   ]
  },
  {
   "cell_type": "code",
   "execution_count": null,
   "id": "fab461d5-7201-43cd-bf31-8b5a5c800b5c",
   "metadata": {},
   "outputs": [],
   "source": [
    "class A:\n",
    "    pass\n",
    "class B(A):\n",
    "    pass\n",
    "class C(A):\n",
    "    pass"
   ]
  },
  {
   "cell_type": "code",
   "execution_count": 196,
   "id": "da0f8a58-c127-4c3a-b390-4be4b9e73892",
   "metadata": {},
   "outputs": [],
   "source": [
    "class A:\n",
    "    pass\n",
    "class B:\n",
    "    pass\n",
    "class C(A,B):\n",
    "    pass"
   ]
  },
  {
   "cell_type": "code",
   "execution_count": 197,
   "id": "8534bcc9-1328-4912-aee3-65db7e7fd6db",
   "metadata": {},
   "outputs": [
    {
     "name": "stdout",
     "output_type": "stream",
     "text": [
      "(<class '__main__.C'>, <class '__main__.A'>, <class '__main__.B'>, <class 'object'>)\n"
     ]
    }
   ],
   "source": [
    "print(C.__mro__)"
   ]
  },
  {
   "cell_type": "code",
   "execution_count": 202,
   "id": "041455fc-2624-4c10-9190-383837dd067b",
   "metadata": {},
   "outputs": [],
   "source": [
    "class A0:\n",
    "    pass\n",
    "class A1(A0):\n",
    "    pass\n",
    "class A2:\n",
    "    pass\n",
    "class B(A1):\n",
    "    pass\n",
    "class C(A2):\n",
    "    pass\n",
    "class D(B,C):\n",
    "    pass"
   ]
  },
  {
   "cell_type": "code",
   "execution_count": 203,
   "id": "283416bc-e3ef-4e83-8641-ec8bcebc6f05",
   "metadata": {},
   "outputs": [
    {
     "name": "stdout",
     "output_type": "stream",
     "text": [
      "(<class '__main__.D'>, <class '__main__.B'>, <class '__main__.A1'>, <class '__main__.A0'>, <class '__main__.C'>, <class '__main__.A2'>, <class 'object'>)\n"
     ]
    }
   ],
   "source": [
    "print(D.__mro__)"
   ]
  },
  {
   "cell_type": "code",
   "execution_count": null,
   "id": "07939e81-2422-4abb-9e19-008e4c2859b7",
   "metadata": {},
   "outputs": [],
   "source": []
  },
  {
   "cell_type": "code",
   "execution_count": null,
   "id": "13d5f6f6-7ad4-4d49-96f2-a09f7f76b348",
   "metadata": {},
   "outputs": [],
   "source": []
  },
  {
   "cell_type": "code",
   "execution_count": null,
   "id": "6312b26d-38bc-456a-99ba-a64211332ce5",
   "metadata": {},
   "outputs": [],
   "source": []
  },
  {
   "cell_type": "code",
   "execution_count": null,
   "id": "9c3242f2-b7a1-4576-ae9f-f78c604b4789",
   "metadata": {},
   "outputs": [],
   "source": []
  },
  {
   "cell_type": "code",
   "execution_count": null,
   "id": "edbe1c2c-29c9-4a12-b567-aebd46b3d0a6",
   "metadata": {},
   "outputs": [],
   "source": []
  },
  {
   "cell_type": "code",
   "execution_count": null,
   "id": "d89a8eff-8d6a-4572-b635-60e0636d1a45",
   "metadata": {},
   "outputs": [],
   "source": []
  }
 ],
 "metadata": {
  "kernelspec": {
   "display_name": "Python 3 (ipykernel)",
   "language": "python",
   "name": "python3"
  },
  "language_info": {
   "codemirror_mode": {
    "name": "ipython",
    "version": 3
   },
   "file_extension": ".py",
   "mimetype": "text/x-python",
   "name": "python",
   "nbconvert_exporter": "python",
   "pygments_lexer": "ipython3",
   "version": "3.12.8"
  }
 },
 "nbformat": 4,
 "nbformat_minor": 5
}
