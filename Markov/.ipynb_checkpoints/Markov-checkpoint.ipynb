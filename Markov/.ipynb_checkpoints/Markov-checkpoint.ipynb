{
 "cells": [
  {
   "cell_type": "markdown",
   "id": "033047ca-2343-421a-9073-d6fdd6d083f2",
   "metadata": {},
   "source": [
    "## Markov Chain\n",
    "- Probabistic Model for Text/Natural Language Generation\n",
    "- Simple and effective way of generating new text\n",
    "    - Text\n",
    "    - Lyrics\n",
    "    - Story/Novel\n",
    "    - Code"
   ]
  },
  {
   "cell_type": "code",
   "execution_count": null,
   "id": "4e9e134d-7fab-443f-a657-754cae7def24",
   "metadata": {},
   "outputs": [],
   "source": [
    "text = \"the man was ....they...then.... the ... the  \"\n",
    "\n",
    "# X is the sequence of 'K = 3' and Y is predicted character or K+1 the character\n",
    "\n",
    "X      Y     Freq\n",
    "the    \" \"    4\n",
    "the    \"n\"    2\n",
    "the    \"y\"    1\n",
    "the    \"i\"    1\n",
    "man    \"_\"    1"
   ]
  },
  {
   "cell_type": "code",
   "execution_count": 7,
   "id": "4b2269e6-1b3d-4fe0-a3b0-c54c47c7bea0",
   "metadata": {},
   "outputs": [],
   "source": [
    "import numpy as np"
   ]
  },
  {
   "cell_type": "code",
   "execution_count": 47,
   "id": "cafce88f-cc98-4ae0-b5ff-9cf86fd03bb3",
   "metadata": {},
   "outputs": [],
   "source": [
    "def generateTable(text,k = 4):\n",
    "    text = text.lower()\n",
    "    d = {}\n",
    "    for i in range(len(text)-k):\n",
    "        t = text[i:i+k]\n",
    "        p = text[i+k]\n",
    "        if t in d:\n",
    "            d[t][p] = d[t].get(p,0)+1\n",
    "        else:\n",
    "            d[t] = {p:1}\n",
    "    return d"
   ]
  },
  {
   "cell_type": "code",
   "execution_count": 48,
   "id": "171463df-1569-4b0a-b3b9-5aec0f974d26",
   "metadata": {},
   "outputs": [
    {
     "name": "stdout",
     "output_type": "stream",
     "text": [
      "{'hell': {'o': 2, 'i': 1}, 'ello': {' ': 2}, 'llo ': {'h': 2}, 'lo h': {'e': 2}, 'o he': {'l': 2}, ' hel': {'l': 2}}\n"
     ]
    }
   ],
   "source": [
    "T = generateTable(\"hello hello helli\")\n",
    "print(T)"
   ]
  },
  {
   "cell_type": "code",
   "execution_count": 49,
   "id": "362dbd26-bcd5-4245-84e1-4cc27c8b3d9b",
   "metadata": {},
   "outputs": [],
   "source": [
    "def generateProb(text,k=4):\n",
    "    prob = generateTable(text,k)\n",
    "    for w in prob:\n",
    "        tc = sum(prob[w].values())\n",
    "        for c in prob[w]:\n",
    "            prob[w][c] /= tc\n",
    "    return prob"
   ]
  },
  {
   "cell_type": "code",
   "execution_count": 50,
   "id": "b27ab2b1-8c17-4aa8-baf8-36bb9ca52a05",
   "metadata": {},
   "outputs": [
    {
     "name": "stdout",
     "output_type": "stream",
     "text": [
      "{'hell': {'o': 0.6666666666666666, 'i': 0.3333333333333333}, 'ello': {' ': 1.0}, 'llo ': {'h': 1.0}, 'lo h': {'e': 1.0}, 'o he': {'l': 1.0}, ' hel': {'l': 1.0}}\n"
     ]
    }
   ],
   "source": [
    "T = generateProb(\"hello hello helli\")\n",
    "print(T)"
   ]
  },
  {
   "cell_type": "code",
   "execution_count": 51,
   "id": "30683574-5687-46c4-bd27-4eabfaa3474f",
   "metadata": {},
   "outputs": [],
   "source": [
    "def nextSequenceChar(seq,prob):\n",
    "    if seq not in prob:\n",
    "        return ' '\n",
    "    else:\n",
    "        return np.random.choice(list(prob[seq].keys()),p = list(prob[seq].values()))"
   ]
  },
  {
   "cell_type": "code",
   "execution_count": 52,
   "id": "2efe01f3-e513-40a9-8a5b-795844710c64",
   "metadata": {},
   "outputs": [
    {
     "name": "stdout",
     "output_type": "stream",
     "text": [
      "o\n",
      "o\n",
      "o\n",
      "o\n",
      "o\n",
      "o\n",
      "i\n",
      "o\n",
      "i\n",
      "o\n"
     ]
    }
   ],
   "source": [
    "for i in range(10):\n",
    "    print(nextSequenceChar(\"hell\",T))"
   ]
  },
  {
   "cell_type": "code",
   "execution_count": 55,
   "id": "b1229606-ed8d-45ed-a58f-6b7e91556f7f",
   "metadata": {},
   "outputs": [],
   "source": [
    "def generateText(intial_text,prob,max_len = 10,k=4):\n",
    "    intial_text = intial_text.lower()\n",
    "    seq = intial_text[-k:]\n",
    "    g_text = intial_text\n",
    "    for i in range(max_len):\n",
    "        ch = nextSequenceChar(seq,prob)\n",
    "        g_text = g_text+ch\n",
    "        seq = g_text[-k:]\n",
    "    return g_text"
   ]
  },
  {
   "cell_type": "code",
   "execution_count": 56,
   "id": "6bd14d0b-c1aa-484f-a89d-f074619f4ed1",
   "metadata": {},
   "outputs": [
    {
     "data": {
      "text/plain": [
       "'hello helli             '"
      ]
     },
     "execution_count": 56,
     "metadata": {},
     "output_type": "execute_result"
    }
   ],
   "source": [
    "generateText(\"hell\",T,max_len=20)"
   ]
  },
  {
   "cell_type": "code",
   "execution_count": 59,
   "id": "84a1672f-36b6-48e6-8184-e73286900e70",
   "metadata": {},
   "outputs": [],
   "source": [
    "def markovProcess(text,seed_text,k = 4,max_len = 100):\n",
    "    prob = generateProb(text,k)\n",
    "    # print(prob)\n",
    "    g_text = generateText(seed_text,prob,max_len,k)\n",
    "    return g_text"
   ]
  },
  {
   "cell_type": "code",
   "execution_count": 65,
   "id": "b7f1607f-e368-4349-8f36-d5fa2005b850",
   "metadata": {},
   "outputs": [
    {
     "name": "stdout",
     "output_type": "stream",
     "text": [
      "dear country's sixth largest economy. in that time parliament, among with their rights.\n",
      "\n",
      "today.\n",
      "\n",
      "my dear country, many good rajya bagh. how order to the festival of the glory of tried to protect the evidence and floods, when our soldiers of sacrifice forceful with hard work. today's independence. i heartily great men hanging the festival of independence, in the hanging us to the celebrating the are celebrating the countrymen, the country and how long. this freedom of you wishes of the leadership of the hanged ones due to lives in the countrymen, to living this time parliament, among the seven seas and flower lives in the soldiers of independence in their live and die, the house ranks of massacrifice of the evidence.\n",
      "\n",
      "today is not india has brought new constitutional of the world's sixth largest tricolor of dreams with sensitivity and happiness. i heartily resolve of the respect the commissions of independence at the has tricolor flag to be oppressed seven states crossing in the so many of \n"
     ]
    }
   ],
   "source": [
    "with open('english_speech_2.txt','r') as file:\n",
    "    print(markovProcess(file.read(),'dear',k=4,max_len = 1000))"
   ]
  },
  {
   "cell_type": "code",
   "execution_count": null,
   "id": "73a73a19-bb75-49bf-8a18-82f446aab8ce",
   "metadata": {},
   "outputs": [],
   "source": []
  },
  {
   "cell_type": "code",
   "execution_count": null,
   "id": "55bc9b8e-d2d3-434b-8090-fc6771552610",
   "metadata": {},
   "outputs": [],
   "source": []
  }
 ],
 "metadata": {
  "kernelspec": {
   "display_name": "Python 3 (ipykernel)",
   "language": "python",
   "name": "python3"
  },
  "language_info": {
   "codemirror_mode": {
    "name": "ipython",
    "version": 3
   },
   "file_extension": ".py",
   "mimetype": "text/x-python",
   "name": "python",
   "nbconvert_exporter": "python",
   "pygments_lexer": "ipython3",
   "version": "3.12.8"
  }
 },
 "nbformat": 4,
 "nbformat_minor": 5
}
