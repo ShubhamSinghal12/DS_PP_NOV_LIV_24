{
 "cells": [
  {
   "cell_type": "markdown",
   "id": "2228a98a-92b2-4348-9c01-b0bedebe1a9c",
   "metadata": {
    "jp-MarkdownHeadingCollapsed": true
   },
   "source": [
    "# Data Acquisition - Web API's\n",
    "- Application Programming Interface - Set of Routines running over Web Server\n",
    "- Connects Application & Database\n",
    "- Specify Data with URL\n",
    "- Retrieve Data & Parse It\n",
    "- API may return data in JSON, XML data format's\n",
    "\n",
    "# JSON\n",
    "- JavaScript Object Notation\n",
    "- Dictionary Like Data-Structure: key value pairs\n",
    "- keys are string, values can be anything\n",
    "- Easy to reaad and write"
   ]
  },
  {
   "cell_type": "markdown",
   "id": "f9d53a57-3aa8-47b6-b94a-6ce8d24ca62f",
   "metadata": {},
   "source": [
    "# Type of Requests\n",
    "- GET\n",
    "- POST\n",
    "- DELETE\n",
    "- PUT\n",
    "- PATCH"
   ]
  },
  {
   "cell_type": "markdown",
   "id": "6d36f2a1-b049-4be6-8d0b-a67d75cc15e9",
   "metadata": {},
   "source": [
    "# Requests Library\n",
    "- Most popular Python Library\n",
    "\n",
    "# Installation\n",
    "```\n",
    "pip install requests\n",
    "```"
   ]
  },
  {
   "cell_type": "code",
   "execution_count": 1,
   "id": "10cf6c5f-f06e-4e41-8774-14cc0129ebcb",
   "metadata": {},
   "outputs": [],
   "source": [
    "import requests"
   ]
  },
  {
   "cell_type": "code",
   "execution_count": 2,
   "id": "b4d2b0c3-f90c-4c0e-981b-1e84c02bcd11",
   "metadata": {},
   "outputs": [
    {
     "name": "stdout",
     "output_type": "stream",
     "text": [
      "2.32.3\n"
     ]
    }
   ],
   "source": [
    "print(requests.__version__)"
   ]
  },
  {
   "cell_type": "code",
   "execution_count": 66,
   "id": "8e0d3c1c-71c5-4a89-862f-d4f4be4ce233",
   "metadata": {},
   "outputs": [],
   "source": [
    "url = \"https://catfact.ninja/\"\n",
    "response = requests.get(url+'fact',params={'max_length':50})"
   ]
  },
  {
   "cell_type": "code",
   "execution_count": 67,
   "id": "08e30482-97a8-400f-ba22-209cd6b9aa22",
   "metadata": {},
   "outputs": [
    {
     "name": "stdout",
     "output_type": "stream",
     "text": [
      "<Response [200]>\n"
     ]
    }
   ],
   "source": [
    "print(response)"
   ]
  },
  {
   "cell_type": "code",
   "execution_count": 68,
   "id": "33df95ee-4e21-4e04-883d-04073c07f102",
   "metadata": {},
   "outputs": [
    {
     "data": {
      "text/plain": [
       "'{\"fact\":\"Cats have 3 eyelids.\",\"length\":20}'"
      ]
     },
     "execution_count": 68,
     "metadata": {},
     "output_type": "execute_result"
    }
   ],
   "source": [
    "response.text"
   ]
  },
  {
   "cell_type": "code",
   "execution_count": 69,
   "id": "07f7a03f-a737-41ab-860a-1634a52c8fd2",
   "metadata": {},
   "outputs": [],
   "source": [
    "import json\n",
    "data = json.loads(response.text)"
   ]
  },
  {
   "cell_type": "code",
   "execution_count": 70,
   "id": "bab87cf8-4d90-4b2c-ac84-e37c0d2b66e6",
   "metadata": {},
   "outputs": [
    {
     "data": {
      "text/plain": [
       "'Cats have 3 eyelids.'"
      ]
     },
     "execution_count": 70,
     "metadata": {},
     "output_type": "execute_result"
    }
   ],
   "source": [
    "data['fact']"
   ]
  },
  {
   "cell_type": "code",
   "execution_count": 71,
   "id": "59ecfb16-bb3d-4f09-ba59-0eb76a13d808",
   "metadata": {},
   "outputs": [
    {
     "data": {
      "text/plain": [
       "20"
      ]
     },
     "execution_count": 71,
     "metadata": {},
     "output_type": "execute_result"
    }
   ],
   "source": [
    "data['length']"
   ]
  },
  {
   "cell_type": "code",
   "execution_count": 72,
   "id": "fe80d99d-48e4-4a2e-88d6-9c50dc0f921b",
   "metadata": {},
   "outputs": [
    {
     "data": {
      "text/plain": [
       "{'fact': 'Cats have 3 eyelids.', 'length': 20}"
      ]
     },
     "execution_count": 72,
     "metadata": {},
     "output_type": "execute_result"
    }
   ],
   "source": [
    "response.json()"
   ]
  },
  {
   "cell_type": "code",
   "execution_count": null,
   "id": "ed75d919-287d-40bc-ba2a-63725f19b537",
   "metadata": {},
   "outputs": [],
   "source": []
  },
  {
   "cell_type": "code",
   "execution_count": 77,
   "id": "f9eb7db0-e808-4eee-90de-968ec08ddd74",
   "metadata": {},
   "outputs": [
    {
     "data": {
      "text/plain": [
       "{'fact': 'A group of cats is called a clowder.', 'length': 36}"
      ]
     },
     "execution_count": 77,
     "metadata": {},
     "output_type": "execute_result"
    }
   ],
   "source": [
    "res = requests.get('https://catfact.ninja/fact?max_length=50')\n",
    "res.json()"
   ]
  },
  {
   "cell_type": "code",
   "execution_count": null,
   "id": "59e23074-162d-4d10-8695-611d9bc1d432",
   "metadata": {},
   "outputs": [],
   "source": []
  },
  {
   "cell_type": "code",
   "execution_count": 90,
   "id": "97c14d79-3cc4-4c4e-b354-25b94e134df3",
   "metadata": {},
   "outputs": [],
   "source": [
    "url = \"https://catfact.ninja/\"\n",
    "response = requests.get(url+'facts',params={'max_length':100,'limit':10})"
   ]
  },
  {
   "cell_type": "code",
   "execution_count": 91,
   "id": "68db6652-0745-4b8c-bfc3-91a48f565dc2",
   "metadata": {
    "scrolled": true
   },
   "outputs": [
    {
     "data": {
      "text/plain": [
       "{'current_page': 1,\n",
       " 'data': [{'fact': 'Cats have 3 eyelids.', 'length': 20},\n",
       "  {'fact': 'Cats walk on their toes.', 'length': 24},\n",
       "  {'fact': 'Most cats adore sardines.', 'length': 25},\n",
       "  {'fact': 'Cats dislike citrus scent.', 'length': 26},\n",
       "  {'fact': 'Cats have supersonic hearing', 'length': 28},\n",
       "  {'fact': 'Female cats are polyestrous', 'length': 28},\n",
       "  {'fact': 'A form of AIDS exists in cats.', 'length': 30},\n",
       "  {'fact': 'Female felines are \\\\superfecund', 'length': 31},\n",
       "  {'fact': 'Milk can give some cats diarrhea.', 'length': 33},\n",
       "  {'fact': 'A group of cats is called a clowder.', 'length': 36}],\n",
       " 'first_page_url': 'https://catfact.ninja/facts?page=1',\n",
       " 'from': 1,\n",
       " 'last_page': 18,\n",
       " 'last_page_url': 'https://catfact.ninja/facts?page=18',\n",
       " 'links': [{'url': None, 'label': 'Previous', 'active': False},\n",
       "  {'url': 'https://catfact.ninja/facts?page=1', 'label': '1', 'active': True},\n",
       "  {'url': 'https://catfact.ninja/facts?page=2', 'label': '2', 'active': False},\n",
       "  {'url': 'https://catfact.ninja/facts?page=3', 'label': '3', 'active': False},\n",
       "  {'url': 'https://catfact.ninja/facts?page=4', 'label': '4', 'active': False},\n",
       "  {'url': 'https://catfact.ninja/facts?page=5', 'label': '5', 'active': False},\n",
       "  {'url': 'https://catfact.ninja/facts?page=6', 'label': '6', 'active': False},\n",
       "  {'url': 'https://catfact.ninja/facts?page=7', 'label': '7', 'active': False},\n",
       "  {'url': 'https://catfact.ninja/facts?page=8', 'label': '8', 'active': False},\n",
       "  {'url': 'https://catfact.ninja/facts?page=9', 'label': '9', 'active': False},\n",
       "  {'url': 'https://catfact.ninja/facts?page=10',\n",
       "   'label': '10',\n",
       "   'active': False},\n",
       "  {'url': None, 'label': '...', 'active': False},\n",
       "  {'url': 'https://catfact.ninja/facts?page=17',\n",
       "   'label': '17',\n",
       "   'active': False},\n",
       "  {'url': 'https://catfact.ninja/facts?page=18',\n",
       "   'label': '18',\n",
       "   'active': False},\n",
       "  {'url': 'https://catfact.ninja/facts?page=2',\n",
       "   'label': 'Next',\n",
       "   'active': False}],\n",
       " 'next_page_url': 'https://catfact.ninja/facts?page=2',\n",
       " 'path': 'https://catfact.ninja/facts',\n",
       " 'per_page': 10,\n",
       " 'prev_page_url': None,\n",
       " 'to': 10,\n",
       " 'total': 174}"
      ]
     },
     "execution_count": 91,
     "metadata": {},
     "output_type": "execute_result"
    }
   ],
   "source": [
    "response.json()"
   ]
  },
  {
   "cell_type": "code",
   "execution_count": 92,
   "id": "e9206233-58ac-4044-9fa0-61341922e747",
   "metadata": {},
   "outputs": [
    {
     "data": {
      "text/plain": [
       "{'args': {},\n",
       " 'data': '',\n",
       " 'files': {},\n",
       " 'form': {'pass': '1234', 'user': 'Shubham'},\n",
       " 'headers': {'Accept': '*/*',\n",
       "  'Accept-Encoding': 'gzip, deflate',\n",
       "  'Content-Length': '22',\n",
       "  'Content-Type': 'application/x-www-form-urlencoded',\n",
       "  'Host': 'httpbin.org',\n",
       "  'User-Agent': 'python-requests/2.32.3',\n",
       "  'X-Amzn-Trace-Id': 'Root=1-6797a73a-245992c622088fae77374827'},\n",
       " 'json': None,\n",
       " 'origin': '122.161.68.113',\n",
       " 'url': 'https://httpbin.org/post'}"
      ]
     },
     "execution_count": 92,
     "metadata": {},
     "output_type": "execute_result"
    }
   ],
   "source": [
    "res = requests.post('https://httpbin.org/post',data = {'user':'Shubham','pass':1234})\n",
    "res.json()"
   ]
  },
  {
   "cell_type": "code",
   "execution_count": null,
   "id": "c5eb2007-817e-4800-afa4-5c117e46f003",
   "metadata": {},
   "outputs": [],
   "source": []
  },
  {
   "cell_type": "code",
   "execution_count": 96,
   "id": "c17c0dcc-59ab-423f-8af6-dc97dc90914c",
   "metadata": {},
   "outputs": [
    {
     "name": "stdout",
     "output_type": "stream",
     "text": [
      "{'message': 'invalid show id'}\n"
     ]
    }
   ],
   "source": [
    "import requests\n",
    "\n",
    "url = \"https://streaming-availability.p.rapidapi.com/shows/%7Bid%7D\"\n",
    "\n",
    "querystring = {\"series_granularity\":\"show\",\"output_language\":\"en\"}\n",
    "\n",
    "headers = {\n",
    "\t\"x-rapidapi-key\": \"f116546a82msh89ad07023d40b8ap14acd1jsn74492204a0ae\",\n",
    "\t\"x-rapidapi-host\": \"streaming-availability.p.rapidapi.com\"\n",
    "}\n",
    "\n",
    "response = requests.get(url, headers=headers, params=querystring)\n",
    "\n",
    "print(response.json())"
   ]
  },
  {
   "cell_type": "code",
   "execution_count": 98,
   "id": "ef6a1a37-9ebe-4d4c-9826-04fae1067328",
   "metadata": {
    "scrolled": true
   },
   "outputs": [
    {
     "name": "stdout",
     "output_type": "stream",
     "text": [
      "{'status': 'OK', 'request_id': '8ae24888-8a85-482a-83b6-8df05b5862c7', 'parameters': {'asin': 'B07ZPKBL9V', 'country': 'US'}, 'data': {'asin': 'B07ZPKBL9V', 'product_title': 'Apple iPhone 11, 64GB, (PRODUCT)RED - Fully Unlocked (Renewed)', 'product_price': '$209.00', 'product_original_price': None, 'currency': 'USD', 'country': 'US', 'product_byline': 'Visit the Amazon Renewed Store', 'product_byline_link': 'https://www.amazon.com/Amazon-Renewed/b/ref=bl_dp_s_web_12653393011?ie=UTF8&node=12653393011&field-lbr_brands_browse-bin=Amazon+Renewed', 'product_star_rating': '4.2', 'product_num_ratings': 54774, 'product_url': 'https://www.amazon.com/dp/B07ZPKBL9V', 'product_photo': 'https://m.media-amazon.com/images/I/514k7uOBMwL._AC_SL1000_.jpg', 'product_num_offers': 48, 'product_availability': 'In stock                 Usually ships within 3 to 4 days.', 'is_best_seller': False, 'is_amazon_choice': False, 'is_prime': False, 'climate_pledge_friendly': True, 'sales_volume': '300+ bought in past month', 'about_product': ['This phone is unlocked and compatible with any carrier of choice on GSM and CDMA networks (e.g. AT&T, T-Mobile, Sprint, Verizon, US Cellular, Cricket, Metro, Tracfone, Mint Mobile, etc.).', 'Tested for battery health and guaranteed to have a minimum battery capacity of 80%.', 'Successfully passed a full diagnostic test which ensures like-new functionality and removal of any prior-user personal information.'], 'product_description': 'The iPhone 11 features a 6.1-inch LCD display that Apple calls a \"Liquid Retina HD Display.\" It features a 1792 x 828 resolution at 326ppi, a 1400:1 contrast ratio, 625 nits max brightness, True Tone support for adjusting the white balance to the ambient lighting, and wide color support for true-to-life colors. The iPhone 11 is available in six different colors: White, Black, Yellow, (PRODUCT)RED, Purple, and Green.', 'product_information': {'Product Dimensions': '7 x 5 x 4 inches', 'Item Weight': '6.7 ounces', 'ASIN': 'B07ZPKBL9V', 'Item model number': 'iPhone 11', 'Batteries': '1 Lithium Ion batteries required. (included)', 'Best Sellers Rank': '#512 in Cell Phones & Accessories (See Top 100 in Cell Phones & Accessories)   #6 in Renewed Smartphones   #7 in Cell Phones', 'Is Discontinued By Manufacturer': 'No', 'OS': 'iOS 16', 'RAM': '4 GB', 'Wireless communication technologies': 'Cellular', 'Connectivity technologies': 'Bluetooth, Wi-Fi, USB, NFC', 'GPS': 'True', 'Special features': 'Built-In GPS', 'Other display features': 'Wireless', 'Human Interface Input': 'Touchscreen', 'Scanner Resolution': '1792x828', 'Other camera features': 'Front, Rear', 'Form Factor': 'Smartphone', 'Color': 'Red', 'Battery Power Rating': '3600', 'Whats in the box': 'Apple iPhone, USB Data Cable', 'Manufacturer': 'Apple Computer', 'Date First Available': 'October 28, 2019', 'Memory Storage Capacity': '64 GB', 'Standing screen display size': '6.1 Inches', 'Ram Memory Installed Size': '4 GB', 'Weight': '0.19 Kilograms'}, 'product_photos': ['https://m.media-amazon.com/images/I/514k7uOBMwL._AC_SL1000_.jpg', 'https://m.media-amazon.com/images/I/71fBbZoMdGL._AC_SL1500_.jpg', 'https://m.media-amazon.com/images/I/61PdhJpC4NL._AC_SL1500_.jpg', 'https://m.media-amazon.com/images/I/61Ed2L5egWL._AC_SL1500_.jpg'], 'product_videos': [], 'has_video': False, 'product_details': {'Brand': 'Apple', 'Operating System': 'iOS 16', 'Ram Memory Installed Size': '4 GB', 'CPU Model': 'A13', 'CPU Speed': '690 MHz', 'Memory Storage Capacity': '64 GB', 'Screen Size': '6.1 Inches', 'Resolution': '1792x828', 'Refresh Rate': '60 Hz', 'Model Name': 'iPhone 11'}, 'customers_say': \"Customers appreciate the phone's functionality, quality, and value for money. They find it reliable and efficient. Some customers like its looks. However, some dislike the sound quality and have differing views on battery life, screen scratches, and charging capability.\", 'category': None, 'category_path': [{'id': '2335752011', 'name': 'Cell Phones & Accessories', 'link': 'https://www.amazon.com/cell-phones-service-plans-accessories/b/ref=dp_bc_aui_C_1?ie=UTF8&node=2335752011'}, {'id': '7072561011', 'name': 'Cell Phones', 'link': 'https://www.amazon.com/cell-phone-devices/b/ref=dp_bc_aui_C_2?ie=UTF8&node=7072561011'}], 'product_variations': [], 'has_aplus': False, 'has_brandstory': False}}\n"
     ]
    }
   ],
   "source": [
    "import requests\n",
    "\n",
    "url = \"https://real-time-amazon-data.p.rapidapi.com/product-details\"\n",
    "\n",
    "querystring = {\"asin\":\"B07ZPKBL9V\",\"country\":\"US\"}\n",
    "\n",
    "headers = {\n",
    "\t\"x-rapidapi-key\": \"f116546a82msh89ad07023d40b8ap14acd1jsn74492204a0ae\",\n",
    "\t\"x-rapidapi-host\": \"real-time-amazon-data.p.rapidapi.com\"\n",
    "}\n",
    "\n",
    "response = requests.get(url, headers=headers, params=querystring)\n",
    "\n",
    "print(response.json())"
   ]
  },
  {
   "cell_type": "code",
   "execution_count": 100,
   "id": "818dee97-6968-4bf0-9847-2efaffd72abf",
   "metadata": {},
   "outputs": [],
   "source": [
    "# res.content images "
   ]
  },
  {
   "cell_type": "code",
   "execution_count": null,
   "id": "596d792a-f501-4bc2-b2cf-67fc7b272713",
   "metadata": {},
   "outputs": [],
   "source": []
  }
 ],
 "metadata": {
  "kernelspec": {
   "display_name": "Python 3 (ipykernel)",
   "language": "python",
   "name": "python3"
  },
  "language_info": {
   "codemirror_mode": {
    "name": "ipython",
    "version": 3
   },
   "file_extension": ".py",
   "mimetype": "text/x-python",
   "name": "python",
   "nbconvert_exporter": "python",
   "pygments_lexer": "ipython3",
   "version": "3.12.8"
  }
 },
 "nbformat": 4,
 "nbformat_minor": 5
}
