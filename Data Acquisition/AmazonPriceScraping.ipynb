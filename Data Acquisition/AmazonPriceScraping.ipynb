{
 "cells": [
  {
   "cell_type": "code",
   "execution_count": 1,
   "id": "0ac978c7-f59a-4581-90e1-9589a1af3f76",
   "metadata": {},
   "outputs": [],
   "source": [
    "import requests\n",
    "import bs4"
   ]
  },
  {
   "cell_type": "code",
   "execution_count": 22,
   "id": "6761f755-ef5f-441f-945e-902bfb6e2f02",
   "metadata": {},
   "outputs": [],
   "source": [
    "links = [\n",
    "    'https://www.amazon.in/realme-Snapdragon-Processor-Periscope-RealWorld/dp/B0DMFDNDD5/?_encoding=UTF8&pd_rd_w=0z87B&content-id=amzn1.sym.2c27e899-f178-4798-841c-1b75fe8abb18&pf_rd_p=2c27e899-f178-4798-841c-1b75fe8abb18&pf_rd_r=SX9DK14NKTH781N3JGWS&pd_rd_wg=yw06e&pd_rd_r=82f1284d-ccc2-43bc-96b3-3c877e8a5e29&ref_=pd_hp_d_atf_dealz_cs&th=1',\n",
    "    'https://www.amazon.in/Samsung-Storage-Titanium-Additional-Exchange/dp/B0DSKMKJV5/ref=sr_1_1_sspa?crid=3AF8Y07YIB32Z&dib=eyJ2IjoiMSJ9.YFHwfIh7GPJJ09bm1bBID883VrFUJbn-giwXm2G7eZdSjxNNhbzRVvVRP2cfJO9Xl6hEE_Jhxwfd9Hl-YEOdAxnEsC4bK-OjX9b1d-RyYk3Jn-9C03K7VW3UZE9mg6L-iLjsY0m09KnVrh1Qkr9lz-lXPeSiHUMw8N2WQy1G2O5eJ9g3AHlu6cY8vupy_XG_IeJ1QS6495BQ6a6utuX-eHk5Yb74lIsTOBbAmGJYN5g.dusJUlNA7rlGuPYhPdsmUSoqmrQGERiqhLkFT9IZRrA&dib_tag=se&keywords=smartphone&qid=1738327781&sprefix=%2Caps%2C612&sr=8-1-spons&sp_csd=d2lkZ2V0TmFtZT1zcF9hdGY&th=1',\n",
    "    'https://www.amazon.in/realme-Storage-Comfort-Resistance-48-Month/dp/B0D947DTLT/?_encoding=UTF8&pd_rd_w=bifQp&content-id=amzn1.sym.2c27e899-f178-4798-841c-1b75fe8abb18&pf_rd_p=2c27e899-f178-4798-841c-1b75fe8abb18&pf_rd_r=T5ATZEY5H5DYZ25XK6V3&pd_rd_wg=HwgHi&pd_rd_r=46b5a7f9-7cf6-4690-94a4-e5e48d012f6c&ref_=pd_hp_d_atf_dealz_cs&th=1',\n",
    "    'https://www.amazon.in/iQOO-Storage-Snapdragon-Processor-Brightness/dp/B07WDJZY5Q/?_encoding=UTF8&pd_rd_w=bifQp&content-id=amzn1.sym.2c27e899-f178-4798-841c-1b75fe8abb18&pf_rd_p=2c27e899-f178-4798-841c-1b75fe8abb18&pf_rd_r=T5ATZEY5H5DYZ25XK6V3&pd_rd_wg=HwgHi&pd_rd_r=46b5a7f9-7cf6-4690-94a4-e5e48d012f6c&ref_=pd_hp_d_atf_dealz_cs&th=1',\n",
    "    'https://www.amazon.in/Refurbished-Lenovo-ThinkPad-Bluetooth-Graphics/dp/B0DMTPY8PJ/ref=sr_1_3?crid=1X416R886GGSJ&dib=eyJ2IjoiMSJ9.0LY3g6TAbc7qQ1fhYv9CiM68ntobS3spDKDIqw5fgIc8Ox0rk768f2AXPjrro46nBMHj_pX7mLZbk6k-woHfegQ0XmMCu0mbXFrzVyWOjtXE-Hme0DTssBswbPGeFhGwopCzirpQsZHCO2bFEHJqWgb_rR4OFtNBNnWC18kRCeqy3NEiuhg3u3VXH0ccbbhhYo3tpKBFYhAq7tuPrJdjXFJr79eKQPf-h1PPhXZ1ziE.LJlOgEjMjERn0n0Sk6zF51CEGAuIGm7mx3Qdo7Iy2rg&dib_tag=se&keywords=laptop&qid=1738332347&sprefix=laptop%2Caps%2C240&sr=8-3',\n",
    "    'https://www.amazon.in/Lenovo-IdeaPad-i5-12450H-Warranty-83ER008DIN/dp/B0CNVH114V/ref=sr_1_2_sspa?crid=1X416R886GGSJ&dib=eyJ2IjoiMSJ9.0LY3g6TAbc7qQ1fhYv9CiM68ntobS3spDKDIqw5fgIc8Ox0rk768f2AXPjrro46nBMHj_pX7mLZbk6k-woHfegQ0XmMCu0mbXFrzVyWOjtXE-Hme0DTssBswbPGeFhGwopCzirpQsZHCO2bFEHJqWgb_rR4OFtNBNnWC18kRCeqy3NEiuhg3u3VXH0ccbbhhYo3tpKBFYhAq7tuPrJdjXFJr79eKQPf-h1PPhXZ1ziE.LJlOgEjMjERn0n0Sk6zF51CEGAuIGm7mx3Qdo7Iy2rg&dib_tag=se&keywords=laptop&qid=1738332347&sprefix=laptop%2Caps%2C240&sr=8-2-spons&sp_csd=d2lkZ2V0TmFtZT1zcF9hdGY&th=1'\n",
    "]"
   ]
  },
  {
   "cell_type": "code",
   "execution_count": 27,
   "id": "b5f27aae-ee3a-4796-a558-396957f442b6",
   "metadata": {},
   "outputs": [],
   "source": [
    "data = []\n",
    "for url in links:\n",
    "    res = requests.get(url)\n",
    "    row = []\n",
    "    soup = bs4.BeautifulSoup(res.text)\n",
    "    name = soup.find('span',attrs = {'id':'productTitle'})\n",
    "    price = soup.find_all('span',attrs = {'class':'a-offscreen'})\n",
    "    row.append(name.text.strip())\n",
    "    row.append(price[0].text)\n",
    "    row.append(price[1].text)\n",
    "    data.append(row)"
   ]
  },
  {
   "cell_type": "code",
   "execution_count": 28,
   "id": "ee7940f8-0c13-4b4e-a178-3bc380d6224a",
   "metadata": {},
   "outputs": [
    {
     "data": {
      "text/plain": [
       "[[\"realme GT 7 Pro (Galaxy Grey,12GB+256GB) | India's First Snapdragon 8 Elite Processor | 3X Periscope Flagship Camera| RealWorld Eco² OLED Plus Display\",\n",
       "  '₹54,998.00',\n",
       "  ''],\n",
       " ['Samsung Galaxy S25 Ultra 5G AI Smartphone (Titanium Black, 12GB RAM, 512GB Storage), 200MP Camera, S Pen Included, Long Battery Life',\n",
       "  '₹1,41,999',\n",
       "  '₹1,29,999'],\n",
       " ['realme NARZO N61 (Voyage Blue,6GB RAM+128GB Storage) 90Hz Eye Comfort Display | IP54 Dust & Water Resistance | 48-Month Fluency | Charger in The Box',\n",
       "  '₹8,498.00',\n",
       "  ''],\n",
       " ['iQOO Z9S Pro 5G (Luxe Marble, 12Gb Ram, 256Gb Storage) | Snapdragon 7 Gen 3 Processor | 120 Hz Curved Amoled Display with 4500 Nits Local Peak Brightness | 5500 Mah Battery | Ai Erase, White',\n",
       "  '₹26,998.00',\n",
       "  ''],\n",
       " ['(Refurbished) Lenovo ThinkPad 8th Gen Intel Core i5 Thin & Light HD Laptop (16 GB DDR4 RAM/512 GB SSD/14 (35.6 cm) HD/Windows 11/MS Office/WiFi/Bluetooth 4.1/Webcam/Intel Graphics)',\n",
       "  '₹18,320.00',\n",
       "  '₹18,320.00'],\n",
       " ['Lenovo IdeaPad Slim 3 12th Gen Intel Core i5-12450H 15.6\" (39.6cm) FHD IPS Thin & Light Laptop (16GB/512GB SSD/Intel UHD Graphics/Win 11/MSO 21/Backlit KB/1 Yr ADP Free/Grey/1.6Kg), 83ER008DIN',\n",
       "  '₹50,130.00',\n",
       "  '']]"
      ]
     },
     "execution_count": 28,
     "metadata": {},
     "output_type": "execute_result"
    }
   ],
   "source": [
    "data"
   ]
  },
  {
   "cell_type": "code",
   "execution_count": null,
   "id": "302fdb04-0fba-458f-9cc1-a384444976b1",
   "metadata": {},
   "outputs": [],
   "source": []
  },
  {
   "cell_type": "code",
   "execution_count": null,
   "id": "1a76908b-96b7-43ef-aac0-39458a6b3cc3",
   "metadata": {},
   "outputs": [],
   "source": []
  },
  {
   "cell_type": "code",
   "execution_count": null,
   "id": "0b3a27d4-9ba6-46b9-a971-dc9d297a389e",
   "metadata": {},
   "outputs": [],
   "source": []
  },
  {
   "cell_type": "code",
   "execution_count": null,
   "id": "3bf6fb1b-2eb2-491e-a129-c46d338d577c",
   "metadata": {},
   "outputs": [],
   "source": []
  }
 ],
 "metadata": {
  "kernelspec": {
   "display_name": "Python 3 (ipykernel)",
   "language": "python",
   "name": "python3"
  },
  "language_info": {
   "codemirror_mode": {
    "name": "ipython",
    "version": 3
   },
   "file_extension": ".py",
   "mimetype": "text/x-python",
   "name": "python",
   "nbconvert_exporter": "python",
   "pygments_lexer": "ipython3",
   "version": "3.12.8"
  }
 },
 "nbformat": 4,
 "nbformat_minor": 5
}
