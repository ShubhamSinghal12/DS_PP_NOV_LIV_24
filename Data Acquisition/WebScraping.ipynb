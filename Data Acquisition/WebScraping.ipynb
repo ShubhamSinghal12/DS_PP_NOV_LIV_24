{
 "cells": [
  {
   "cell_type": "code",
   "execution_count": 7,
   "id": "ff149282-5f77-4cab-9fd1-a689e3188c73",
   "metadata": {},
   "outputs": [],
   "source": [
    "import requests\n",
    "import bs4"
   ]
  },
  {
   "cell_type": "code",
   "execution_count": 2,
   "id": "e1762548-e561-497e-8116-546713872f33",
   "metadata": {},
   "outputs": [],
   "source": [
    "res = requests.get(\"https://webscraper.io/test-sites/tables\")"
   ]
  },
  {
   "cell_type": "code",
   "execution_count": 3,
   "id": "debf221d-4a22-4388-ac1c-a92694139e8a",
   "metadata": {},
   "outputs": [
    {
     "data": {
      "text/plain": [
       "<Response [200]>"
      ]
     },
     "execution_count": 3,
     "metadata": {},
     "output_type": "execute_result"
    }
   ],
   "source": [
    "res"
   ]
  },
  {
   "cell_type": "code",
   "execution_count": 5,
   "id": "905ba30e-a0bc-49d4-9786-36a55bae5253",
   "metadata": {
    "scrolled": true
   },
   "outputs": [
    {
     "name": "stdout",
     "output_type": "stream",
     "text": [
      "<!DOCTYPE html>\n",
      "<html lang=\"en\">\n",
      "<head>\n",
      "\t<!-- Google Tag Manager -->\n",
      "<script nonce=\"guvo1JxL3ZUy7pvP6wOr9WPe2sxBEFdl\">(function (w, d, s, l, i) {\n",
      "\t\tw[l] = w[l] || [];\n",
      "\t\tw[l].push({\n",
      "\t\t\t'gtm.start':\n",
      "\t\t\t\tnew Date().getTime(), event: 'gtm.js'\n",
      "\t\t});\n",
      "\t\tvar f = d.getElementsByTagName(s)[0],\n",
      "\t\t\tj = d.createElement(s), dl = l != 'dataLayer' ? '&l=' + l : '';\n",
      "\t\tj.async = true;\n",
      "\t\tj.src =\n",
      "\t\t\t'https://www.googletagmanager.com/gtm.js?id=' + i + dl;\n",
      "\t\tf.parentNode.insertBefore(j, f);\n",
      "\t})(window, document, 'script', 'dataLayer', 'GTM-NVFPDWB');</script>\n",
      "<!-- End Google Tag Manager -->\n",
      "\t<title>Table Playground | Web Scraper Test Sites</title>\n",
      "\t<meta charset=\"utf-8\">\n",
      "\t<meta http-equiv=\"X-UA-Compatible\" content=\"IE=edge,chrome=1\">\n",
      "\n",
      "\t<meta name=\"keywords\"\n",
      "\t\t  content=\"web scraping,Web Scraper,Chrome extension,Crawling,Cross platform scraper\"/>\n",
      "\t<meta name=\"description\"\n",
      "\t\t  content=\"Test Web Scraper&#039;s features on basic table layouts. Practice extracting structured table data.\"/>\n",
      "\t<link rel=\"icon\" sizes=\"128x128\" href=\"/favicon.png\" type=\"image/png\">\n",
      "\t<link rel=\"icon\" href=\"/favicon.ico\" sizes=\"16x16 32x32\" type=\"image/x-icon\">\n",
      "\t<link rel=\"apple-touch-icon\" href=\"/logo-icon.png\" type=\"image/png\">\n",
      "\t<link rel=\"icon\" href=\"/icon.svg\" type=\"image/svg+xml\">\n",
      "\n",
      "\t<meta name=\"viewport\" content=\"width=device-width, initial-scale=1.0\">\n",
      "\t\n",
      "\t<link rel=\"preconnect\" href=\"https://fonts.googleapis.com\">\n",
      "\t<link rel=\"preconnect\" href=\"https://fonts.gstatic.com\" crossorigin>\n",
      "\t<link href=\"https://fonts.googleapis.com/css2?family=Roboto:wght@400;500;600&display=swap\" rel=\"stylesheet\">\n",
      "\t<link href=\"https://fonts.googleapis.com/css2?family=Montserrat:wght@300;400;500;600;700;900&display=swap\" rel=\"stylesheet\">\n",
      "\n",
      "\t<link rel=\"stylesheet\" href=\"/css/app.css?id=c4f94412a188f652d04799f62fe9513a\">\n",
      "\t<link rel=\"stylesheet\" href=\"/css/ws-icons.font.css?id=bc6c0d86aeabab8583f9814643f23faa\">\n",
      "\n",
      "\t<link rel=\"canonical\" href=\"https://webscraper.io/test-sites/tables\">\n",
      "\t<meta property=\"og:title\" content=\"Table Playground | Web Scraper Test Sites\">\n",
      "\t<meta property=\"og:description\" content=\"Test Web Scraper&#039;s features on basic table layouts. Practice extracting structured table data.\">\n",
      "\t<meta property=\"og:type\" content=\"website\">\n",
      "\t<meta property=\"og:url\" content=\"https://webscraper.io/test-sites/tables\">\n",
      "\t<meta property=\"og:image\" content=\"https://webscraper.io/webscraper-logo-header.png\">\n",
      "\n",
      "\t<script defer src=\"/js/app.js?id=3219ca5da633c2c0b7aea29533e05b5e\"></script>\n",
      "\n",
      "\t\n",
      "</head>\n",
      "<body>\n",
      "<!-- Google Tag Manager (noscript) -->\n",
      "<noscript>\n",
      "\t<iframe src=\"https://www.googletagmanager.com/ns.html?id=GTM-NVFPDWB\"\n",
      "\t        height=\"0\" width=\"0\" style=\"display:none;visibility:hidden\"></iframe>\n",
      "</noscript>\n",
      "<!-- End Google Tag Manager (noscript) -->\n",
      "<header role=\"banner\" class=\"navbar fixed-top navbar-expand-lg navbar-dark navbar-static svg-background\" id=\"navbar-top\">\n",
      "\t<div class=\"container\">\n",
      "\n",
      "\t\t<div class=\"navbar-header\">\n",
      "\n",
      "\t\t\t<a data-bs-toggle=\"collapse-side\" data-bs-target=\".side-collapse\" data-bs-target-2=\".side-collapse-container\">\n",
      "\t\t\t\t<button type=\"button\" class=\"navbar-toggler float-end collapsed\" data-bs-toggle=\"collapse\"\n",
      "\t\t\t\t\t\tdata-bs-target=\"#navbar\" data-bs-target-2=\".side-collapse-container\" data-bs-target-3=\".side-collapse\"\n",
      "\t\t\t\t\t\taria-expanded=\"false\" aria-controls=\"navbar\">\n",
      "\n",
      "\t\t\t\t\t<span class=\"visually-hidden\">Toggle navigation</span>\n",
      "\t\t\t\t\t<span class=\"icon-bar top-bar\"></span>\n",
      "\t\t\t\t\t<span class=\"icon-bar middle-bar\"></span>\n",
      "\t\t\t\t\t<span class=\"icon-bar bottom-bar\"></span>\n",
      "\t\t\t\t\t<span class=\"icon-bar extra-bottom-bar\"></span>\n",
      "\n",
      "\t\t\t\t</button>\n",
      "\t\t\t</a>\n",
      "\t\t\t<div class=\"navbar-brand\">\n",
      "\t\t\t\t<a href=\"/\"><img src=\"/img/logo_white.svg\" alt=\"Web Scraper\"></a>\n",
      "\t\t\t</div>\n",
      "\t\t</div>\n",
      "\n",
      "\t\t<div class=\"side-collapse in\">\n",
      "\t\t\t<nav id=\"navbar\" role=\"navigation\" class=\"navbar-collapse collapse\">\n",
      "\t\t\t\t<ul class=\"nav navbar-nav navbar-right\">\n",
      "\t\t\t\t\t<li class=\"nav-item\">\n",
      "\t\t\t\t\t\t<a href=\"/\" class=\"nav-link menuitm\">\n",
      "\t\t\t\t\t\t\t<p>Web Scraper</p>\n",
      "\t\t\t\t\t\t\t<div class=\"crta\"></div>\n",
      "\t\t\t\t\t\t</a>\n",
      "\t\t\t\t\t</li>\n",
      "\t\t\t\t\t<li class=\"nav-item\">\n",
      "\t\t\t\t\t\t<a href=\"/cloud-scraper\" class=\"nav-link menuitm\" id=\"cloud-nav-link\">\n",
      "\t\t\t\t\t\t\t<p>Cloud Scraper</p>\n",
      "\t\t\t\t\t\t\t<div class=\"crta\"></div>\n",
      "\t\t\t\t\t\t</a>\n",
      "\t\t\t\t\t</li>\n",
      "\t\t\t\t\t<li class=\"nav-item\">\n",
      "\t\t\t\t\t\t<a href=\"/pricing\" class=\"nav-link menuitm\" id=\"pricing-nav-link\">\n",
      "\t\t\t\t\t\t\t<p>Pricing</p>\n",
      "\t\t\t\t\t\t\t<div class=\"crta\"></div>\n",
      "\t\t\t\t\t\t</a>\n",
      "\t\t\t\t\t</li>\n",
      "\t\t\t\t\t<li class=\"nav-item dropdown\">\n",
      "\t\t\t\t\t\t<button class=\"menuitm nav-link dropdown-toggle\" id=\"dropdownMenuLink\" role=\"button\" data-bs-toggle=\"dropdown\" aria-haspopup=\"true\" aria-expanded=\"false\">\n",
      "\t\t\t\t\t\t\t<p>\n",
      "\t\t\t\t\t\t\t\tLearn\n",
      "\t\t\t\t\t\t\t\t<i class=\"ws-icon ws-icon-down\"></i>\n",
      "\t\t\t\t\t\t\t</p>\n",
      "\t\t\t\t\t\t\t<span class=\"crta\"></span>\n",
      "\t\t\t\t\t\t</button>\n",
      "\t\t\t\t\t\t<ul class=\"dropdown-menu\" aria-labelledby=\"dropdownMenuLink\">\n",
      "\t\t\t\t\t\t\t<li>\n",
      "\t\t\t\t\t\t\t\t<a href=\"/documentation\" class=\"dropdown-item\">Documentation</a>\n",
      "\t\t\t\t\t\t\t</li>\n",
      "\t\t\t\t\t\t\t<li>\n",
      "\t\t\t\t\t\t\t\t<a href=\"/tutorials\" class=\"dropdown-item\">Video Tutorials</a>\n",
      "\t\t\t\t\t\t\t</li>\n",
      "\t\t\t\t\t\t\t<li>\n",
      "\t\t\t\t\t\t\t\t<a href=\"/test-sites\" class=\"dropdown-item\">Test Sites</a>\n",
      "\t\t\t\t\t\t\t</li>\n",
      "\t\t\t\t\t\t\t<li>\n",
      "\t\t\t\t\t\t\t\t<a href=\"https://forum.webscraper.io/\" target=\"_blank\" rel=\"noopener\" class=\"dropdown-item\">Forum</a>\n",
      "\t\t\t\t\t\t\t</li>\n",
      "\t\t\t\t\t\t</ul>\n",
      "\t\t\t\t\t</li>\n",
      "\t\t\t\t\t<li class=\"nav-item\">\n",
      "\t\t\t\t\t\t<a href=\"https://chromewebstore.google.com/detail/web-scraper-free-web-scra/jnhgnonknehpejjnehehllkliplmbmhn?hl=en\" target=\"_blank\" class=\"nav-link btn-menu1 install-extension\">Install</a>\n",
      "\t\t\t\t\t</li>\n",
      "\t\t\t\t\t<li class=\"nav-item\">\n",
      "\t\t\t\t\t\t<a href=\"https://cloud.webscraper.io/\" class=\"nav-link btn-menu2\">Cloud Login</a>\n",
      "\t\t\t\t\t</li>\n",
      "\t\t\t\t</ul>\n",
      "\t\t\t</nav>\n",
      "\t\t</div>\n",
      "\t</div>\n",
      "</header>\n",
      "\n",
      "<div class=\"wrapper\">\n",
      "\t\n",
      "\t<div class=\"formenu-here container-fluid\">\n",
      "\n",
      "\t</div>\n",
      "\t<div class=\"container-fluid blog-hero\">\n",
      "\t\t<div class=\"container\">\n",
      "\t\t\t<div class=\"row\">\n",
      "\t\t\t\t<div class=\"col-lg-12\">\n",
      "\t\t\t\t\t<h1>Test Sites</h1>\n",
      "\t\t\t\t</div>\n",
      "\t\t\t</div>\n",
      "\t\t</div>\n",
      "\t</div>\n",
      "\n",
      "\t<div class=\"container\">\n",
      "\t\t<div class=\"test-site\">\n",
      "\t\t\t<div class=\"row\">\n",
      "\t\t\t\t<div class=\"col-lg-3 sidebar\">\n",
      "\t\t\t\t\t<div class=\"navbar-light sidebar\" role=\"navigation\">\n",
      "\t\t\t\t\t\t<div class=\"sidebar-nav navbar-collapse\">\n",
      "\t\t\t\t\t\t\t<ul class=\"nav flex-column tables-nav\" id=\"side-menu\">\n",
      "\t\t\t\t\t\t\t\t<li class=\"nav-item\">\n",
      "\t\t\t\t\t\t\t\t\t<a href=\"/test-sites/tables/tables-semantically-correct\" class=\"table-nav-button semantically-correct-button nav-link  active \">Semantically correct tables</a>\n",
      "\t\t\t\t\t\t\t\t</li>\n",
      "\t\t\t\t\t\t\t\t<li class=\"nav-item\">\n",
      "\t\t\t\t\t\t\t\t\t<a href=\"/test-sites/tables/tables-without-thead\" class=\"table-nav-button button-without-thead nav-link \">Tables without the thead tag</a>\n",
      "\t\t\t\t\t\t\t\t</li>\n",
      "\t\t\t\t\t\t\t\t<li class=\"nav-item\">\n",
      "\t\t\t\t\t\t\t\t\t<a href=\"/test-sites/tables/tables-multiple-header-rows\" class=\"table-nav-button button-multiple-headers nav-link \">Tables with multiple header rows</a>\n",
      "\t\t\t\t\t\t\t\t</li>\n",
      "\t\t\t\t\t\t\t</ul>\n",
      "\t\t\t\t\t\t</div>\n",
      "\t\t\t\t\t</div>\n",
      "\t\t\t\t</div>\n",
      "\t\t\t\t<div class=\"col-lg-9\">\n",
      "\t\t\t\t\t<div class=\"tables-all\">\n",
      "\n",
      "\t\t\t\t\t\t<div class=\"jumbotron tables-initial-text\">\n",
      "\t\t\t\t\t\t\t<h2>Table playground</h2>\n",
      "\t\t\t\t\t\t\t<p class=\"lead\">\n",
      "\t\t\t\t\t\t\t\tYou can train using Table selector here.\n",
      "\t\t\t\t\t\t\t</p>\n",
      "\t\t\t\t\t\t</div>\n",
      "\n",
      "\t\t\t\t\t\t\t<div class=\"tables-semantically-correct\">\n",
      "\t\t<h2>Semantically correct table with thead and tbody</h2>\n",
      "\t\t<p>\n",
      "\t\t\tTable selector automatically detects header and data rows.\n",
      "\t\t</p>\n",
      "\n",
      "\t\t<table class=\"table table-bordered\">\n",
      "\t\t\t<thead>\n",
      "\t\t\t<tr>\n",
      "\t\t\t\t<th>#</th>\n",
      "\t\t\t\t<th>First Name</th>\n",
      "\t\t\t\t<th>Last Name</th>\n",
      "\t\t\t\t<th>Username</th>\n",
      "\t\t\t</tr>\n",
      "\t\t\t</thead>\n",
      "\t\t\t<tbody>\n",
      "\t\t\t<tr>\n",
      "\t\t\t\t<td>1</td>\n",
      "\t\t\t\t<td>Mark</td>\n",
      "\t\t\t\t<td>Otto</td>\n",
      "\t\t\t\t<td>@mdo</td>\n",
      "\t\t\t</tr>\n",
      "\t\t\t<tr>\n",
      "\t\t\t\t<td>2</td>\n",
      "\t\t\t\t<td>Jacob</td>\n",
      "\t\t\t\t<td>Thornton</td>\n",
      "\t\t\t\t<td>@fat</td>\n",
      "\t\t\t</tr>\n",
      "\t\t\t<tr>\n",
      "\t\t\t\t<td>3</td>\n",
      "\t\t\t\t<td>Larry</td>\n",
      "\t\t\t\t<td>the Bird</td>\n",
      "\t\t\t\t<td>@twitter</td>\n",
      "\t\t\t</tr>\n",
      "\t\t\t</tbody>\n",
      "\t\t</table>\n",
      "\n",
      "\t\t<table class=\"table table-bordered table-bordered2\">\n",
      "\t\t\t<thead>\n",
      "\t\t\t<tr>\n",
      "\t\t\t\t<th>#</th>\n",
      "\t\t\t\t<th>First Name</th>\n",
      "\t\t\t\t<th>Last Name</th>\n",
      "\t\t\t\t<th>Username</th>\n",
      "\t\t\t</tr>\n",
      "\t\t\t</thead>\n",
      "\t\t\t<tbody>\n",
      "\t\t\t<tr>\n",
      "\t\t\t\t<td>4</td>\n",
      "\t\t\t\t<td>Harry</td>\n",
      "\t\t\t\t<td>Potter</td>\n",
      "\t\t\t\t<td>@hp</td>\n",
      "\t\t\t</tr>\n",
      "\t\t\t<tr>\n",
      "\t\t\t\t<td>5</td>\n",
      "\t\t\t\t<td>John</td>\n",
      "\t\t\t\t<td>Snow</td>\n",
      "\t\t\t\t<td>@dunno</td>\n",
      "\t\t\t</tr>\n",
      "\t\t\t<tr>\n",
      "\t\t\t\t<td>6</td>\n",
      "\t\t\t\t<td>Tim</td>\n",
      "\t\t\t\t<td>Bean</td>\n",
      "\t\t\t\t<td>@timbean</td>\n",
      "\t\t\t</tr>\n",
      "\t\t\t</tbody>\n",
      "\t\t</table>\n",
      "\t</div>\n",
      "\n",
      "\t\t\t\t\t</div>\n",
      "\t\t\t\t</div>\n",
      "\t\t\t</div>\n",
      "\t\t</div>\n",
      "\t</div>\n",
      "\n",
      "\t<div class=\"clearfix\"></div>\n",
      "\t<div class=\"push\"></div>\n",
      "</div>\n",
      "\n",
      "<div class=\"container-fluid footer\" id=\"layout-footer\">\n",
      "\t<div class=\"container\">\n",
      "\t\t<div class=\"row\">\n",
      "\t\t\t<div class=\"col-lg-3\">\n",
      "\t\t\t\t<ul>\n",
      "\t\t\t\t\t<li><p>Products</p></li>\n",
      "\t\t\t\t\t<li>\n",
      "\t\t\t\t\t\t<a href=\"/\">Web Scraper browser extension</a>\n",
      "\t\t\t\t\t</li>\n",
      "\t\t\t\t\t<li>\n",
      "\t\t\t\t\t\t<a href=\"/cloud-scraper\">Web Scraper Cloud</a>\n",
      "\t\t\t\t\t</li>\n",
      "\t\t\t\t</ul>\n",
      "\t\t\t</div>\n",
      "\t\t\t<div class=\"col-lg-3\">\n",
      "\t\t\t\t<ul>\n",
      "\t\t\t\t\t<li><p>Company</p></li>\n",
      "\t\t\t\t\t<li>\n",
      "\t\t\t\t\t\t<a href=\"/about-us\">About us</a>\n",
      "\t\t\t\t\t</li>\n",
      "\t\t\t\t\t<li>\n",
      "\t\t\t\t\t\t<a href=\"/contact\">Contact</a>\n",
      "\t\t\t\t\t</li>\n",
      "\t\t\t\t\t<li>\n",
      "\t\t\t\t\t\t<a href=\"/privacy-policy\">Website Privacy Policy</a>\n",
      "\t\t\t\t\t</li>\n",
      "\t\t\t\t\t<li>\n",
      "\t\t\t\t\t\t<a href=\"/extension-privacy-policy\">Browser Extension Privacy Policy</a>\n",
      "\t\t\t\t\t</li>\n",
      "\t\t\t\t\t<li>\n",
      "\t\t\t\t\t\t<a href=\"https://webscraper.io/downloads/Web_Scraper_Media_Kit.zip\">Media kit</a>\n",
      "\t\t\t\t\t</li>\n",
      "\t\t\t\t\t<li><a href=\"/jobs\">Jobs</a></li>\n",
      "\t\t\t\t</ul>\n",
      "\t\t\t</div>\n",
      "\t\t\t<div class=\"col-lg-3\">\n",
      "\t\t\t\t<ul>\n",
      "\t\t\t\t\t<li><p>Resources</p></li>\n",
      "\t\t\t\t\t<li><a href=\"/blog\">Blog</a></li>\n",
      "\t\t\t\t\t<li>\n",
      "\t\t\t\t\t\t<a href=\"/documentation\">Documentation</a>\n",
      "\t\t\t\t\t</li>\n",
      "\t\t\t\t\t<li>\n",
      "\t\t\t\t\t\t<a href=\"/tutorials\">Video Tutorials</a>\n",
      "\t\t\t\t\t</li>\n",
      "\t\t\t\t\t<li>\n",
      "\t\t\t\t\t\t<a href=\"/screenshots\">Screenshots</a>\n",
      "\t\t\t\t\t</li>\n",
      "\t\t\t\t\t<li>\n",
      "\t\t\t\t\t\t<a href=\"/test-sites\">Test Sites</a>\n",
      "\t\t\t\t\t</li>\n",
      "\t\t\t\t\t<li>\n",
      "\t\t\t\t\t\t<a target=\"_blank\" href=\"https://forum.webscraper.io/\" rel=\"noopener\">Forum</a>\n",
      "\t\t\t\t\t</li>\n",
      "\t\t\t\t\t<li>\n",
      "\t\t\t\t\t\t<a target=\"_blank\" href=\"https://status.webscraper.io/\" rel=\"noopener\">Status</a>\n",
      "\t\t\t\t\t</li>\n",
      "\t\t\t\t</ul>\n",
      "\t\t\t</div>\n",
      "\t\t\t<div class=\"col-lg-3\">\n",
      "\t\t\t\t<ul>\n",
      "\t\t\t\t\t<li><p>CONTACT US</p></li>\n",
      "\t\t\t\t\t<li>\n",
      "\t\t\t\t\t\t<a href=\"mailto:info@webscraper.io\">info@webscraper.io</a>\n",
      "\t\t\t\t\t</li>\n",
      "\t\t\t\t\t<li>Ubelu 5-71,<br> Adazi, Latvia, LV-2164</li>\n",
      "\t\t\t\t</ul>\n",
      "\t\t\t\t<ul class=\"smedia\">\n",
      "\t\t\t\t\t<li>\n",
      "\t\t\t\t\t\t<a href=\"https://www.facebook.com/webscraperio/\" target=\"_blank\" rel=\"noopener\" aria-label=\"Web Scraper on Facebook\">\n",
      "\t\t\t\t\t\t\t<i class=\"ws-icon ws-icon-facebook-f\"></i>\n",
      "\t\t\t\t\t\t</a>\n",
      "\t\t\t\t\t</li>\n",
      "\t\t\t\t\t<li>\n",
      "\t\t\t\t\t\t<a href=\"https://twitter.com/webscraperio\" target=\"_blank\" rel=\"noopener\" aria-label=\"Web Scraper on X\">\n",
      "\t\t\t\t\t\t\t<i class=\"ws-icon ws-icon-twitter\"></i>\n",
      "\t\t\t\t\t\t</a>\n",
      "\t\t\t\t\t</li>\n",
      "\t\t\t\t\t<li>\n",
      "\t\t\t\t\t\t<a href=\"https://lv.linkedin.com/company/web-scraper\" target=\"_blank\" rel=\"noopener\" aria-label=\"Web Scraper on LinkedIn\">\n",
      "\t\t\t\t\t\t\t<i class=\"ws-icon ws-icon-linkedin\"></i>\n",
      "\t\t\t\t\t\t</a>\n",
      "\t\t\t\t\t</li>\n",
      "\t\t\t\t\t<li>\n",
      "\t\t\t\t\t\t<a href=\"https://youtube.com/@WebScraper/videos\" target=\"_blank\" rel=\"noopener\" aria-label=\"Web Scraper on Youtube\">\n",
      "\t\t\t\t\t\t\t<i class=\"ws-icon ws-icon-youtube\"></i>\n",
      "\t\t\t\t\t\t</a>\n",
      "\t\t\t\t\t</li>\n",
      "\t\t\t\t\t<li>\n",
      "\t\t\t\t\t\t<a class=\"install-extension browser-icon-dark\" href=\"https://chromewebstore.google.com/detail/web-scraper-free-web-scra/jnhgnonknehpejjnehehllkliplmbmhn?hl=en\" target=\"_blank\" rel=\"noopener\" aria-label=\"Download the Web Scraper extension\">\n",
      "\t\t\t\t\t\t\t<i class=\"ws-icon ws-icon-chrome-dark\"></i>\n",
      "\t\t\t\t\t\t</a>\n",
      "\t\t\t\t\t</li>\n",
      "\t\t\t\t</ul>\n",
      "\t\t\t</div>\n",
      "\t\t</div>\n",
      "\t\t<div class=\"row\">\n",
      "\t\t\t<div class=\"col-lg-12\">\n",
      "\t\t\t\t<p class=\"copyright\">Copyright &copy 2025\n",
      "\t\t\t\t\t<b>Web Scraper</b> | All rights reserved</p>\n",
      "\t\t\t</div>\n",
      "\t\t</div>\n",
      "\t</div>\n",
      "</div>\n",
      "\n",
      "\n",
      "</body>\n",
      "</html>\n",
      "\n"
     ]
    }
   ],
   "source": [
    "print(res.text)"
   ]
  },
  {
   "cell_type": "code",
   "execution_count": 39,
   "id": "693a5c68-ea82-449f-bfa2-7f17313f7ec7",
   "metadata": {},
   "outputs": [],
   "source": [
    "simple_html_obj = \"\"\"\n",
    "<html>\n",
    "    <head></head>\n",
    "    <body>\n",
    "        <div id = \"div1\">\n",
    "            <p id = 1>Hello</p>\n",
    "            <p id = 2>World</p>\n",
    "            <p id = 3 shub = cb>hello</p>\n",
    "        <div id = \"div2\">\n",
    "            <p id = 4 shub = cb>world</p>\n",
    "            <p id = 4>hello</p>\n",
    "        </div>\n",
    "    </body>\n",
    "</html>\n",
    "\"\"\""
   ]
  },
  {
   "cell_type": "code",
   "execution_count": 40,
   "id": "d02daf9e-7ef9-429d-b7a4-e3bae586322a",
   "metadata": {},
   "outputs": [],
   "source": [
    "soup = bs4.BeautifulSoup(simple_html_obj)"
   ]
  },
  {
   "cell_type": "code",
   "execution_count": 41,
   "id": "a6f18d4e-1eaa-45db-83f0-527c697141c2",
   "metadata": {},
   "outputs": [
    {
     "name": "stdout",
     "output_type": "stream",
     "text": [
      "<html>\n",
      " <head>\n",
      " </head>\n",
      " <body>\n",
      "  <div id=\"div1\">\n",
      "   <p id=\"1\">\n",
      "    Hello\n",
      "   </p>\n",
      "   <p id=\"2\">\n",
      "    World\n",
      "   </p>\n",
      "   <p id=\"3\" shub=\"cb\">\n",
      "    hello\n",
      "   </p>\n",
      "   <div id=\"div2\">\n",
      "    <p id=\"4\" shub=\"cb\">\n",
      "     world\n",
      "    </p>\n",
      "    <p id=\"4\">\n",
      "     hello\n",
      "    </p>\n",
      "   </div>\n",
      "  </div>\n",
      " </body>\n",
      "</html>\n",
      "\n"
     ]
    }
   ],
   "source": [
    "print(soup.prettify())"
   ]
  },
  {
   "cell_type": "code",
   "execution_count": 42,
   "id": "970fc935-feab-4d22-bb22-1cabfc69eeb8",
   "metadata": {},
   "outputs": [],
   "source": [
    "p_tag = soup.find('p')"
   ]
  },
  {
   "cell_type": "code",
   "execution_count": 43,
   "id": "e207247c-4113-4d16-b94e-2b1d2202b953",
   "metadata": {},
   "outputs": [
    {
     "data": {
      "text/plain": [
       "bs4.element.Tag"
      ]
     },
     "execution_count": 43,
     "metadata": {},
     "output_type": "execute_result"
    }
   ],
   "source": [
    "type(p_tag)"
   ]
  },
  {
   "cell_type": "code",
   "execution_count": 44,
   "id": "1ee8eaf2-06ad-4926-b7ef-80a845cf294c",
   "metadata": {},
   "outputs": [
    {
     "data": {
      "text/plain": [
       "'Hello'"
      ]
     },
     "execution_count": 44,
     "metadata": {},
     "output_type": "execute_result"
    }
   ],
   "source": [
    "p_tag.text"
   ]
  },
  {
   "cell_type": "code",
   "execution_count": 45,
   "id": "7dc27305-7016-4f8b-bd98-339fc0a09743",
   "metadata": {},
   "outputs": [
    {
     "data": {
      "text/plain": [
       "{'id': '1'}"
      ]
     },
     "execution_count": 45,
     "metadata": {},
     "output_type": "execute_result"
    }
   ],
   "source": [
    "p_tag.attrs"
   ]
  },
  {
   "cell_type": "code",
   "execution_count": 46,
   "id": "5410346f-0680-4975-8772-5ff1d2aadc83",
   "metadata": {},
   "outputs": [],
   "source": [
    "div_tag = soup.find('div')"
   ]
  },
  {
   "cell_type": "code",
   "execution_count": 47,
   "id": "684532f3-b163-4052-8851-9979ed17343b",
   "metadata": {},
   "outputs": [
    {
     "data": {
      "text/plain": [
       "{'id': 'div1'}"
      ]
     },
     "execution_count": 47,
     "metadata": {},
     "output_type": "execute_result"
    }
   ],
   "source": [
    "div_tag.attrs"
   ]
  },
  {
   "cell_type": "code",
   "execution_count": 48,
   "id": "4582c017-e067-4c48-a1fd-8126f8528077",
   "metadata": {},
   "outputs": [
    {
     "name": "stdout",
     "output_type": "stream",
     "text": [
      "None\n"
     ]
    }
   ],
   "source": [
    "print(soup.find('img'))"
   ]
  },
  {
   "cell_type": "code",
   "execution_count": 49,
   "id": "69653a53-7c5e-4733-87f8-69156b4714aa",
   "metadata": {},
   "outputs": [],
   "source": [
    "p_tag_l = soup.find_all('p')"
   ]
  },
  {
   "cell_type": "code",
   "execution_count": 50,
   "id": "c691c7a9-2764-496b-8221-1af7fdbe5f93",
   "metadata": {},
   "outputs": [
    {
     "data": {
      "text/plain": [
       "5"
      ]
     },
     "execution_count": 50,
     "metadata": {},
     "output_type": "execute_result"
    }
   ],
   "source": [
    "len(p_tag_l)"
   ]
  },
  {
   "cell_type": "code",
   "execution_count": 51,
   "id": "6c29d3dc-1240-418d-be90-7985253d2fd4",
   "metadata": {},
   "outputs": [
    {
     "name": "stdout",
     "output_type": "stream",
     "text": [
      "1 Hello\n",
      "2 World\n",
      "3 hello\n",
      "4 world\n",
      "4 hello\n"
     ]
    }
   ],
   "source": [
    "for ptag in p_tag_l:\n",
    "    print(ptag['id'],ptag.text)"
   ]
  },
  {
   "cell_type": "code",
   "execution_count": 52,
   "id": "3d2f7540-910f-491f-add5-bff740a2cd11",
   "metadata": {},
   "outputs": [
    {
     "data": {
      "text/plain": [
       "[<p id=\"1\">Hello</p>,\n",
       " <p id=\"2\">World</p>,\n",
       " <p id=\"3\" shub=\"cb\">hello</p>,\n",
       " <p id=\"4\" shub=\"cb\">world</p>,\n",
       " <p id=\"4\">hello</p>]"
      ]
     },
     "execution_count": 52,
     "metadata": {},
     "output_type": "execute_result"
    }
   ],
   "source": [
    "p_tag_l"
   ]
  },
  {
   "cell_type": "code",
   "execution_count": 55,
   "id": "f220a174-752d-4369-bd42-2955b383ad1f",
   "metadata": {},
   "outputs": [],
   "source": [
    "p_tag_l = soup.find_all('p',attrs={'id':4})"
   ]
  },
  {
   "cell_type": "code",
   "execution_count": 56,
   "id": "f0768d34-23b0-4acd-9efb-5e45988f8c4d",
   "metadata": {},
   "outputs": [
    {
     "data": {
      "text/plain": [
       "[<p id=\"4\" shub=\"cb\">world</p>, <p id=\"4\">hello</p>]"
      ]
     },
     "execution_count": 56,
     "metadata": {},
     "output_type": "execute_result"
    }
   ],
   "source": [
    "p_tag_l"
   ]
  },
  {
   "cell_type": "code",
   "execution_count": 68,
   "id": "9aa157fa-cc3f-46fe-9305-0b5aed30a4db",
   "metadata": {},
   "outputs": [],
   "source": [
    "p_tag_l = soup.find_all('p',attrs={'shub':'cb','id':4})"
   ]
  },
  {
   "cell_type": "code",
   "execution_count": 69,
   "id": "e0615001-a256-4422-b600-2297224c6da5",
   "metadata": {},
   "outputs": [
    {
     "data": {
      "text/plain": [
       "[<p id=\"4\" shub=\"cb\">world</p>]"
      ]
     },
     "execution_count": 69,
     "metadata": {},
     "output_type": "execute_result"
    }
   ],
   "source": [
    "p_tag_l"
   ]
  },
  {
   "cell_type": "code",
   "execution_count": 62,
   "id": "23316f98-1f69-475d-a798-e064b079e00f",
   "metadata": {},
   "outputs": [
    {
     "ename": "KeyError",
     "evalue": "'class'",
     "output_type": "error",
     "traceback": [
      "\u001b[1;31m---------------------------------------------------------------------------\u001b[0m",
      "\u001b[1;31mKeyError\u001b[0m                                  Traceback (most recent call last)",
      "Cell \u001b[1;32mIn[62], line 1\u001b[0m\n\u001b[1;32m----> 1\u001b[0m \u001b[43mp_tag_l\u001b[49m\u001b[43m[\u001b[49m\u001b[38;5;241;43m0\u001b[39;49m\u001b[43m]\u001b[49m\u001b[43m[\u001b[49m\u001b[38;5;124;43m'\u001b[39;49m\u001b[38;5;124;43mclass\u001b[39;49m\u001b[38;5;124;43m'\u001b[39;49m\u001b[43m]\u001b[49m\n",
      "File \u001b[1;32m~\\AppData\\Local\\Programs\\Python\\Python312\\Lib\\site-packages\\bs4\\element.py:1573\u001b[0m, in \u001b[0;36mTag.__getitem__\u001b[1;34m(self, key)\u001b[0m\n\u001b[0;32m   1570\u001b[0m \u001b[38;5;28;01mdef\u001b[39;00m \u001b[38;5;21m__getitem__\u001b[39m(\u001b[38;5;28mself\u001b[39m, key):\n\u001b[0;32m   1571\u001b[0m \u001b[38;5;250m    \u001b[39m\u001b[38;5;124;03m\"\"\"tag[key] returns the value of the 'key' attribute for the Tag,\u001b[39;00m\n\u001b[0;32m   1572\u001b[0m \u001b[38;5;124;03m    and throws an exception if it's not there.\"\"\"\u001b[39;00m\n\u001b[1;32m-> 1573\u001b[0m     \u001b[38;5;28;01mreturn\u001b[39;00m \u001b[38;5;28;43mself\u001b[39;49m\u001b[38;5;241;43m.\u001b[39;49m\u001b[43mattrs\u001b[49m\u001b[43m[\u001b[49m\u001b[43mkey\u001b[49m\u001b[43m]\u001b[49m\n",
      "\u001b[1;31mKeyError\u001b[0m: 'class'"
     ]
    }
   ],
   "source": [
    "p_tag_l[0]['class']"
   ]
  },
  {
   "cell_type": "code",
   "execution_count": null,
   "id": "decdf6aa-3385-426d-9c25-e85d13381862",
   "metadata": {},
   "outputs": [],
   "source": []
  },
  {
   "cell_type": "code",
   "execution_count": null,
   "id": "26c7ef53-c19c-40d4-922b-a8b5d4932f3a",
   "metadata": {},
   "outputs": [],
   "source": []
  },
  {
   "cell_type": "code",
   "execution_count": 65,
   "id": "1b575580-c52b-468a-b19f-c2826ab42048",
   "metadata": {},
   "outputs": [],
   "source": [
    "div_tag = soup.find('div',attrs={'id':\"div2\"})"
   ]
  },
  {
   "cell_type": "code",
   "execution_count": 66,
   "id": "6150c7fe-7caf-469a-9115-22bcf8a63432",
   "metadata": {},
   "outputs": [
    {
     "data": {
      "text/plain": [
       "<div id=\"div2\">\n",
       "<p id=\"4\" shub=\"cb\">world</p>\n",
       "<p id=\"4\">hello</p>\n",
       "</div>"
      ]
     },
     "execution_count": 66,
     "metadata": {},
     "output_type": "execute_result"
    }
   ],
   "source": [
    "div_tag"
   ]
  },
  {
   "cell_type": "code",
   "execution_count": 67,
   "id": "b72f59fe-1855-4379-8901-efe5705ca749",
   "metadata": {},
   "outputs": [
    {
     "data": {
      "text/plain": [
       "[<p id=\"4\" shub=\"cb\">world</p>, <p id=\"4\">hello</p>]"
      ]
     },
     "execution_count": 67,
     "metadata": {},
     "output_type": "execute_result"
    }
   ],
   "source": [
    "div_tag.find_all('p')"
   ]
  },
  {
   "cell_type": "code",
   "execution_count": null,
   "id": "e93b9ff4-e2db-4620-89e8-1c88e2e1c541",
   "metadata": {},
   "outputs": [],
   "source": []
  },
  {
   "cell_type": "code",
   "execution_count": null,
   "id": "b1c76d28-155c-46a7-9afb-2172d9d567d3",
   "metadata": {},
   "outputs": [],
   "source": []
  },
  {
   "cell_type": "code",
   "execution_count": 70,
   "id": "aa95595d-adbc-443a-b1e6-85714300cd75",
   "metadata": {},
   "outputs": [],
   "source": [
    "soup = bs4.BeautifulSoup(res.text)"
   ]
  },
  {
   "cell_type": "code",
   "execution_count": 72,
   "id": "5c9e126b-0cda-4329-bb7d-fdae47ec8029",
   "metadata": {
    "scrolled": true
   },
   "outputs": [
    {
     "name": "stdout",
     "output_type": "stream",
     "text": [
      "<!DOCTYPE html>\n",
      "<html lang=\"en\">\n",
      " <head>\n",
      "  <!-- Google Tag Manager -->\n",
      "  <script nonce=\"guvo1JxL3ZUy7pvP6wOr9WPe2sxBEFdl\">\n",
      "   (function (w, d, s, l, i) {\n",
      "\t\tw[l] = w[l] || [];\n",
      "\t\tw[l].push({\n",
      "\t\t\t'gtm.start':\n",
      "\t\t\t\tnew Date().getTime(), event: 'gtm.js'\n",
      "\t\t});\n",
      "\t\tvar f = d.getElementsByTagName(s)[0],\n",
      "\t\t\tj = d.createElement(s), dl = l != 'dataLayer' ? '&l=' + l : '';\n",
      "\t\tj.async = true;\n",
      "\t\tj.src =\n",
      "\t\t\t'https://www.googletagmanager.com/gtm.js?id=' + i + dl;\n",
      "\t\tf.parentNode.insertBefore(j, f);\n",
      "\t})(window, document, 'script', 'dataLayer', 'GTM-NVFPDWB');\n",
      "  </script>\n",
      "  <!-- End Google Tag Manager -->\n",
      "  <title>\n",
      "   Table Playground | Web Scraper Test Sites\n",
      "  </title>\n",
      "  <meta charset=\"utf-8\"/>\n",
      "  <meta content=\"IE=edge,chrome=1\" http-equiv=\"X-UA-Compatible\"/>\n",
      "  <meta content=\"web scraping,Web Scraper,Chrome extension,Crawling,Cross platform scraper\" name=\"keywords\">\n",
      "   <meta content=\"Test Web Scraper's features on basic table layouts. Practice extracting structured table data.\" name=\"description\">\n",
      "    <link href=\"/favicon.png\" rel=\"icon\" sizes=\"128x128\" type=\"image/png\"/>\n",
      "    <link href=\"/favicon.ico\" rel=\"icon\" sizes=\"16x16 32x32\" type=\"image/x-icon\"/>\n",
      "    <link href=\"/logo-icon.png\" rel=\"apple-touch-icon\" type=\"image/png\"/>\n",
      "    <link href=\"/icon.svg\" rel=\"icon\" type=\"image/svg+xml\"/>\n",
      "    <meta content=\"width=device-width, initial-scale=1.0\" name=\"viewport\"/>\n",
      "    <link href=\"https://fonts.googleapis.com\" rel=\"preconnect\"/>\n",
      "    <link crossorigin=\"\" href=\"https://fonts.gstatic.com\" rel=\"preconnect\"/>\n",
      "    <link href=\"https://fonts.googleapis.com/css2?family=Roboto:wght@400;500;600&amp;display=swap\" rel=\"stylesheet\"/>\n",
      "    <link href=\"https://fonts.googleapis.com/css2?family=Montserrat:wght@300;400;500;600;700;900&amp;display=swap\" rel=\"stylesheet\"/>\n",
      "    <link href=\"/css/app.css?id=c4f94412a188f652d04799f62fe9513a\" rel=\"stylesheet\"/>\n",
      "    <link href=\"/css/ws-icons.font.css?id=bc6c0d86aeabab8583f9814643f23faa\" rel=\"stylesheet\"/>\n",
      "    <link href=\"https://webscraper.io/test-sites/tables\" rel=\"canonical\"/>\n",
      "    <meta content=\"Table Playground | Web Scraper Test Sites\" property=\"og:title\"/>\n",
      "    <meta content=\"Test Web Scraper's features on basic table layouts. Practice extracting structured table data.\" property=\"og:description\"/>\n",
      "    <meta content=\"website\" property=\"og:type\"/>\n",
      "    <meta content=\"https://webscraper.io/test-sites/tables\" property=\"og:url\"/>\n",
      "    <meta content=\"https://webscraper.io/webscraper-logo-header.png\" property=\"og:image\"/>\n",
      "    <script defer=\"\" src=\"/js/app.js?id=3219ca5da633c2c0b7aea29533e05b5e\">\n",
      "    </script>\n",
      "   </meta>\n",
      "  </meta>\n",
      " </head>\n",
      " <body>\n",
      "  <!-- Google Tag Manager (noscript) -->\n",
      "  <noscript>\n",
      "   <iframe height=\"0\" src=\"https://www.googletagmanager.com/ns.html?id=GTM-NVFPDWB\" style=\"display:none;visibility:hidden\" width=\"0\">\n",
      "   </iframe>\n",
      "  </noscript>\n",
      "  <!-- End Google Tag Manager (noscript) -->\n",
      "  <header class=\"navbar fixed-top navbar-expand-lg navbar-dark navbar-static svg-background\" id=\"navbar-top\" role=\"banner\">\n",
      "   <div class=\"container\">\n",
      "    <div class=\"navbar-header\">\n",
      "     <a data-bs-target=\".side-collapse\" data-bs-target-2=\".side-collapse-container\" data-bs-toggle=\"collapse-side\">\n",
      "      <button aria-controls=\"navbar\" aria-expanded=\"false\" class=\"navbar-toggler float-end collapsed\" data-bs-target=\"#navbar\" data-bs-target-2=\".side-collapse-container\" data-bs-target-3=\".side-collapse\" data-bs-toggle=\"collapse\" type=\"button\">\n",
      "       <span class=\"visually-hidden\">\n",
      "        Toggle navigation\n",
      "       </span>\n",
      "       <span class=\"icon-bar top-bar\">\n",
      "       </span>\n",
      "       <span class=\"icon-bar middle-bar\">\n",
      "       </span>\n",
      "       <span class=\"icon-bar bottom-bar\">\n",
      "       </span>\n",
      "       <span class=\"icon-bar extra-bottom-bar\">\n",
      "       </span>\n",
      "      </button>\n",
      "     </a>\n",
      "     <div class=\"navbar-brand\">\n",
      "      <a href=\"/\">\n",
      "       <img alt=\"Web Scraper\" src=\"/img/logo_white.svg\"/>\n",
      "      </a>\n",
      "     </div>\n",
      "    </div>\n",
      "    <div class=\"side-collapse in\">\n",
      "     <nav class=\"navbar-collapse collapse\" id=\"navbar\" role=\"navigation\">\n",
      "      <ul class=\"nav navbar-nav navbar-right\">\n",
      "       <li class=\"nav-item\">\n",
      "        <a class=\"nav-link menuitm\" href=\"/\">\n",
      "         <p>\n",
      "          Web Scraper\n",
      "         </p>\n",
      "         <div class=\"crta\">\n",
      "         </div>\n",
      "        </a>\n",
      "       </li>\n",
      "       <li class=\"nav-item\">\n",
      "        <a class=\"nav-link menuitm\" href=\"/cloud-scraper\" id=\"cloud-nav-link\">\n",
      "         <p>\n",
      "          Cloud Scraper\n",
      "         </p>\n",
      "         <div class=\"crta\">\n",
      "         </div>\n",
      "        </a>\n",
      "       </li>\n",
      "       <li class=\"nav-item\">\n",
      "        <a class=\"nav-link menuitm\" href=\"/pricing\" id=\"pricing-nav-link\">\n",
      "         <p>\n",
      "          Pricing\n",
      "         </p>\n",
      "         <div class=\"crta\">\n",
      "         </div>\n",
      "        </a>\n",
      "       </li>\n",
      "       <li class=\"nav-item dropdown\">\n",
      "        <button aria-expanded=\"false\" aria-haspopup=\"true\" class=\"menuitm nav-link dropdown-toggle\" data-bs-toggle=\"dropdown\" id=\"dropdownMenuLink\" role=\"button\">\n",
      "         <p>\n",
      "          Learn\n",
      "          <i class=\"ws-icon ws-icon-down\">\n",
      "          </i>\n",
      "         </p>\n",
      "         <span class=\"crta\">\n",
      "         </span>\n",
      "        </button>\n",
      "        <ul aria-labelledby=\"dropdownMenuLink\" class=\"dropdown-menu\">\n",
      "         <li>\n",
      "          <a class=\"dropdown-item\" href=\"/documentation\">\n",
      "           Documentation\n",
      "          </a>\n",
      "         </li>\n",
      "         <li>\n",
      "          <a class=\"dropdown-item\" href=\"/tutorials\">\n",
      "           Video Tutorials\n",
      "          </a>\n",
      "         </li>\n",
      "         <li>\n",
      "          <a class=\"dropdown-item\" href=\"/test-sites\">\n",
      "           Test Sites\n",
      "          </a>\n",
      "         </li>\n",
      "         <li>\n",
      "          <a class=\"dropdown-item\" href=\"https://forum.webscraper.io/\" rel=\"noopener\" target=\"_blank\">\n",
      "           Forum\n",
      "          </a>\n",
      "         </li>\n",
      "        </ul>\n",
      "       </li>\n",
      "       <li class=\"nav-item\">\n",
      "        <a class=\"nav-link btn-menu1 install-extension\" href=\"https://chromewebstore.google.com/detail/web-scraper-free-web-scra/jnhgnonknehpejjnehehllkliplmbmhn?hl=en\" target=\"_blank\">\n",
      "         Install\n",
      "        </a>\n",
      "       </li>\n",
      "       <li class=\"nav-item\">\n",
      "        <a class=\"nav-link btn-menu2\" href=\"https://cloud.webscraper.io/\">\n",
      "         Cloud Login\n",
      "        </a>\n",
      "       </li>\n",
      "      </ul>\n",
      "     </nav>\n",
      "    </div>\n",
      "   </div>\n",
      "  </header>\n",
      "  <div class=\"wrapper\">\n",
      "   <div class=\"formenu-here container-fluid\">\n",
      "   </div>\n",
      "   <div class=\"container-fluid blog-hero\">\n",
      "    <div class=\"container\">\n",
      "     <div class=\"row\">\n",
      "      <div class=\"col-lg-12\">\n",
      "       <h1>\n",
      "        Test Sites\n",
      "       </h1>\n",
      "      </div>\n",
      "     </div>\n",
      "    </div>\n",
      "   </div>\n",
      "   <div class=\"container\">\n",
      "    <div class=\"test-site\">\n",
      "     <div class=\"row\">\n",
      "      <div class=\"col-lg-3 sidebar\">\n",
      "       <div class=\"navbar-light sidebar\" role=\"navigation\">\n",
      "        <div class=\"sidebar-nav navbar-collapse\">\n",
      "         <ul class=\"nav flex-column tables-nav\" id=\"side-menu\">\n",
      "          <li class=\"nav-item\">\n",
      "           <a class=\"table-nav-button semantically-correct-button nav-link active\" href=\"/test-sites/tables/tables-semantically-correct\">\n",
      "            Semantically correct tables\n",
      "           </a>\n",
      "          </li>\n",
      "          <li class=\"nav-item\">\n",
      "           <a class=\"table-nav-button button-without-thead nav-link\" href=\"/test-sites/tables/tables-without-thead\">\n",
      "            Tables without the thead tag\n",
      "           </a>\n",
      "          </li>\n",
      "          <li class=\"nav-item\">\n",
      "           <a class=\"table-nav-button button-multiple-headers nav-link\" href=\"/test-sites/tables/tables-multiple-header-rows\">\n",
      "            Tables with multiple header rows\n",
      "           </a>\n",
      "          </li>\n",
      "         </ul>\n",
      "        </div>\n",
      "       </div>\n",
      "      </div>\n",
      "      <div class=\"col-lg-9\">\n",
      "       <div class=\"tables-all\">\n",
      "        <div class=\"jumbotron tables-initial-text\">\n",
      "         <h2>\n",
      "          Table playground\n",
      "         </h2>\n",
      "         <p class=\"lead\">\n",
      "          You can train using Table selector here.\n",
      "         </p>\n",
      "        </div>\n",
      "        <div class=\"tables-semantically-correct\">\n",
      "         <h2>\n",
      "          Semantically correct table with thead and tbody\n",
      "         </h2>\n",
      "         <p>\n",
      "          Table selector automatically detects header and data rows.\n",
      "         </p>\n",
      "         <table class=\"table table-bordered\">\n",
      "          <thead>\n",
      "           <tr>\n",
      "            <th>\n",
      "             #\n",
      "            </th>\n",
      "            <th>\n",
      "             First Name\n",
      "            </th>\n",
      "            <th>\n",
      "             Last Name\n",
      "            </th>\n",
      "            <th>\n",
      "             Username\n",
      "            </th>\n",
      "           </tr>\n",
      "          </thead>\n",
      "          <tbody>\n",
      "           <tr>\n",
      "            <td>\n",
      "             1\n",
      "            </td>\n",
      "            <td>\n",
      "             Mark\n",
      "            </td>\n",
      "            <td>\n",
      "             Otto\n",
      "            </td>\n",
      "            <td>\n",
      "             @mdo\n",
      "            </td>\n",
      "           </tr>\n",
      "           <tr>\n",
      "            <td>\n",
      "             2\n",
      "            </td>\n",
      "            <td>\n",
      "             Jacob\n",
      "            </td>\n",
      "            <td>\n",
      "             Thornton\n",
      "            </td>\n",
      "            <td>\n",
      "             @fat\n",
      "            </td>\n",
      "           </tr>\n",
      "           <tr>\n",
      "            <td>\n",
      "             3\n",
      "            </td>\n",
      "            <td>\n",
      "             Larry\n",
      "            </td>\n",
      "            <td>\n",
      "             the Bird\n",
      "            </td>\n",
      "            <td>\n",
      "             @twitter\n",
      "            </td>\n",
      "           </tr>\n",
      "          </tbody>\n",
      "         </table>\n",
      "         <table class=\"table table-bordered table-bordered2\">\n",
      "          <thead>\n",
      "           <tr>\n",
      "            <th>\n",
      "             #\n",
      "            </th>\n",
      "            <th>\n",
      "             First Name\n",
      "            </th>\n",
      "            <th>\n",
      "             Last Name\n",
      "            </th>\n",
      "            <th>\n",
      "             Username\n",
      "            </th>\n",
      "           </tr>\n",
      "          </thead>\n",
      "          <tbody>\n",
      "           <tr>\n",
      "            <td>\n",
      "             4\n",
      "            </td>\n",
      "            <td>\n",
      "             Harry\n",
      "            </td>\n",
      "            <td>\n",
      "             Potter\n",
      "            </td>\n",
      "            <td>\n",
      "             @hp\n",
      "            </td>\n",
      "           </tr>\n",
      "           <tr>\n",
      "            <td>\n",
      "             5\n",
      "            </td>\n",
      "            <td>\n",
      "             John\n",
      "            </td>\n",
      "            <td>\n",
      "             Snow\n",
      "            </td>\n",
      "            <td>\n",
      "             @dunno\n",
      "            </td>\n",
      "           </tr>\n",
      "           <tr>\n",
      "            <td>\n",
      "             6\n",
      "            </td>\n",
      "            <td>\n",
      "             Tim\n",
      "            </td>\n",
      "            <td>\n",
      "             Bean\n",
      "            </td>\n",
      "            <td>\n",
      "             @timbean\n",
      "            </td>\n",
      "           </tr>\n",
      "          </tbody>\n",
      "         </table>\n",
      "        </div>\n",
      "       </div>\n",
      "      </div>\n",
      "     </div>\n",
      "    </div>\n",
      "   </div>\n",
      "   <div class=\"clearfix\">\n",
      "   </div>\n",
      "   <div class=\"push\">\n",
      "   </div>\n",
      "  </div>\n",
      "  <div class=\"container-fluid footer\" id=\"layout-footer\">\n",
      "   <div class=\"container\">\n",
      "    <div class=\"row\">\n",
      "     <div class=\"col-lg-3\">\n",
      "      <ul>\n",
      "       <li>\n",
      "        <p>\n",
      "         Products\n",
      "        </p>\n",
      "       </li>\n",
      "       <li>\n",
      "        <a href=\"/\">\n",
      "         Web Scraper browser extension\n",
      "        </a>\n",
      "       </li>\n",
      "       <li>\n",
      "        <a href=\"/cloud-scraper\">\n",
      "         Web Scraper Cloud\n",
      "        </a>\n",
      "       </li>\n",
      "      </ul>\n",
      "     </div>\n",
      "     <div class=\"col-lg-3\">\n",
      "      <ul>\n",
      "       <li>\n",
      "        <p>\n",
      "         Company\n",
      "        </p>\n",
      "       </li>\n",
      "       <li>\n",
      "        <a href=\"/about-us\">\n",
      "         About us\n",
      "        </a>\n",
      "       </li>\n",
      "       <li>\n",
      "        <a href=\"/contact\">\n",
      "         Contact\n",
      "        </a>\n",
      "       </li>\n",
      "       <li>\n",
      "        <a href=\"/privacy-policy\">\n",
      "         Website Privacy Policy\n",
      "        </a>\n",
      "       </li>\n",
      "       <li>\n",
      "        <a href=\"/extension-privacy-policy\">\n",
      "         Browser Extension Privacy Policy\n",
      "        </a>\n",
      "       </li>\n",
      "       <li>\n",
      "        <a href=\"https://webscraper.io/downloads/Web_Scraper_Media_Kit.zip\">\n",
      "         Media kit\n",
      "        </a>\n",
      "       </li>\n",
      "       <li>\n",
      "        <a href=\"/jobs\">\n",
      "         Jobs\n",
      "        </a>\n",
      "       </li>\n",
      "      </ul>\n",
      "     </div>\n",
      "     <div class=\"col-lg-3\">\n",
      "      <ul>\n",
      "       <li>\n",
      "        <p>\n",
      "         Resources\n",
      "        </p>\n",
      "       </li>\n",
      "       <li>\n",
      "        <a href=\"/blog\">\n",
      "         Blog\n",
      "        </a>\n",
      "       </li>\n",
      "       <li>\n",
      "        <a href=\"/documentation\">\n",
      "         Documentation\n",
      "        </a>\n",
      "       </li>\n",
      "       <li>\n",
      "        <a href=\"/tutorials\">\n",
      "         Video Tutorials\n",
      "        </a>\n",
      "       </li>\n",
      "       <li>\n",
      "        <a href=\"/screenshots\">\n",
      "         Screenshots\n",
      "        </a>\n",
      "       </li>\n",
      "       <li>\n",
      "        <a href=\"/test-sites\">\n",
      "         Test Sites\n",
      "        </a>\n",
      "       </li>\n",
      "       <li>\n",
      "        <a href=\"https://forum.webscraper.io/\" rel=\"noopener\" target=\"_blank\">\n",
      "         Forum\n",
      "        </a>\n",
      "       </li>\n",
      "       <li>\n",
      "        <a href=\"https://status.webscraper.io/\" rel=\"noopener\" target=\"_blank\">\n",
      "         Status\n",
      "        </a>\n",
      "       </li>\n",
      "      </ul>\n",
      "     </div>\n",
      "     <div class=\"col-lg-3\">\n",
      "      <ul>\n",
      "       <li>\n",
      "        <p>\n",
      "         CONTACT US\n",
      "        </p>\n",
      "       </li>\n",
      "       <li>\n",
      "        <a href=\"mailto:info@webscraper.io\">\n",
      "         info@webscraper.io\n",
      "        </a>\n",
      "       </li>\n",
      "       <li>\n",
      "        Ubelu 5-71,\n",
      "        <br/>\n",
      "        Adazi, Latvia, LV-2164\n",
      "       </li>\n",
      "      </ul>\n",
      "      <ul class=\"smedia\">\n",
      "       <li>\n",
      "        <a aria-label=\"Web Scraper on Facebook\" href=\"https://www.facebook.com/webscraperio/\" rel=\"noopener\" target=\"_blank\">\n",
      "         <i class=\"ws-icon ws-icon-facebook-f\">\n",
      "         </i>\n",
      "        </a>\n",
      "       </li>\n",
      "       <li>\n",
      "        <a aria-label=\"Web Scraper on X\" href=\"https://twitter.com/webscraperio\" rel=\"noopener\" target=\"_blank\">\n",
      "         <i class=\"ws-icon ws-icon-twitter\">\n",
      "         </i>\n",
      "        </a>\n",
      "       </li>\n",
      "       <li>\n",
      "        <a aria-label=\"Web Scraper on LinkedIn\" href=\"https://lv.linkedin.com/company/web-scraper\" rel=\"noopener\" target=\"_blank\">\n",
      "         <i class=\"ws-icon ws-icon-linkedin\">\n",
      "         </i>\n",
      "        </a>\n",
      "       </li>\n",
      "       <li>\n",
      "        <a aria-label=\"Web Scraper on Youtube\" href=\"https://youtube.com/@WebScraper/videos\" rel=\"noopener\" target=\"_blank\">\n",
      "         <i class=\"ws-icon ws-icon-youtube\">\n",
      "         </i>\n",
      "        </a>\n",
      "       </li>\n",
      "       <li>\n",
      "        <a aria-label=\"Download the Web Scraper extension\" class=\"install-extension browser-icon-dark\" href=\"https://chromewebstore.google.com/detail/web-scraper-free-web-scra/jnhgnonknehpejjnehehllkliplmbmhn?hl=en\" rel=\"noopener\" target=\"_blank\">\n",
      "         <i class=\"ws-icon ws-icon-chrome-dark\">\n",
      "         </i>\n",
      "        </a>\n",
      "       </li>\n",
      "      </ul>\n",
      "     </div>\n",
      "    </div>\n",
      "    <div class=\"row\">\n",
      "     <div class=\"col-lg-12\">\n",
      "      <p class=\"copyright\">\n",
      "       Copyright © 2025\n",
      "       <b>\n",
      "        Web Scraper\n",
      "       </b>\n",
      "       | All rights reserved\n",
      "      </p>\n",
      "     </div>\n",
      "    </div>\n",
      "   </div>\n",
      "  </div>\n",
      " </body>\n",
      "</html>\n",
      "\n"
     ]
    }
   ],
   "source": [
    "print(soup.prettify())"
   ]
  },
  {
   "cell_type": "code",
   "execution_count": 74,
   "id": "14ea8878-cd79-46b7-8c6e-3c02be613447",
   "metadata": {
    "scrolled": true
   },
   "outputs": [],
   "source": [
    "table_tag_l = soup.find_all('table',attrs={'class':'table'})"
   ]
  },
  {
   "cell_type": "code",
   "execution_count": 75,
   "id": "8940bfd6-7dda-4e65-acdf-f8f1cadfca66",
   "metadata": {},
   "outputs": [
    {
     "data": {
      "text/plain": [
       "2"
      ]
     },
     "execution_count": 75,
     "metadata": {},
     "output_type": "execute_result"
    }
   ],
   "source": [
    "len(table_tag_l)"
   ]
  },
  {
   "cell_type": "code",
   "execution_count": 76,
   "id": "5c0c7d21-5df3-4747-8a6b-392bd50c05ce",
   "metadata": {
    "scrolled": true
   },
   "outputs": [
    {
     "data": {
      "text/plain": [
       "<table class=\"table table-bordered\">\n",
       "<thead>\n",
       "<tr>\n",
       "<th>#</th>\n",
       "<th>First Name</th>\n",
       "<th>Last Name</th>\n",
       "<th>Username</th>\n",
       "</tr>\n",
       "</thead>\n",
       "<tbody>\n",
       "<tr>\n",
       "<td>1</td>\n",
       "<td>Mark</td>\n",
       "<td>Otto</td>\n",
       "<td>@mdo</td>\n",
       "</tr>\n",
       "<tr>\n",
       "<td>2</td>\n",
       "<td>Jacob</td>\n",
       "<td>Thornton</td>\n",
       "<td>@fat</td>\n",
       "</tr>\n",
       "<tr>\n",
       "<td>3</td>\n",
       "<td>Larry</td>\n",
       "<td>the Bird</td>\n",
       "<td>@twitter</td>\n",
       "</tr>\n",
       "</tbody>\n",
       "</table>"
      ]
     },
     "execution_count": 76,
     "metadata": {},
     "output_type": "execute_result"
    }
   ],
   "source": [
    "table_tag_l[0]"
   ]
  },
  {
   "cell_type": "code",
   "execution_count": 77,
   "id": "a6e01605-56e5-4b4a-a7c9-a7f231f81a8b",
   "metadata": {},
   "outputs": [],
   "source": [
    "tables_data = []\n",
    "for table in table_tag_l:\n",
    "    table_data = []\n",
    "    thead = table.thead #tabel.find('thead')\n",
    "    tbody = table.tbody\n",
    "    for row in thead.find_all('tr'):\n",
    "        row_data = []\n",
    "        for val in row.find_all('th'):\n",
    "            row_data.append(val.text)\n",
    "        table_data.append(row_data)\n",
    "\n",
    "    for row in tbody.find_all('tr'):\n",
    "        row_data = []\n",
    "        for val in row.find_all('td'):\n",
    "            row_data.append(val.text)\n",
    "        table_data.append(row_data)\n",
    "    tables_data.append(table_data)"
   ]
  },
  {
   "cell_type": "code",
   "execution_count": 78,
   "id": "51eb4078-e25f-44e5-be42-b44381daf45e",
   "metadata": {},
   "outputs": [
    {
     "data": {
      "text/plain": [
       "[[['#', 'First Name', 'Last Name', 'Username'],\n",
       "  ['1', 'Mark', 'Otto', '@mdo'],\n",
       "  ['2', 'Jacob', 'Thornton', '@fat'],\n",
       "  ['3', 'Larry', 'the Bird', '@twitter']],\n",
       " [['#', 'First Name', 'Last Name', 'Username'],\n",
       "  ['4', 'Harry', 'Potter', '@hp'],\n",
       "  ['5', 'John', 'Snow', '@dunno'],\n",
       "  ['6', 'Tim', 'Bean', '@timbean']]]"
      ]
     },
     "execution_count": 78,
     "metadata": {},
     "output_type": "execute_result"
    }
   ],
   "source": [
    "tables_data"
   ]
  },
  {
   "cell_type": "code",
   "execution_count": null,
   "id": "0c1099b5-824e-4999-b73c-c52ad953d3c7",
   "metadata": {},
   "outputs": [],
   "source": []
  },
  {
   "cell_type": "code",
   "execution_count": 84,
   "id": "057fa948-e8aa-4e3c-a178-052f28fb8e8b",
   "metadata": {},
   "outputs": [],
   "source": [
    "tables_data = []\n",
    "header = True\n",
    "for table in table_tag_l:\n",
    "    table_data = []\n",
    "    thead = table.thead #tabel.find('thead')\n",
    "    tbody = table.tbody\n",
    "    if header:\n",
    "        for row in thead.find_all('tr'):\n",
    "            row_data = []\n",
    "            for val in row.find_all('th'):\n",
    "                row_data.append(val.text)\n",
    "            table_data.append(','.join(row_data))\n",
    "        header = False\n",
    "\n",
    "    for row in tbody.find_all('tr'):\n",
    "        row_data = []\n",
    "        for val in row.find_all('td'):\n",
    "            row_data.append(val.text)\n",
    "        table_data.append(','.join(row_data))\n",
    "    tables_data.extend(table_data)"
   ]
  },
  {
   "cell_type": "code",
   "execution_count": 85,
   "id": "46639b84-495b-4f06-a78a-4d38af64496b",
   "metadata": {},
   "outputs": [
    {
     "data": {
      "text/plain": [
       "['#,First Name,Last Name,Username',\n",
       " '1,Mark,Otto,@mdo',\n",
       " '2,Jacob,Thornton,@fat',\n",
       " '3,Larry,the Bird,@twitter',\n",
       " '4,Harry,Potter,@hp',\n",
       " '5,John,Snow,@dunno',\n",
       " '6,Tim,Bean,@timbean']"
      ]
     },
     "execution_count": 85,
     "metadata": {},
     "output_type": "execute_result"
    }
   ],
   "source": [
    "tables_data"
   ]
  },
  {
   "cell_type": "code",
   "execution_count": 86,
   "id": "91c75c6c-a491-4b82-a4e8-004fb4b51980",
   "metadata": {},
   "outputs": [],
   "source": [
    "with open(\"data.csv\",'w') as file:\n",
    "    file.write('\\n'.join(tables_data))"
   ]
  },
  {
   "cell_type": "code",
   "execution_count": null,
   "id": "3155063d-c097-4f33-a0a4-28bfe01b85fb",
   "metadata": {},
   "outputs": [],
   "source": []
  },
  {
   "cell_type": "code",
   "execution_count": null,
   "id": "d9c58cd1-83f1-465c-9078-50e223c5c543",
   "metadata": {},
   "outputs": [],
   "source": []
  },
  {
   "cell_type": "code",
   "execution_count": 87,
   "id": "e6d0da22-cc46-45a2-b5c3-402bd9265754",
   "metadata": {},
   "outputs": [],
   "source": [
    "res_img = requests.get('https://m.media-amazon.com/images/I/61-g46cjguL._AC_UY218_.jpg')"
   ]
  },
  {
   "cell_type": "code",
   "execution_count": null,
   "id": "0f789fed-d9f9-469b-8f88-36147ea561ff",
   "metadata": {},
   "outputs": [],
   "source": []
  },
  {
   "cell_type": "code",
   "execution_count": null,
   "id": "ca459709-0116-4cc1-a79f-1660ce6bb2dc",
   "metadata": {},
   "outputs": [],
   "source": []
  }
 ],
 "metadata": {
  "kernelspec": {
   "display_name": "Python 3 (ipykernel)",
   "language": "python",
   "name": "python3"
  },
  "language_info": {
   "codemirror_mode": {
    "name": "ipython",
    "version": 3
   },
   "file_extension": ".py",
   "mimetype": "text/x-python",
   "name": "python",
   "nbconvert_exporter": "python",
   "pygments_lexer": "ipython3",
   "version": "3.12.8"
  }
 },
 "nbformat": 4,
 "nbformat_minor": 5
}
