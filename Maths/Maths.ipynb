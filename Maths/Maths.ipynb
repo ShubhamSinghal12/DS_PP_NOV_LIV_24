{
 "cells": [
  {
   "cell_type": "code",
   "execution_count": 2,
   "id": "463d9dff-1339-4926-a85a-ca1e3b2b4585",
   "metadata": {},
   "outputs": [],
   "source": [
    "import numpy as np\n",
    "import matplotlib.pyplot as plt"
   ]
  },
  {
   "cell_type": "code",
   "execution_count": 3,
   "id": "d7fd5bf1-3617-4d38-919b-ec237844a3ee",
   "metadata": {},
   "outputs": [],
   "source": [
    "x = np.linspace(-5,5,100)"
   ]
  },
  {
   "cell_type": "code",
   "execution_count": 4,
   "id": "1bbffad0-c232-428d-8c3b-b7bbf8a2ff83",
   "metadata": {},
   "outputs": [],
   "source": [
    "m = 0.5\n",
    "c = 2\n",
    "\n",
    "y = m*x+c"
   ]
  },
  {
   "cell_type": "code",
   "execution_count": 5,
   "id": "405022bf-5f5b-465b-b0e9-7f7122401aef",
   "metadata": {},
   "outputs": [
    {
     "data": {
      "image/png": "[encoded data removed]",
      "text/plain": [
       "<Figure size 640x480 with 1 Axes>"
      ]
     },
     "metadata": {},
     "output_type": "display_data"
    }
   ],
   "source": [
    "plt.plot(x,y)\n",
    "plt.show()"
   ]
  },
  {
   "cell_type": "code",
   "execution_count": 11,
   "id": "7d56ca76-01ac-4afb-b4dc-c125f0f7e026",
   "metadata": {},
   "outputs": [],
   "source": [
    "rv = np.array([10,5,2])\n",
    "cv = np.array([[10],[5]])"
   ]
  },
  {
   "cell_type": "code",
   "execution_count": 12,
   "id": "a8cf2dc5-0a9f-4260-8052-0ce778e7e47b",
   "metadata": {},
   "outputs": [
    {
     "data": {
      "text/plain": [
       "array([10,  5,  2])"
      ]
     },
     "execution_count": 12,
     "metadata": {},
     "output_type": "execute_result"
    }
   ],
   "source": [
    "rv"
   ]
  },
  {
   "cell_type": "code",
   "execution_count": 13,
   "id": "c924255d-2055-4c20-a9de-a9324dc528c3",
   "metadata": {},
   "outputs": [
    {
     "data": {
      "text/plain": [
       "array([[10],\n",
       "       [ 5]])"
      ]
     },
     "execution_count": 13,
     "metadata": {},
     "output_type": "execute_result"
    }
   ],
   "source": [
    "cv"
   ]
  },
  {
   "cell_type": "code",
   "execution_count": 9,
   "id": "7286fc1b-eb85-4c01-a349-59c49317b22a",
   "metadata": {},
   "outputs": [],
   "source": [
    "mat = np.array([[0,-1],[1,0]])"
   ]
  },
  {
   "cell_type": "code",
   "execution_count": 10,
   "id": "9cd33961-df33-4d04-b309-6d9ab4f50280",
   "metadata": {},
   "outputs": [
    {
     "data": {
      "text/plain": [
       "array([[ 0, -1],\n",
       "       [ 1,  0]])"
      ]
     },
     "execution_count": 10,
     "metadata": {},
     "output_type": "execute_result"
    }
   ],
   "source": [
    "mat"
   ]
  },
  {
   "cell_type": "code",
   "execution_count": 14,
   "id": "57b527ae-0f20-4877-8c39-3de964b38b43",
   "metadata": {},
   "outputs": [
    {
     "data": {
      "text/plain": [
       "array([[-5],\n",
       "       [10]])"
      ]
     },
     "execution_count": 14,
     "metadata": {},
     "output_type": "execute_result"
    }
   ],
   "source": [
    "np.dot(mat,cv)"
   ]
  },
  {
   "cell_type": "code",
   "execution_count": 15,
   "id": "9a46f869-1823-40f6-9b6d-50b2f3a3a269",
   "metadata": {},
   "outputs": [],
   "source": [
    "a = np.array([[1,2],[3,4]])\n",
    "b = np.array([[1,2],[3,4]])"
   ]
  },
  {
   "cell_type": "code",
   "execution_count": 16,
   "id": "ae492a19-67db-48d9-a368-d7cf98415d4a",
   "metadata": {},
   "outputs": [
    {
     "data": {
      "text/plain": [
       "array([[ 1,  4],\n",
       "       [ 9, 16]])"
      ]
     },
     "execution_count": 16,
     "metadata": {},
     "output_type": "execute_result"
    }
   ],
   "source": [
    "a*b"
   ]
  },
  {
   "cell_type": "code",
   "execution_count": 17,
   "id": "311b88bf-3664-4e02-b09a-c8bbeb3ce794",
   "metadata": {},
   "outputs": [
    {
     "data": {
      "text/plain": [
       "array([[ 7, 10],\n",
       "       [15, 22]])"
      ]
     },
     "execution_count": 17,
     "metadata": {},
     "output_type": "execute_result"
    }
   ],
   "source": [
    "np.dot(a,b)"
   ]
  },
  {
   "cell_type": "code",
   "execution_count": 18,
   "id": "793fe96a-6e8f-48a3-b5d3-4014e009fac9",
   "metadata": {},
   "outputs": [
    {
     "data": {
      "text/plain": [
       "array([[ 7, 10],\n",
       "       [15, 22]])"
      ]
     },
     "execution_count": 18,
     "metadata": {},
     "output_type": "execute_result"
    }
   ],
   "source": [
    "a@b"
   ]
  },
  {
   "cell_type": "code",
   "execution_count": 19,
   "id": "adcba005-dc3f-4a1e-8eaa-3f5099bff218",
   "metadata": {},
   "outputs": [
    {
     "data": {
      "text/plain": [
       "array([[1, 3],\n",
       "       [2, 4]])"
      ]
     },
     "execution_count": 19,
     "metadata": {},
     "output_type": "execute_result"
    }
   ],
   "source": [
    "np.transpose(a)"
   ]
  },
  {
   "cell_type": "code",
   "execution_count": 20,
   "id": "48a4a9cc-b594-4114-9bc2-536cb1d3df60",
   "metadata": {},
   "outputs": [
    {
     "data": {
      "text/plain": [
       "array([[1, 3],\n",
       "       [2, 4]])"
      ]
     },
     "execution_count": 20,
     "metadata": {},
     "output_type": "execute_result"
    }
   ],
   "source": [
    "a.T"
   ]
  },
  {
   "cell_type": "code",
   "execution_count": 22,
   "id": "0b712fe8-9c48-49f8-9bad-662d441f8731",
   "metadata": {},
   "outputs": [],
   "source": [
    "mda = np.arange(90).reshape((9,2,5))"
   ]
  },
  {
   "cell_type": "code",
   "execution_count": 24,
   "id": "fb199267-cd5a-475b-94bf-64c4a246be31",
   "metadata": {},
   "outputs": [
    {
     "data": {
      "text/plain": [
       "(9, 2, 5)"
      ]
     },
     "execution_count": 24,
     "metadata": {},
     "output_type": "execute_result"
    }
   ],
   "source": [
    "mda.shape"
   ]
  },
  {
   "cell_type": "code",
   "execution_count": 26,
   "id": "46cbfd52-1a96-420d-a77b-43a4678449b2",
   "metadata": {},
   "outputs": [
    {
     "data": {
      "text/plain": [
       "(5, 9, 2)"
      ]
     },
     "execution_count": 26,
     "metadata": {},
     "output_type": "execute_result"
    }
   ],
   "source": [
    "np.transpose(mda,axes=(2,0,1)).shape"
   ]
  },
  {
   "cell_type": "code",
   "execution_count": 28,
   "id": "8687090a-0794-424b-a9a7-1e706b676285",
   "metadata": {},
   "outputs": [
    {
     "data": {
      "text/plain": [
       "array([10,  5,  2])"
      ]
     },
     "execution_count": 28,
     "metadata": {},
     "output_type": "execute_result"
    }
   ],
   "source": [
    "rv.T"
   ]
  },
  {
   "cell_type": "code",
   "execution_count": 30,
   "id": "c2272b9b-cf11-40f6-968b-5a5d5a3a59b7",
   "metadata": {},
   "outputs": [
    {
     "data": {
      "text/plain": [
       "array([[10,  5]])"
      ]
     },
     "execution_count": 30,
     "metadata": {},
     "output_type": "execute_result"
    }
   ],
   "source": [
    "cv.T"
   ]
  },
  {
   "cell_type": "code",
   "execution_count": 34,
   "id": "94ba073c-cd0a-46d0-922a-c4126e0a1617",
   "metadata": {},
   "outputs": [
    {
     "data": {
      "text/plain": [
       "np.float64(10.0)"
      ]
     },
     "execution_count": 34,
     "metadata": {},
     "output_type": "execute_result"
    }
   ],
   "source": [
    "np.linalg.norm(rv,ord=np.inf)"
   ]
  },
  {
   "cell_type": "code",
   "execution_count": 35,
   "id": "55474f3b-0a95-41db-8c63-68bf9301f3d5",
   "metadata": {},
   "outputs": [
    {
     "data": {
      "text/plain": [
       "np.float64(-2.0000000000000004)"
      ]
     },
     "execution_count": 35,
     "metadata": {},
     "output_type": "execute_result"
    }
   ],
   "source": [
    "np.linalg.det(a)"
   ]
  },
  {
   "cell_type": "code",
   "execution_count": 36,
   "id": "519a100c-5559-49bd-a804-172038466392",
   "metadata": {},
   "outputs": [
    {
     "data": {
      "text/plain": [
       "array([[-2. ,  1. ],\n",
       "       [ 1.5, -0.5]])"
      ]
     },
     "execution_count": 36,
     "metadata": {},
     "output_type": "execute_result"
    }
   ],
   "source": [
    "np.linalg.inv(a)"
   ]
  },
  {
   "cell_type": "code",
   "execution_count": 37,
   "id": "4dee2ac8-9f1e-4950-b46a-afbcd4799f05",
   "metadata": {},
   "outputs": [],
   "source": [
    "a = np.array([[2,3],[3,1]])\n",
    "b = np.array([8,5])"
   ]
  },
  {
   "cell_type": "code",
   "execution_count": 38,
   "id": "10ff1f31-0d7c-48fd-8fe3-46de562f0146",
   "metadata": {},
   "outputs": [
    {
     "data": {
      "text/plain": [
       "array([1., 2.])"
      ]
     },
     "execution_count": 38,
     "metadata": {},
     "output_type": "execute_result"
    }
   ],
   "source": [
    "np.linalg.solve(a,b)"
   ]
  },
  {
   "cell_type": "code",
   "execution_count": null,
   "id": "887bd17c-da30-490b-b119-2cd7f70d7c95",
   "metadata": {},
   "outputs": [],
   "source": []
  },
  {
   "cell_type": "code",
   "execution_count": 39,
   "id": "5b3e397c-a2d5-4da8-ab70-88b1ef50106a",
   "metadata": {},
   "outputs": [
    {
     "data": {
      "text/plain": [
       "array([[ 0, -1],\n",
       "       [ 1,  0]])"
      ]
     },
     "execution_count": 39,
     "metadata": {},
     "output_type": "execute_result"
    }
   ],
   "source": [
    "mat"
   ]
  },
  {
   "cell_type": "code",
   "execution_count": 44,
   "id": "4603f853-e141-46d5-a818-71b624b93535",
   "metadata": {},
   "outputs": [],
   "source": [
    "eigval, eigvec = np.linalg.eig(a)"
   ]
  },
  {
   "cell_type": "code",
   "execution_count": 45,
   "id": "351d9a92-e762-4cad-a1c4-9bc00311a509",
   "metadata": {},
   "outputs": [
    {
     "data": {
      "text/plain": [
       "array([ 4.54138127, -1.54138127])"
      ]
     },
     "execution_count": 45,
     "metadata": {},
     "output_type": "execute_result"
    }
   ],
   "source": [
    "eigval"
   ]
  },
  {
   "cell_type": "code",
   "execution_count": 46,
   "id": "da699528-0714-471c-a86e-9e4a71471961",
   "metadata": {},
   "outputs": [
    {
     "data": {
      "text/plain": [
       "array([[ 0.76301998, -0.6463749 ],\n",
       "       [ 0.6463749 ,  0.76301998]])"
      ]
     },
     "execution_count": 46,
     "metadata": {},
     "output_type": "execute_result"
    }
   ],
   "source": [
    "eigvec"
   ]
  },
  {
   "cell_type": "code",
   "execution_count": null,
   "id": "36389f47-be87-47d9-97b6-861ac01ee5de",
   "metadata": {},
   "outputs": [],
   "source": []
  },
  {
   "cell_type": "code",
   "execution_count": 12,
   "id": "343f67d0-8290-452a-9d85-6f3705798fc5",
   "metadata": {},
   "outputs": [],
   "source": [
    "import seaborn as sns\n",
    "import matplotlib.pyplot as plt\n",
    "import numpy as np"
   ]
  },
  {
   "cell_type": "code",
   "execution_count": 4,
   "id": "c2911cbc-8d59-46fa-a58c-7f125c35a2e6",
   "metadata": {},
   "outputs": [],
   "source": [
    "iris = sns.load_dataset('iris')"
   ]
  },
  {
   "cell_type": "code",
   "execution_count": 9,
   "id": "be3a4192-2e3c-409c-90c5-74593a6f217e",
   "metadata": {},
   "outputs": [],
   "source": [
    "pl_s = iris[iris['species']== 'setosa']['petal_length']"
   ]
  },
  {
   "cell_type": "code",
   "execution_count": 11,
   "id": "b1303eb6-ed06-4c6a-82c9-9f1f17e46b19",
   "metadata": {},
   "outputs": [
    {
     "data": {
      "image/png": "[encoded data removed]",
      "text/plain": [
       "<Figure size 640x480 with 1 Axes>"
      ]
     },
     "metadata": {},
     "output_type": "display_data"
    }
   ],
   "source": [
    "plt.hist(pl_s)\n",
    "plt.show()"
   ]
  },
  {
   "cell_type": "code",
   "execution_count": 14,
   "id": "b900b9d7-7643-4d4b-bf86-97100ae0b5d9",
   "metadata": {},
   "outputs": [],
   "source": [
    "count,edges = np.histogram(pl_s)"
   ]
  },
  {
   "cell_type": "code",
   "execution_count": 19,
   "id": "e5a04d6a-7cd8-4584-b55f-632559c413db",
   "metadata": {},
   "outputs": [],
   "source": [
    "pdf = count/sum(count)\n",
    "cdf = np.cumsum(pdf)"
   ]
  },
  {
   "cell_type": "code",
   "execution_count": 20,
   "id": "88b5ff11-250a-45bb-b3da-a7a35dfbd10b",
   "metadata": {},
   "outputs": [
    {
     "data": {
      "image/png": "[encoded data removed]",
      "text/plain": [
       "<Figure size 640x480 with 1 Axes>"
      ]
     },
     "metadata": {},
     "output_type": "display_data"
    }
   ],
   "source": [
    "plt.plot(edges[:-1],pdf)\n",
    "plt.plot(edges[:-1],cdf)\n",
    "plt.show()"
   ]
  },
  {
   "cell_type": "code",
   "execution_count": null,
   "id": "8314f904-92ac-4ebb-892a-01d8d0d6f76a",
   "metadata": {},
   "outputs": [],
   "source": []
  },
  {
   "cell_type": "code",
   "execution_count": null,
   "id": "ba185f4e-f4c0-4e9d-ac42-05d12c7ac128",
   "metadata": {},
   "outputs": [],
   "source": []
  },
  {
   "cell_type": "code",
   "execution_count": null,
   "id": "6ec80be2-22c7-4ef2-898e-e8731acae79c",
   "metadata": {},
   "outputs": [],
   "source": []
  },
  {
   "cell_type": "code",
   "execution_count": null,
   "id": "16d02d07-f3f7-42c4-b99f-fb5b16013373",
   "metadata": {},
   "outputs": [],
   "source": []
  }
 ],
 "metadata": {
  "kernelspec": {
   "display_name": "Python 3 (ipykernel)",
   "language": "python",
   "name": "python3"
  },
  "language_info": {
   "codemirror_mode": {
    "name": "ipython",
    "version": 3
   },
   "file_extension": ".py",
   "mimetype": "text/x-python",
   "name": "python",
   "nbconvert_exporter": "python",
   "pygments_lexer": "ipython3",
   "version": "3.12.8"
  }
 },
 "nbformat": 4,
 "nbformat_minor": 5
}
