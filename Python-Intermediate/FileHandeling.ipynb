{
 "cells": [
  {
   "cell_type": "markdown",
   "id": "e46213c5-b1dc-497c-96a0-e29824757779",
   "metadata": {},
   "source": [
    "# File Access Modes\n",
    "- r(read only)\n",
    "- r+ (read and write)\n",
    "- w (write only)\n",
    "- a (append)\n",
    "- a+ (append and read)\n",
    "- x (new File Create)\n",
    "- t (text Mode)\n",
    "- b (binary Mode)\n",
    "\n",
    "## Read Files\n",
    "- read\n",
    "- readline\n",
    "- readlines\n",
    "\n",
    "## Write Files\n",
    "- write\n",
    "- append\n",
    "\n",
    "## With -- Operator\n",
    "\n",
    "## Moving the cursor\n",
    "- seek(n): takes the file handle to the nth byte from the begining\n",
    "\n",
    "## JSON Files\n",
    "- dump -- write\n",
    "- load -- read\n",
    "- dumps -- Convert dict in str\n",
    "- loads -- Convert str to dict"
   ]
  },
  {
   "cell_type": "code",
   "execution_count": 7,
   "id": "bb602885-ac60-4d28-8cea-fb97f7de6b31",
   "metadata": {},
   "outputs": [
    {
     "name": "stdout",
     "output_type": "stream",
     "text": [
      "Hello World\n",
      "Statement 2\n",
      "This is class Demo for DS NOV Batch\n",
      "Today's Date 23/12/2024\n",
      "\n"
     ]
    }
   ],
   "source": [
    "file = open(\"FileDemo.txt\",'r')\n",
    "print(file.read())"
   ]
  },
  {
   "cell_type": "code",
   "execution_count": 8,
   "id": "3ee91b22-ea46-41ba-8743-e5ad4bc4c25e",
   "metadata": {},
   "outputs": [],
   "source": [
    "file.close()"
   ]
  },
  {
   "cell_type": "code",
   "execution_count": 6,
   "id": "b6e7a00d-2964-41b0-894b-4a3610357ab2",
   "metadata": {},
   "outputs": [
    {
     "data": {
      "text/plain": [
       "<_io.TextIOWrapper name='FileDemo.txt' mode='r' encoding='cp1252'>"
      ]
     },
     "execution_count": 6,
     "metadata": {},
     "output_type": "execute_result"
    }
   ],
   "source": [
    "file"
   ]
  },
  {
   "cell_type": "code",
   "execution_count": 12,
   "id": "2a3ae35b-d1b8-4b97-8414-03fda78f55f1",
   "metadata": {},
   "outputs": [
    {
     "name": "stdout",
     "output_type": "stream",
     "text": [
      "In Downloads\n"
     ]
    }
   ],
   "source": [
    "# file = open(\"C:\\\\Users\\\\abhis\\\\Downloads\\\\FileDemo.txt\",'r')\n",
    "file = open(r\"C:\\Users\\abhis\\Downloads\\FileDemo.txt\",'r')\n",
    "print(file.read())\n",
    "file.close()"
   ]
  },
  {
   "cell_type": "code",
   "execution_count": 14,
   "id": "886de8ef-002d-435a-bdce-62630f444030",
   "metadata": {},
   "outputs": [
    {
     "name": "stdout",
     "output_type": "stream",
     "text": [
      "This is a Demo from a Folder\n"
     ]
    }
   ],
   "source": [
    "# file = open(r\"E:\\DS Classes\\DS_NOV_LIV_2024\\Python-Intermediate\\FileDemoFloder\\FD.txt\",'r')\n",
    "file = open(\"./FileDemoFloder/FD.txt\",'r')\n",
    "print(file.read())\n",
    "file.close()"
   ]
  },
  {
   "cell_type": "code",
   "execution_count": 23,
   "id": "b135da90-6a01-4d7f-825f-c47a9ffe8e31",
   "metadata": {},
   "outputs": [
    {
     "name": "stdout",
     "output_type": "stream",
     "text": [
      "Hello World\n",
      "\n",
      "Statement 2\n",
      "\n",
      "This is class Demo for DS NOV Batch\n",
      "\n",
      "Today's Date 23/12/2024\n",
      "\n",
      "\n",
      "\n"
     ]
    }
   ],
   "source": [
    "file = open(\"FileDemo.txt\",'r')\n",
    "print(file.readline())\n",
    "print(file.readline())\n",
    "print(file.readline())\n",
    "print(file.readline())\n",
    "print(file.readline())\n",
    "print(file.readline())\n",
    "file.close()"
   ]
  },
  {
   "cell_type": "code",
   "execution_count": 22,
   "id": "6d63440b-7d3e-4000-9746-95ce9a62d4a0",
   "metadata": {},
   "outputs": [],
   "source": [
    "# file.readline()"
   ]
  },
  {
   "cell_type": "code",
   "execution_count": 26,
   "id": "2bb0579b-3fe5-4ce0-ae3a-6ce314d2a49d",
   "metadata": {},
   "outputs": [
    {
     "name": "stdout",
     "output_type": "stream",
     "text": [
      "Hello Worl\n",
      "d\n",
      "Statemen\n"
     ]
    }
   ],
   "source": [
    "file = open(\"FileDemo.txt\",'r')\n",
    "print(file.read(10))\n",
    "print(file.read(10))\n",
    "file.close()"
   ]
  },
  {
   "cell_type": "code",
   "execution_count": 29,
   "id": "597f80d4-e243-4c08-b110-96194ec42932",
   "metadata": {},
   "outputs": [
    {
     "name": "stdout",
     "output_type": "stream",
     "text": [
      "Hello World\n",
      "Statement 2\n",
      "This is class Demo for DS NOV Batch\n",
      "Today's Date 23/12/2024\n"
     ]
    }
   ],
   "source": [
    "file = open(\"FileDemo.txt\",'r')\n",
    "for line in file.readlines():\n",
    "    print(line,end='')\n",
    "file.close()"
   ]
  },
  {
   "cell_type": "code",
   "execution_count": null,
   "id": "5c63e9de-c012-4212-8e1f-c2907a4437ee",
   "metadata": {},
   "outputs": [],
   "source": []
  },
  {
   "cell_type": "code",
   "execution_count": 33,
   "id": "9e151956-d6b4-4229-a26d-64f519e55bee",
   "metadata": {},
   "outputs": [],
   "source": [
    "file = open(\"FileDemo.txt\",'w')\n",
    "file.write(\"This is a Demo Write 1\")\n",
    "file.write(\"This is a Demo Write 2\\n\")\n",
    "file.write(\"This is a Demo Write 3\\n\")\n",
    "file.write(\"This is a Demo Write 4\\n\")\n",
    "file.close()"
   ]
  },
  {
   "cell_type": "code",
   "execution_count": 39,
   "id": "91f6882d-da6f-4352-b710-5ea4e5c22b74",
   "metadata": {},
   "outputs": [],
   "source": [
    "l = [\"line 1\\n\",\"line 2\\n\",\"line 3\\n\",\"line 4\\n\"]\n",
    "file = open(\"FileDemo2.txt\",'w')\n",
    "# for line in l:\n",
    "#     file.write(line+\"\\n\")\n",
    "file.writelines(l)\n",
    "file.close()"
   ]
  },
  {
   "cell_type": "code",
   "execution_count": 40,
   "id": "66f7869c-eec8-4286-a52d-68c773c17c18",
   "metadata": {},
   "outputs": [],
   "source": [
    "file = open(\"FileDemo.txt\",'a')\n",
    "file.write(\"Writing in append mode\")\n",
    "file.close()"
   ]
  },
  {
   "cell_type": "code",
   "execution_count": 44,
   "id": "c95f5eb4-f81d-4b67-a718-7f6020199a5c",
   "metadata": {},
   "outputs": [],
   "source": [
    "file = open(\"FileDemo3.txt\",'x')\n",
    "file.write(\"Writing in Create mode\")\n",
    "file.close()"
   ]
  },
  {
   "cell_type": "code",
   "execution_count": null,
   "id": "6ecc03e6-16ea-4b66-93a5-b270ed4a5a4d",
   "metadata": {},
   "outputs": [],
   "source": []
  },
  {
   "cell_type": "code",
   "execution_count": 60,
   "id": "ac82962d-85d0-49d4-a4ff-b58f5b4f027d",
   "metadata": {},
   "outputs": [
    {
     "name": "stdout",
     "output_type": "stream",
     "text": [
      "ne 2\n",
      "line 3\n",
      "line 4\n",
      "Writing in append mode\n",
      "ne 2\n",
      "line 3\n",
      "line 4\n",
      "Writing in append mode\n",
      "\n"
     ]
    }
   ],
   "source": [
    "file = open(\"FileDemo.txt\",'r')\n",
    "file.seek(10)\n",
    "content = file.read()\n",
    "print(content)\n",
    "file.seek(10)\n",
    "content = file.read()\n",
    "print(content)\n",
    "print(file.read())\n",
    "file.close()"
   ]
  },
  {
   "cell_type": "code",
   "execution_count": null,
   "id": "aeae6db6-deba-4301-bfcd-170882facd43",
   "metadata": {},
   "outputs": [],
   "source": []
  },
  {
   "cell_type": "code",
   "execution_count": null,
   "id": "f5ce73d8-646d-42e5-8735-5338646c8ecc",
   "metadata": {},
   "outputs": [],
   "source": []
  },
  {
   "cell_type": "code",
   "execution_count": 61,
   "id": "feb6fe4b-fe7e-4e36-b4e8-ba59f72f8896",
   "metadata": {},
   "outputs": [],
   "source": [
    "d = {\n",
    "    \"user\":\"Shubham\",\n",
    "    \"pass\":123\n",
    "}"
   ]
  },
  {
   "cell_type": "code",
   "execution_count": 62,
   "id": "a6cf8c4f-5414-4792-ad9f-a77376c939cf",
   "metadata": {},
   "outputs": [],
   "source": [
    "import json"
   ]
  },
  {
   "cell_type": "code",
   "execution_count": 63,
   "id": "15342915-8d3e-43e8-b4ac-dc4b1051a92c",
   "metadata": {},
   "outputs": [],
   "source": [
    "file = open(\"JsonDemo.json\",'w')\n",
    "json.dump(d,file)\n",
    "file.close()"
   ]
  },
  {
   "cell_type": "code",
   "execution_count": 64,
   "id": "251c4b01-78c9-41b7-8428-2bd18465fc98",
   "metadata": {},
   "outputs": [],
   "source": [
    "file = open(\"JsonDemo.json\",'r')\n",
    "fd = json.load(file)\n",
    "file.close()"
   ]
  },
  {
   "cell_type": "code",
   "execution_count": 65,
   "id": "91247082-bca5-4c01-b041-ff9a4ce6c2d1",
   "metadata": {},
   "outputs": [
    {
     "data": {
      "text/plain": [
       "{'user': 'Shubham', 'pass': 123}"
      ]
     },
     "execution_count": 65,
     "metadata": {},
     "output_type": "execute_result"
    }
   ],
   "source": [
    "fd"
   ]
  },
  {
   "cell_type": "code",
   "execution_count": 66,
   "id": "a31598a4-b5be-4a72-b57a-33485f929d72",
   "metadata": {},
   "outputs": [
    {
     "data": {
      "text/plain": [
       "dict"
      ]
     },
     "execution_count": 66,
     "metadata": {},
     "output_type": "execute_result"
    }
   ],
   "source": [
    "type(fd)"
   ]
  },
  {
   "cell_type": "code",
   "execution_count": 68,
   "id": "79b43cc2-81cb-4481-9f45-48382ef56d55",
   "metadata": {},
   "outputs": [
    {
     "data": {
      "text/plain": [
       "'{\"user\": \"Shubham\", \"pass\": 123}'"
      ]
     },
     "execution_count": 68,
     "metadata": {},
     "output_type": "execute_result"
    }
   ],
   "source": [
    "sd = json.dumps(d)\n",
    "sd"
   ]
  },
  {
   "cell_type": "code",
   "execution_count": 69,
   "id": "7402dca4-669e-4e90-8ba0-ba16aa03f601",
   "metadata": {},
   "outputs": [
    {
     "data": {
      "text/plain": [
       "{'user': 'Shubham', 'pass': 123}"
      ]
     },
     "execution_count": 69,
     "metadata": {},
     "output_type": "execute_result"
    }
   ],
   "source": [
    "sfd = json.loads(sd)\n",
    "sfd"
   ]
  },
  {
   "cell_type": "code",
   "execution_count": null,
   "id": "5e6c5050-f156-489e-83b2-1b3785a24aa0",
   "metadata": {},
   "outputs": [],
   "source": []
  },
  {
   "cell_type": "code",
   "execution_count": null,
   "id": "8390ac96-213a-4a81-8261-8867695a524e",
   "metadata": {},
   "outputs": [],
   "source": []
  },
  {
   "cell_type": "code",
   "execution_count": 70,
   "id": "f89f3240-fa9a-486c-8dde-1eb6622f1809",
   "metadata": {},
   "outputs": [
    {
     "name": "stdout",
     "output_type": "stream",
     "text": [
      "line 1\n",
      "line 2\n",
      "line 3\n",
      "line 4\n",
      "Writing in append mode\n"
     ]
    },
    {
     "ename": "ValueError",
     "evalue": "I/O operation on closed file.",
     "output_type": "error",
     "traceback": [
      "\u001b[1;31m---------------------------------------------------------------------------\u001b[0m",
      "\u001b[1;31mValueError\u001b[0m                                Traceback (most recent call last)",
      "Cell \u001b[1;32mIn[70], line 3\u001b[0m\n\u001b[0;32m      1\u001b[0m \u001b[38;5;28;01mwith\u001b[39;00m \u001b[38;5;28mopen\u001b[39m(\u001b[38;5;124m\"\u001b[39m\u001b[38;5;124mFileDemo.txt\u001b[39m\u001b[38;5;124m\"\u001b[39m,\u001b[38;5;124m'\u001b[39m\u001b[38;5;124mr\u001b[39m\u001b[38;5;124m'\u001b[39m) \u001b[38;5;28;01mas\u001b[39;00m file:\n\u001b[0;32m      2\u001b[0m     \u001b[38;5;28mprint\u001b[39m(file\u001b[38;5;241m.\u001b[39mread())\n\u001b[1;32m----> 3\u001b[0m \u001b[43mfile\u001b[49m\u001b[38;5;241;43m.\u001b[39;49m\u001b[43mread\u001b[49m\u001b[43m(\u001b[49m\u001b[43m)\u001b[49m\n",
      "\u001b[1;31mValueError\u001b[0m: I/O operation on closed file."
     ]
    }
   ],
   "source": [
    "with open(\"FileDemo.txt\",'r') as file:\n",
    "    print(file.read())\n",
    "file.read()"
   ]
  },
  {
   "cell_type": "code",
   "execution_count": null,
   "id": "303e71d0-a47b-4ca4-a8f1-80bb53d30a83",
   "metadata": {},
   "outputs": [],
   "source": []
  },
  {
   "cell_type": "code",
   "execution_count": null,
   "id": "b736d39b-abbc-4de3-a541-f18322269b1e",
   "metadata": {},
   "outputs": [],
   "source": []
  },
  {
   "cell_type": "code",
   "execution_count": null,
   "id": "bd03d3b7-80c0-497d-9635-61e25fca576e",
   "metadata": {},
   "outputs": [],
   "source": []
  },
  {
   "cell_type": "code",
   "execution_count": 78,
   "id": "21811b00-5cfe-48a5-a815-0faf113fc1c9",
   "metadata": {},
   "outputs": [],
   "source": [
    "a = 10\n",
    "with open(\"FileDemo.txt\",'a') as file:\n",
    "    file.write(str(a))"
   ]
  },
  {
   "cell_type": "code",
   "execution_count": 76,
   "id": "4275be52-b131-4085-af80-97173b1d26e2",
   "metadata": {},
   "outputs": [],
   "source": [
    "# import pickle"
   ]
  },
  {
   "cell_type": "code",
   "execution_count": 77,
   "id": "caf59ded-0d64-461a-94ba-954efcdf3993",
   "metadata": {},
   "outputs": [],
   "source": [
    "# a = 10\n",
    "# with open(\"FileDemBinary.txt\",'wb') as file:\n",
    "#     file.write(str(a))"
   ]
  },
  {
   "cell_type": "code",
   "execution_count": null,
   "id": "9c4d1866-3e16-4f6f-a83f-a2465cf9b7dc",
   "metadata": {},
   "outputs": [],
   "source": []
  },
  {
   "cell_type": "code",
   "execution_count": null,
   "id": "b2aaccc2-05f8-403c-a4c8-b12af5f73999",
   "metadata": {},
   "outputs": [],
   "source": []
  }
 ],
 "metadata": {
  "kernelspec": {
   "display_name": "Python 3 (ipykernel)",
   "language": "python",
   "name": "python3"
  },
  "language_info": {
   "codemirror_mode": {
    "name": "ipython",
    "version": 3
   },
   "file_extension": ".py",
   "mimetype": "text/x-python",
   "name": "python",
   "nbconvert_exporter": "python",
   "pygments_lexer": "ipython3",
   "version": "3.12.8"
  }
 },
 "nbformat": 4,
 "nbformat_minor": 5
}
