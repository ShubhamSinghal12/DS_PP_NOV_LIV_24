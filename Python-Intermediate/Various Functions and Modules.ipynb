{
 "cells": [
  {
   "cell_type": "markdown",
   "id": "b990428d-9cf9-430d-a6e7-9b8a4f230f64",
   "metadata": {},
   "source": [
    "## Various Functions\n",
    "- abs\n",
    "- all\n",
    "- dir\n",
    "- divmod\n",
    "- enumerate\n",
    "- filter\n",
    "- isinstance\n",
    "- map\n",
    "- reduce -- in python3 from functools import reduce\n",
    "- sorted\n",
    "\n",
    "## Modules\n",
    "- How to make and import module\n",
    "- Alias and filtered import\n",
    "- from module_name import *\n",
    "- Memory Management\n",
    "- For efficienncy sake, each module is imported once per interpreter session. Therefore, if you can change your modules, you must restart the interpreter.\n",
    "- OS module\n",
    "\n",
    "## The module name is available in the \\_\\_name__ global variable\n",
    "\\_\\_name__ is a built-in variable which evaluates to the name of the current module.\n",
    "\n",
    "- when a module script is executed as a source file the value of \\_\\_name__ var is \\_\\_main__\n",
    "- if a script is executed as a Module \\_\\_name__ holds the name of the module\n",
    "\n",
    "## Executing module as a script\n"
   ]
  },
  {
   "cell_type": "code",
   "execution_count": 57,
   "id": "f2f9a5f5-f086-4461-84fa-de595e2755ae",
   "metadata": {},
   "outputs": [],
   "source": [
    "import calculator as cal"
   ]
  },
  {
   "cell_type": "code",
   "execution_count": 58,
   "id": "d1f9af4c-005c-4eea-9c65-1b969466f5f2",
   "metadata": {},
   "outputs": [
    {
     "data": {
      "text/plain": [
       "30"
      ]
     },
     "execution_count": 58,
     "metadata": {},
     "output_type": "execute_result"
    }
   ],
   "source": [
    "calculator.add(10,20)"
   ]
  },
  {
   "cell_type": "code",
   "execution_count": 6,
   "id": "ab2a9bb6-04c0-400d-8b7b-a49c5ef18992",
   "metadata": {},
   "outputs": [
    {
     "data": {
      "text/plain": [
       "12"
      ]
     },
     "execution_count": 6,
     "metadata": {},
     "output_type": "execute_result"
    }
   ],
   "source": [
    "calculator.multiply(3,4)"
   ]
  },
  {
   "cell_type": "code",
   "execution_count": 7,
   "id": "e91300b6-44f1-44a4-9d91-529f6e179185",
   "metadata": {},
   "outputs": [
    {
     "data": {
      "text/plain": [
       "10"
      ]
     },
     "execution_count": 7,
     "metadata": {},
     "output_type": "execute_result"
    }
   ],
   "source": [
    "a = calculator.A(10)\n",
    "a.x"
   ]
  },
  {
   "cell_type": "code",
   "execution_count": 8,
   "id": "9c6c1da7-4f1e-418a-a488-4c0dda5072be",
   "metadata": {},
   "outputs": [
    {
     "data": {
      "text/plain": [
       "<calculator.A at 0x1ba9c6fb2c0>"
      ]
     },
     "execution_count": 8,
     "metadata": {},
     "output_type": "execute_result"
    }
   ],
   "source": [
    "a"
   ]
  },
  {
   "cell_type": "code",
   "execution_count": 9,
   "id": "c4af9310-0a97-4227-8647-6cdc64a1c937",
   "metadata": {},
   "outputs": [],
   "source": [
    "def f():\n",
    "    print(\"Hi\")"
   ]
  },
  {
   "cell_type": "code",
   "execution_count": 10,
   "id": "714a87bf-88f1-4af3-a895-ec0889ef9222",
   "metadata": {},
   "outputs": [
    {
     "name": "stdout",
     "output_type": "stream",
     "text": [
      "Hi\n"
     ]
    }
   ],
   "source": [
    "f()"
   ]
  },
  {
   "cell_type": "code",
   "execution_count": null,
   "id": "df11de21-1488-4807-aedc-ed32e0bd73f0",
   "metadata": {},
   "outputs": [],
   "source": []
  },
  {
   "cell_type": "code",
   "execution_count": 7,
   "id": "31006a3f-daea-40f2-b116-e5dbb2d83be6",
   "metadata": {},
   "outputs": [],
   "source": [
    "import calculator as cal"
   ]
  },
  {
   "cell_type": "code",
   "execution_count": 4,
   "id": "76edadaa-daaa-4585-8043-6c1524be003e",
   "metadata": {},
   "outputs": [
    {
     "data": {
      "text/plain": [
       "30"
      ]
     },
     "execution_count": 4,
     "metadata": {},
     "output_type": "execute_result"
    }
   ],
   "source": [
    "cal.add(10,20)"
   ]
  },
  {
   "cell_type": "code",
   "execution_count": 8,
   "id": "8dc1c9b6-32b8-4693-9431-882400341202",
   "metadata": {},
   "outputs": [
    {
     "data": {
      "text/plain": [
       "200"
      ]
     },
     "execution_count": 8,
     "metadata": {},
     "output_type": "execute_result"
    }
   ],
   "source": [
    "cal.CONSTANT"
   ]
  },
  {
   "cell_type": "code",
   "execution_count": 10,
   "id": "2550e96e-31ca-4bf1-b34d-27639da15e0e",
   "metadata": {},
   "outputs": [
    {
     "data": {
      "text/plain": [
       "inf"
      ]
     },
     "execution_count": 10,
     "metadata": {},
     "output_type": "execute_result"
    }
   ],
   "source": [
    "float('inf')"
   ]
  },
  {
   "cell_type": "code",
   "execution_count": null,
   "id": "834bdccf-69d9-43fa-93e3-3fbaefeba246",
   "metadata": {},
   "outputs": [],
   "source": []
  },
  {
   "cell_type": "code",
   "execution_count": 1,
   "id": "23ca43e3-71ba-4ea5-a443-05196cae6d03",
   "metadata": {},
   "outputs": [],
   "source": [
    "def add(a,b,c):\n",
    "    return a+b+c"
   ]
  },
  {
   "cell_type": "code",
   "execution_count": 2,
   "id": "87cc4a16-e25d-4032-a079-bc3b83f145d5",
   "metadata": {},
   "outputs": [
    {
     "data": {
      "text/plain": [
       "6"
      ]
     },
     "execution_count": 2,
     "metadata": {},
     "output_type": "execute_result"
    }
   ],
   "source": [
    "add(1,2,3)"
   ]
  },
  {
   "cell_type": "code",
   "execution_count": null,
   "id": "8076081c-5c64-4107-b364-3d491a5a3d8f",
   "metadata": {},
   "outputs": [],
   "source": []
  },
  {
   "cell_type": "code",
   "execution_count": 4,
   "id": "8cba1d86-49b7-4452-8e7d-6e832675ad63",
   "metadata": {},
   "outputs": [],
   "source": [
    "from calculator import (\n",
    "                add as addition, \n",
    "                multiply as prod, \n",
    "                subtract)"
   ]
  },
  {
   "cell_type": "code",
   "execution_count": 7,
   "id": "8dd7288d-825a-487f-88d2-309afb1e43fc",
   "metadata": {},
   "outputs": [
    {
     "data": {
      "text/plain": [
       "(60, 30)"
      ]
     },
     "execution_count": 7,
     "metadata": {},
     "output_type": "execute_result"
    }
   ],
   "source": [
    "add(10,20,30),addition(10,20)"
   ]
  },
  {
   "cell_type": "code",
   "execution_count": 6,
   "id": "2435e2bd-7c5c-433b-aa4d-000e73307a79",
   "metadata": {},
   "outputs": [
    {
     "data": {
      "text/plain": [
       "200"
      ]
     },
     "execution_count": 6,
     "metadata": {},
     "output_type": "execute_result"
    }
   ],
   "source": [
    "multiply(10,20)"
   ]
  },
  {
   "cell_type": "code",
   "execution_count": null,
   "id": "3a4563eb-25c8-495d-8b89-5c2cd69f0d16",
   "metadata": {},
   "outputs": [],
   "source": []
  },
  {
   "cell_type": "code",
   "execution_count": 10,
   "id": "d4ccc188-5137-4293-bd51-bd5deebbb8c5",
   "metadata": {},
   "outputs": [],
   "source": [
    "from calculator import * #Not very good Programming"
   ]
  },
  {
   "cell_type": "code",
   "execution_count": 11,
   "id": "68282b71-a88b-4b9d-9ff0-ed14f53e2d8a",
   "metadata": {},
   "outputs": [
    {
     "data": {
      "text/plain": [
       "10"
      ]
     },
     "execution_count": 11,
     "metadata": {},
     "output_type": "execute_result"
    }
   ],
   "source": [
    "obj = A(10)\n",
    "obj.x"
   ]
  },
  {
   "cell_type": "code",
   "execution_count": null,
   "id": "83cfb88b-9f71-4ce5-ad0a-634972fa4c6f",
   "metadata": {},
   "outputs": [],
   "source": []
  },
  {
   "cell_type": "code",
   "execution_count": 1,
   "id": "4fb23d1e-0d08-4652-b74a-bac074365aae",
   "metadata": {},
   "outputs": [],
   "source": [
    "import calculator"
   ]
  },
  {
   "cell_type": "code",
   "execution_count": 3,
   "id": "b0192c75-e81a-42ac-9a6e-5698589cec66",
   "metadata": {},
   "outputs": [
    {
     "data": {
      "text/plain": [
       "module"
      ]
     },
     "execution_count": 3,
     "metadata": {},
     "output_type": "execute_result"
    }
   ],
   "source": [
    "type(calculator)"
   ]
  },
  {
   "cell_type": "code",
   "execution_count": 4,
   "id": "b4508b31-032f-4f5f-b0d3-7f0a5d673b62",
   "metadata": {},
   "outputs": [
    {
     "data": {
      "text/plain": [
       "<module 'calculator' from 'E:\\\\DS Classes\\\\DS_NOV_LIV_2024\\\\Python-Intermediate\\\\calculator.py'>"
      ]
     },
     "execution_count": 4,
     "metadata": {},
     "output_type": "execute_result"
    }
   ],
   "source": [
    "calculator"
   ]
  },
  {
   "cell_type": "code",
   "execution_count": 5,
   "id": "523f4206-c774-4a9c-9939-3587b2b93e4f",
   "metadata": {},
   "outputs": [
    {
     "data": {
      "text/plain": [
       "30"
      ]
     },
     "execution_count": 5,
     "metadata": {},
     "output_type": "execute_result"
    }
   ],
   "source": [
    "calculator.add(10,20)"
   ]
  },
  {
   "cell_type": "code",
   "execution_count": 7,
   "id": "8238d5b9-c305-4a96-8bf3-1d921a031309",
   "metadata": {},
   "outputs": [
    {
     "data": {
      "text/plain": [
       "100"
      ]
     },
     "execution_count": 7,
     "metadata": {},
     "output_type": "execute_result"
    }
   ],
   "source": [
    "calculator.X"
   ]
  },
  {
   "cell_type": "code",
   "execution_count": null,
   "id": "87ce8d91-886f-44fd-844b-dff28a5aa8ef",
   "metadata": {},
   "outputs": [],
   "source": []
  },
  {
   "cell_type": "code",
   "execution_count": 1,
   "id": "2bd5d0df-424f-4cdb-9580-92f80be52095",
   "metadata": {},
   "outputs": [
    {
     "name": "stdout",
     "output_type": "stream",
     "text": [
      "Hi I am calling From calculator Module\n"
     ]
    }
   ],
   "source": [
    "from calculator import add\n",
    "from calculator import multiply"
   ]
  },
  {
   "cell_type": "code",
   "execution_count": null,
   "id": "08a83757-714e-466c-a675-c93109a33798",
   "metadata": {},
   "outputs": [],
   "source": []
  },
  {
   "cell_type": "code",
   "execution_count": 2,
   "id": "bd60bf67-d1d3-4aef-85b7-5951f3e76b13",
   "metadata": {},
   "outputs": [],
   "source": [
    "from calculator import Y"
   ]
  },
  {
   "cell_type": "code",
   "execution_count": 3,
   "id": "ebcf08d7-6407-4084-968b-6f0588018609",
   "metadata": {},
   "outputs": [],
   "source": [
    "import calculator"
   ]
  },
  {
   "cell_type": "code",
   "execution_count": 4,
   "id": "7ca6680a-7bb3-405f-ae28-9dba4f2a8b87",
   "metadata": {},
   "outputs": [
    {
     "data": {
      "text/plain": [
       "['A',\n",
       " 'C',\n",
       " 'CONSTANT',\n",
       " 'X',\n",
       " 'Y',\n",
       " '__builtins__',\n",
       " '__cached__',\n",
       " '__doc__',\n",
       " '__file__',\n",
       " '__loader__',\n",
       " '__name__',\n",
       " '__package__',\n",
       " '__spec__',\n",
       " 'add',\n",
       " 'divide',\n",
       " 'multiply',\n",
       " 'subtract']"
      ]
     },
     "execution_count": 4,
     "metadata": {},
     "output_type": "execute_result"
    }
   ],
   "source": [
    "dir(calculator)"
   ]
  },
  {
   "cell_type": "code",
   "execution_count": 5,
   "id": "bb39e5b4-163d-4bdc-9bd4-265b00e74c5c",
   "metadata": {},
   "outputs": [
    {
     "data": {
      "text/plain": [
       "'calculator'"
      ]
     },
     "execution_count": 5,
     "metadata": {},
     "output_type": "execute_result"
    }
   ],
   "source": [
    "calculator.__name__"
   ]
  },
  {
   "cell_type": "code",
   "execution_count": 1,
   "id": "7cd34e35-3a63-4cc2-a1e1-b61929b2bc1f",
   "metadata": {},
   "outputs": [
    {
     "name": "stdout",
     "output_type": "stream",
     "text": [
      "Hi I am calling From calculator Module\n"
     ]
    }
   ],
   "source": [
    "import calculator"
   ]
  },
  {
   "cell_type": "code",
   "execution_count": 2,
   "id": "e42757be-8314-46c3-9718-c0462944ee04",
   "metadata": {},
   "outputs": [
    {
     "name": "stdout",
     "output_type": "stream",
     "text": [
      "Hi I am calling from source\n"
     ]
    }
   ],
   "source": [
    "!python calculator.py"
   ]
  },
  {
   "cell_type": "code",
   "execution_count": null,
   "id": "eb38bcf6-607b-4459-9f01-4f1ead3cb027",
   "metadata": {},
   "outputs": [],
   "source": []
  },
  {
   "cell_type": "markdown",
   "id": "95c57b13-1afe-4568-b255-c645fe192526",
   "metadata": {},
   "source": [
    "## Various Functions\n",
    "- abs\n",
    "- all\n",
    "- dir\n",
    "- divmod\n",
    "- enumerate\n",
    "- filter\n",
    "- isinstance\n",
    "- map\n",
    "- reduce -- in python3 from functools import reduce\n",
    "- sorted"
   ]
  },
  {
   "cell_type": "code",
   "execution_count": 3,
   "id": "170d8b9e-53d8-4c15-a19c-6f66cb0de659",
   "metadata": {},
   "outputs": [
    {
     "data": {
      "text/plain": [
       "1"
      ]
     },
     "execution_count": 3,
     "metadata": {},
     "output_type": "execute_result"
    }
   ],
   "source": [
    "abs(-1)"
   ]
  },
  {
   "cell_type": "code",
   "execution_count": 4,
   "id": "4ccfa28c-a335-4a04-b176-5940a4e47e93",
   "metadata": {},
   "outputs": [
    {
     "data": {
      "text/plain": [
       "1"
      ]
     },
     "execution_count": 4,
     "metadata": {},
     "output_type": "execute_result"
    }
   ],
   "source": [
    "abs(1)"
   ]
  },
  {
   "cell_type": "code",
   "execution_count": 5,
   "id": "3c38485c-483f-4025-85c0-69b9851af224",
   "metadata": {},
   "outputs": [
    {
     "data": {
      "text/plain": [
       "True"
      ]
     },
     "execution_count": 5,
     "metadata": {},
     "output_type": "execute_result"
    }
   ],
   "source": [
    "all([True,1,True])"
   ]
  },
  {
   "cell_type": "code",
   "execution_count": 11,
   "id": "3cb4a31d-aa94-4b6e-9d58-161927abb48b",
   "metadata": {},
   "outputs": [
    {
     "data": {
      "text/plain": [
       "True"
      ]
     },
     "execution_count": 11,
     "metadata": {},
     "output_type": "execute_result"
    }
   ],
   "source": [
    "all([True,True,True])"
   ]
  },
  {
   "cell_type": "code",
   "execution_count": 13,
   "id": "ead2d720-380b-40de-828e-c67b1ec5ee35",
   "metadata": {},
   "outputs": [
    {
     "data": {
      "text/plain": [
       "True"
      ]
     },
     "execution_count": 13,
     "metadata": {},
     "output_type": "execute_result"
    }
   ],
   "source": [
    "any([True,False])"
   ]
  },
  {
   "cell_type": "code",
   "execution_count": 14,
   "id": "13be7174-e702-40d2-b5cd-2904df02169f",
   "metadata": {},
   "outputs": [
    {
     "data": {
      "text/plain": [
       "['A',\n",
       " 'C',\n",
       " 'CONSTANT',\n",
       " 'X',\n",
       " 'Y',\n",
       " '__builtins__',\n",
       " '__cached__',\n",
       " '__doc__',\n",
       " '__file__',\n",
       " '__loader__',\n",
       " '__name__',\n",
       " '__package__',\n",
       " '__spec__',\n",
       " 'add',\n",
       " 'divide',\n",
       " 'multiply',\n",
       " 'subtract']"
      ]
     },
     "execution_count": 14,
     "metadata": {},
     "output_type": "execute_result"
    }
   ],
   "source": [
    "dir(calculator)"
   ]
  },
  {
   "cell_type": "code",
   "execution_count": 15,
   "id": "027ae221-597a-4662-b9c5-339ada121621",
   "metadata": {},
   "outputs": [
    {
     "data": {
      "text/plain": [
       "(3, 1)"
      ]
     },
     "execution_count": 15,
     "metadata": {},
     "output_type": "execute_result"
    }
   ],
   "source": [
    "divmod(10,3)"
   ]
  },
  {
   "cell_type": "code",
   "execution_count": 17,
   "id": "7757549d-f4ce-457d-8518-ca233748929d",
   "metadata": {},
   "outputs": [],
   "source": [
    "que,rem = divmod(10,3)"
   ]
  },
  {
   "cell_type": "code",
   "execution_count": 18,
   "id": "1473f112-8cf3-41ab-bc41-4dab18bd862e",
   "metadata": {},
   "outputs": [
    {
     "data": {
      "text/plain": [
       "3"
      ]
     },
     "execution_count": 18,
     "metadata": {},
     "output_type": "execute_result"
    }
   ],
   "source": [
    "que"
   ]
  },
  {
   "cell_type": "code",
   "execution_count": 19,
   "id": "36aa732f-8fb0-4ced-ab23-4b6d590d5cea",
   "metadata": {},
   "outputs": [
    {
     "data": {
      "text/plain": [
       "1"
      ]
     },
     "execution_count": 19,
     "metadata": {},
     "output_type": "execute_result"
    }
   ],
   "source": [
    "rem"
   ]
  },
  {
   "cell_type": "code",
   "execution_count": 20,
   "id": "52e22784-7299-40b0-b5cc-194b89f2e734",
   "metadata": {},
   "outputs": [],
   "source": [
    "def even(x):\n",
    "    return x%2 == 0"
   ]
  },
  {
   "cell_type": "code",
   "execution_count": 26,
   "id": "446393af-756d-436b-898a-93185ba426d6",
   "metadata": {},
   "outputs": [],
   "source": [
    "l = list(filter(even,[i for i in range(10)]))"
   ]
  },
  {
   "cell_type": "code",
   "execution_count": 27,
   "id": "3f354e0a-80db-43ce-a84e-fc55346625e0",
   "metadata": {},
   "outputs": [
    {
     "data": {
      "text/plain": [
       "[0, 2, 4, 6, 8]"
      ]
     },
     "execution_count": 27,
     "metadata": {},
     "output_type": "execute_result"
    }
   ],
   "source": [
    "l"
   ]
  },
  {
   "cell_type": "code",
   "execution_count": 29,
   "id": "49a0edc1-00eb-48f8-9fac-28c5187cf112",
   "metadata": {},
   "outputs": [
    {
     "data": {
      "text/plain": [
       "True"
      ]
     },
     "execution_count": 29,
     "metadata": {},
     "output_type": "execute_result"
    }
   ],
   "source": [
    "isinstance(l,list)"
   ]
  },
  {
   "cell_type": "code",
   "execution_count": 30,
   "id": "df1f0550-ba7e-455e-9cb9-52fa507677cc",
   "metadata": {},
   "outputs": [
    {
     "data": {
      "text/plain": [
       "[0, 1, 4, 9, 16, 25, 36, 49, 64, 81]"
      ]
     },
     "execution_count": 30,
     "metadata": {},
     "output_type": "execute_result"
    }
   ],
   "source": [
    "list(map(lambda x: x**2,[i for i in range(10)]))"
   ]
  },
  {
   "cell_type": "code",
   "execution_count": null,
   "id": "3eb04ade-53d9-40ce-a190-b9f5a71cd215",
   "metadata": {},
   "outputs": [],
   "source": []
  },
  {
   "cell_type": "code",
   "execution_count": 31,
   "id": "5b756054-9f57-44b5-b534-1246a957701d",
   "metadata": {},
   "outputs": [],
   "source": [
    "from functools import reduce"
   ]
  },
  {
   "cell_type": "code",
   "execution_count": 36,
   "id": "6c5cde5d-a1e9-43ee-b688-2b9784ec2c2a",
   "metadata": {},
   "outputs": [
    {
     "data": {
      "text/plain": [
       "55"
      ]
     },
     "execution_count": 36,
     "metadata": {},
     "output_type": "execute_result"
    }
   ],
   "source": [
    "reduce(lambda x,y: x+y,[i for i in range(10)],10)"
   ]
  },
  {
   "cell_type": "code",
   "execution_count": null,
   "id": "4c787dfa-d8ac-4a12-83d4-60ce0d08e2be",
   "metadata": {},
   "outputs": [],
   "source": []
  },
  {
   "cell_type": "code",
   "execution_count": null,
   "id": "93615561-5601-46ae-ab1b-235d2ea3bf1c",
   "metadata": {},
   "outputs": [],
   "source": []
  },
  {
   "cell_type": "code",
   "execution_count": null,
   "id": "cbda4ded-c921-4d1c-8290-275f5378908c",
   "metadata": {},
   "outputs": [],
   "source": []
  },
  {
   "cell_type": "code",
   "execution_count": 37,
   "id": "50d53949-23eb-4d4e-b133-1e70655bae3b",
   "metadata": {},
   "outputs": [],
   "source": [
    "class Car:\n",
    "\n",
    "    def __init__(self,model,mileage):\n",
    "        self.model = model\n",
    "        self.mileage = mileage\n",
    "    \n",
    "    def __str__(self):\n",
    "        return f\"Model: {self.model}, mileage: {self.mileage}\""
   ]
  },
  {
   "cell_type": "code",
   "execution_count": 49,
   "id": "527c91c4-7df9-4dec-86c2-16f7e1af65d5",
   "metadata": {},
   "outputs": [],
   "source": [
    "c1 = Car(\"Audi\",30)\n",
    "c2 = Car(\"BMW\",40)\n",
    "c3 = Car(\"Fort\",20)\n",
    "\n",
    "cars = [c1,c2,c3]"
   ]
  },
  {
   "cell_type": "code",
   "execution_count": 45,
   "id": "36839b4f-bab8-493d-95b8-3e050ab2b6d0",
   "metadata": {},
   "outputs": [],
   "source": [
    "cars.sort(key = lambda c: c.mileage)"
   ]
  },
  {
   "cell_type": "code",
   "execution_count": 46,
   "id": "34639390-1f0e-4207-91e9-9bc3856f778b",
   "metadata": {},
   "outputs": [
    {
     "name": "stdout",
     "output_type": "stream",
     "text": [
      "Model: Fort, mileage: 20\n",
      "Model: Audi, mileage: 30\n",
      "Model: BMW, mileage: 40\n"
     ]
    }
   ],
   "source": [
    "for c in cars:\n",
    "    print(c)"
   ]
  },
  {
   "cell_type": "code",
   "execution_count": 50,
   "id": "a797f203-6f55-4ead-8940-9d81d9f0a38f",
   "metadata": {},
   "outputs": [
    {
     "name": "stdout",
     "output_type": "stream",
     "text": [
      "Model: Fort, mileage: 20\n",
      "Model: Audi, mileage: 30\n",
      "Model: BMW, mileage: 40\n"
     ]
    }
   ],
   "source": [
    "for c in sorted(cars,key = lambda c: c.mileage):\n",
    "    print(c)"
   ]
  },
  {
   "cell_type": "code",
   "execution_count": 55,
   "id": "9059942b-ed56-4056-bed6-11326a533302",
   "metadata": {},
   "outputs": [],
   "source": [
    "lstr = [('Dog',3),('Cat',1),('Mad',2)]\n",
    "lstr.sort(key = lambda x: x[1])"
   ]
  },
  {
   "cell_type": "code",
   "execution_count": 56,
   "id": "b8ef8968-58f6-49af-a68c-311d8c70e64d",
   "metadata": {},
   "outputs": [
    {
     "data": {
      "text/plain": [
       "[('Cat', 1), ('Mad', 2), ('Dog', 3)]"
      ]
     },
     "execution_count": 56,
     "metadata": {},
     "output_type": "execute_result"
    }
   ],
   "source": [
    "lstr"
   ]
  },
  {
   "cell_type": "code",
   "execution_count": null,
   "id": "d9241c6b-4063-4408-b15d-fee2691d11e4",
   "metadata": {},
   "outputs": [],
   "source": []
  },
  {
   "cell_type": "code",
   "execution_count": null,
   "id": "ac39b009-1ef6-43bf-b6c9-7ba0b67f228c",
   "metadata": {},
   "outputs": [],
   "source": []
  },
  {
   "cell_type": "code",
   "execution_count": null,
   "id": "846bb356-e4b0-41cd-8e66-f8b01d785326",
   "metadata": {},
   "outputs": [],
   "source": []
  },
  {
   "cell_type": "code",
   "execution_count": null,
   "id": "a0f41434-2c70-4159-9812-bc3c306584da",
   "metadata": {},
   "outputs": [],
   "source": []
  },
  {
   "cell_type": "code",
   "execution_count": null,
   "id": "d183b9ad-be73-41ac-8050-5cbe654c6479",
   "metadata": {},
   "outputs": [],
   "source": []
  },
  {
   "cell_type": "code",
   "execution_count": null,
   "id": "70f8b659-f952-4890-8560-01acbec7664d",
   "metadata": {},
   "outputs": [],
   "source": []
  },
  {
   "cell_type": "code",
   "execution_count": null,
   "id": "e113d9a3-4e91-484f-87d1-384f4fb85fbc",
   "metadata": {},
   "outputs": [],
   "source": []
  },
  {
   "cell_type": "code",
   "execution_count": null,
   "id": "b6f4fb43-4753-4bf3-9c91-1ab2a780efa9",
   "metadata": {},
   "outputs": [],
   "source": []
  },
  {
   "cell_type": "code",
   "execution_count": null,
   "id": "8ab2ede8-1082-4f58-b029-f102e7d69c7b",
   "metadata": {},
   "outputs": [],
   "source": []
  }
 ],
 "metadata": {
  "kernelspec": {
   "display_name": "Python 3 (ipykernel)",
   "language": "python",
   "name": "python3"
  },
  "language_info": {
   "codemirror_mode": {
    "name": "ipython",
    "version": 3
   },
   "file_extension": ".py",
   "mimetype": "text/x-python",
   "name": "python",
   "nbconvert_exporter": "python",
   "pygments_lexer": "ipython3",
   "version": "3.12.8"
  }
 },
 "nbformat": 4,
 "nbformat_minor": 5
}
