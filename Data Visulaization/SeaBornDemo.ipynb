{
 "cells": [
  {
   "cell_type": "markdown",
   "id": "78849441-f619-46d7-9d89-c021ed95d3ac",
   "metadata": {},
   "source": [
    "# Seaborn\n",
    "```\n",
    "pip install seaborn\n",
    "```\n",
    "- datasets\n",
    "- BarPlot\n",
    "- HistPlot\n",
    "- KdePlot\n",
    "- ScatterPlot\n",
    "- LinePlot\n",
    "- JoinPlot\n",
    "- PairPlot\n",
    "- BoxPlot\n",
    "- ViolinPlot\n",
    "- StripPlot\n",
    "- Pallete -- cmap\n",
    "- context\n",
    "- HeatMap -- corr,Flights Dataset"
   ]
  },
  {
   "cell_type": "code",
   "execution_count": null,
   "id": "a34eff32-7bcd-4997-9287-79fbbc95336f",
   "metadata": {},
   "outputs": [],
   "source": []
  },
  {
   "cell_type": "code",
   "execution_count": null,
   "id": "b81b3f51-24bd-44ae-9d7b-40a500c56904",
   "metadata": {},
   "outputs": [],
   "source": []
  },
  {
   "cell_type": "code",
   "execution_count": null,
   "id": "4e5d5a41-19c8-47ef-b69a-1537161f92e8",
   "metadata": {},
   "outputs": [],
   "source": []
  }
 ],
 "metadata": {
  "kernelspec": {
   "display_name": "Python 3 (ipykernel)",
   "language": "python",
   "name": "python3"
  },
  "language_info": {
   "codemirror_mode": {
    "name": "ipython",
    "version": 3
   },
   "file_extension": ".py",
   "mimetype": "text/x-python",
   "name": "python",
   "nbconvert_exporter": "python",
   "pygments_lexer": "ipython3",
   "version": "3.12.8"
  }
 },
 "nbformat": 4,
 "nbformat_minor": 5
}
