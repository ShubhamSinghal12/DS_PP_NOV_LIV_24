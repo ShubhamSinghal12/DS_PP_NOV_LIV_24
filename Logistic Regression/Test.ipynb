{
 "cells": [
  {
   "cell_type": "code",
   "execution_count": 1,
   "id": "443490f8-f196-4969-8045-a550312472f5",
   "metadata": {},
   "outputs": [
    {
     "name": "stdout",
     "output_type": "stream",
     "text": [
      "[-1.69870017  0.53799701 -0.22561399 -1.09020894  0.55391264 -1.50115445\n",
      "  0.44545933  1.3448172  -1.12364327  0.21216015]\n"
     ]
    }
   ],
   "source": [
    "import numpy as np\n",
    "\n",
    "locs = np.array([\n",
    "[0,0,0],\n",
    "[1,1,2],\n",
    "[0,0,0],\n",
    "[2,1,3],\n",
    "[5,5,4],\n",
    "[5,0,0],\n",
    "[5,0,0],\n",
    "[0,0,0],\n",
    "[2,1,3],\n",
    "[1,3,1]\n",
    "])\n",
    "\n",
    "generator = np.random.default_rng(1010)\n",
    "weights = generator.normal(size=10)\n",
    "\n",
    "print(weights)\n",
    "# [-1.699 0.538 -0.226 -1.09 0.554 -1.501 0.445 1.345 -1.124 0.212]"
   ]
  },
  {
   "cell_type": "code",
   "execution_count": 3,
   "id": "f48e3caa-f5f8-4c59-b79e-5a719c9cb362",
   "metadata": {},
   "outputs": [],
   "source": [
    "pond = np.zeros((5,5,5))"
   ]
  },
  {
   "cell_type": "code",
   "execution_count": null,
   "id": "8418da12-a04e-40da-ae95-96383d4882af",
   "metadata": {},
   "outputs": [],
   "source": []
  }
 ],
 "metadata": {
  "kernelspec": {
   "display_name": "Python 3 (ipykernel)",
   "language": "python",
   "name": "python3"
  },
  "language_info": {
   "codemirror_mode": {
    "name": "ipython",
    "version": 3
   },
   "file_extension": ".py",
   "mimetype": "text/x-python",
   "name": "python",
   "nbconvert_exporter": "python",
   "pygments_lexer": "ipython3",
   "version": "3.12.8"
  }
 },
 "nbformat": 4,
 "nbformat_minor": 5
}
