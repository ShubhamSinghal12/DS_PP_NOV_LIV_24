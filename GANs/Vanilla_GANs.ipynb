{
 "cells": [
  {
   "cell_type": "code",
   "execution_count": 1,
   "id": "01e49218-e9b9-480e-9789-a57c33e494ce",
   "metadata": {},
   "outputs": [],
   "source": [
    "import tensorflow as tf\n",
    "from tensorflow import keras\n",
    "import numpy as np\n",
    "from keras.datasets.mnist import load_data\n",
    "from tensorflow.keras.optimizers import Adam\n",
    "from keras.models import Sequential\n",
    "from keras.layers import Dense\n",
    "from keras.layers import Reshape\n",
    "from keras.layers import Flatten\n",
    "from keras.layers import Conv2D\n",
    "from keras.layers import Conv2DTranspose\n",
    "from keras.layers import LeakyReLU\n",
    "from keras.layers import Dropout\n",
    "import matplotlib.pyplot as plt"
   ]
  },
  {
   "cell_type": "code",
   "execution_count": 2,
   "id": "10fceed6-1afd-43fa-93ca-296a3385e171",
   "metadata": {},
   "outputs": [
    {
     "name": "stdout",
     "output_type": "stream",
     "text": [
      "2.19.0\n",
      "3.9.2\n"
     ]
    }
   ],
   "source": [
    "print(tf.__version__)\n",
    "print(keras.__version__)"
   ]
  },
  {
   "cell_type": "code",
   "execution_count": 3,
   "id": "96fa11e4-de97-44e4-a456-4d3ae4a219e7",
   "metadata": {},
   "outputs": [],
   "source": [
    "def discriminator(in_shape = (784,)):\n",
    "    model = Sequential()\n",
    "    model.add(keras.Input(shape=in_shape))\n",
    "    model.add(keras.layers.Dense(512,activation='leaky_relu'))\n",
    "    model.add(Dropout(0.3))\n",
    "    model.add(keras.layers.Dense(128,activation='leaky_relu'))\n",
    "    model.add(Dropout(0.3))\n",
    "    # model.add(keras.layers.Dense(8,activation='leaky_relu'))\n",
    "    model.add(keras.layers.Dense(1,activation='sigmoid'))\n",
    "\n",
    "    model.compile(loss = 'binary_crossentropy',\n",
    "                  optimizer = Adam(learning_rate = 0.0002,beta_1=0.5),\n",
    "                  metrics=['accuracy'])\n",
    "    return model"
   ]
  },
  {
   "cell_type": "code",
   "execution_count": 5,
   "id": "629cfcc2-64df-4a8a-bd3c-dbeea08659f1",
   "metadata": {},
   "outputs": [],
   "source": [
    "def generator(latent_dim):\n",
    "    model = Sequential()\n",
    "    model.add(keras.Input(shape=(latent_dim,)))\n",
    "    model.add(keras.layers.Dense(128,activation='leaky_relu'))\n",
    "    model.add(keras.layers.Dense(256,activation='leaky_relu'))\n",
    "    model.add(keras.layers.Dense(512,activation='leaky_relu'))\n",
    "    model.add(keras.layers.Dense(784,activation='tanh'))\n",
    "\n",
    "    model.compile(loss = 'mse',\n",
    "                  optimizer = Adam(learning_rate = 0.0005),\n",
    "                  metrics=['accuracy'])\n",
    "    return model"
   ]
  },
  {
   "cell_type": "code",
   "execution_count": 6,
   "id": "ef106e0a-6516-4ab3-a6f4-f2c1f2830c62",
   "metadata": {},
   "outputs": [],
   "source": [
    "def gan_model(g_model,d_model):\n",
    "    model = Sequential()\n",
    "    model.add(g_model)\n",
    "    model.add(d_model)\n",
    "\n",
    "    model.compile(loss = 'binary_crossentropy',\n",
    "                  optimizer = Adam(learning_rate = 0.0005,beta_1=0.5),\n",
    "                  metrics=['accuracy'])\n",
    "    return model"
   ]
  },
  {
   "cell_type": "code",
   "execution_count": 7,
   "id": "99948614-f3f3-4579-b590-de0ec728f8d1",
   "metadata": {},
   "outputs": [],
   "source": [
    "def load_real_data():\n",
    "    (X_train,_),(_,_) = load_data()\n",
    "    X_train = X_train.astype('float32') - 127.5\n",
    "    return X_train.reshape((-1,784))/127.5"
   ]
  },
  {
   "cell_type": "code",
   "execution_count": 8,
   "id": "94cba1ee-bb81-4983-af3e-cf92d0c9ce2e",
   "metadata": {},
   "outputs": [],
   "source": [
    "def generate_real_samples(data,n_sample=100):\n",
    "    ix = np.random.randint(0,data.shape[0],n_sample)\n",
    "    X = data[ix]\n",
    "    y = np.ones((n_sample,1))*0.9\n",
    "    return X,y"
   ]
  },
  {
   "cell_type": "code",
   "execution_count": 9,
   "id": "74a0a285-6291-4fd2-82dc-b2f08be128eb",
   "metadata": {},
   "outputs": [],
   "source": [
    "def generate_random_variable(latent_dim,n_sample=100):\n",
    "    return np.random.randn(n_sample,latent_dim)"
   ]
  },
  {
   "cell_type": "code",
   "execution_count": 10,
   "id": "e7f07d4e-84c8-42b2-ba2c-bb90b5793d36",
   "metadata": {},
   "outputs": [],
   "source": [
    "def generate_fake_samples(g_model,latent_dim,n_sample=100):\n",
    "    rv = generate_random_variable(latent_dim,n_sample)\n",
    "    X = g_model.predict(rv)\n",
    "    y = np.zeros((n_sample,1))\n",
    "    return X,y"
   ]
  },
  {
   "cell_type": "code",
   "execution_count": 11,
   "id": "445ead53-cea2-4677-ad70-d6ee1183388e",
   "metadata": {},
   "outputs": [],
   "source": [
    "def viz_plot(examples, epoch, n=10):\n",
    "  for i in range(n * n):\n",
    "    plt.subplot(n, n, 1+i)\n",
    "    plt.axis('off')\n",
    "    plt.imshow(examples[i].reshape((28,28)), interpolation='nearest',cmap = 'gray')\n",
    "  filename = './GAN_output/generated_plot_e%03d.png' % (epoch+1)\n",
    "  plt.savefig(filename)\n",
    "  plt.close()\n",
    "\n",
    "  return plt"
   ]
  },
  {
   "cell_type": "code",
   "execution_count": 12,
   "id": "230465bc-0601-4781-91cf-93c4e96c9f26",
   "metadata": {},
   "outputs": [],
   "source": [
    "def summary(g_model, d_model, dataset, latent_dim, epoch, n_samples = 100):\n",
    "  X_real, y_real = generate_real_samples(dataset, n_samples)\n",
    "\n",
    "  _, acc_real = d_model.evaluate(X_real, y_real, verbose = 0)\n",
    "\n",
    "  X_fake, y_fake = generate_fake_samples(g_model, latent_dim, n_samples)\n",
    "\n",
    "  _, acc_fake = d_model.evaluate(X_fake, y_fake, verbose = 0)\n",
    "\n",
    "  print('> Accuracy real: %.0f%%, fake: %0.0f%%' % (acc_real*100, acc_fake*100))\n",
    "\n",
    "  pyplot = viz_plot(X_fake, epoch)\n",
    "\n",
    "  return pyplot"
   ]
  },
  {
   "cell_type": "code",
   "execution_count": 13,
   "id": "84ebdef9-f5ff-4171-927f-a860b586fb0c",
   "metadata": {},
   "outputs": [],
   "source": [
    "def train(g_model,d_model,gan_model,data,latent_dim,epochs=50,batch_size=256):\n",
    "    nbatch = data.shape[0]//batch_size\n",
    "    half_batch = batch_size//2\n",
    "    pyplot = []\n",
    "    for e in range(epochs):\n",
    "        for bn in range(nbatch):\n",
    "\n",
    "            x_real,y_real = generate_real_samples(data,half_batch)\n",
    "            x_fake,y_fake = generate_fake_samples(g_model,latent_dim,half_batch)\n",
    "\n",
    "            d_model.trainable = True\n",
    "            r_loss,_ = d_model.train_on_batch(x_real,y_real)\n",
    "            f_loss,_ = d_model.train_on_batch(x_fake,y_fake)\n",
    "\n",
    "            d_loss = 0.5*r_loss+0.5*f_loss\n",
    "\n",
    "            d_model.trainable = False\n",
    "            x_rv = generate_random_variable(latent_dim,batch_size)\n",
    "            y = np.ones((batch_size,1))\n",
    "\n",
    "            g_loss,_ = gan_model.train_on_batch(x_rv,y)\n",
    "            # print(f\">{e+1} g={g_loss} d={d_loss}\")\n",
    "        print('> %d, %d/%d, d = %.3f, g=%.3f' % (e+1, bn+1, nbatch, d_loss, g_loss))\n",
    "        if e%10 == 0:\n",
    "            pyplot.append(summary(g_model,d_model,data,latent_dim,e+1,batch_size))\n",
    "    return pyplot\n",
    "        "
   ]
  },
  {
   "cell_type": "code",
   "execution_count": null,
   "id": "706620c2-44d4-4616-9c5c-cdeaa7f46fcb",
   "metadata": {
    "scrolled": true
   },
   "outputs": [
    {
     "name": "stdout",
     "output_type": "stream",
     "text": [
      "> 1, 234/234, d = 0.681, g=0.799\n",
      "> Accuracy real: 0%, fake: 1%\n",
      "> 2, 234/234, d = 0.684, g=0.800\n",
      "> 3, 234/234, d = 0.683, g=0.812\n",
      "> 4, 234/234, d = 0.679, g=0.830\n",
      "> 5, 234/234, d = 0.676, g=0.843\n",
      "> 6, 234/234, d = 0.675, g=0.858\n",
      "> 7, 234/234, d = 0.671, g=0.869\n",
      "> 8, 234/234, d = 0.670, g=0.879\n",
      "> 9, 234/234, d = 0.667, g=0.890\n",
      "> 10, 234/234, d = 0.666, g=0.898\n",
      "> 11, 234/234, d = 0.664, g=0.906\n",
      "> Accuracy real: 0%, fake: 91%\n",
      "> 12, 234/234, d = 0.651, g=0.912\n",
      "> 13, 234/234, d = 0.661, g=0.914\n",
      "> 14, 234/234, d = 0.668, g=0.913\n",
      "> 15, 234/234, d = 0.670, g=0.913\n",
      "> 16, 234/234, d = 0.673, g=0.911\n",
      "> 17, 234/234, d = 0.674, g=0.911\n",
      "> 18, 234/234, d = 0.675, g=0.910\n",
      "> 19, 234/234, d = 0.676, g=0.908\n",
      "> 20, 234/234, d = 0.677, g=0.907\n",
      "> 21, 234/234, d = 0.678, g=0.905\n",
      "> Accuracy real: 0%, fake: 94%\n",
      "> 22, 234/234, d = 0.685, g=0.903\n",
      "> 23, 234/234, d = 0.686, g=0.902\n",
      "> 24, 234/234, d = 0.686, g=0.900\n"
     ]
    }
   ],
   "source": [
    "keras.utils.disable_interactive_logging()\n",
    "latent_dim = 100\n",
    "g_model = generator(latent_dim)\n",
    "d_model = discriminator()\n",
    "gm = gan_model(g_model,d_model)\n",
    "data = load_real_data()\n",
    "plot = train(g_model,d_model,gm,data,latent_dim)\n",
    "keras.utils.enable_interactive_logging()"
   ]
  },
  {
   "cell_type": "code",
   "execution_count": null,
   "id": "2c341bce-a3e1-48cc-aa2e-dfa8cc67f1c1",
   "metadata": {},
   "outputs": [],
   "source": []
  },
  {
   "cell_type": "code",
   "execution_count": null,
   "id": "4588b15c-75f3-41b1-9f70-ac30aef3c9ee",
   "metadata": {},
   "outputs": [],
   "source": []
  },
  {
   "cell_type": "code",
   "execution_count": null,
   "id": "8a1cc26b-c02d-4d28-b512-b7766c038aef",
   "metadata": {},
   "outputs": [],
   "source": []
  },
  {
   "cell_type": "code",
   "execution_count": null,
   "id": "07ce304a-ce3c-4981-9aca-f41427105e3c",
   "metadata": {},
   "outputs": [],
   "source": []
  }
 ],
 "metadata": {
  "kernelspec": {
   "display_name": "Python 3 (ipykernel)",
   "language": "python",
   "name": "python3"
  },
  "language_info": {
   "codemirror_mode": {
    "name": "ipython",
    "version": 3
   },
   "file_extension": ".py",
   "mimetype": "text/x-python",
   "name": "python",
   "nbconvert_exporter": "python",
   "pygments_lexer": "ipython3",
   "version": "3.12.9"
  }
 },
 "nbformat": 4,
 "nbformat_minor": 5
}
