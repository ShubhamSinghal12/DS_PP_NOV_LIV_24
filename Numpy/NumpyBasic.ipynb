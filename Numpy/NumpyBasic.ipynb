{
 "cells": [
  {
   "cell_type": "markdown",
   "id": "69702cca-84db-42c5-add2-b96f10645118",
   "metadata": {},
   "source": [
    "# Numpy\n",
    "```\n",
    "pip install numpy\n",
    "```\n",
    "\n",
    "- Mathematical Calculations\n",
    "- Numpy Array Creation\n",
    "- Shape\n",
    "- indexing\n",
    "- more creation methods: arange, linspace, ones, zeros, eye, diag\n",
    "- random numbers: Numpy Random Module\n",
    "    - rand: Random values in given shape\n",
    "    - randn: Return samples from the Standard normal distribution\n",
    "    - randint: Return random integer from low(inclusive) to high(exclusive)\n",
    "    - random: Return random floats in [0.0,1.0)\n",
    "    - choice: Generates a random sample from given 1D array\n",
    "    - Shuffle: Shuffle the contents of the sequence. Discuss np.random.seed()\n",
    "- reshape: -1 for unknown\n",
    "- data types: b,i,u,f,c,m,M,O,S,u,V\n",
    "- slicing and assignment\n",
    "- copy and view: share_memory\n",
    "- operators(Element wise operations)\n",
    "- and: &, or: |, not: ~\n",
    "- shape mismatch\n",
    "- fancy indexing also know as filter\n",
    "- search: where uses fancy indexing\n",
    "- Basic reductions: sum, min, max, any, all,argmax, argmin\n",
    "- Some More Numpy Functions - Statistics: mean, median, average, variance, standard deviation\n",
    "- iteration: nditer, ndenumerate\n",
    "- Join: concatenate, stack, hstack, vstack. Note: make a tuple of arays you want to join\n",
    "- split: array_split, hsplit\n",
    "- sort: np.sort\n",
    "- Broadcasting"
   ]
  },
  {
   "cell_type": "code",
   "execution_count": 1,
   "id": "cc3f165a-76db-4bc9-9285-34eb0a87c965",
   "metadata": {},
   "outputs": [],
   "source": [
    "import numpy as np"
   ]
  },
  {
   "cell_type": "code",
   "execution_count": 164,
   "id": "16a96327-c24c-4cc9-8b72-4987dcba6708",
   "metadata": {},
   "outputs": [],
   "source": [
    "# !pip install numpy"
   ]
  },
  {
   "cell_type": "code",
   "execution_count": 165,
   "id": "d8475268-31b9-4b17-bf3d-a5fb78b02967",
   "metadata": {},
   "outputs": [],
   "source": [
    "l1 = [1,2,3,4,5]\n",
    "l2 = [[1,2],[3,4],[5,6]]\n",
    "l3 = [[[1,2],[3,4],[5,6]],[[10,20],[30,40],[50,60]]]"
   ]
  },
  {
   "cell_type": "code",
   "execution_count": 166,
   "id": "72272be6-a698-490c-94b4-7ebd38b552fd",
   "metadata": {},
   "outputs": [],
   "source": [
    "n1 = np.array(l1,dtype = 'f')\n",
    "n2 = np.array(l2)\n",
    "n3 = np.array(l3)"
   ]
  },
  {
   "cell_type": "code",
   "execution_count": 175,
   "id": "d153953d-9150-4587-b054-73e3e0dd7c3f",
   "metadata": {},
   "outputs": [
    {
     "data": {
      "text/plain": [
       "array([1., 2., 3., 4., 5.], dtype=float32)"
      ]
     },
     "execution_count": 175,
     "metadata": {},
     "output_type": "execute_result"
    }
   ],
   "source": [
    "n1"
   ]
  },
  {
   "cell_type": "code",
   "execution_count": 9,
   "id": "528afa22-8ca5-4a7b-8058-d635e9eef2d6",
   "metadata": {},
   "outputs": [
    {
     "data": {
      "text/plain": [
       "array([[1, 2],\n",
       "       [3, 4],\n",
       "       [5, 6]])"
      ]
     },
     "execution_count": 9,
     "metadata": {},
     "output_type": "execute_result"
    }
   ],
   "source": [
    "n2"
   ]
  },
  {
   "cell_type": "code",
   "execution_count": 10,
   "id": "2ed5d09b-8a15-42ea-a72f-09a0571b0da6",
   "metadata": {},
   "outputs": [
    {
     "data": {
      "text/plain": [
       "array([[[ 1,  2],\n",
       "        [ 3,  4],\n",
       "        [ 5,  6]],\n",
       "\n",
       "       [[10, 20],\n",
       "        [30, 40],\n",
       "        [50, 60]]])"
      ]
     },
     "execution_count": 10,
     "metadata": {},
     "output_type": "execute_result"
    }
   ],
   "source": [
    "n3"
   ]
  },
  {
   "cell_type": "code",
   "execution_count": 11,
   "id": "ddbbc562-f6ee-4cf2-9580-a71f704ec3fe",
   "metadata": {},
   "outputs": [
    {
     "data": {
      "text/plain": [
       "numpy.ndarray"
      ]
     },
     "execution_count": 11,
     "metadata": {},
     "output_type": "execute_result"
    }
   ],
   "source": [
    "type(n1)"
   ]
  },
  {
   "cell_type": "code",
   "execution_count": 12,
   "id": "081cebce-832f-49f1-aead-e0a079694b44",
   "metadata": {
    "collapsed": true,
    "jupyter": {
     "outputs_hidden": true
    }
   },
   "outputs": [
    {
     "data": {
      "text/plain": [
       "(5,)"
      ]
     },
     "execution_count": 12,
     "metadata": {},
     "output_type": "execute_result"
    }
   ],
   "source": [
    "n1.shape"
   ]
  },
  {
   "cell_type": "code",
   "execution_count": 13,
   "id": "e6d35806-f706-4858-91f6-cb0827b3db18",
   "metadata": {},
   "outputs": [
    {
     "data": {
      "text/plain": [
       "(3, 2)"
      ]
     },
     "execution_count": 13,
     "metadata": {},
     "output_type": "execute_result"
    }
   ],
   "source": [
    "n2.shape"
   ]
  },
  {
   "cell_type": "code",
   "execution_count": 14,
   "id": "51d53f82-0b41-49c1-8b79-bcbfbfcd8f63",
   "metadata": {},
   "outputs": [
    {
     "data": {
      "text/plain": [
       "(2, 3, 2)"
      ]
     },
     "execution_count": 14,
     "metadata": {},
     "output_type": "execute_result"
    }
   ],
   "source": [
    "n3.shape"
   ]
  },
  {
   "cell_type": "code",
   "execution_count": 15,
   "id": "313f07dd-4678-43d4-841e-5104c0616619",
   "metadata": {},
   "outputs": [
    {
     "data": {
      "text/plain": [
       "3"
      ]
     },
     "execution_count": 15,
     "metadata": {},
     "output_type": "execute_result"
    }
   ],
   "source": [
    "n3.ndim"
   ]
  },
  {
   "cell_type": "code",
   "execution_count": 16,
   "id": "8a1eb54f-1ed4-4a60-9899-e40296acddfa",
   "metadata": {},
   "outputs": [
    {
     "data": {
      "text/plain": [
       "np.int64(3)"
      ]
     },
     "execution_count": 16,
     "metadata": {},
     "output_type": "execute_result"
    }
   ],
   "source": [
    "n3[0,1,0]"
   ]
  },
  {
   "cell_type": "code",
   "execution_count": 17,
   "id": "ff9b2a95-bef8-4543-a486-12e711f923c6",
   "metadata": {},
   "outputs": [
    {
     "data": {
      "text/plain": [
       "np.int64(3)"
      ]
     },
     "execution_count": 17,
     "metadata": {},
     "output_type": "execute_result"
    }
   ],
   "source": [
    "n1[2]"
   ]
  },
  {
   "cell_type": "code",
   "execution_count": 20,
   "id": "41a308ce-330b-4fb2-8a40-a72f52277085",
   "metadata": {},
   "outputs": [
    {
     "data": {
      "text/plain": [
       "array([3, 4])"
      ]
     },
     "execution_count": 20,
     "metadata": {},
     "output_type": "execute_result"
    }
   ],
   "source": [
    "n2[1]"
   ]
  },
  {
   "cell_type": "code",
   "execution_count": 22,
   "id": "c40daec4-277c-4d78-b57d-c4f0961a063a",
   "metadata": {},
   "outputs": [
    {
     "data": {
      "text/plain": [
       "array([50, 60])"
      ]
     },
     "execution_count": 22,
     "metadata": {},
     "output_type": "execute_result"
    }
   ],
   "source": [
    "n3[1,2]"
   ]
  },
  {
   "cell_type": "code",
   "execution_count": 28,
   "id": "b6280dee-17b8-460b-b8bd-52266ccba797",
   "metadata": {},
   "outputs": [
    {
     "name": "stdout",
     "output_type": "stream",
     "text": [
      "1\n",
      "2\n",
      "3\n",
      "4\n",
      "5\n",
      "6\n",
      "10\n",
      "20\n",
      "30\n",
      "40\n",
      "50\n",
      "60\n"
     ]
    }
   ],
   "source": [
    "for i in l3:\n",
    "    for j in i:\n",
    "        for k in j:\n",
    "            print(k)"
   ]
  },
  {
   "cell_type": "code",
   "execution_count": 29,
   "id": "73a04740-e50d-4dc1-aeef-9377255cb609",
   "metadata": {},
   "outputs": [
    {
     "name": "stdout",
     "output_type": "stream",
     "text": [
      "1\n",
      "2\n",
      "3\n",
      "4\n",
      "5\n",
      "6\n",
      "10\n",
      "20\n",
      "30\n",
      "40\n",
      "50\n",
      "60\n"
     ]
    }
   ],
   "source": [
    "for ele in np.nditer(n3):\n",
    "    print(ele)"
   ]
  },
  {
   "cell_type": "code",
   "execution_count": 33,
   "id": "b25143c6-808d-4e4e-9e10-86cdc83f83ca",
   "metadata": {},
   "outputs": [
    {
     "name": "stdout",
     "output_type": "stream",
     "text": [
      "(0, 0, 0) --> 1\n",
      "(0, 0, 1) --> 2\n",
      "(0, 1, 0) --> 3\n",
      "(0, 1, 1) --> 4\n",
      "(0, 2, 0) --> 5\n",
      "(0, 2, 1) --> 6\n",
      "(1, 0, 0) --> 10\n",
      "(1, 0, 1) --> 20\n",
      "(1, 1, 0) --> 30\n",
      "(1, 1, 1) --> 40\n",
      "(1, 2, 0) --> 50\n",
      "(1, 2, 1) --> 60\n"
     ]
    }
   ],
   "source": [
    "for ind,ele in np.ndenumerate(n3):\n",
    "    print(ind,'-->',ele)"
   ]
  },
  {
   "cell_type": "code",
   "execution_count": null,
   "id": "bc8fa22c-7296-440a-9756-025f653bdb2b",
   "metadata": {},
   "outputs": [],
   "source": []
  },
  {
   "cell_type": "markdown",
   "id": "317bd599-500f-4b80-b811-fba93dbb7fb3",
   "metadata": {},
   "source": [
    "more creation methods: arange, linspace, ones, zeros, eye, diag"
   ]
  },
  {
   "cell_type": "code",
   "execution_count": 55,
   "id": "b9928319-ac58-4e30-bc75-ff566c9d9439",
   "metadata": {},
   "outputs": [],
   "source": [
    "na = np.arange(1,21,2,dtype='int16')"
   ]
  },
  {
   "cell_type": "code",
   "execution_count": 56,
   "id": "2e2e061a-f547-49e8-9358-c4dc507bc65d",
   "metadata": {},
   "outputs": [
    {
     "data": {
      "text/plain": [
       "dtype('int16')"
      ]
     },
     "execution_count": 56,
     "metadata": {},
     "output_type": "execute_result"
    }
   ],
   "source": [
    "na.dtype"
   ]
  },
  {
   "cell_type": "code",
   "execution_count": 57,
   "id": "5c4726fa-f74b-4704-8546-185f80a302d7",
   "metadata": {},
   "outputs": [
    {
     "data": {
      "text/plain": [
       "array([ 1,  3,  5,  7,  9, 11, 13, 15, 17, 19], dtype=int16)"
      ]
     },
     "execution_count": 57,
     "metadata": {},
     "output_type": "execute_result"
    }
   ],
   "source": [
    "na"
   ]
  },
  {
   "cell_type": "code",
   "execution_count": 61,
   "id": "db41fb9c-740f-4cd9-b810-389a8e758dcf",
   "metadata": {},
   "outputs": [
    {
     "data": {
      "text/plain": [
       "array([100., 125., 150., 175., 200.])"
      ]
     },
     "execution_count": 61,
     "metadata": {},
     "output_type": "execute_result"
    }
   ],
   "source": [
    "np.linspace(100,200,5)"
   ]
  },
  {
   "cell_type": "code",
   "execution_count": 65,
   "id": "bca5e7d7-8a39-480b-9fb2-de31fee34fea",
   "metadata": {},
   "outputs": [
    {
     "data": {
      "text/plain": [
       "array([[[1, 1],\n",
       "        [1, 1],\n",
       "        [1, 1]],\n",
       "\n",
       "       [[1, 1],\n",
       "        [1, 1],\n",
       "        [1, 1]]], dtype=int32)"
      ]
     },
     "execution_count": 65,
     "metadata": {},
     "output_type": "execute_result"
    }
   ],
   "source": [
    "np.ones((2,3,2),dtype='i')"
   ]
  },
  {
   "cell_type": "code",
   "execution_count": 66,
   "id": "7c720c9d-97f0-4641-9fc7-c31e28e92e0a",
   "metadata": {},
   "outputs": [
    {
     "data": {
      "text/plain": [
       "array([[[0., 0.],\n",
       "        [0., 0.],\n",
       "        [0., 0.]],\n",
       "\n",
       "       [[0., 0.],\n",
       "        [0., 0.],\n",
       "        [0., 0.]]])"
      ]
     },
     "execution_count": 66,
     "metadata": {},
     "output_type": "execute_result"
    }
   ],
   "source": [
    "np.zeros((2,3,2))"
   ]
  },
  {
   "cell_type": "code",
   "execution_count": 72,
   "id": "c9586b3a-43a6-4b26-9c5e-98311f2c79f3",
   "metadata": {},
   "outputs": [
    {
     "data": {
      "text/plain": [
       "array([[1, 0, 0, 0],\n",
       "       [0, 1, 0, 0],\n",
       "       [0, 0, 1, 0],\n",
       "       [0, 0, 0, 1]], dtype=int32)"
      ]
     },
     "execution_count": 72,
     "metadata": {},
     "output_type": "execute_result"
    }
   ],
   "source": [
    "np.eye(4,dtype = 'i')"
   ]
  },
  {
   "cell_type": "code",
   "execution_count": 73,
   "id": "a03447ed-603e-47da-ada1-69c7033e23c4",
   "metadata": {},
   "outputs": [
    {
     "data": {
      "text/plain": [
       "array([[1, 0, 0, 0],\n",
       "       [0, 2, 0, 0],\n",
       "       [0, 0, 3, 0],\n",
       "       [0, 0, 0, 4]])"
      ]
     },
     "execution_count": 73,
     "metadata": {},
     "output_type": "execute_result"
    }
   ],
   "source": [
    "np.diag([1,2,3,4])"
   ]
  },
  {
   "cell_type": "code",
   "execution_count": 79,
   "id": "94c2e381-2582-4aac-85c8-ac1baacde31b",
   "metadata": {},
   "outputs": [
    {
     "data": {
      "text/plain": [
       "array([[[102.39230654, 126.86058755],\n",
       "        [140.7357499 , 105.22117261],\n",
       "        [193.74621991, 127.04319102]],\n",
       "\n",
       "       [[168.29996811, 138.81254712],\n",
       "        [131.42716978, 129.6578381 ],\n",
       "        [179.72505653, 104.59848425]]])"
      ]
     },
     "execution_count": 79,
     "metadata": {},
     "output_type": "execute_result"
    }
   ],
   "source": [
    "(np.random.rand(2,3,2)*100)+100"
   ]
  },
  {
   "cell_type": "code",
   "execution_count": 76,
   "id": "33690553-c5a9-408d-afb3-d5616a6e0bb3",
   "metadata": {},
   "outputs": [
    {
     "data": {
      "text/plain": [
       "array([[1111, 1383, 1126, 1653],\n",
       "       [1759, 1913, 1957, 1990]], dtype=int32)"
      ]
     },
     "execution_count": 76,
     "metadata": {},
     "output_type": "execute_result"
    }
   ],
   "source": [
    "np.random.randint(1000,2000,size=(2,4))"
   ]
  },
  {
   "cell_type": "code",
   "execution_count": 77,
   "id": "c8356456-613e-4f5d-b9f0-136e5c367f7c",
   "metadata": {},
   "outputs": [
    {
     "data": {
      "text/plain": [
       "array([[0.67823875, 0.35521759, 0.00843601, 0.04103303],\n",
       "       [0.8345774 , 0.79479885, 0.59163615, 0.03330879],\n",
       "       [0.97109986, 0.98794579, 0.29284861, 0.38541722]])"
      ]
     },
     "execution_count": 77,
     "metadata": {},
     "output_type": "execute_result"
    }
   ],
   "source": [
    "np.random.random((3,4))"
   ]
  },
  {
   "cell_type": "code",
   "execution_count": 78,
   "id": "dc903a1d-ab95-4e26-8072-eb7949a4c9fe",
   "metadata": {},
   "outputs": [
    {
     "data": {
      "text/plain": [
       "array([[-0.28745247, -0.37094063, -0.05651407, -0.35584737],\n",
       "       [ 0.40021601,  0.39045845, -1.67834001,  0.92830561]])"
      ]
     },
     "execution_count": 78,
     "metadata": {},
     "output_type": "execute_result"
    }
   ],
   "source": [
    "np.random.randn(2,4)"
   ]
  },
  {
   "cell_type": "code",
   "execution_count": 204,
   "id": "8818c49a-beec-4b90-91dd-78785bd0019a",
   "metadata": {},
   "outputs": [
    {
     "data": {
      "text/plain": [
       "array([[0.66288554, 0.41630647, 0.09119839, 0.3696542 , 0.49260855,\n",
       "        0.31407671],\n",
       "       [0.40301254, 0.30470202, 0.1504751 , 0.45479232, 0.30607221,\n",
       "        0.59969796],\n",
       "       [0.64518251, 0.07558315, 0.6825212 , 0.69236254, 0.74709863,\n",
       "        0.50243124]])"
      ]
     },
     "execution_count": 204,
     "metadata": {},
     "output_type": "execute_result"
    }
   ],
   "source": [
    "np.random.random((3,6))"
   ]
  },
  {
   "cell_type": "code",
   "execution_count": 177,
   "id": "999f72d5-f379-4e56-b8b8-e23a5a908e06",
   "metadata": {},
   "outputs": [
    {
     "data": {
      "text/plain": [
       "array([[0.0013719 , 0.55726097, 0.56758363, 0.95515247, 0.06994752,\n",
       "        0.04770157],\n",
       "       [0.97234376, 0.22137323, 0.94038281, 0.72735497, 0.10797171,\n",
       "        0.33120547],\n",
       "       [0.78729237, 0.20472839, 0.48591325, 0.12431353, 0.57271602,\n",
       "        0.21540993]])"
      ]
     },
     "execution_count": 177,
     "metadata": {},
     "output_type": "execute_result"
    }
   ],
   "source": [
    "np.random.rand(3,6)"
   ]
  },
  {
   "cell_type": "code",
   "execution_count": 81,
   "id": "3c13d8a6-1065-4179-8489-9e41fb0614f9",
   "metadata": {},
   "outputs": [],
   "source": [
    "na = np.random.randn(2,8)"
   ]
  },
  {
   "cell_type": "code",
   "execution_count": 82,
   "id": "94b73408-6bc0-4fa3-8942-0ad46f4d847f",
   "metadata": {},
   "outputs": [
    {
     "data": {
      "text/plain": [
       "(2, 8)"
      ]
     },
     "execution_count": 82,
     "metadata": {},
     "output_type": "execute_result"
    }
   ],
   "source": [
    "na.shape"
   ]
  },
  {
   "cell_type": "code",
   "execution_count": 84,
   "id": "2fd4fd27-e26e-4f6b-889d-bf8eee685a54",
   "metadata": {},
   "outputs": [],
   "source": [
    "nna = na.reshape((2,4,2))"
   ]
  },
  {
   "cell_type": "code",
   "execution_count": 86,
   "id": "1587f6a4-b77e-4216-97bb-d84bcf4904b5",
   "metadata": {},
   "outputs": [
    {
     "data": {
      "text/plain": [
       "(2, 4, 2)"
      ]
     },
     "execution_count": 86,
     "metadata": {},
     "output_type": "execute_result"
    }
   ],
   "source": [
    "nna.shape"
   ]
  },
  {
   "cell_type": "code",
   "execution_count": 94,
   "id": "b2cc126c-3563-4cac-aba5-dd9597668648",
   "metadata": {},
   "outputs": [],
   "source": [
    "na = np.arange(1,13).reshape((3,4))"
   ]
  },
  {
   "cell_type": "code",
   "execution_count": 95,
   "id": "b63761ac-8182-44f3-9f2e-70ff58d77256",
   "metadata": {},
   "outputs": [
    {
     "data": {
      "text/plain": [
       "array([[ 1,  2,  3,  4],\n",
       "       [ 5,  6,  7,  8],\n",
       "       [ 9, 10, 11, 12]])"
      ]
     },
     "execution_count": 95,
     "metadata": {},
     "output_type": "execute_result"
    }
   ],
   "source": [
    "na"
   ]
  },
  {
   "cell_type": "code",
   "execution_count": 101,
   "id": "6fa2f915-4e9b-4da0-93d5-cad54844fa1f",
   "metadata": {},
   "outputs": [
    {
     "data": {
      "text/plain": [
       "array([[[ 1,  2],\n",
       "        [ 3,  4]],\n",
       "\n",
       "       [[ 5,  6],\n",
       "        [ 7,  8]],\n",
       "\n",
       "       [[ 9, 10],\n",
       "        [11, 12]]])"
      ]
     },
     "execution_count": 101,
     "metadata": {},
     "output_type": "execute_result"
    }
   ],
   "source": [
    "na.reshape((3,2,-1))"
   ]
  },
  {
   "cell_type": "code",
   "execution_count": 102,
   "id": "47ddf47e-dc35-4ebe-b4ac-0fd10c719a5a",
   "metadata": {},
   "outputs": [
    {
     "data": {
      "text/plain": [
       "array([[ 1,  2,  3,  4],\n",
       "       [ 5,  6,  7,  8],\n",
       "       [ 9, 10, 11, 12]])"
      ]
     },
     "execution_count": 102,
     "metadata": {},
     "output_type": "execute_result"
    }
   ],
   "source": [
    "na"
   ]
  },
  {
   "cell_type": "code",
   "execution_count": 103,
   "id": "b7e48563-df0a-46b3-b50c-886ce08b8284",
   "metadata": {},
   "outputs": [
    {
     "data": {
      "text/plain": [
       "array([ 1,  2,  3,  4,  5,  6,  7,  8,  9, 10, 11, 12])"
      ]
     },
     "execution_count": 103,
     "metadata": {},
     "output_type": "execute_result"
    }
   ],
   "source": [
    "na.reshape((-1,))"
   ]
  },
  {
   "cell_type": "code",
   "execution_count": 104,
   "id": "3078a894-ed60-4832-aab8-3a91ff5cfeaf",
   "metadata": {},
   "outputs": [
    {
     "data": {
      "text/plain": [
       "array([ 9, 10, 11, 12])"
      ]
     },
     "execution_count": 104,
     "metadata": {},
     "output_type": "execute_result"
    }
   ],
   "source": [
    "na[-1]"
   ]
  },
  {
   "cell_type": "code",
   "execution_count": 105,
   "id": "8d149b9a-a147-4084-9eb2-7818371f3a53",
   "metadata": {},
   "outputs": [
    {
     "data": {
      "text/plain": [
       "array([[ 1,  2,  3,  4],\n",
       "       [ 5,  6,  7,  8],\n",
       "       [ 9, 10, 11, 12]])"
      ]
     },
     "execution_count": 105,
     "metadata": {},
     "output_type": "execute_result"
    }
   ],
   "source": [
    "na"
   ]
  },
  {
   "cell_type": "code",
   "execution_count": 148,
   "id": "8bf40a0a-a31b-426a-88eb-c5d317894c62",
   "metadata": {},
   "outputs": [],
   "source": [
    "na = np.arange(1,101).reshape((10,10))"
   ]
  },
  {
   "cell_type": "code",
   "execution_count": 107,
   "id": "a1247eff-5ccd-432b-9930-0d46315a0996",
   "metadata": {},
   "outputs": [
    {
     "data": {
      "text/plain": [
       "array([[  1,   2,   3,   4,   5,   6,   7,   8,   9,  10],\n",
       "       [ 11,  12,  13,  14,  15,  16,  17,  18,  19,  20],\n",
       "       [ 21,  22,  23,  24,  25,  26,  27,  28,  29,  30],\n",
       "       [ 31,  32,  33,  34,  35,  36,  37,  38,  39,  40],\n",
       "       [ 41,  42,  43,  44,  45,  46,  47,  48,  49,  50],\n",
       "       [ 51,  52,  53,  54,  55,  56,  57,  58,  59,  60],\n",
       "       [ 61,  62,  63,  64,  65,  66,  67,  68,  69,  70],\n",
       "       [ 71,  72,  73,  74,  75,  76,  77,  78,  79,  80],\n",
       "       [ 81,  82,  83,  84,  85,  86,  87,  88,  89,  90],\n",
       "       [ 91,  92,  93,  94,  95,  96,  97,  98,  99, 100]])"
      ]
     },
     "execution_count": 107,
     "metadata": {},
     "output_type": "execute_result"
    }
   ],
   "source": [
    "na"
   ]
  },
  {
   "cell_type": "code",
   "execution_count": 115,
   "id": "52b577f7-b387-460e-bb8a-2eb612c5298a",
   "metadata": {},
   "outputs": [
    {
     "data": {
      "text/plain": [
       "array([[ 2,  3,  4,  5,  6],\n",
       "       [12, 13, 14, 15, 16],\n",
       "       [22, 23, 24, 25, 26],\n",
       "       [32, 33, 34, 35, 36],\n",
       "       [42, 43, 44, 45, 46],\n",
       "       [52, 53, 54, 55, 56],\n",
       "       [62, 63, 64, 65, 66],\n",
       "       [72, 73, 74, 75, 76],\n",
       "       [82, 83, 84, 85, 86],\n",
       "       [92, 93, 94, 95, 96]])"
      ]
     },
     "execution_count": 115,
     "metadata": {},
     "output_type": "execute_result"
    }
   ],
   "source": [
    "na[:,1:6]"
   ]
  },
  {
   "cell_type": "code",
   "execution_count": 149,
   "id": "5be3e8b6-486a-45f2-ad71-fa9bd4c0f3c3",
   "metadata": {},
   "outputs": [],
   "source": [
    "na[3:7] = np.arange(100,140).reshape((4,10))"
   ]
  },
  {
   "cell_type": "code",
   "execution_count": 150,
   "id": "7d9a9d8d-14f3-4ae1-94c5-737eb2218ae2",
   "metadata": {},
   "outputs": [
    {
     "data": {
      "text/plain": [
       "array([[  1,   2,   3,   4,   5,   6,   7,   8,   9,  10],\n",
       "       [ 11,  12,  13,  14,  15,  16,  17,  18,  19,  20],\n",
       "       [ 21,  22,  23,  24,  25,  26,  27,  28,  29,  30],\n",
       "       [100, 101, 102, 103, 104, 105, 106, 107, 108, 109],\n",
       "       [110, 111, 112, 113, 114, 115, 116, 117, 118, 119],\n",
       "       [120, 121, 122, 123, 124, 125, 126, 127, 128, 129],\n",
       "       [130, 131, 132, 133, 134, 135, 136, 137, 138, 139],\n",
       "       [ 71,  72,  73,  74,  75,  76,  77,  78,  79,  80],\n",
       "       [ 81,  82,  83,  84,  85,  86,  87,  88,  89,  90],\n",
       "       [ 91,  92,  93,  94,  95,  96,  97,  98,  99, 100]])"
      ]
     },
     "execution_count": 150,
     "metadata": {},
     "output_type": "execute_result"
    }
   ],
   "source": [
    "na"
   ]
  },
  {
   "cell_type": "code",
   "execution_count": 151,
   "id": "6fafb5b9-ca17-4382-b591-db977980d6a7",
   "metadata": {},
   "outputs": [],
   "source": [
    "newarr = na[3:7]"
   ]
  },
  {
   "cell_type": "code",
   "execution_count": 152,
   "id": "eea4069d-0018-45b3-8bad-8193a1f0a934",
   "metadata": {},
   "outputs": [
    {
     "data": {
      "text/plain": [
       "array([[100, 101, 102, 103, 104, 105, 106, 107, 108, 109],\n",
       "       [110, 111, 112, 113, 114, 115, 116, 117, 118, 119],\n",
       "       [120, 121, 122, 123, 124, 125, 126, 127, 128, 129],\n",
       "       [130, 131, 132, 133, 134, 135, 136, 137, 138, 139]])"
      ]
     },
     "execution_count": 152,
     "metadata": {},
     "output_type": "execute_result"
    }
   ],
   "source": [
    "newarr"
   ]
  },
  {
   "cell_type": "code",
   "execution_count": 153,
   "id": "648ce906-d27d-49db-a5f6-474caf6148c4",
   "metadata": {},
   "outputs": [],
   "source": [
    "newarr[0] = np.arange(1,11)"
   ]
  },
  {
   "cell_type": "code",
   "execution_count": 154,
   "id": "00d7ca73-f0ce-49ad-8b3f-dc750eb0f8cf",
   "metadata": {},
   "outputs": [
    {
     "data": {
      "text/plain": [
       "array([[  1,   2,   3,   4,   5,   6,   7,   8,   9,  10],\n",
       "       [110, 111, 112, 113, 114, 115, 116, 117, 118, 119],\n",
       "       [120, 121, 122, 123, 124, 125, 126, 127, 128, 129],\n",
       "       [130, 131, 132, 133, 134, 135, 136, 137, 138, 139]])"
      ]
     },
     "execution_count": 154,
     "metadata": {},
     "output_type": "execute_result"
    }
   ],
   "source": [
    "newarr"
   ]
  },
  {
   "cell_type": "code",
   "execution_count": 155,
   "id": "a31946f6-841c-4682-bf0d-be6e06858534",
   "metadata": {},
   "outputs": [
    {
     "data": {
      "text/plain": [
       "array([[  1,   2,   3,   4,   5,   6,   7,   8,   9,  10],\n",
       "       [ 11,  12,  13,  14,  15,  16,  17,  18,  19,  20],\n",
       "       [ 21,  22,  23,  24,  25,  26,  27,  28,  29,  30],\n",
       "       [  1,   2,   3,   4,   5,   6,   7,   8,   9,  10],\n",
       "       [110, 111, 112, 113, 114, 115, 116, 117, 118, 119],\n",
       "       [120, 121, 122, 123, 124, 125, 126, 127, 128, 129],\n",
       "       [130, 131, 132, 133, 134, 135, 136, 137, 138, 139],\n",
       "       [ 71,  72,  73,  74,  75,  76,  77,  78,  79,  80],\n",
       "       [ 81,  82,  83,  84,  85,  86,  87,  88,  89,  90],\n",
       "       [ 91,  92,  93,  94,  95,  96,  97,  98,  99, 100]])"
      ]
     },
     "execution_count": 155,
     "metadata": {},
     "output_type": "execute_result"
    }
   ],
   "source": [
    "na"
   ]
  },
  {
   "cell_type": "code",
   "execution_count": 156,
   "id": "01192441-9323-4926-88d5-659520abd7af",
   "metadata": {},
   "outputs": [],
   "source": [
    "newarr2 = na[3:7].copy()"
   ]
  },
  {
   "cell_type": "code",
   "execution_count": 157,
   "id": "8f284c31-d35f-4001-894d-aae54655635b",
   "metadata": {},
   "outputs": [],
   "source": [
    "newarr2[0] = np.arange(1001,1011)"
   ]
  },
  {
   "cell_type": "code",
   "execution_count": 158,
   "id": "1c2028ba-6e51-470f-b105-99a0fe7036e0",
   "metadata": {},
   "outputs": [
    {
     "data": {
      "text/plain": [
       "array([[1001, 1002, 1003, 1004, 1005, 1006, 1007, 1008, 1009, 1010],\n",
       "       [ 110,  111,  112,  113,  114,  115,  116,  117,  118,  119],\n",
       "       [ 120,  121,  122,  123,  124,  125,  126,  127,  128,  129],\n",
       "       [ 130,  131,  132,  133,  134,  135,  136,  137,  138,  139]])"
      ]
     },
     "execution_count": 158,
     "metadata": {},
     "output_type": "execute_result"
    }
   ],
   "source": [
    "newarr2"
   ]
  },
  {
   "cell_type": "code",
   "execution_count": 159,
   "id": "e241eae7-02f3-4e61-82b9-820b7edd1ff3",
   "metadata": {},
   "outputs": [
    {
     "data": {
      "text/plain": [
       "array([[  1,   2,   3,   4,   5,   6,   7,   8,   9,  10],\n",
       "       [ 11,  12,  13,  14,  15,  16,  17,  18,  19,  20],\n",
       "       [ 21,  22,  23,  24,  25,  26,  27,  28,  29,  30],\n",
       "       [  1,   2,   3,   4,   5,   6,   7,   8,   9,  10],\n",
       "       [110, 111, 112, 113, 114, 115, 116, 117, 118, 119],\n",
       "       [120, 121, 122, 123, 124, 125, 126, 127, 128, 129],\n",
       "       [130, 131, 132, 133, 134, 135, 136, 137, 138, 139],\n",
       "       [ 71,  72,  73,  74,  75,  76,  77,  78,  79,  80],\n",
       "       [ 81,  82,  83,  84,  85,  86,  87,  88,  89,  90],\n",
       "       [ 91,  92,  93,  94,  95,  96,  97,  98,  99, 100]])"
      ]
     },
     "execution_count": 159,
     "metadata": {},
     "output_type": "execute_result"
    }
   ],
   "source": [
    "na"
   ]
  },
  {
   "cell_type": "code",
   "execution_count": 160,
   "id": "f0d766f7-3df4-4419-bc9e-4a955132702d",
   "metadata": {},
   "outputs": [
    {
     "data": {
      "text/plain": [
       "True"
      ]
     },
     "execution_count": 160,
     "metadata": {},
     "output_type": "execute_result"
    }
   ],
   "source": [
    "np.shares_memory(na,newarr)"
   ]
  },
  {
   "cell_type": "code",
   "execution_count": 161,
   "id": "16cdbad7-ef9d-4891-9a0f-cd8cc0a7a052",
   "metadata": {},
   "outputs": [
    {
     "data": {
      "text/plain": [
       "False"
      ]
     },
     "execution_count": 161,
     "metadata": {},
     "output_type": "execute_result"
    }
   ],
   "source": [
    "np.shares_memory(na,newarr2)"
   ]
  },
  {
   "cell_type": "code",
   "execution_count": 162,
   "id": "6730c633-3675-427f-abda-fff234232d95",
   "metadata": {},
   "outputs": [
    {
     "data": {
      "text/plain": [
       "array([[  1,   2,   3,   4,   5,   6,   7,   8,   9,  10],\n",
       "       [ 11,  12,  13,  14,  15,  16,  17,  18,  19,  20],\n",
       "       [ 21,  22,  23,  24,  25,  26,  27,  28,  29,  30],\n",
       "       [  1,   2,   3,   4,   5,   6,   7,   8,   9,  10],\n",
       "       [110, 111, 112, 113, 114, 115, 116, 117, 118, 119],\n",
       "       [120, 121, 122, 123, 124, 125, 126, 127, 128, 129],\n",
       "       [130, 131, 132, 133, 134, 135, 136, 137, 138, 139],\n",
       "       [ 71,  72,  73,  74,  75,  76,  77,  78,  79,  80],\n",
       "       [ 81,  82,  83,  84,  85,  86,  87,  88,  89,  90],\n",
       "       [ 91,  92,  93,  94,  95,  96,  97,  98,  99, 100]])"
      ]
     },
     "execution_count": 162,
     "metadata": {},
     "output_type": "execute_result"
    }
   ],
   "source": [
    "na"
   ]
  },
  {
   "cell_type": "code",
   "execution_count": null,
   "id": "a50b2fba-28fe-4fb0-8169-321289df154b",
   "metadata": {},
   "outputs": [],
   "source": []
  },
  {
   "cell_type": "code",
   "execution_count": 172,
   "id": "384d3890-a5ac-4c98-869a-6e6f4a8dfca1",
   "metadata": {},
   "outputs": [
    {
     "data": {
      "text/plain": [
       "[1, 2, 3, 4]"
      ]
     },
     "execution_count": 172,
     "metadata": {},
     "output_type": "execute_result"
    }
   ],
   "source": [
    "l1 = [1,2,3,4]\n",
    "l1"
   ]
  },
  {
   "cell_type": "code",
   "execution_count": 173,
   "id": "41b835a0-4844-4b11-8140-67c8de41d244",
   "metadata": {},
   "outputs": [
    {
     "data": {
      "text/plain": [
       "list"
      ]
     },
     "execution_count": 173,
     "metadata": {},
     "output_type": "execute_result"
    }
   ],
   "source": [
    "type(l1)"
   ]
  },
  {
   "cell_type": "code",
   "execution_count": 198,
   "id": "b7b4562a-a04a-4e53-8fec-fbe34661bfb0",
   "metadata": {},
   "outputs": [
    {
     "data": {
      "text/plain": [
       "array([10, 11, 12, 13, 14, 15, 16, 17, 18, 19])"
      ]
     },
     "execution_count": 198,
     "metadata": {},
     "output_type": "execute_result"
    }
   ],
   "source": [
    "a = np.arange(10,20)\n",
    "a"
   ]
  },
  {
   "cell_type": "code",
   "execution_count": 201,
   "id": "7d2bf54d-c4f4-4d23-9ba0-c67a29e3c8fc",
   "metadata": {},
   "outputs": [
    {
     "data": {
      "text/plain": [
       "array([[11, 19, 11],\n",
       "       [10, 10, 19]])"
      ]
     },
     "execution_count": 201,
     "metadata": {},
     "output_type": "execute_result"
    }
   ],
   "source": [
    "np.random.choice(a,size=(2,3),replace=True,p = [0.2,0.5,0,0,0,0,0,0,0,0.3])"
   ]
  },
  {
   "cell_type": "code",
   "execution_count": 225,
   "id": "72f4bbba-efcd-4d8b-8c40-589880d7fc00",
   "metadata": {},
   "outputs": [
    {
     "data": {
      "text/plain": [
       "array([10, 11, 12, 13, 14, 15, 16, 17, 18, 19])"
      ]
     },
     "execution_count": 225,
     "metadata": {},
     "output_type": "execute_result"
    }
   ],
   "source": [
    "a = np.arange(10,20)\n",
    "a"
   ]
  },
  {
   "cell_type": "code",
   "execution_count": 226,
   "id": "002a262b-c4f5-4e5c-bbcd-6641af391bb4",
   "metadata": {},
   "outputs": [],
   "source": [
    "np.random.seed(1)\n",
    "np.random.shuffle(a)"
   ]
  },
  {
   "cell_type": "code",
   "execution_count": 227,
   "id": "f9b5f92f-9341-4fb8-b7f0-676369a9e882",
   "metadata": {},
   "outputs": [
    {
     "data": {
      "text/plain": [
       "array([12, 19, 16, 14, 10, 13, 11, 17, 18, 15])"
      ]
     },
     "execution_count": 227,
     "metadata": {},
     "output_type": "execute_result"
    }
   ],
   "source": [
    "a"
   ]
  },
  {
   "cell_type": "code",
   "execution_count": 231,
   "id": "c22d985d-aa27-4f66-9c6b-9a105dc14738",
   "metadata": {},
   "outputs": [
    {
     "data": {
      "text/plain": [
       "array([list([1, 2, 3]), list([4, 5])], dtype=object)"
      ]
     },
     "execution_count": 231,
     "metadata": {},
     "output_type": "execute_result"
    }
   ],
   "source": [
    "l = [[1,2,3],[4,5]]\n",
    "a = np.array(l,dtype='object')\n",
    "a"
   ]
  },
  {
   "cell_type": "code",
   "execution_count": 232,
   "id": "03a5309a-9491-414f-90e0-7f118424c90d",
   "metadata": {},
   "outputs": [
    {
     "data": {
      "text/plain": [
       "(2,)"
      ]
     },
     "execution_count": 232,
     "metadata": {},
     "output_type": "execute_result"
    }
   ],
   "source": [
    "a.shape"
   ]
  },
  {
   "cell_type": "code",
   "execution_count": null,
   "id": "cb5b4908-931c-4312-b88a-09f97f4ac2b5",
   "metadata": {},
   "outputs": [],
   "source": []
  },
  {
   "cell_type": "code",
   "execution_count": 236,
   "id": "82f16c42-12a7-4822-8bf1-7fddcf1c28fa",
   "metadata": {},
   "outputs": [],
   "source": [
    "a = np.array([10,20,30,40,50,60])\n",
    "b = np.array([1,2,3,4,5,6])"
   ]
  },
  {
   "cell_type": "code",
   "execution_count": 237,
   "id": "ab8eee94-9724-4996-aeb6-373aa7bb0e13",
   "metadata": {},
   "outputs": [
    {
     "data": {
      "text/plain": [
       "array([[15, 25, 35],\n",
       "       [45, 55, 65]])"
      ]
     },
     "execution_count": 237,
     "metadata": {},
     "output_type": "execute_result"
    }
   ],
   "source": [
    "a.reshape((2,3))+5"
   ]
  },
  {
   "cell_type": "code",
   "execution_count": 238,
   "id": "c580b7ad-1630-4454-a2c2-bae65cef8984",
   "metadata": {},
   "outputs": [
    {
     "data": {
      "text/plain": [
       "array([ 5, 15, 25, 35, 45, 55])"
      ]
     },
     "execution_count": 238,
     "metadata": {},
     "output_type": "execute_result"
    }
   ],
   "source": [
    "a - 5"
   ]
  },
  {
   "cell_type": "code",
   "execution_count": 239,
   "id": "bb4a211a-7ae0-47c6-a735-d3a80e01b15f",
   "metadata": {},
   "outputs": [
    {
     "data": {
      "text/plain": [
       "array([ 50, 100, 150, 200, 250, 300])"
      ]
     },
     "execution_count": 239,
     "metadata": {},
     "output_type": "execute_result"
    }
   ],
   "source": [
    "a * 5"
   ]
  },
  {
   "cell_type": "code",
   "execution_count": 240,
   "id": "9f65f4a3-f50e-4ac9-b955-9d8ab3904416",
   "metadata": {},
   "outputs": [
    {
     "data": {
      "text/plain": [
       "array([ 2.,  4.,  6.,  8., 10., 12.])"
      ]
     },
     "execution_count": 240,
     "metadata": {},
     "output_type": "execute_result"
    }
   ],
   "source": [
    "a / 5"
   ]
  },
  {
   "cell_type": "code",
   "execution_count": 241,
   "id": "8d29aad3-b3ea-4216-849d-8775d0b3a9c8",
   "metadata": {},
   "outputs": [
    {
     "data": {
      "text/plain": [
       "array([ 2,  4,  6,  8, 10, 12])"
      ]
     },
     "execution_count": 241,
     "metadata": {},
     "output_type": "execute_result"
    }
   ],
   "source": [
    "a // 5"
   ]
  },
  {
   "cell_type": "code",
   "execution_count": 242,
   "id": "cb6a0058-a559-4c94-a5bf-ebed01082c1f",
   "metadata": {},
   "outputs": [
    {
     "data": {
      "text/plain": [
       "array([10,  5,  0, 10,  5,  0])"
      ]
     },
     "execution_count": 242,
     "metadata": {},
     "output_type": "execute_result"
    }
   ],
   "source": [
    "a % 15"
   ]
  },
  {
   "cell_type": "code",
   "execution_count": 243,
   "id": "6f3a11e9-f1d5-4652-91b8-9c1b8158847b",
   "metadata": {},
   "outputs": [
    {
     "data": {
      "text/plain": [
       "array([ 100,  400,  900, 1600, 2500, 3600])"
      ]
     },
     "execution_count": 243,
     "metadata": {},
     "output_type": "execute_result"
    }
   ],
   "source": [
    "a ** 2"
   ]
  },
  {
   "cell_type": "code",
   "execution_count": 244,
   "id": "45918d5f-9af7-49cd-925f-24febe997fb7",
   "metadata": {},
   "outputs": [
    {
     "data": {
      "text/plain": [
       "array([105, 205, 305, 405, 505, 605])"
      ]
     },
     "execution_count": 244,
     "metadata": {},
     "output_type": "execute_result"
    }
   ],
   "source": [
    "a*10+5"
   ]
  },
  {
   "cell_type": "code",
   "execution_count": 255,
   "id": "ea79f5a2-2801-4c1d-89e9-51e487f7322a",
   "metadata": {},
   "outputs": [
    {
     "data": {
      "text/plain": [
       "array([False, False,  True,  True,  True,  True])"
      ]
     },
     "execution_count": 255,
     "metadata": {},
     "output_type": "execute_result"
    }
   ],
   "source": [
    "a >= 30"
   ]
  },
  {
   "cell_type": "code",
   "execution_count": 254,
   "id": "be664270-3741-438a-b535-9e04cfcda24d",
   "metadata": {},
   "outputs": [
    {
     "data": {
      "text/plain": [
       "array([False, False,  True, False, False, False])"
      ]
     },
     "execution_count": 254,
     "metadata": {},
     "output_type": "execute_result"
    }
   ],
   "source": [
    "a == 30"
   ]
  },
  {
   "cell_type": "code",
   "execution_count": 260,
   "id": "1839e635-7a1e-4ff5-9aca-9c14d4c7bef9",
   "metadata": {},
   "outputs": [],
   "source": [
    "a = np.array([10,20,30,40,50,60])\n",
    "b = np.array([1,2,3,4,5,6])"
   ]
  },
  {
   "cell_type": "code",
   "execution_count": 264,
   "id": "2692cfb6-91a3-4e64-a7a2-fa5a7041153a",
   "metadata": {},
   "outputs": [
    {
     "data": {
      "text/plain": [
       "array([ 10,  40,  90, 160, 250, 360])"
      ]
     },
     "execution_count": 264,
     "metadata": {},
     "output_type": "execute_result"
    }
   ],
   "source": [
    "a * b #If size is not same we get shape mismatch error"
   ]
  },
  {
   "cell_type": "code",
   "execution_count": 265,
   "id": "6a7f8623-d024-418c-b4b0-472406a2e928",
   "metadata": {},
   "outputs": [
    {
     "data": {
      "text/plain": [
       "array([11, 22, 33, 44, 55, 66])"
      ]
     },
     "execution_count": 265,
     "metadata": {},
     "output_type": "execute_result"
    }
   ],
   "source": [
    "np.add(a,b)"
   ]
  },
  {
   "cell_type": "code",
   "execution_count": 266,
   "id": "ace8ded9-1dcc-4a2f-8fa9-304b228a13e6",
   "metadata": {},
   "outputs": [
    {
     "data": {
      "text/plain": [
       "array([ 9, 18, 27, 36, 45, 54])"
      ]
     },
     "execution_count": 266,
     "metadata": {},
     "output_type": "execute_result"
    }
   ],
   "source": [
    "np.subtract(a,b)"
   ]
  },
  {
   "cell_type": "code",
   "execution_count": 267,
   "id": "1c42fdb9-1e4d-4fdd-9796-a1f1599b613d",
   "metadata": {},
   "outputs": [
    {
     "data": {
      "text/plain": [
       "array([ 10,  40,  90, 160, 250, 360])"
      ]
     },
     "execution_count": 267,
     "metadata": {},
     "output_type": "execute_result"
    }
   ],
   "source": [
    "np.multiply(a,b)"
   ]
  },
  {
   "cell_type": "code",
   "execution_count": 268,
   "id": "75062de9-f5c9-4054-8db6-3b9865197d96",
   "metadata": {},
   "outputs": [
    {
     "data": {
      "text/plain": [
       "array([10., 10., 10., 10., 10., 10.])"
      ]
     },
     "execution_count": 268,
     "metadata": {},
     "output_type": "execute_result"
    }
   ],
   "source": [
    "np.divide(a,b)"
   ]
  },
  {
   "cell_type": "code",
   "execution_count": 280,
   "id": "a8b5ba76-58d7-40ae-845a-bddf5b96c6b8",
   "metadata": {},
   "outputs": [
    {
     "data": {
      "text/plain": [
       "array([ True,  True,  True,  True,  True,  True])"
      ]
     },
     "execution_count": 280,
     "metadata": {},
     "output_type": "execute_result"
    }
   ],
   "source": [
    "~(a==b)"
   ]
  },
  {
   "cell_type": "code",
   "execution_count": 281,
   "id": "49f36a72-b8fa-47b0-821d-3f07dd8f7741",
   "metadata": {},
   "outputs": [
    {
     "data": {
      "text/plain": [
       "array([False, False,  True,  True,  True,  True])"
      ]
     },
     "execution_count": 281,
     "metadata": {},
     "output_type": "execute_result"
    }
   ],
   "source": [
    "a >= 30"
   ]
  },
  {
   "cell_type": "code",
   "execution_count": 283,
   "id": "d8c5aaff-0e96-4c01-b353-28ee9c7a254f",
   "metadata": {},
   "outputs": [
    {
     "data": {
      "text/plain": [
       "array([40, 20, 30])"
      ]
     },
     "execution_count": 283,
     "metadata": {},
     "output_type": "execute_result"
    }
   ],
   "source": [
    "a[[3,1,2]]"
   ]
  },
  {
   "cell_type": "code",
   "execution_count": 302,
   "id": "9e6548ec-9b57-4c96-b1b0-fe8751600f92",
   "metadata": {},
   "outputs": [],
   "source": [
    "a = np.arange(10,30).reshape((4,5))"
   ]
  },
  {
   "cell_type": "code",
   "execution_count": 303,
   "id": "b285cfc7-ddb7-4af5-a652-e78ba9c3969b",
   "metadata": {},
   "outputs": [
    {
     "data": {
      "text/plain": [
       "array([[10, 11, 12, 13, 14],\n",
       "       [15, 16, 17, 18, 19],\n",
       "       [20, 21, 22, 23, 24],\n",
       "       [25, 26, 27, 28, 29]])"
      ]
     },
     "execution_count": 303,
     "metadata": {},
     "output_type": "execute_result"
    }
   ],
   "source": [
    "a"
   ]
  },
  {
   "cell_type": "code",
   "execution_count": 312,
   "id": "a6ef67e7-2784-4f8d-ba62-369ee8298db8",
   "metadata": {},
   "outputs": [
    {
     "data": {
      "text/plain": [
       "array([28, 17, 11])"
      ]
     },
     "execution_count": 312,
     "metadata": {},
     "output_type": "execute_result"
    }
   ],
   "source": [
    "a[[3,1,0],[3,2,1]] #Gets indexed elements"
   ]
  },
  {
   "cell_type": "code",
   "execution_count": 313,
   "id": "f21b1985-8509-481d-b425-ad90134aca61",
   "metadata": {},
   "outputs": [
    {
     "data": {
      "text/plain": [
       "array([[11, 12, 13],\n",
       "       [21, 22, 23],\n",
       "       [26, 27, 28]])"
      ]
     },
     "execution_count": 313,
     "metadata": {},
     "output_type": "execute_result"
    }
   ],
   "source": [
    "a[[0,2,3]][:,[1,2,3]]"
   ]
  },
  {
   "cell_type": "code",
   "execution_count": 315,
   "id": "d935ea28-efeb-44c7-b1f0-531cf572145d",
   "metadata": {},
   "outputs": [
    {
     "data": {
      "text/plain": [
       "array([[10, 11, 12, 13, 14],\n",
       "       [25, 26, 27, 28, 29]])"
      ]
     },
     "execution_count": 315,
     "metadata": {},
     "output_type": "execute_result"
    }
   ],
   "source": [
    "a[[True,False,False,True]]"
   ]
  },
  {
   "cell_type": "code",
   "execution_count": 316,
   "id": "9160b668-1d8f-4460-a87c-bb183308b248",
   "metadata": {},
   "outputs": [],
   "source": [
    "a = np.arange(10,20)"
   ]
  },
  {
   "cell_type": "code",
   "execution_count": 317,
   "id": "a7a5c6ea-c2c8-4e46-a5ed-92922ba15c92",
   "metadata": {},
   "outputs": [
    {
     "data": {
      "text/plain": [
       "array([10, 11, 12, 13, 14, 15, 16, 17, 18, 19])"
      ]
     },
     "execution_count": 317,
     "metadata": {},
     "output_type": "execute_result"
    }
   ],
   "source": [
    "a"
   ]
  },
  {
   "cell_type": "code",
   "execution_count": 320,
   "id": "5f75b38b-25d9-47fd-9a2e-d5c63670db5f",
   "metadata": {},
   "outputs": [
    {
     "data": {
      "text/plain": [
       "array([10, 12, 14, 16, 18])"
      ]
     },
     "execution_count": 320,
     "metadata": {},
     "output_type": "execute_result"
    }
   ],
   "source": [
    "a[a%2 == 0] #Filtering "
   ]
  },
  {
   "cell_type": "code",
   "execution_count": 325,
   "id": "8189e616-d204-46bc-87a4-2cc53782cd48",
   "metadata": {},
   "outputs": [
    {
     "data": {
      "text/plain": [
       "array([10, 31, 12, 33, 14, 35, 16, 37, 18, 39])"
      ]
     },
     "execution_count": 325,
     "metadata": {},
     "output_type": "execute_result"
    }
   ],
   "source": [
    "np.where(a%2 == 0,np.arange(10,20),np.arange(30,40))"
   ]
  },
  {
   "cell_type": "code",
   "execution_count": 331,
   "id": "75f68a98-7d5d-4021-a028-53c398ba9475",
   "metadata": {},
   "outputs": [
    {
     "data": {
      "text/plain": [
       "array([0.61393832, 0.95653566, 0.26097898, 0.23101542, 0.53344849,\n",
       "       0.94993814, 0.49305959, 0.54060051, 0.7654851 ])"
      ]
     },
     "execution_count": 331,
     "metadata": {},
     "output_type": "execute_result"
    }
   ],
   "source": [
    "arr = np.random.random((5,2))\n",
    "arr[arr > 0.1]"
   ]
  },
  {
   "cell_type": "code",
   "execution_count": 334,
   "id": "120413d7-c5fa-4b34-808c-5c588cc52dc2",
   "metadata": {},
   "outputs": [
    {
     "data": {
      "text/plain": [
       "(array([5, 6, 7, 8, 9]),)"
      ]
     },
     "execution_count": 334,
     "metadata": {},
     "output_type": "execute_result"
    }
   ],
   "source": [
    "np.where(a >= 15)"
   ]
  },
  {
   "cell_type": "code",
   "execution_count": null,
   "id": "8c1d5ecf-8b28-4a21-ac45-2578625868ec",
   "metadata": {},
   "outputs": [],
   "source": []
  },
  {
   "cell_type": "markdown",
   "id": "15b3c03d-e037-4875-a12d-d1cd3c795881",
   "metadata": {},
   "source": [
    "- Basic reductions: sum, min, max, any, all\n",
    "- Some More Numpy Functions - Statistics: mean, median, average, variance, standard deviation\n",
    "- iteration: nditer, ndenumerate"
   ]
  },
  {
   "cell_type": "code",
   "execution_count": 337,
   "id": "bc725ced-fc87-4d20-afa2-6c0fdf727dbe",
   "metadata": {},
   "outputs": [
    {
     "data": {
      "text/plain": [
       "array([10, 11, 12, 13, 14, 15, 16, 17, 18, 19])"
      ]
     },
     "execution_count": 337,
     "metadata": {},
     "output_type": "execute_result"
    }
   ],
   "source": [
    "a"
   ]
  },
  {
   "cell_type": "code",
   "execution_count": 338,
   "id": "8ac0a3f0-c016-4b37-8c43-a41d71999504",
   "metadata": {},
   "outputs": [
    {
     "data": {
      "text/plain": [
       "np.int64(145)"
      ]
     },
     "execution_count": 338,
     "metadata": {},
     "output_type": "execute_result"
    }
   ],
   "source": [
    "np.sum(a)"
   ]
  },
  {
   "cell_type": "code",
   "execution_count": 339,
   "id": "1f853efb-4370-4cdb-a146-411b87e15515",
   "metadata": {},
   "outputs": [
    {
     "data": {
      "text/plain": [
       "np.int64(19)"
      ]
     },
     "execution_count": 339,
     "metadata": {},
     "output_type": "execute_result"
    }
   ],
   "source": [
    "np.max(a)"
   ]
  },
  {
   "cell_type": "code",
   "execution_count": null,
   "id": "6a8f9fa5-97d3-4be7-a51e-485c99bdc296",
   "metadata": {},
   "outputs": [],
   "source": []
  },
  {
   "cell_type": "code",
   "execution_count": 340,
   "id": "a8b2af8f-c20b-4a98-b93d-aabd09826038",
   "metadata": {},
   "outputs": [],
   "source": [
    "l1 = [1,2,3,4,5]\n",
    "l2 = [[1,2],[3,4],[5,6]]\n",
    "l3 = [[[1,2],[3,4],[5,6]],[[10,20],[30,40],[50,60]]]"
   ]
  },
  {
   "cell_type": "code",
   "execution_count": 341,
   "id": "5f0b8112-0d0f-48d0-96fb-470d0f89a38b",
   "metadata": {},
   "outputs": [],
   "source": [
    "n1 = np.array(l1,dtype = 'f')\n",
    "n2 = np.array(l2)\n",
    "n3 = np.array(l3)"
   ]
  },
  {
   "cell_type": "code",
   "execution_count": 344,
   "id": "e5babdfd-7ec6-41f9-9bb4-9f0e6398f744",
   "metadata": {},
   "outputs": [
    {
     "data": {
      "text/plain": [
       "array([ 9, 12])"
      ]
     },
     "execution_count": 344,
     "metadata": {},
     "output_type": "execute_result"
    }
   ],
   "source": [
    "np.sum(n2,axis=0)"
   ]
  },
  {
   "cell_type": "code",
   "execution_count": 345,
   "id": "d6ae181f-a8d4-4fcf-8669-37e7265ecbdf",
   "metadata": {},
   "outputs": [
    {
     "data": {
      "text/plain": [
       "array([ 3,  7, 11])"
      ]
     },
     "execution_count": 345,
     "metadata": {},
     "output_type": "execute_result"
    }
   ],
   "source": [
    "np.sum(n2,axis=1)"
   ]
  },
  {
   "cell_type": "code",
   "execution_count": 347,
   "id": "b1fa6e86-8ad1-4f2b-a3c6-cd9c9f74e8cb",
   "metadata": {},
   "outputs": [
    {
     "data": {
      "text/plain": [
       "array([[11, 22],\n",
       "       [33, 44],\n",
       "       [55, 66]])"
      ]
     },
     "execution_count": 347,
     "metadata": {},
     "output_type": "execute_result"
    }
   ],
   "source": [
    "np.sum(n3,axis = 0)"
   ]
  },
  {
   "cell_type": "code",
   "execution_count": 348,
   "id": "025241aa-37f3-4deb-92ad-87bcf83cbb4b",
   "metadata": {},
   "outputs": [
    {
     "data": {
      "text/plain": [
       "array([[  9,  12],\n",
       "       [ 90, 120]])"
      ]
     },
     "execution_count": 348,
     "metadata": {},
     "output_type": "execute_result"
    }
   ],
   "source": [
    "np.sum(n3,axis = 1)"
   ]
  },
  {
   "cell_type": "code",
   "execution_count": 349,
   "id": "fd804a65-1eca-424f-978c-7d257c6a6080",
   "metadata": {},
   "outputs": [
    {
     "data": {
      "text/plain": [
       "array([[  3,   7,  11],\n",
       "       [ 30,  70, 110]])"
      ]
     },
     "execution_count": 349,
     "metadata": {},
     "output_type": "execute_result"
    }
   ],
   "source": [
    "np.sum(n3,axis = 2)"
   ]
  },
  {
   "cell_type": "code",
   "execution_count": 352,
   "id": "3f991ea8-5bd1-4b5f-9e52-6f544583fdc6",
   "metadata": {},
   "outputs": [
    {
     "data": {
      "text/plain": [
       "array([[ 2,  4,  6],\n",
       "       [20, 40, 60]])"
      ]
     },
     "execution_count": 352,
     "metadata": {},
     "output_type": "execute_result"
    }
   ],
   "source": [
    "np.max(n3,axis = 2)"
   ]
  },
  {
   "cell_type": "code",
   "execution_count": 355,
   "id": "0d2a60d4-2b78-42cb-86f0-3fbdd7119224",
   "metadata": {},
   "outputs": [
    {
     "data": {
      "text/plain": [
       "array([[ 1.5,  3.5,  5.5],\n",
       "       [15. , 35. , 55. ]])"
      ]
     },
     "execution_count": 355,
     "metadata": {},
     "output_type": "execute_result"
    }
   ],
   "source": [
    "np.mean(n3,axis = 2)"
   ]
  },
  {
   "cell_type": "code",
   "execution_count": 357,
   "id": "5f17ccb6-237c-44fe-8fcc-06bf577d5cad",
   "metadata": {},
   "outputs": [],
   "source": [
    "a = np.arange(5)+5"
   ]
  },
  {
   "cell_type": "code",
   "execution_count": 358,
   "id": "52f38266-3f00-44da-b3c6-e84a9e729fa0",
   "metadata": {},
   "outputs": [
    {
     "data": {
      "text/plain": [
       "array([5, 6, 7, 8, 9])"
      ]
     },
     "execution_count": 358,
     "metadata": {},
     "output_type": "execute_result"
    }
   ],
   "source": [
    "a"
   ]
  },
  {
   "cell_type": "code",
   "execution_count": 361,
   "id": "e9ce2ad0-7483-4132-a600-7f49364c8ee3",
   "metadata": {},
   "outputs": [
    {
     "data": {
      "text/plain": [
       "np.float64(7.444444444444445)"
      ]
     },
     "execution_count": 361,
     "metadata": {},
     "output_type": "execute_result"
    }
   ],
   "source": [
    "np.average(a,weights=[2,1,1,1,4])"
   ]
  },
  {
   "cell_type": "code",
   "execution_count": 373,
   "id": "6f029c2d-0e29-4d4f-9087-f19ee370a776",
   "metadata": {},
   "outputs": [
    {
     "data": {
      "text/plain": [
       "np.float64(1.4142135623730951)"
      ]
     },
     "execution_count": 373,
     "metadata": {},
     "output_type": "execute_result"
    }
   ],
   "source": [
    "np.sqrt(np.sum((a-np.mean(a))**2)/a.shape[0])"
   ]
  },
  {
   "cell_type": "code",
   "execution_count": 374,
   "id": "276c9e71-9c6f-4e0c-8132-d6bf98a71b58",
   "metadata": {},
   "outputs": [
    {
     "data": {
      "text/plain": [
       "np.float64(1.4142135623730951)"
      ]
     },
     "execution_count": 374,
     "metadata": {},
     "output_type": "execute_result"
    }
   ],
   "source": [
    "np.std(a)"
   ]
  },
  {
   "cell_type": "code",
   "execution_count": 375,
   "id": "6f6b9825-e6a9-4ed5-a7a8-14f63c5c388d",
   "metadata": {},
   "outputs": [
    {
     "data": {
      "text/plain": [
       "np.float64(2.0)"
      ]
     },
     "execution_count": 375,
     "metadata": {},
     "output_type": "execute_result"
    }
   ],
   "source": [
    "np.var(a)"
   ]
  },
  {
   "cell_type": "code",
   "execution_count": null,
   "id": "a9846996-5318-4347-95c3-60fa36918ee1",
   "metadata": {},
   "outputs": [],
   "source": []
  },
  {
   "cell_type": "code",
   "execution_count": 386,
   "id": "2624f67f-ba0e-4810-8399-92f5eb07f809",
   "metadata": {},
   "outputs": [],
   "source": [
    "a = np.array([[1],[2]])\n",
    "b = np.array([4,5,6])"
   ]
  },
  {
   "cell_type": "code",
   "execution_count": 387,
   "id": "e0ffc944-48b7-4bd6-bea1-c756696a8b1d",
   "metadata": {},
   "outputs": [
    {
     "data": {
      "text/plain": [
       "array([[5, 6, 7],\n",
       "       [6, 7, 8]])"
      ]
     },
     "execution_count": 387,
     "metadata": {},
     "output_type": "execute_result"
    }
   ],
   "source": [
    "a+b"
   ]
  },
  {
   "cell_type": "code",
   "execution_count": null,
   "id": "5e7d9113-6829-4b57-8f98-d1dd62379514",
   "metadata": {},
   "outputs": [],
   "source": []
  },
  {
   "cell_type": "code",
   "execution_count": 403,
   "id": "b5e7f2d3-c243-44df-aaf5-ebecb329e673",
   "metadata": {},
   "outputs": [],
   "source": [
    "a = np.array([[1,2,3,4,5]])\n",
    "b = np.array([[10,20,30,40,50]])"
   ]
  },
  {
   "cell_type": "code",
   "execution_count": 408,
   "id": "b6a91132-cbd8-44cc-9404-9ef1bdef9fc4",
   "metadata": {},
   "outputs": [
    {
     "data": {
      "text/plain": [
       "array([[[ 1, 10],\n",
       "        [ 2, 20],\n",
       "        [ 3, 30],\n",
       "        [ 4, 40],\n",
       "        [ 5, 50]]])"
      ]
     },
     "execution_count": 408,
     "metadata": {},
     "output_type": "execute_result"
    }
   ],
   "source": [
    "np.stack((a,b),axis = 2)"
   ]
  },
  {
   "cell_type": "code",
   "execution_count": 405,
   "id": "ec9a4cb0-730c-4736-a47c-2ed31286671a",
   "metadata": {},
   "outputs": [
    {
     "data": {
      "text/plain": [
       "array([[ 1,  2,  3,  4,  5, 10, 20, 30, 40, 50]])"
      ]
     },
     "execution_count": 405,
     "metadata": {},
     "output_type": "execute_result"
    }
   ],
   "source": [
    "np.hstack((a,b))"
   ]
  },
  {
   "cell_type": "code",
   "execution_count": 406,
   "id": "cfa4b6f1-72ef-41ea-8592-db70f6357b7e",
   "metadata": {},
   "outputs": [
    {
     "data": {
      "text/plain": [
       "array([[ 1,  2,  3,  4,  5],\n",
       "       [10, 20, 30, 40, 50]])"
      ]
     },
     "execution_count": 406,
     "metadata": {},
     "output_type": "execute_result"
    }
   ],
   "source": [
    "np.vstack((a,b))"
   ]
  },
  {
   "cell_type": "code",
   "execution_count": 409,
   "id": "60655d1d-0c04-4fa3-94fa-0ed776218837",
   "metadata": {},
   "outputs": [],
   "source": [
    "a = np.array([[1,2],[3,4]])\n",
    "b = np.array([[5,6],[7,8]])"
   ]
  },
  {
   "cell_type": "code",
   "execution_count": 410,
   "id": "6c39dc60-5e92-4386-8219-1e85e08b65f1",
   "metadata": {},
   "outputs": [
    {
     "data": {
      "text/plain": [
       "array([[ 5, 12],\n",
       "       [21, 32]])"
      ]
     },
     "execution_count": 410,
     "metadata": {},
     "output_type": "execute_result"
    }
   ],
   "source": [
    "a*b"
   ]
  },
  {
   "cell_type": "code",
   "execution_count": 411,
   "id": "2481bb0f-79fd-4f26-8a7f-a98dda860b00",
   "metadata": {},
   "outputs": [
    {
     "data": {
      "text/plain": [
       "array([[19, 22],\n",
       "       [43, 50]])"
      ]
     },
     "execution_count": 411,
     "metadata": {},
     "output_type": "execute_result"
    }
   ],
   "source": [
    "a.dot(b)"
   ]
  },
  {
   "cell_type": "code",
   "execution_count": 412,
   "id": "6d6f35d9-a06f-46dc-8eb4-9a8f0488c84b",
   "metadata": {},
   "outputs": [
    {
     "data": {
      "text/plain": [
       "array([[19, 22],\n",
       "       [43, 50]])"
      ]
     },
     "execution_count": 412,
     "metadata": {},
     "output_type": "execute_result"
    }
   ],
   "source": [
    "np.dot(a,b)"
   ]
  },
  {
   "cell_type": "code",
   "execution_count": 413,
   "id": "fe2687bd-a7bc-4fcc-91d5-118dda4947fe",
   "metadata": {},
   "outputs": [
    {
     "data": {
      "text/plain": [
       "array([[19, 22],\n",
       "       [43, 50]])"
      ]
     },
     "execution_count": 413,
     "metadata": {},
     "output_type": "execute_result"
    }
   ],
   "source": [
    "a@b"
   ]
  },
  {
   "cell_type": "code",
   "execution_count": 414,
   "id": "df69f541-70ab-449d-83db-a4e58fd24f10",
   "metadata": {},
   "outputs": [
    {
     "data": {
      "text/plain": [
       "array([[1, 3],\n",
       "       [2, 4]])"
      ]
     },
     "execution_count": 414,
     "metadata": {},
     "output_type": "execute_result"
    }
   ],
   "source": [
    "np.transpose(a)"
   ]
  },
  {
   "cell_type": "code",
   "execution_count": 415,
   "id": "70b0b002-f3cf-4569-8f1d-b198cbca8ed1",
   "metadata": {},
   "outputs": [
    {
     "data": {
      "text/plain": [
       "array([[1, 3],\n",
       "       [2, 4]])"
      ]
     },
     "execution_count": 415,
     "metadata": {},
     "output_type": "execute_result"
    }
   ],
   "source": [
    "a.T"
   ]
  },
  {
   "cell_type": "code",
   "execution_count": 417,
   "id": "8a019843-b4c1-4672-8ac0-3cb3372f72d7",
   "metadata": {},
   "outputs": [],
   "source": [
    "data = np.loadtxt('populations.txt')"
   ]
  },
  {
   "cell_type": "code",
   "execution_count": 419,
   "id": "bd65d9e7-9942-4d75-9cc4-c37145884a9a",
   "metadata": {},
   "outputs": [
    {
     "data": {
      "text/plain": [
       "(21, 4)"
      ]
     },
     "execution_count": 419,
     "metadata": {},
     "output_type": "execute_result"
    }
   ],
   "source": [
    "data.shape"
   ]
  },
  {
   "cell_type": "code",
   "execution_count": 426,
   "id": "976fe4de-f96b-4e30-9611-a19f4ccfdd44",
   "metadata": {},
   "outputs": [
    {
     "data": {
      "text/plain": [
       "array([1920., 1903., 1904., 1900.])"
      ]
     },
     "execution_count": 426,
     "metadata": {},
     "output_type": "execute_result"
    }
   ],
   "source": [
    "data[np.argmax(data,axis=0),0]"
   ]
  },
  {
   "cell_type": "code",
   "execution_count": 427,
   "id": "4e0285fa-fb62-4e3e-98af-024e81342f1b",
   "metadata": {},
   "outputs": [
    {
     "data": {
      "text/plain": [
       "array([1900., 1917., 1900., 1916.])"
      ]
     },
     "execution_count": 427,
     "metadata": {},
     "output_type": "execute_result"
    }
   ],
   "source": [
    "data[np.argmin(data,axis=0),0]"
   ]
  },
  {
   "cell_type": "code",
   "execution_count": 432,
   "id": "44ac78b5-3e3e-4c3b-9ffc-d2193b81aa3c",
   "metadata": {},
   "outputs": [
    {
     "data": {
      "text/plain": [
       "np.float64(1903.0)"
      ]
     },
     "execution_count": 432,
     "metadata": {},
     "output_type": "execute_result"
    }
   ],
   "source": [
    "data[data[:,1] == np.max(data,axis = 0)[1]][0][0]"
   ]
  },
  {
   "cell_type": "code",
   "execution_count": null,
   "id": "c508a6c2-e632-4e87-80bd-d304210f5e8e",
   "metadata": {},
   "outputs": [],
   "source": []
  },
  {
   "cell_type": "code",
   "execution_count": 434,
   "id": "e33983c6-80bf-4e38-81ab-0e17e70f2f4e",
   "metadata": {
    "scrolled": true
   },
   "outputs": [
    {
     "name": "stdout",
     "output_type": "stream",
     "text": [
      "1900.0 --> carrot\n",
      "1901.0 --> carrot\n",
      "1902.0 --> hare\n",
      "1903.0 --> hare\n",
      "1904.0 --> lynx\n",
      "1905.0 --> lynx\n",
      "1906.0 --> carrot\n",
      "1907.0 --> carrot\n",
      "1908.0 --> carrot\n",
      "1909.0 --> carrot\n",
      "1910.0 --> carrot\n",
      "1911.0 --> carrot\n",
      "1912.0 --> hare\n",
      "1913.0 --> hare\n",
      "1914.0 --> hare\n",
      "1915.0 --> lynx\n",
      "1916.0 --> carrot\n",
      "1917.0 --> carrot\n",
      "1918.0 --> carrot\n",
      "1919.0 --> carrot\n",
      "1920.0 --> carrot\n"
     ]
    }
   ],
   "source": [
    "data = np.loadtxt(\"populations.txt\")\n",
    "col = [\"hare\",\"lynx\",\"carrot\"]\n",
    "for i in data:\n",
    "    print(i[0] ,\"-->\", col[np.argmax(i[1:4])])"
   ]
  },
  {
   "cell_type": "code",
   "execution_count": 436,
   "id": "fd4e8241-c451-4508-84fb-6daabae8afab",
   "metadata": {
    "scrolled": true
   },
   "outputs": [
    {
     "name": "stdout",
     "output_type": "stream",
     "text": [
      "1900.0 --> carrot\n",
      "1901.0 --> carrot\n",
      "1902.0 --> hare\n",
      "1903.0 --> hare\n",
      "1904.0 --> lynx\n",
      "1905.0 --> lynx\n",
      "1906.0 --> carrot\n",
      "1907.0 --> carrot\n",
      "1908.0 --> carrot\n",
      "1909.0 --> carrot\n",
      "1910.0 --> carrot\n",
      "1911.0 --> carrot\n",
      "1912.0 --> hare\n",
      "1913.0 --> hare\n",
      "1914.0 --> hare\n",
      "1915.0 --> lynx\n",
      "1916.0 --> carrot\n",
      "1917.0 --> carrot\n",
      "1918.0 --> carrot\n",
      "1919.0 --> carrot\n",
      "1920.0 --> carrot\n"
     ]
    }
   ],
   "source": [
    "data = np.loadtxt(\"populations.txt\")\n",
    "col = [\"hare\",\"lynx\",\"carrot\"]\n",
    "maxVI = np.argmax(data[:,1:],axis = 1)\n",
    "for i in range(data.shape[0]):\n",
    "    print(data[i][0],'-->',col[maxVI[i]])"
   ]
  },
  {
   "cell_type": "code",
   "execution_count": null,
   "id": "233cea3b-e5c5-4e35-b86d-486ed36d7475",
   "metadata": {},
   "outputs": [],
   "source": []
  },
  {
   "cell_type": "code",
   "execution_count": null,
   "id": "e19de9d0-9959-4559-9922-f08190c4c282",
   "metadata": {},
   "outputs": [],
   "source": []
  },
  {
   "cell_type": "code",
   "execution_count": 2,
   "id": "2c97be32-c537-4eaf-9707-90c0d6bcd850",
   "metadata": {},
   "outputs": [],
   "source": [
    "l1 = [1,2,3]\n",
    "l2 = [[1,2,3],[4,5,6],[7,8,9]]\n",
    "l3 = [[[1,2,3],[4,5,6],[7,8,9]],[[10,20,30],[40,50,60],[70,80,90]]]"
   ]
  },
  {
   "cell_type": "code",
   "execution_count": 3,
   "id": "6e94f524-28a4-473f-9cf6-77a4808c9103",
   "metadata": {},
   "outputs": [
    {
     "data": {
      "text/plain": [
       "(2, 3, 3)"
      ]
     },
     "execution_count": 3,
     "metadata": {},
     "output_type": "execute_result"
    }
   ],
   "source": [
    "n3 = np.array(l3)\n",
    "n3.shape"
   ]
  },
  {
   "cell_type": "code",
   "execution_count": null,
   "id": "390e08b3-5843-4a9d-a1f4-083b953fa2e3",
   "metadata": {},
   "outputs": [],
   "source": []
  }
 ],
 "metadata": {
  "kernelspec": {
   "display_name": "Python 3 (ipykernel)",
   "language": "python",
   "name": "python3"
  },
  "language_info": {
   "codemirror_mode": {
    "name": "ipython",
    "version": 3
   },
   "file_extension": ".py",
   "mimetype": "text/x-python",
   "name": "python",
   "nbconvert_exporter": "python",
   "pygments_lexer": "ipython3",
   "version": "3.12.8"
  }
 },
 "nbformat": 4,
 "nbformat_minor": 5
}
