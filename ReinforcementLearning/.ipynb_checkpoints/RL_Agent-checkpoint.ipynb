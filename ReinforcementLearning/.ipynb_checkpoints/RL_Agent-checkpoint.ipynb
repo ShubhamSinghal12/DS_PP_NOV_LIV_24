{
 "cells": [
  {
   "cell_type": "code",
   "execution_count": 5,
   "id": "1846a5f4-9517-4f83-8e63-a94580c55ac0",
   "metadata": {},
   "outputs": [],
   "source": [
    "import numpy as np\n",
    "import os\n",
    "from collections import deque\n",
    "from tensorflow import keras\n",
    "from keras.models import Sequential\n",
    "from keras.layers import Dense\n",
    "from keras.optimizers import Adam\n",
    "import random\n",
    "import gymnasium as gym"
   ]
  },
  {
   "cell_type": "code",
   "execution_count": 6,
   "id": "83c478f8-eeb0-49c8-985f-10b9c1217eed",
   "metadata": {},
   "outputs": [],
   "source": []
  },
  {
   "cell_type": "code",
   "execution_count": 7,
   "id": "8010049a-b5a6-4832-81ba-0d317bf23a30",
   "metadata": {},
   "outputs": [],
   "source": []
  },
  {
   "cell_type": "code",
   "execution_count": null,
   "id": "8ac9d5dd-18c0-44a2-8cfe-b62ac1967f19",
   "metadata": {
    "scrolled": true
   },
   "outputs": [
    {
     "name": "stdout",
     "output_type": "stream",
     "text": [
      "Game Episode: 0/1000 High Score: 38\n",
      "Game Episode: 1/1000 High Score: 9\n",
      "Game Episode: 2/1000 High Score: 40\n",
      "Game Episode: 3/1000 High Score: 17\n",
      "Game Episode: 4/1000 High Score: 9\n",
      "Game Episode: 5/1000 High Score: 11\n",
      "Game Episode: 6/1000 High Score: 16\n",
      "Game Episode: 7/1000 High Score: 12\n",
      "Game Episode: 8/1000 High Score: 10\n",
      "Game Episode: 9/1000 High Score: 19\n",
      "Game Episode: 10/1000 High Score: 33\n",
      "Game Episode: 11/1000 High Score: 31\n",
      "Game Episode: 12/1000 High Score: 16\n",
      "Game Episode: 13/1000 High Score: 56\n",
      "Game Episode: 14/1000 High Score: 61\n",
      "Game Episode: 15/1000 High Score: 40\n",
      "Game Episode: 16/1000 High Score: 23\n",
      "Game Episode: 17/1000 High Score: 20\n"
     ]
    }
   ],
   "source": []
  },
  {
   "cell_type": "code",
   "execution_count": null,
   "id": "2434cd70-b72f-4200-bfe9-88fd708fc1d6",
   "metadata": {},
   "outputs": [],
   "source": []
  },
  {
   "cell_type": "code",
   "execution_count": null,
   "id": "8fcfb712-fd8c-457a-a8cb-08b2656cbdb1",
   "metadata": {},
   "outputs": [],
   "source": [
    "env = gym.make('CartPole-v1',render_mode = 'human')\n",
    "state = env.reset()[0]\n",
    "state = state.reshape((1,-1))\n",
    "for t in range(500):\n",
    "        action = agent.act(state)\n",
    "        next_state, reward, done, truncated,info = env.step(action)\n",
    "        reward = reward if not done else -100\n",
    "        next_state = next_state.reshape((1,-1))\n",
    "        agent.remember(state,action,next_state,reward,done)\n",
    "        state = next_state\n",
    "        if done or truncated:\n",
    "            print(f\"Game Episode: {e}//{n_episodes} High Score: {t}\")"
   ]
  },
  {
   "cell_type": "code",
   "execution_count": null,
   "id": "e870ca41-2cb0-41be-b7c5-65e055de9c2d",
   "metadata": {},
   "outputs": [],
   "source": []
  }
 ],
 "metadata": {
  "kernelspec": {
   "display_name": "Python 3 (ipykernel)",
   "language": "python",
   "name": "python3"
  },
  "language_info": {
   "codemirror_mode": {
    "name": "ipython",
    "version": 3
   },
   "file_extension": ".py",
   "mimetype": "text/x-python",
   "name": "python",
   "nbconvert_exporter": "python",
   "pygments_lexer": "ipython3",
   "version": "3.12.9"
  }
 },
 "nbformat": 4,
 "nbformat_minor": 5
}
