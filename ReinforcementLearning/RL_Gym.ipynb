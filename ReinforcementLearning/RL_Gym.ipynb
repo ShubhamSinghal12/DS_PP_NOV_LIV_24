{
 "cells": [
  {
   "cell_type": "code",
   "execution_count": 14,
   "id": "a6ece40e-3ef4-40dc-ae64-864649cdeb16",
   "metadata": {},
   "outputs": [],
   "source": [
    "import gymnasium as gym"
   ]
  },
  {
   "cell_type": "code",
   "execution_count": 15,
   "id": "3f0b8987-4095-4194-8b84-174f2ecd85b3",
   "metadata": {},
   "outputs": [],
   "source": [
    "env = gym.make('CartPole-v1',render_mode='human')"
   ]
  },
  {
   "cell_type": "code",
   "execution_count": 16,
   "id": "30345858-0330-4695-aeee-df823ae5988f",
   "metadata": {},
   "outputs": [
    {
     "name": "stdout",
     "output_type": "stream",
     "text": [
      "[-0.04092914  0.03168696 -0.03573858 -0.01469849]\n"
     ]
    }
   ],
   "source": [
    "observation,info = env.reset()\n",
    "print(observation)"
   ]
  },
  {
   "cell_type": "code",
   "execution_count": 4,
   "id": "7e25c797-8c49-4805-8e97-3de2fa350b93",
   "metadata": {},
   "outputs": [
    {
     "data": {
      "text/plain": [
       "Discrete(2)"
      ]
     },
     "execution_count": 4,
     "metadata": {},
     "output_type": "execute_result"
    }
   ],
   "source": [
    "env.action_space"
   ]
  },
  {
   "cell_type": "code",
   "execution_count": 17,
   "id": "7f0f9748-ac4a-47b1-90d0-1add483f8b64",
   "metadata": {},
   "outputs": [],
   "source": [
    "state,reward,done,truncated,info = env.step(1)"
   ]
  },
  {
   "cell_type": "code",
   "execution_count": 18,
   "id": "6f5312e0-5245-4220-b3fb-b9e80008ba37",
   "metadata": {},
   "outputs": [
    {
     "data": {
      "text/plain": [
       "(array([-0.0402954 ,  0.22730273, -0.03603255, -0.3184397 ], dtype=float32),\n",
       " 1.0,\n",
       " False,\n",
       " False,\n",
       " {})"
      ]
     },
     "execution_count": 18,
     "metadata": {},
     "output_type": "execute_result"
    }
   ],
   "source": [
    "state,reward,done,truncated,info"
   ]
  },
  {
   "cell_type": "code",
   "execution_count": 19,
   "id": "5080cedb-7678-467d-b355-977d966aa666",
   "metadata": {},
   "outputs": [],
   "source": [
    "env.close()"
   ]
  },
  {
   "cell_type": "code",
   "execution_count": 20,
   "id": "d518e1c4-bef4-42c7-b324-5ac89ee13d7c",
   "metadata": {},
   "outputs": [],
   "source": [
    "env = gym.make('CartPole-v1',render_mode='human')\n",
    "observation,info = env.reset()\n",
    "for i in range(1000):\n",
    "    action = env.action_space.sample()\n",
    "    state,reward,done,truncated,info = env.step(action)\n",
    "    if done or truncated:\n",
    "        observation,info = env.reset()\n",
    "env.close()"
   ]
  },
  {
   "cell_type": "code",
   "execution_count": null,
   "id": "5fd51661-adbe-4b40-a963-c46dc08b18c9",
   "metadata": {},
   "outputs": [],
   "source": []
  },
  {
   "cell_type": "code",
   "execution_count": 21,
   "id": "600dedbb-e7a1-4978-8faf-a9ac2696097b",
   "metadata": {},
   "outputs": [
    {
     "name": "stdout",
     "output_type": "stream",
     "text": [
      "Episode: 0/20 Score: 15\n",
      "Episode: 1/20 Score: 13\n",
      "Episode: 2/20 Score: 17\n",
      "Episode: 3/20 Score: 23\n",
      "Episode: 4/20 Score: 12\n",
      "Episode: 5/20 Score: 12\n",
      "Episode: 6/20 Score: 32\n",
      "Episode: 7/20 Score: 12\n",
      "Episode: 8/20 Score: 17\n",
      "Episode: 9/20 Score: 15\n",
      "Episode: 10/20 Score: 10\n",
      "Episode: 11/20 Score: 12\n",
      "Episode: 12/20 Score: 31\n",
      "Episode: 13/20 Score: 29\n",
      "Episode: 14/20 Score: 72\n",
      "Episode: 15/20 Score: 23\n",
      "Episode: 16/20 Score: 32\n",
      "Episode: 17/20 Score: 23\n",
      "Episode: 18/20 Score: 19\n",
      "Episode: 19/20 Score: 18\n"
     ]
    }
   ],
   "source": [
    "episode = 20\n",
    "env = gym.make('CartPole-v1',render_mode='human')\n",
    "for e in range(episode):\n",
    "    observation,info = env.reset()\n",
    "    for i in range(500):\n",
    "        action = env.action_space.sample()\n",
    "        state,reward,done,truncated,info = env.step(action)\n",
    "        if done or truncated:\n",
    "            print(f'Episode: {e}/{episode} Score: {i}')\n",
    "            break\n",
    "env.close()"
   ]
  },
  {
   "cell_type": "code",
   "execution_count": null,
   "id": "653905bb-2b3e-4caf-9489-1bfbccf9871c",
   "metadata": {},
   "outputs": [],
   "source": []
  }
 ],
 "metadata": {
  "kernelspec": {
   "display_name": "Python 3 (ipykernel)",
   "language": "python",
   "name": "python3"
  },
  "language_info": {
   "codemirror_mode": {
    "name": "ipython",
    "version": 3
   },
   "file_extension": ".py",
   "mimetype": "text/x-python",
   "name": "python",
   "nbconvert_exporter": "python",
   "pygments_lexer": "ipython3",
   "version": "3.12.9"
  }
 },
 "nbformat": 4,
 "nbformat_minor": 5
}
