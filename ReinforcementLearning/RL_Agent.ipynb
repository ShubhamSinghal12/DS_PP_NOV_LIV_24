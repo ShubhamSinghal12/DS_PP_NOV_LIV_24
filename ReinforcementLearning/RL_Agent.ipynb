{
 "cells": [
  {
   "cell_type": "code",
   "execution_count": 3,
   "id": "1846a5f4-9517-4f83-8e63-a94580c55ac0",
   "metadata": {},
   "outputs": [],
   "source": [
    "import numpy as np\n",
    "import os\n",
    "from collections import deque\n",
    "from tensorflow import keras\n",
    "from keras.models import Sequential\n",
    "from keras.layers import Dense\n",
    "from keras.optimizers import Adam\n",
    "import random\n",
    "import gymnasium as gym"
   ]
  },
  {
   "cell_type": "code",
   "execution_count": 4,
   "id": "8ac9d5dd-18c0-44a2-8cfe-b62ac1967f19",
   "metadata": {
    "scrolled": true
   },
   "outputs": [],
   "source": [
    "class Agent:\n",
    "    def __init__(self,state_size =4,action_size = 2):\n",
    "        self.state_size = state_size\n",
    "        self.action_size = action_size\n",
    "        self.memory = deque(maxlen = 2000)\n",
    "        self.gamma = 0.95\n",
    "        self.eplison = 1\n",
    "        self.eps_decay = 0.995\n",
    "        self.eps_min = 0.01\n",
    "        self.model = self.createModel()\n",
    "\n",
    "    def createModel(self):\n",
    "        model = keras.Sequential()\n",
    "        model.add(keras.Input(shape=(self.state_size,)))\n",
    "        model.add(Dense(24,activation='relu'))\n",
    "        model.add(Dense(24,activation='relu'))\n",
    "        model.add(Dense(self.action_size,activation='linear'))\n",
    "\n",
    "        model.compile(loss=keras.losses.MeanSquaredError,optimizer=keras.optimizers.Adam())\n",
    "        return model\n",
    "\n",
    "    def remember(self,state,action,next_state,reward,done):\n",
    "        self.memory.append((state,action,next_state,reward,done))\n",
    "\n",
    "    def act(self,state):\n",
    "        if np.random.random() <= self.eplison:\n",
    "            return random.randrange(self.action_size)\n",
    "        else:\n",
    "            return np.argmax(self.model.predict(state,verbose = 0)[0])\n",
    "\n",
    "    def train(self,batch_size = 32):\n",
    "        minibatch = random.sample(self.memory,batch_size)\n",
    "        for exp in minibatch:\n",
    "            state,action,next_state,reward,done = exp\n",
    "            target_f = self.model.predict(state,verbose=0)\n",
    "            if done:\n",
    "                target = reward\n",
    "            else:\n",
    "                target = reward + self.gamma*np.max(self.model.predict(next_state,verbose = 0)[0])\n",
    "            target_f[0][action] = target\n",
    "\n",
    "            self.model.fit(state,target_f,epochs=1,verbose=0)\n",
    "\n",
    "        if self.eplison > self.eps_min:\n",
    "            self.eplison *= self.eps_decay"
   ]
  },
  {
   "cell_type": "code",
   "execution_count": 5,
   "id": "2434cd70-b72f-4200-bfe9-88fd708fc1d6",
   "metadata": {},
   "outputs": [],
   "source": [
    "n_episode = 1000\n",
    "agent = Agent(state_size=4,action_size=2)\n",
    "done = False\n",
    "env = gym.make('CartPole-v1',render_mode = 'rgb_array')\n",
    "batch_size = 32"
   ]
  },
  {
   "cell_type": "code",
   "execution_count": null,
   "id": "8fcfb712-fd8c-457a-a8cb-08b2656cbdb1",
   "metadata": {
    "scrolled": true
   },
   "outputs": [
    {
     "name": "stdout",
     "output_type": "stream",
     "text": [
      "Episode: 0/1000 Score: 27\n",
      "Episode: 1/1000 Score: 9\n",
      "Episode: 2/1000 Score: 15\n"
     ]
    }
   ],
   "source": [
    "for e in range(n_episode):\n",
    "    state,info = env.reset()\n",
    "    state = state.reshape((1,-1))\n",
    "\n",
    "    for i in range(500):\n",
    "        action = agent.act(state)\n",
    "        next_state,reward,done,truncate,info = env.step(action)\n",
    "        reward = reward if not done else -100\n",
    "        next_state = next_state.reshape((1,-1))\n",
    "        agent.remember(state,action,next_state,reward,done)\n",
    "        state = next_state\n",
    "\n",
    "        if done or truncate:\n",
    "            print(f'Episode: {e}/{n_episode} Score: {i+1}')\n",
    "            break\n",
    "    if len(agent.memory) >= batch_size:\n",
    "        agent.train()"
   ]
  },
  {
   "cell_type": "code",
   "execution_count": null,
   "id": "e870ca41-2cb0-41be-b7c5-65e055de9c2d",
   "metadata": {},
   "outputs": [],
   "source": []
  },
  {
   "cell_type": "code",
   "execution_count": null,
   "id": "765dfa61-922e-4df1-9eb6-d3af3dca9d85",
   "metadata": {},
   "outputs": [],
   "source": []
  },
  {
   "cell_type": "code",
   "execution_count": null,
   "id": "0d90bafc-f5fd-436d-8cca-d4d19d5ca6e6",
   "metadata": {},
   "outputs": [],
   "source": []
  },
  {
   "cell_type": "code",
   "execution_count": null,
   "id": "9d5c4644-cc35-4ea4-a407-925871bf9a78",
   "metadata": {},
   "outputs": [],
   "source": []
  },
  {
   "cell_type": "code",
   "execution_count": null,
   "id": "a7ea1b5e-2251-4c1d-8e0e-551b3bb90e18",
   "metadata": {},
   "outputs": [],
   "source": []
  },
  {
   "cell_type": "code",
   "execution_count": null,
   "id": "34633859-022a-45c6-983c-0ee4f39d63e0",
   "metadata": {},
   "outputs": [],
   "source": []
  }
 ],
 "metadata": {
  "kernelspec": {
   "display_name": "Python 3 (ipykernel)",
   "language": "python",
   "name": "python3"
  },
  "language_info": {
   "codemirror_mode": {
    "name": "ipython",
    "version": 3
   },
   "file_extension": ".py",
   "mimetype": "text/x-python",
   "name": "python",
   "nbconvert_exporter": "python",
   "pygments_lexer": "ipython3",
   "version": "3.12.9"
  }
 },
 "nbformat": 4,
 "nbformat_minor": 5
}
