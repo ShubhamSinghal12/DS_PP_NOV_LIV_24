{
 "cells": [
  {
   "cell_type": "markdown",
   "id": "2a87dd1b-bd0c-48c3-a626-7773948b214e",
   "metadata": {},
   "source": [
    "```\n",
    "pip install mysql-connector-python\n",
    "```\n",
    "- Make a connection\n",
    "- maker a cursor --> used for executing the queries \n",
    "- Output gets stored in cursor and acts as a FileHandling Pointer\n",
    "- cursor.column_names: has the column names of the last executed query"
   ]
  },
  {
   "cell_type": "code",
   "execution_count": 1,
   "id": "44a09f60-cf9a-4b55-8c31-1156bc660fdd",
   "metadata": {},
   "outputs": [],
   "source": [
    "import mysql.connector\n",
    "import pandas as pd"
   ]
  },
  {
   "cell_type": "code",
   "execution_count": 2,
   "id": "326ec0f9-5d33-45d4-8a6f-9bf026329da9",
   "metadata": {},
   "outputs": [],
   "source": [
    "connection = mysql.connector.connect(user='root',password='1234')"
   ]
  },
  {
   "cell_type": "code",
   "execution_count": 3,
   "id": "e7b8ecfb-2d27-4f83-a3c7-7a6cff9cfee8",
   "metadata": {},
   "outputs": [],
   "source": [
    "cursor = connection.cursor()"
   ]
  },
  {
   "cell_type": "code",
   "execution_count": 7,
   "id": "c20f8d18-0de8-4d55-8dba-0def60f7c3d1",
   "metadata": {},
   "outputs": [],
   "source": [
    "cursor.execute('show databases')"
   ]
  },
  {
   "cell_type": "code",
   "execution_count": 8,
   "id": "4913920e-789c-4e0e-8d2e-3676202fb250",
   "metadata": {},
   "outputs": [
    {
     "name": "stdout",
     "output_type": "stream",
     "text": [
      "('information_schema',)\n",
      "('mysql',)\n",
      "('performance_schema',)\n",
      "('sakila',)\n",
      "('school',)\n",
      "('sys',)\n",
      "('world',)\n"
     ]
    }
   ],
   "source": [
    "for ele in cursor:\n",
    "    print(ele)"
   ]
  },
  {
   "cell_type": "code",
   "execution_count": 9,
   "id": "77c23e55-6a15-48bc-b9bb-f2de5b5b2e54",
   "metadata": {},
   "outputs": [],
   "source": [
    "cursor.execute('use school')"
   ]
  },
  {
   "cell_type": "code",
   "execution_count": 10,
   "id": "15bc2d48-9b1f-42b4-aa28-66a33b93c93b",
   "metadata": {},
   "outputs": [],
   "source": [
    "for ele in cursor:\n",
    "    print(ele)"
   ]
  },
  {
   "cell_type": "code",
   "execution_count": 11,
   "id": "2b36263e-1afe-42b0-8ef8-db2cb79db148",
   "metadata": {},
   "outputs": [],
   "source": [
    "cursor.execute('show tables')"
   ]
  },
  {
   "cell_type": "code",
   "execution_count": 12,
   "id": "cc61fa73-c443-4ede-b5ae-9002d07b76a6",
   "metadata": {},
   "outputs": [
    {
     "name": "stdout",
     "output_type": "stream",
     "text": [
      "('students',)\n"
     ]
    }
   ],
   "source": [
    "for ele in cursor:\n",
    "    print(ele)"
   ]
  },
  {
   "cell_type": "code",
   "execution_count": 18,
   "id": "ae760585-cd26-42eb-a116-6d17e21439b0",
   "metadata": {},
   "outputs": [],
   "source": [
    "cursor.execute('select * from students')"
   ]
  },
  {
   "cell_type": "code",
   "execution_count": 14,
   "id": "6f362b6d-02ff-4849-b682-4fa253c178d9",
   "metadata": {},
   "outputs": [
    {
     "name": "stdout",
     "output_type": "stream",
     "text": [
      "(1, 'Shubham', 12, 18, 'M', 'B')\n",
      "(2, 'Manu', 11, 15, 'M', 'A')\n",
      "(3, 'pari', 12, 16, 'F', 'A')\n",
      "(4, 'Ishan', 12, 19, 'M', 'B')\n"
     ]
    }
   ],
   "source": [
    "for ele in cursor:\n",
    "    print(ele)"
   ]
  },
  {
   "cell_type": "code",
   "execution_count": 19,
   "id": "2d924e3f-60b4-4e80-9ea4-908bee66f2e7",
   "metadata": {},
   "outputs": [
    {
     "data": {
      "text/plain": [
       "('roll_no', 'name', 'class', 'age', 'gender', 'division')"
      ]
     },
     "execution_count": 19,
     "metadata": {},
     "output_type": "execute_result"
    }
   ],
   "source": [
    "cursor.column_names"
   ]
  },
  {
   "cell_type": "code",
   "execution_count": 20,
   "id": "739f2431-86bd-4c71-afb8-20086bebdf5d",
   "metadata": {},
   "outputs": [],
   "source": [
    "df = pd.DataFrame(cursor,columns=cursor.column_names)"
   ]
  },
  {
   "cell_type": "code",
   "execution_count": 21,
   "id": "7e76f9ea-1d18-4d6f-9be2-f0c70bed835e",
   "metadata": {},
   "outputs": [
    {
     "data": {
      "text/html": [
       "<div>\n",
       "<style scoped>\n",
       "    .dataframe tbody tr th:only-of-type {\n",
       "        vertical-align: middle;\n",
       "    }\n",
       "\n",
       "    .dataframe tbody tr th {\n",
       "        vertical-align: top;\n",
       "    }\n",
       "\n",
       "    .dataframe thead th {\n",
       "        text-align: right;\n",
       "    }\n",
       "</style>\n",
       "<table border=\"1\" class=\"dataframe\">\n",
       "  <thead>\n",
       "    <tr style=\"text-align: right;\">\n",
       "      <th></th>\n",
       "      <th>roll_no</th>\n",
       "      <th>name</th>\n",
       "      <th>class</th>\n",
       "      <th>age</th>\n",
       "      <th>gender</th>\n",
       "      <th>division</th>\n",
       "    </tr>\n",
       "  </thead>\n",
       "  <tbody>\n",
       "    <tr>\n",
       "      <th>0</th>\n",
       "      <td>1</td>\n",
       "      <td>Shubham</td>\n",
       "      <td>12</td>\n",
       "      <td>18</td>\n",
       "      <td>M</td>\n",
       "      <td>B</td>\n",
       "    </tr>\n",
       "    <tr>\n",
       "      <th>1</th>\n",
       "      <td>2</td>\n",
       "      <td>Manu</td>\n",
       "      <td>11</td>\n",
       "      <td>15</td>\n",
       "      <td>M</td>\n",
       "      <td>A</td>\n",
       "    </tr>\n",
       "    <tr>\n",
       "      <th>2</th>\n",
       "      <td>3</td>\n",
       "      <td>pari</td>\n",
       "      <td>12</td>\n",
       "      <td>16</td>\n",
       "      <td>F</td>\n",
       "      <td>A</td>\n",
       "    </tr>\n",
       "    <tr>\n",
       "      <th>3</th>\n",
       "      <td>4</td>\n",
       "      <td>Ishan</td>\n",
       "      <td>12</td>\n",
       "      <td>19</td>\n",
       "      <td>M</td>\n",
       "      <td>B</td>\n",
       "    </tr>\n",
       "  </tbody>\n",
       "</table>\n",
       "</div>"
      ],
      "text/plain": [
       "   roll_no     name  class  age gender division\n",
       "0        1  Shubham     12   18      M        B\n",
       "1        2     Manu     11   15      M        A\n",
       "2        3     pari     12   16      F        A\n",
       "3        4    Ishan     12   19      M        B"
      ]
     },
     "execution_count": 21,
     "metadata": {},
     "output_type": "execute_result"
    }
   ],
   "source": [
    "df"
   ]
  },
  {
   "cell_type": "code",
   "execution_count": null,
   "id": "5000d695-7658-4aaf-9c21-67dddc878c33",
   "metadata": {},
   "outputs": [],
   "source": []
  },
  {
   "cell_type": "code",
   "execution_count": null,
   "id": "8e4944db-5d46-469e-bcdf-a03a058cdfd6",
   "metadata": {},
   "outputs": [],
   "source": []
  },
  {
   "cell_type": "code",
   "execution_count": null,
   "id": "9fb6fda2-d5c7-4a2c-a548-bffacc3e574a",
   "metadata": {},
   "outputs": [],
   "source": []
  }
 ],
 "metadata": {
  "kernelspec": {
   "display_name": "Python 3 (ipykernel)",
   "language": "python",
   "name": "python3"
  },
  "language_info": {
   "codemirror_mode": {
    "name": "ipython",
    "version": 3
   },
   "file_extension": ".py",
   "mimetype": "text/x-python",
   "name": "python",
   "nbconvert_exporter": "python",
   "pygments_lexer": "ipython3",
   "version": "3.12.8"
  }
 },
 "nbformat": 4,
 "nbformat_minor": 5
}
